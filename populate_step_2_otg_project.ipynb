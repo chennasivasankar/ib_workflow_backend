{
 "cells": [
  {
   "cell_type": "code",
   "execution_count": 1,
   "metadata": {},
   "outputs": [],
   "source": [
    "\"\"\"\n",
    "OTG Project & Configuration Sheet\n",
    "\"\"\"\n",
    "OTG_PROJECT_SHEET_NAME = \"OTG Model Project Configuration\"\n",
    "OTG_CONFIGURATION_SHEET_NAME=\"OTG Model Configuration- Test\"\n"
   ]
  },
  {
   "cell_type": "code",
   "execution_count": 3,
   "metadata": {},
   "outputs": [],
   "source": [
    "\"\"\"\n",
    "Project & Configuration sheets\n",
    "\"\"\"\n",
    "\n",
    "PROJECT_SHEET_NAME = OTG_PROJECT_SHEET_NAME\n",
    "CONFIGURATION_SHEET_NAME = OTG_CONFIGURATION_SHEET_NAME"
   ]
  },
  {
   "cell_type": "code",
   "execution_count": 5,
   "metadata": {},
   "outputs": [],
   "source": [
    "import django"
   ]
  },
  {
   "cell_type": "code",
   "execution_count": 6,
   "metadata": {},
   "outputs": [],
   "source": [
    "django.setup()"
   ]
  },
  {
   "cell_type": "code",
   "execution_count": 7,
   "metadata": {},
   "outputs": [],
   "source": [
    "\"\"\"\n",
    "Import Statement for Populate Projects\n",
    "\"\"\"\n",
    "from ib_iam.populate.populate_utils import populate_projects"
   ]
  },
  {
   "cell_type": "code",
   "execution_count": 8,
   "metadata": {},
   "outputs": [],
   "source": [
    "\"\"\"\n",
    "Populate the project\n",
    "\"\"\"\n",
    "populate_projects(spread_sheet_name=PROJECT_SHEET_NAME)"
   ]
  },
  {
   "cell_type": "code",
   "execution_count": 9,
   "metadata": {},
   "outputs": [],
   "source": [
    "\"\"\"\n",
    "Populate Project Roles\n",
    "\"\"\"\n",
    "from ib_tasks.populate.population_utils import populate_project_roles\n",
    "populate_project_roles(CONFIGURATION_SHEET_NAME)"
   ]
  },
  {
   "cell_type": "code",
   "execution_count": 10,
   "metadata": {},
   "outputs": [],
   "source": [
    "\"\"\"\n",
    "Populate Ib Task Related Data For Project \"Configuration\"\n",
    "\"\"\"\n",
    "from ib_tasks.populate.population_utils import populate_data\n",
    "populate_data(CONFIGURATION_SHEET_NAME)"
   ]
  },
  {
   "cell_type": "code",
   "execution_count": 12,
   "metadata": {},
   "outputs": [],
   "source": [
    "\"\"\"\n",
    "Populate Task Templates For Project\n",
    "\"\"\"\n",
    "from ib_tasks.populate.population_utils import populate_projects_for_task_templates\n",
    "populate_projects_for_task_templates(PROJECT_SHEET_NAME)"
   ]
  },
  {
   "cell_type": "code",
   "execution_count": 14,
   "metadata": {},
   "outputs": [
    {
     "name": "stdout",
     "output_type": "stream",
     "text": [
      "[BoardDTO(board_id='FINB_PAYMENT_REQUESTS', name='Payment Requests'), BoardDTO(board_id='FINB_ACCOUNTS_L1_VERIFICATION_PRE_PAYMENT', name='Pre Payment Accounting Verification'), BoardDTO(board_id='FINB_ACCOUNTS_L2_VERIFICATION_PRE_PAYMENT', name='Pre Payment Accounting Verification'), BoardDTO(board_id='FINB_ACCOUNTS_L3_VERIFICATION_PRE_PAYMENT', name='Pre Payment Accounting Verification'), BoardDTO(board_id='FINB_ACCOUNTS_L4_VERIFICATION_PRE_PAYMENT', name='Pre Payment Accounting Verification'), BoardDTO(board_id='FINB_ACCOUNTS_VERIFICATION_PRE_PAYMENT', name='Pre Payment Accounting Verification'), BoardDTO(board_id='FINB_PAYMENTS_L1_VERIFICATION_PRE_PAYMENT', name='Payment Requests verification'), BoardDTO(board_id='FINB_PAYMENTS_L2_VERIFICATION_PRE_PAYMENT', name='Payment Requests verification'), BoardDTO(board_id='FINB_PAYMENTS_L3_VERIFICATION_PRE_PAYMENT', name='Payment Requests verification'), BoardDTO(board_id='FINB_PAYMENTS_L5_VERIFICATION_PRE_PAYMENT', name='Payment Requests verification'), BoardDTO(board_id='FINB_PAYMENTS_OVERALL_PRE_PAYMENT', name='Payment Requests verification')] [ColumnDTO(column_id='FINC_PAYMENT_REQUESTS_DRAFTS', name='Draft Requests', display_order=1, task_template_stages=[TaskTemplateStagesDTO(task_template_id='FIN_PR', stages=['PR_PAYMENT_REQUEST_DRAFTS'])], user_role_ids=['ALL_ROLES'], column_summary='ColumnSummary1', column_actions='ColumnSummary3', list_view_fields=[TaskSummaryFieldsDTO(task_id='ravi', summary_fields='ravi')], kanban_view_fields=[TaskSummaryFieldsDTO(task_id='ravi', summary_fields='ravi')], board_id='FINB_PAYMENT_REQUESTS'), ColumnDTO(column_id='FINC_PENDING_RP_APPROVAL_PR', name='Pending RP Approval', display_order=2, task_template_stages=[TaskTemplateStagesDTO(task_template_id='FIN_PR', stages=['PR_PENDING_RP_APPROVAL'])], user_role_ids=['FIN_PAYMENT_REQUESTER', 'FIN_PAYMENT_APPROVER'], column_summary='ColumnSummary1', column_actions='ColumnSummary3', list_view_fields=[TaskSummaryFieldsDTO(task_id='ravi', summary_fields='ravi')], kanban_view_fields=[TaskSummaryFieldsDTO(task_id='ravi', summary_fields='ravi')], board_id='FINB_PAYMENT_REQUESTS'), ColumnDTO(column_id='FINC_NEED_CLARIFICATION', name='Need Clarification', display_order=3, task_template_stages=[TaskTemplateStagesDTO(task_template_id='FIN_PR', stages=['PR_NEED_CLARIFICATION'])], user_role_ids=['FIN_PAYMENT_REQUESTER', 'FIN_PAYMENT_APPROVER'], column_summary='ColumnSummary1', column_actions='ColumnSummary3', list_view_fields=[TaskSummaryFieldsDTO(task_id='ravi', summary_fields='ravi')], kanban_view_fields=[TaskSummaryFieldsDTO(task_id='ravi', summary_fields='ravi')], board_id='FINB_PAYMENT_REQUESTS'), ColumnDTO(column_id='FINC_PAYMENT_APPROVED', name='Finance/Accounts Approved', display_order=4, task_template_stages=[TaskTemplateStagesDTO(task_template_id='FIN_PR', stages=['PR_PENDING_PAYMENTS_PROCESSING'])], user_role_ids=['FIN_PAYMENT_REQUESTER', 'FIN_PAYMENT_APPROVER'], column_summary='ColumnSummary1', column_actions='ColumnSummary3', list_view_fields=[TaskSummaryFieldsDTO(task_id='ravi', summary_fields='ravi')], kanban_view_fields=[TaskSummaryFieldsDTO(task_id='ravi', summary_fields='ravi')], board_id='FINB_PAYMENT_REQUESTS'), ColumnDTO(column_id='FINC_PAYMENT_REJECTED', name='Rejected', display_order=5, task_template_stages=[TaskTemplateStagesDTO(task_template_id='FIN_PR', stages=['PR_REJECTION_LIST'])], user_role_ids=['FIN_PAYMENT_REQUESTER', 'FIN_PAYMENT_APPROVER'], column_summary='ColumnSummary1', column_actions='ColumnSummary3', list_view_fields=[TaskSummaryFieldsDTO(task_id='ravi', summary_fields='ravi')], kanban_view_fields=[TaskSummaryFieldsDTO(task_id='ravi', summary_fields='ravi')], board_id='FINB_PAYMENT_REQUESTS'), ColumnDTO(column_id='FINC_PR_PENDING_ACCOUNTS_LEVEL1_VERIFICATION', name='Pending Account Level1 Verification', display_order=1, task_template_stages=[TaskTemplateStagesDTO(task_template_id='FIN_PR', stages=['PR_PENDING_ACCOUNTS_LEVEL1_VERIFICATION'])], user_role_ids=['FIN_ACCOUNTS_LEVEL1_VERIFIER'], column_summary='ColumnSummary1', column_actions='ColumnSummary3', list_view_fields=[TaskSummaryFieldsDTO(task_id='ravi', summary_fields='ravi')], kanban_view_fields=[TaskSummaryFieldsDTO(task_id='ravi', summary_fields='ravi')], board_id='FINB_ACCOUNTS_L1_VERIFICATION_PRE_PAYMENT'), ColumnDTO(column_id='FINC_PR_ACCOUNTS_LEVEL1_VERIFICATION_COMPLETED', name='Account Level1 Verification Completed', display_order=2, task_template_stages=[TaskTemplateStagesDTO(task_template_id='FIN_PR', stages=['PR_ACCOUNTS_LEVEL1_VERIFICATION_DONE'])], user_role_ids=['FIN_ACCOUNTS_LEVEL1_VERIFIER'], column_summary='ColumnSummary2', column_actions='ColumnSummary4', list_view_fields=[TaskSummaryFieldsDTO(task_id='ravi', summary_fields='ravi')], kanban_view_fields=[TaskSummaryFieldsDTO(task_id='ravi', summary_fields='ravi')], board_id='FINB_ACCOUNTS_L1_VERIFICATION_PRE_PAYMENT'), ColumnDTO(column_id='FINC_PR_PENDING_ACCOUNTS_LEVEL2_VERIFICATION', name='Pending Account Level2 Verification', display_order=1, task_template_stages=[TaskTemplateStagesDTO(task_template_id='FIN_PR', stages=['PR_PENDING_ACCOUNTS_LEVEL2_VERIFICATION'])], user_role_ids=['FIN_ACCOUNTS_LEVEL2_VERIFIER'], column_summary='ColumnSummary3', column_actions='ColumnSummary5', list_view_fields=[TaskSummaryFieldsDTO(task_id='ravi', summary_fields='ravi')], kanban_view_fields=[TaskSummaryFieldsDTO(task_id='ravi', summary_fields='ravi')], board_id='FINB_ACCOUNTS_L2_VERIFICATION_PRE_PAYMENT'), ColumnDTO(column_id='FINC_PR_ACCOUNTS_LEVEL2_VERIFICATION_COMPLETED', name='Account Level2 Verification Completed', display_order=2, task_template_stages=[TaskTemplateStagesDTO(task_template_id='FIN_PR', stages=['PR_ACCOUNTS_LEVEL2_VERIFICATION_DONE'])], user_role_ids=['FIN_ACCOUNTS_LEVEL2_VERIFIER'], column_summary='ColumnSummary4', column_actions='ColumnSummary6', list_view_fields=[TaskSummaryFieldsDTO(task_id='ravi', summary_fields='ravi')], kanban_view_fields=[TaskSummaryFieldsDTO(task_id='ravi', summary_fields='ravi')], board_id='FINB_ACCOUNTS_L2_VERIFICATION_PRE_PAYMENT'), ColumnDTO(column_id='FINC_PR_PENDING_ACCOUNTS_LEVEL3_VERIFICATION', name='Pending Account Level3 Verification', display_order=1, task_template_stages=[TaskTemplateStagesDTO(task_template_id='FIN_PR', stages=['PR_PENDING_ACCOUNTS_LEVEL3_VERIFICATION'])], user_role_ids=['FIN_ACCOUNTS_LEVEL3_VERIFIER'], column_summary='ColumnSummary5', column_actions='ColumnSummary7', list_view_fields=[TaskSummaryFieldsDTO(task_id='ravi', summary_fields='ravi')], kanban_view_fields=[TaskSummaryFieldsDTO(task_id='ravi', summary_fields='ravi')], board_id='FINB_ACCOUNTS_L3_VERIFICATION_PRE_PAYMENT'), ColumnDTO(column_id='FINC_PR_ACCOUNTS_LEVEL3_VERIFICATION_COMPLETED', name='Account Level3 Verification Completed', display_order=2, task_template_stages=[TaskTemplateStagesDTO(task_template_id='FIN_PR', stages=['PR_ACCOUNTS_LEVEL3_VERIFICATION_DONE'])], user_role_ids=['FIN_ACCOUNTS_LEVEL3_VERIFIER'], column_summary='ColumnSummary6', column_actions='ColumnSummary8', list_view_fields=[TaskSummaryFieldsDTO(task_id='ravi', summary_fields='ravi')], kanban_view_fields=[TaskSummaryFieldsDTO(task_id='ravi', summary_fields='ravi')], board_id='FINB_ACCOUNTS_L3_VERIFICATION_PRE_PAYMENT'), ColumnDTO(column_id='FINC_PR_PENDING_ACCOUNTS_LEVEL4_VERIFICATION', name='Pending Account Level4 Verification', display_order=1, task_template_stages=[TaskTemplateStagesDTO(task_template_id='FIN_PR', stages=['PR_PENDING_ACCOUNTS_LEVEL4_VERIFICATION'])], user_role_ids=['FIN_ACCOUNTS_LEVEL4_VERIFIER'], column_summary='ColumnSummary7', column_actions='ColumnSummary9', list_view_fields=[TaskSummaryFieldsDTO(task_id='ravi', summary_fields='ravi')], kanban_view_fields=[TaskSummaryFieldsDTO(task_id='ravi', summary_fields='ravi')], board_id='FINB_ACCOUNTS_L4_VERIFICATION_PRE_PAYMENT'), ColumnDTO(column_id='FINC_PR_ACCOUNTS_LEVEL4_VERIFICATION_COMPLETED', name='Account Level4 Verification Completed', display_order=2, task_template_stages=[TaskTemplateStagesDTO(task_template_id='FIN_PR', stages=['PR_ACCOUNTS_LEVEL4_VERIFICATION_DONE'])], user_role_ids=['FIN_ACCOUNTS_LEVEL4_VERIFIER'], column_summary='ColumnSummary8', column_actions='ColumnSummary10', list_view_fields=[TaskSummaryFieldsDTO(task_id='ravi', summary_fields='ravi')], kanban_view_fields=[TaskSummaryFieldsDTO(task_id='ravi', summary_fields='ravi')], board_id='FINB_ACCOUNTS_L4_VERIFICATION_PRE_PAYMENT'), ColumnDTO(column_id='FIN_ACCOUNTS_VERIFICATION_COMPLETED', name='Accounts Verification Completed', display_order=1, task_template_stages=[TaskTemplateStagesDTO(task_template_id='FIN_PR', stages=['PR_ACCOUNTS_VERIFICATION_COMPLETED'])], user_role_ids=['FIN_ACCOUNTS_LEVEL1_VERIFIER', 'FIN_ACCOUNTS_LEVEL2_VERIFIER', 'FIN_ACCOUNTS_LEVEL3_VERIFIER', 'FIN_ACCOUNTS_LEVEL4_VERIFIER'], column_summary='ColumnSummary9', column_actions='ColumnSummary11', list_view_fields=[TaskSummaryFieldsDTO(task_id='ravi', summary_fields='ravi')], kanban_view_fields=[TaskSummaryFieldsDTO(task_id='ravi', summary_fields='ravi')], board_id='FINB_ACCOUNTS_VERIFICATION_PRE_PAYMENT'), ColumnDTO(column_id='FINC_PR_PENDING_PAYMENTS_LEVEL1_VERIFICATION', name='Pending Payment Level1  Verification', display_order=1, task_template_stages=[TaskTemplateStagesDTO(task_template_id='FIN_PR', stages=['PR_PENDING_PAYMENTS_LEVEL1_VERIFICATION'])], user_role_ids=['FIN_PAYMENTS_LEVEL1_VERIFIER'], column_summary='ColumnSummary10', column_actions='ColumnSummary12', list_view_fields=[TaskSummaryFieldsDTO(task_id='ravi', summary_fields='ravi')], kanban_view_fields=[TaskSummaryFieldsDTO(task_id='ravi', summary_fields='ravi')], board_id='FINB_PAYMENTS_L1_VERIFICATION_PRE_PAYMENT'), ColumnDTO(column_id='FINC_PR_PAYMENTS_LEVEL1_VERIFICATION_COMPLETED', name='Payment Level1 Verification Completed', display_order=2, task_template_stages=[TaskTemplateStagesDTO(task_template_id='FIN_PR', stages=['PR_PAYMENTS_LEVEL1_VERIFICATION_DONE'])], user_role_ids=['FIN_PAYMENTS_LEVEL1_VERIFIER'], column_summary='ColumnSummary11', column_actions='ColumnSummary13', list_view_fields=[TaskSummaryFieldsDTO(task_id='ravi', summary_fields='ravi')], kanban_view_fields=[TaskSummaryFieldsDTO(task_id='ravi', summary_fields='ravi')], board_id='FINB_PAYMENTS_L1_VERIFICATION_PRE_PAYMENT'), ColumnDTO(column_id='FINC_PR_PENDING_PAYMENTS_LEVEL2_VERIFICATION', name='Pending Payment Level2  Verification', display_order=1, task_template_stages=[TaskTemplateStagesDTO(task_template_id='FIN_PR', stages=['PR_PENDING_PAYMENTS_LEVEL2_VERIFICATION'])], user_role_ids=['FIN_PAYMENTS_LEVEL2_VERIFIER'], column_summary='ColumnSummary12', column_actions='ColumnSummary14', list_view_fields=[TaskSummaryFieldsDTO(task_id='ravi', summary_fields='ravi')], kanban_view_fields=[TaskSummaryFieldsDTO(task_id='ravi', summary_fields='ravi')], board_id='FINB_PAYMENTS_L2_VERIFICATION_PRE_PAYMENT'), ColumnDTO(column_id='FINC_PR_PAYMENTS_LEVEL2_VERIFICATION_COMPLETED', name='Payment Level2 Verification Completed', display_order=2, task_template_stages=[TaskTemplateStagesDTO(task_template_id='FIN_PR', stages=['PR_PAYMENTS_LEVEL2_VERIFICATION_DONE'])], user_role_ids=['FIN_PAYMENTS_LEVEL2_VERIFIER'], column_summary='ColumnSummary13', column_actions='ColumnSummary15', list_view_fields=[TaskSummaryFieldsDTO(task_id='ravi', summary_fields='ravi')], kanban_view_fields=[TaskSummaryFieldsDTO(task_id='ravi', summary_fields='ravi')], board_id='FINB_PAYMENTS_L2_VERIFICATION_PRE_PAYMENT'), ColumnDTO(column_id='FINC_PR_PENDING_PAYMENTS_LEVEL3_VERIFICATION', name='Pending Payment Level3  Verification', display_order=1, task_template_stages=[TaskTemplateStagesDTO(task_template_id='FIN_PR', stages=['PR_PENDING_PAYMENTS_LEVEL3_VERIFICATION'])], user_role_ids=['FIN_PAYMENTS_LEVEL3_VERIFIER'], column_summary='ColumnSummary14', column_actions='ColumnSummary16', list_view_fields=[TaskSummaryFieldsDTO(task_id='ravi', summary_fields='ravi')], kanban_view_fields=[TaskSummaryFieldsDTO(task_id='ravi', summary_fields='ravi')], board_id='FINB_PAYMENTS_L3_VERIFICATION_PRE_PAYMENT'), ColumnDTO(column_id='FINC_PR_PAYMENTS_LEVEL3_VERIFICATION_COMPLETED', name='Payment Level3 Verification Completed', display_order=2, task_template_stages=[TaskTemplateStagesDTO(task_template_id='FIN_PR', stages=['PR_PAYMENTS_LEVEL3_VERIFICATION_DONE'])], user_role_ids=['FIN_PAYMENTS_LEVEL3_VERIFIER'], column_summary='ColumnSummary15', column_actions='ColumnSummary17', list_view_fields=[TaskSummaryFieldsDTO(task_id='ravi', summary_fields='ravi')], kanban_view_fields=[TaskSummaryFieldsDTO(task_id='ravi', summary_fields='ravi')], board_id='FINB_PAYMENTS_L3_VERIFICATION_PRE_PAYMENT'), ColumnDTO(column_id='FINC_PR_PENDING_PAYMENTS_LEVEL5_APPROVAL', name='Pending Payment Level5  Verification', display_order=1, task_template_stages=[TaskTemplateStagesDTO(task_template_id='FIN_PR', stages=['PR_PENDING_PAYMENTS_LEVEL5_APPROVAL'])], user_role_ids=['FIN_PAYMENTS_RP'], column_summary='ColumnSummary16', column_actions='ColumnSummary18', list_view_fields=[TaskSummaryFieldsDTO(task_id='ravi', summary_fields='ravi')], kanban_view_fields=[TaskSummaryFieldsDTO(task_id='ravi', summary_fields='ravi')], board_id='FINB_PAYMENTS_L5_VERIFICATION_PRE_PAYMENT'), ColumnDTO(column_id='FINC_PR_PAYMENTS_LEVEL5_APPROVED', name='Payment Level5 Verification Completed', display_order=2, task_template_stages=[TaskTemplateStagesDTO(task_template_id='FIN_PR', stages=['PR_PAYMENTS_LEVEL5_APPROVAL_DONE'])], user_role_ids=['FIN_PAYMENTS_RP'], column_summary='ColumnSummary17', column_actions='ColumnSummary19', list_view_fields=[TaskSummaryFieldsDTO(task_id='ravi', summary_fields='ravi')], kanban_view_fields=[TaskSummaryFieldsDTO(task_id='ravi', summary_fields='ravi')], board_id='FINB_PAYMENTS_L5_VERIFICATION_PRE_PAYMENT'), ColumnDTO(column_id='FINC_PR_PENDING_PAYMENTS_OVERALL_APPROVAL', name='Pending Payment Overall RP  Verification', display_order=1, task_template_stages=[TaskTemplateStagesDTO(task_template_id='FIN_PR', stages=['PR_PENDING_OVERALL_FINANCE_RP_APPROVAL'])], user_role_ids=['FIN_PAYMENTS_RP'], column_summary='ColumnSummary18', column_actions='ColumnSummary20', list_view_fields=[TaskSummaryFieldsDTO(task_id='ravi', summary_fields='ravi')], kanban_view_fields=[TaskSummaryFieldsDTO(task_id='ravi', summary_fields='ravi')], board_id='FINB_PAYMENTS_OVERALL_PRE_PAYMENT'), ColumnDTO(column_id='FINC_PR_PENDING_PAYMENTS_OVERALL_APPROVED', name='Payments Pending for Processing', display_order=2, task_template_stages=[TaskTemplateStagesDTO(task_template_id='FIN_PR', stages=['PR_PENDING_PAYMENTS_PROCESSING'])], user_role_ids=['FIN_PAYMENTS_RP', 'FIN_PAYMENTS_RP', 'FIN_PAYMENTS_LEVEL3_VERIFIER', 'FIN_PAYMENTS_LEVEL2_VERIFIER', 'FIN_PAYMENTS_LEVEL1_VERIFIER'], column_summary='ColumnSummary19', column_actions='ColumnSummary21', list_view_fields=[TaskSummaryFieldsDTO(task_id='ravi', summary_fields='ravi')], kanban_view_fields=[TaskSummaryFieldsDTO(task_id='ravi', summary_fields='ravi')], board_id='FINB_PAYMENTS_OVERALL_PRE_PAYMENT')]\n"
     ]
    }
   ],
   "source": [
    "\"\"\"\n",
    "Populate Boards and Columns\n",
    "\"\"\"\n",
    "from ib_boards.populate.get_data_from_sheet_for_boards_and_columns import GetBoardsAndColumnsDataFromSheet\n",
    "\n",
    "\n",
    "loader = GetBoardsAndColumnsDataFromSheet()\n",
    "loader.get_data_from_sheet(CONFIGURATION_SHEET_NAME)\n",
    "loader.create_boards_and_columns(CONFIGURATION_SHEET_NAME)\n",
    "\n"
   ]
  },
  {
   "cell_type": "code",
   "execution_count": 16,
   "metadata": {},
   "outputs": [],
   "source": [
    "\"\"\"\n",
    "\n",
    "Populate Board Related Data For Project\n",
    "\"\"\"\n",
    "from ib_boards.populate.get_data_from_sheet_for_project_boards import GetSheetDataForProjectBoards\n",
    "\n",
    "\n",
    "loader = GetSheetDataForProjectBoards()\n",
    "loader.get_data_from_project_boards_sub_sheet(PROJECT_SHEET_NAME)"
   ]
  },
  {
   "cell_type": "code",
   "execution_count": 17,
   "metadata": {},
   "outputs": [
    {
     "name": "stderr",
     "output_type": "stream",
     "text": [
      "[none] [ib_workflows_backend - local] INFO     [11:03:16]  [/usr/lib/python3.7/lib2to3/pgen2/driver.py] [driver.py][load_grammar] [121]: Generating grammar tables from /usr/lib/python3.7/lib2to3/Grammar.txt\n",
      "[none] [ib_workflows_backend - local] INFO     [11:03:16]  [/usr/lib/python3.7/lib2to3/pgen2/driver.py] [driver.py][load_grammar] [121]: Generating grammar tables from /usr/lib/python3.7/lib2to3/PatternGrammar.txt\n"
     ]
    }
   ],
   "source": [
    "from ib_tasks.populate.write_stage_actions import writing_data_to_stage_actions_logic\n",
    "writing_data_to_stage_actions_logic()"
   ]
  },
  {
   "cell_type": "code",
   "execution_count": null,
   "metadata": {},
   "outputs": [],
   "source": []
  }
 ],
 "metadata": {
  "kernelspec": {
   "display_name": "Python 3",
   "language": "python",
   "name": "python3"
  },
  "language_info": {
   "codemirror_mode": {
    "name": "ipython",
    "version": 3
   },
   "file_extension": ".py",
   "mimetype": "text/x-python",
   "name": "python",
   "nbconvert_exporter": "python",
   "pygments_lexer": "ipython3",
   "version": "3.7.7"
  }
 },
 "nbformat": 4,
 "nbformat_minor": 4
}
