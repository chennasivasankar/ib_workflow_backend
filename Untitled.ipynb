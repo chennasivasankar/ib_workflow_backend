{
 "cells": [
  {
   "cell_type": "code",
   "execution_count": 1,
   "metadata": {},
   "outputs": [],
   "source": [
    "import os\n",
    "import django\n",
    "os.environ.setdefault(\"DJANGO_SETTINGS_MODULE\", \"ib_workflows_backend.settings.local\")\n",
    "\n",
    "django.setup()\n",
    "from elasticsearch_dsl import connections\n",
    "from django.conf import settings \n",
    "connections.create_connection(hosts=[settings.ELASTICSEARCH_ENDPOINT],timeout=20)\n",
    "from elasticsearch_dsl import Document, Date, Nested, Boolean, \\\n",
    "    analyzer, InnerDoc, Completion, Keyword, Text, Q, Search, Mapping, Integer, Keyword, A"
   ]
  },
  {
   "cell_type": "code",
   "execution_count": 2,
   "metadata": {},
   "outputs": [],
   "source": [
    "project_id =\"FIN_MAN\"\n",
    "adhoc_template_id = \"FIN_PR\""
   ]
  },
  {
   "cell_type": "code",
   "execution_count": 261,
   "metadata": {},
   "outputs": [],
   "source": [
    "from elasticsearch_dsl import Q, Search\n",
    "query = Q(\"term\", project_id__keyword=project_id) \\\n",
    "            & Q('term', template_id__keyword=adhoc_template_id)"
   ]
  },
  {
   "cell_type": "code",
   "execution_count": 262,
   "metadata": {},
   "outputs": [
    {
     "data": {
      "text/plain": [
       "Bool(must=[Term(project_id__keyword='FIN_MAN'), Term(template_id__keyword='FIN_PR')])"
      ]
     },
     "execution_count": 262,
     "metadata": {},
     "output_type": "execute_result"
    }
   ],
   "source": [
    "query"
   ]
  },
  {
   "cell_type": "code",
   "execution_count": 263,
   "metadata": {},
   "outputs": [],
   "source": [
    "search = Search(index=\"task-local\")"
   ]
  },
  {
   "cell_type": "code",
   "execution_count": 264,
   "metadata": {},
   "outputs": [
    {
     "data": {
      "text/plain": [
       "<elasticsearch_dsl.search.Search at 0x7f9bbe93f970>"
      ]
     },
     "execution_count": 264,
     "metadata": {},
     "output_type": "execute_result"
    }
   ],
   "source": [
    "search\n"
   ]
  },
  {
   "cell_type": "code",
   "execution_count": 265,
   "metadata": {},
   "outputs": [
    {
     "data": {
      "text/plain": [
       "{}"
      ]
     },
     "execution_count": 265,
     "metadata": {},
     "output_type": "execute_result"
    }
   ],
   "source": [
    "search.to_dict()"
   ]
  },
  {
   "cell_type": "code",
   "execution_count": 266,
   "metadata": {},
   "outputs": [
    {
     "data": {
      "text/plain": [
       "TopHits()"
      ]
     },
     "execution_count": 266,
     "metadata": {},
     "output_type": "execute_result"
    }
   ],
   "source": [
    "field_agg = A('terms', field='FIN_PURPOSE_OF_THE_ORDER.keyword')\n",
    "stage_agg = A('terms', field='stages.stage_id.keyword')\n",
    "a_data = A('top_hits')\n",
    "search.aggs.bucket('my_buckets',field_agg).bucket('child_groups', stage_agg).bucket('tasks', a_data)"
   ]
  },
  {
   "cell_type": "code",
   "execution_count": 267,
   "metadata": {},
   "outputs": [
    {
     "data": {
      "text/plain": [
       "{'aggs': {'my_buckets': {'terms': {'field': 'FIN_PURPOSE_OF_THE_ORDER.keyword'},\n",
       "   'aggs': {'child_groups': {'terms': {'field': 'stages.stage_id.keyword'},\n",
       "     'aggs': {'tasks': {'top_hits': {}}}}}}}}"
      ]
     },
     "execution_count": 267,
     "metadata": {},
     "output_type": "execute_result"
    }
   ],
   "source": [
    "search.to_dict()"
   ]
  },
  {
   "cell_type": "code",
   "execution_count": 268,
   "metadata": {},
   "outputs": [],
   "source": [
    "response = search.execute()"
   ]
  },
  {
   "cell_type": "code",
   "execution_count": 269,
   "metadata": {},
   "outputs": [
    {
     "name": "stdout",
     "output_type": "stream",
     "text": [
      "group_count 1\n",
      "grouped_by need to pay debt\n",
      "group\n",
      "chld_group\n",
      "child_grouped_by PR_PAYMENT_REQUEST_DRAFTS\n",
      "19\n",
      "************\n",
      "**********\n",
      "group_count 1\n",
      "grouped_by need to pay friend\n",
      "group\n",
      "chld_group\n",
      "child_grouped_by PR_PAYMENT_REQUEST_DRAFTS\n",
      "20\n",
      "************\n",
      "**********\n",
      "group_count 1\n",
      "grouped_by purpose\n",
      "group\n",
      "chld_group\n",
      "child_grouped_by PR_NEED_CLARIFICATION\n",
      "24\n",
      "************\n",
      "**********\n",
      "group_count 1\n",
      "grouped_by sfsdd\n",
      "group\n",
      "chld_group\n",
      "child_grouped_by PR_PAYMENT_REQUEST_DRAFTS\n",
      "21\n",
      "************\n",
      "**********\n",
      "group_count 1\n",
      "grouped_by sfsdfsd\n",
      "group\n",
      "chld_group\n",
      "child_grouped_by PR_PAYMENT_REQUEST_DRAFTS\n",
      "25\n",
      "************\n",
      "**********\n"
     ]
    }
   ],
   "source": [
    "for group in response.aggregations.my_buckets.buckets:\n",
    "    print(\"group_count\", group.doc_count)\n",
    "    print(\"grouped_by\", group.key)\n",
    "    print(\"group\")\n",
    "    for child_group in group.child_groups:\n",
    "#         print(task.value)\n",
    "        print(\"chld_group\")\n",
    "        print(\"child_grouped_by\", child_group.key)\n",
    "        for task in child_group.tasks:\n",
    "            print(task.task_id)\n",
    "        print(\"************\")\n",
    "    print(\"**********\")\n"
   ]
  },
  {
   "cell_type": "code",
   "execution_count": null,
   "metadata": {},
   "outputs": [],
   "source": []
  },
  {
   "cell_type": "code",
   "execution_count": 248,
   "metadata": {},
   "outputs": [],
   "source": [
    "# total tasks"
   ]
  },
  {
   "cell_type": "code",
   "execution_count": 249,
   "metadata": {},
   "outputs": [],
   "source": [
    "from elasticsearch_dsl import Q, Search\n",
    "query = Q(\"term\", project_id__keyword=project_id) \\\n",
    "            & Q('term', template_id__keyword=adhoc_template_id)"
   ]
  },
  {
   "cell_type": "code",
   "execution_count": 284,
   "metadata": {},
   "outputs": [],
   "source": [
    "search = Search(index=\"task-local\")"
   ]
  },
  {
   "cell_type": "code",
   "execution_count": 251,
   "metadata": {},
   "outputs": [
    {
     "data": {
      "text/plain": [
       "{}"
      ]
     },
     "execution_count": 251,
     "metadata": {},
     "output_type": "execute_result"
    }
   ],
   "source": [
    "search.to_dict()"
   ]
  },
  {
   "cell_type": "code",
   "execution_count": 252,
   "metadata": {},
   "outputs": [],
   "source": [
    "task_objects = search.filter(query)"
   ]
  },
  {
   "cell_type": "code",
   "execution_count": 253,
   "metadata": {},
   "outputs": [],
   "source": [
    "response = search.execute()"
   ]
  },
  {
   "cell_type": "code",
   "execution_count": 272,
   "metadata": {},
   "outputs": [
    {
     "name": "stdout",
     "output_type": "stream",
     "text": [
      "19\n",
      "20\n",
      "21\n",
      "22\n",
      "23\n",
      "24\n",
      "25\n",
      "26\n",
      "27\n",
      "28\n"
     ]
    }
   ],
   "source": [
    "for task in task_objects:\n",
    "    print(task.task_id)"
   ]
  },
  {
   "cell_type": "code",
   "execution_count": 227,
   "metadata": {},
   "outputs": [
    {
     "data": {
      "text/plain": [
       "19"
      ]
     },
     "execution_count": 227,
     "metadata": {},
     "output_type": "execute_result"
    }
   ],
   "source": [
    "task_objects.count()"
   ]
  },
  {
   "cell_type": "code",
   "execution_count": 270,
   "metadata": {},
   "outputs": [
    {
     "data": {
      "text/plain": [
       "<elasticsearch_dsl.search.Search at 0x7f9bbe8418e0>"
      ]
     },
     "execution_count": 270,
     "metadata": {},
     "output_type": "execute_result"
    }
   ],
   "source": [
    "task_objects[1:5]"
   ]
  },
  {
   "cell_type": "code",
   "execution_count": null,
   "metadata": {},
   "outputs": [],
   "source": []
  },
  {
   "cell_type": "code",
   "execution_count": null,
   "metadata": {},
   "outputs": [],
   "source": []
  },
  {
   "cell_type": "code",
   "execution_count": 303,
   "metadata": {},
   "outputs": [],
   "source": [
    "# For one grouping"
   ]
  },
  {
   "cell_type": "code",
   "execution_count": 11,
   "metadata": {},
   "outputs": [],
   "source": [
    "from elasticsearch_dsl import Q, Search\n",
    "query = Q(\"term\", project_id__keyword=project_id) \\\n",
    "            & Q('term', template_id__keyword=adhoc_template_id)"
   ]
  },
  {
   "cell_type": "code",
   "execution_count": 16,
   "metadata": {},
   "outputs": [],
   "source": [
    "search = Search(index=\"task-local\")\n",
    "search.filter(query)\n",
    "field_agg = A('terms', field='FIN_PURPOSE_OF_THE_ORDER.keyword')\n",
    "tasks_data = A('top_hits')"
   ]
  },
  {
   "cell_type": "code",
   "execution_count": 17,
   "metadata": {},
   "outputs": [
    {
     "data": {
      "text/plain": [
       "TopHits()"
      ]
     },
     "execution_count": 17,
     "metadata": {},
     "output_type": "execute_result"
    }
   ],
   "source": [
    "search.aggs.bucket('groups',field_agg).bucket('tasks', tasks_data)"
   ]
  },
  {
   "cell_type": "code",
   "execution_count": 18,
   "metadata": {},
   "outputs": [
    {
     "name": "stderr",
     "output_type": "stream",
     "text": [
      "[none] [ib_workflows_backend - local] INFO     [15:29:36]  [/home/ib-developer/PycharmProjects/ib-workflows-backend/venv/lib/python3.8/site-packages/elasticsearch/connection/base.py] [base.py][log_request_success] [227]: POST http://localhost:9200/task-local/_search [status:200 request:0.003s]\n"
     ]
    }
   ],
   "source": [
    "response = search.execute()"
   ]
  },
  {
   "cell_type": "code",
   "execution_count": 19,
   "metadata": {},
   "outputs": [
    {
     "data": {
      "text/plain": [
       "{'aggs': {'groups': {'terms': {'field': 'FIN_PURPOSE_OF_THE_ORDER.keyword'},\n",
       "   'aggs': {'tasks': {'top_hits': {}}}}}}"
      ]
     },
     "execution_count": 19,
     "metadata": {},
     "output_type": "execute_result"
    }
   ],
   "source": [
    "search.to_dict()"
   ]
  },
  {
   "cell_type": "code",
   "execution_count": 21,
   "metadata": {},
   "outputs": [],
   "source": [
    "response = search.execute()"
   ]
  },
  {
   "cell_type": "code",
   "execution_count": 30,
   "metadata": {},
   "outputs": [
    {
     "data": {
      "text/plain": [
       "5"
      ]
     },
     "execution_count": 30,
     "metadata": {},
     "output_type": "execute_result"
    }
   ],
   "source": [
    "len(response.aggregations.groups.buckets)"
   ]
  },
  {
   "cell_type": "code",
   "execution_count": 35,
   "metadata": {},
   "outputs": [
    {
     "name": "stdout",
     "output_type": "stream",
     "text": [
      "need to pay debt\n",
      "1\n",
      "<Response: [<Hit(task-local/AQtuoHQBlEpf_YrJx9SP): {'project_id': 'FIN_MAN', 'template_id': 'FIN_PR', 'task_id'...}>]>\n",
      "need to pay friend\n",
      "1\n",
      "<Response: [<Hit(task-local/HQtvoHQBlEpf_YrJstTD): {'project_id': 'FIN_MAN', 'template_id': 'FIN_PR', 'task_id'...}>]>\n",
      "purpose\n",
      "1\n",
      "<Response: [<Hit(task-local/ngu-oHQBlEpf_YrJAdTi): {'project_id': 'FIN_MAN', 'template_id': 'FIN_PR', 'task_id'...}>]>\n",
      "sfsdd\n",
      "1\n",
      "<Response: [<Hit(task-local/QwuIoHQBlEpf_YrJ_tRM): {'project_id': 'FIN_MAN', 'template_id': 'FIN_PR', 'task_id'...}>]>\n",
      "sfsdfsd\n",
      "1\n",
      "<Response: [<Hit(task-local/zgvAoHQBlEpf_YrJJdSg): {'project_id': 'FIN_MAN', 'template_id': 'FIN_PR', 'task_id'...}>]>\n"
     ]
    }
   ],
   "source": [
    "for group in response.aggregations.groups.buckets:\n",
    "    print(group.key)\n",
    "    print(group.doc_count)\n",
    "    print(group.tasks)"
   ]
  },
  {
   "cell_type": "code",
   "execution_count": null,
   "metadata": {},
   "outputs": [],
   "source": []
  }
 ],
 "metadata": {
  "kernelspec": {
   "display_name": "Python 3",
   "language": "python",
   "name": "python3"
  },
  "language_info": {
   "codemirror_mode": {
    "name": "ipython",
    "version": 3
   },
   "file_extension": ".py",
   "mimetype": "text/x-python",
   "name": "python",
   "nbconvert_exporter": "python",
   "pygments_lexer": "ipython3",
   "version": "3.8.2"
  }
 },
 "nbformat": 4,
 "nbformat_minor": 4
}
