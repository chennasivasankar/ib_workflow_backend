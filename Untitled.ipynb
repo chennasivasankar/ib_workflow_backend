{
 "cells": [
  {
   "cell_type": "code",
   "execution_count": 13,
   "metadata": {},
   "outputs": [
    {
     "data": {
      "text/plain": [
       "<Elasticsearch([{'host': 'localhost'}])>"
      ]
     },
     "execution_count": 13,
     "metadata": {},
     "output_type": "execute_result"
    }
   ],
   "source": [
    "\n",
    "from elasticsearch_dsl import connections\n",
    "connections.create_connection(hosts=['localhost'], timeout=20)\n",
    "\n"
   ]
  },
  {
   "cell_type": "code",
   "execution_count": 8,
   "metadata": {},
   "outputs": [],
   "source": [
    "from elasticsearch_dsl import Document, Text\n",
    "\n",
    "\n",
    "# Defining Type\n",
    "class Person(Document):\n",
    "    name = Text()\n",
    "    \n",
    "    class Index:\n",
    "        # Defining Index\n",
    "        name = 'person'\n",
    "\n"
   ]
  },
  {
   "cell_type": "code",
   "execution_count": 23,
   "metadata": {},
   "outputs": [
    {
     "data": {
      "text/plain": [
       "'created'"
      ]
     },
     "execution_count": 23,
     "metadata": {},
     "output_type": "execute_result"
    }
   ],
   "source": [
    "# Create Document\n",
    "\n",
    "person = Person(name='Vedavidh2')\n",
    "\n",
    "\n",
    "person.save()"
   ]
  },
  {
   "cell_type": "code",
   "execution_count": 24,
   "metadata": {},
   "outputs": [
    {
     "name": "stdout",
     "output_type": "stream",
     "text": [
      "Vedavidh\n",
      "Vedavidh\n",
      "Vedavidh\n",
      "Vedavidh\n",
      "Vedavidh2\n",
      "Vedavidh2\n"
     ]
    }
   ],
   "source": [
    "# Simple Read\n",
    "for item in Person.search():\n",
    "    print(item.name)"
   ]
  },
  {
   "cell_type": "code",
   "execution_count": 29,
   "metadata": {},
   "outputs": [
    {
     "name": "stdout",
     "output_type": "stream",
     "text": [
      "Vedavidh\n",
      "Vedavidh\n",
      "Vedavidh\n",
      "Vedavidh\n"
     ]
    }
   ],
   "source": [
    "# Simple Read\n",
    "for item in Person.search().filter(\"match\", name=\"Vedavidh\"):\n",
    "    print(item.name)"
   ]
  },
  {
   "cell_type": "code",
   "execution_count": null,
   "metadata": {},
   "outputs": [],
   "source": []
  }
 ],
 "metadata": {
  "kernelspec": {
   "display_name": "Python 3",
   "language": "python",
   "name": "python3"
  },
  "language_info": {
   "codemirror_mode": {
    "name": "ipython",
    "version": 3
   },
   "file_extension": ".py",
   "mimetype": "text/x-python",
   "name": "python",
   "nbconvert_exporter": "python",
   "pygments_lexer": "ipython3",
   "version": "3.8.2"
  }
 },
 "nbformat": 4,
 "nbformat_minor": 4
}
