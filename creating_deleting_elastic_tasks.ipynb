{
 "cells": [
  {
   "cell_type": "code",
   "execution_count": 29,
   "metadata": {},
   "outputs": [],
   "source": [
    "from elasticsearch_dsl import connections\n",
    "from django.conf import settings\n",
    "es = connections.create_connection(hosts=[settings.ELASTICSEARCH_ENDPOINT], timeout=20)"
   ]
  },
  {
   "cell_type": "code",
   "execution_count": 35,
   "metadata": {},
   "outputs": [
    {
     "data": {
      "text/plain": [
       "{'acknowledged': True, 'shards_acknowledged': True, 'index': 'task-alpha'}"
      ]
     },
     "execution_count": 35,
     "metadata": {},
     "output_type": "execute_result"
    }
   ],
   "source": [
    "es.indices.create(index='task-alpha', ignore=[400, 404])"
   ]
  },
  {
   "cell_type": "code",
   "execution_count": 44,
   "metadata": {},
   "outputs": [],
   "source": [
    "res = es.search(index=\"task-alpha\", body={\"query\": {\"bool\": {\"filter\": {\"term\": {\"task_id\": 109}}}}})"
   ]
  },
  {
   "cell_type": "code",
   "execution_count": 46,
   "metadata": {},
   "outputs": [
    {
     "data": {
      "text/plain": [
       "{'took': 7,\n",
       " 'timed_out': False,\n",
       " '_shards': {'total': 5, 'successful': 5, 'skipped': 0, 'failed': 0},\n",
       " 'hits': {'total': {'value': 1, 'relation': 'eq'},\n",
       "  'max_score': 0.0,\n",
       "  'hits': [{'_index': 'task-alpha',\n",
       "    '_type': '_doc',\n",
       "    '_id': 'EsNQbXQBDpmDgJdbDl-N',\n",
       "    '_score': 0.0,\n",
       "    '_source': {'project_id': 'FIN_MAN',\n",
       "     'template_id': 'FIN_PR',\n",
       "     'task_id': 109,\n",
       "     'title': 'Cricket',\n",
       "     'FIN_TEAM_NAME': 'Tech Team',\n",
       "     'FIN_PAYMENT_POC_NAME': 'd08bd467-5232-4ae4-84cc-93bf9135dbf8',\n",
       "     'FIN_PAYMENT_REQUESTOR_NAME': 'Pavankumar Pamuru',\n",
       "     'FIN_PAYMENT_APPROVER_NAME': 'd08bd467-5232-4ae4-84cc-93bf9135dbf8',\n",
       "     'FIN_PAYMENT_REQUEST_DATE': '2020-9-8',\n",
       "     'FIN_TENTATIVE_PAYMENT_DATE': '2020-9-8',\n",
       "     'FIN_EXPECTED_PAYMENT_TIMELINE': 'Standard Timeline',\n",
       "     'FIN_PRIORITY': 'Critical',\n",
       "     'FIN_EXPECTED_PAYMENT_TIMELINE_REMARKS': 'Need to play cricket',\n",
       "     'FIN_TYPE_OF_PAYMENT_REQUEST': 'Vendor Payment',\n",
       "     'FIN_SOFT_COPY_STATUS': 'Uploaded',\n",
       "     'FIN_GST_OFFICE_LOCATION': 'iB Hubs',\n",
       "     'FIN_GST_LOCATION': '1',\n",
       "     'FIN_GST_NUMBER': 'jnhafe4r83',\n",
       "     'FIN_GST_ADDRESS': 'dzsgar',\n",
       "     'FIN_CATEGORY_ONLINE_EXPENSE': 'aergtaws',\n",
       "     'FIN_EVENTS_ACTIVITY_ONLINE_EXPENSE': 'Entrepreneurship talk in Bundelkhand Chamber of Commerce & Industry',\n",
       "     'FIN_PRODUCT_SERVICE': 'Product',\n",
       "     'FIN_VENDOR_NAME': 'Vendor 1',\n",
       "     'FIN_PURPOSE_OF_THE_EXPENSE': 'zsredt',\n",
       "     'FIN_PAYMENT_TYPE_VENDOR': 'One Time Payment',\n",
       "     'FIN_PAYMENT_MODE_VENDOR': 'Online Payment',\n",
       "     'FIN_CURRENCY_VENDOR': 'INR - Indian rupee',\n",
       "     'FIN_INVOICE_AMOUNT': '2000',\n",
       "     'FIN_REQUESTED_AMOUNT': '3000',\n",
       "     'FIN_CONVERSION_RATE_VENDOR': '10.5',\n",
       "     'FIN_REQUESTED_AMOUNT_AFTER_CONVERSION': '20.5',\n",
       "     'FIN_INITIATION_STATUS': '[\"Initiated\"]',\n",
       "     'FIN_AUTHORISATION_STATUS': '[\"Authorized\"]',\n",
       "     'FIN_PAYMENT_STATUS_PR': 'InProgress',\n",
       "     'FIN_TRANSACTION_ID': 'sdfg5467wxbg56',\n",
       "     'FIN_TDS_AMOUNT_DEDUCTED': '1500',\n",
       "     'FIN_AMOUNT_PAID': '2000',\n",
       "     'FIN_PAYMENT_DATE': '2020-9-8',\n",
       "     'stages': [{'stage_id': 'PR_PENDING_RP_APPROVAL'}]}}]}}"
      ]
     },
     "execution_count": 46,
     "metadata": {},
     "output_type": "execute_result"
    }
   ],
   "source": [
    "res\n"
   ]
  },
  {
   "cell_type": "code",
   "execution_count": 37,
   "metadata": {},
   "outputs": [],
   "source": []
  },
  {
   "cell_type": "code",
   "execution_count": 45,
   "metadata": {},
   "outputs": [
    {
     "name": "stdout",
     "output_type": "stream",
     "text": [
      "LE: \n",
      "\n",
      "It appears the LOGENTRIES_TOKEN parameter you entered is incorrect!\n",
      "\n",
      "\n"
     ]
    }
   ],
   "source": [
    "import django\n",
    "django.setup()\n",
    "from ib_tasks.populate.population_utils import *"
   ]
  },
  {
   "cell_type": "code",
   "execution_count": null,
   "metadata": {},
   "outputs": [],
   "source": [
    "create_tasks_in_elasticsearch_data()"
   ]
  }
 ],
 "metadata": {
  "kernelspec": {
   "display_name": "Python 3",
   "language": "python",
   "name": "python3"
  },
  "language_info": {
   "codemirror_mode": {
    "name": "ipython",
    "version": 3
   },
   "file_extension": ".py",
   "mimetype": "text/x-python",
   "name": "python",
   "nbconvert_exporter": "python",
   "pygments_lexer": "ipython3",
   "version": "3.7.7"
  }
 },
 "nbformat": 4,
 "nbformat_minor": 4
}
