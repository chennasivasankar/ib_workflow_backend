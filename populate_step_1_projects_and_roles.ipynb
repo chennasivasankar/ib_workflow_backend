{
 "cells": [
  {
   "cell_type": "code",
   "execution_count": null,
   "metadata": {},
   "outputs": [],
   "source": [
    "%load_ext autoreload\n",
    "%autoreload 2\n",
    "\n",
    "%connect_info"
   ]
  },
  {
   "cell_type": "code",
   "execution_count": null,
   "metadata": {},
   "outputs": [],
   "source": [
    "import django\n",
    "django.setup()"
   ]
  },
  {
   "cell_type": "code",
   "execution_count": null,
   "metadata": {},
   "outputs": [],
   "source": [
    "from typing import List"
   ]
  },
  {
   "cell_type": "code",
   "execution_count": null,
   "metadata": {},
   "outputs": [],
   "source": [
    "projects_with_configurations = [\n",
    "    {\n",
    "        \"project_sheet\": \"Finman Project Configuration\",\n",
    "        \"configuration_sheets\": [\n",
    "            \"FinMan Configuration_v4 Dev Loading\"\n",
    "        ]\n",
    "    }\n",
    "]"
   ]
  },
  {
   "cell_type": "code",
   "execution_count": null,
   "metadata": {},
   "outputs": [],
   "source": [
    "\"\"\"\n",
    "Populate project\n",
    "\"\"\"\n",
    "\n",
    "def populate_project(project_sheet: str):\n",
    "    from ib_iam.populate.populate_utils import populate_projects\n",
    "    populate_projects(spread_sheet_name=project_sheet)"
   ]
  },
  {
   "cell_type": "code",
   "execution_count": null,
   "metadata": {},
   "outputs": [],
   "source": [
    "\"\"\"\n",
    "Populate project roles\n",
    "\"\"\"\n",
    "\n",
    "\n",
    "\n",
    "def populate_project_roles(configuration_sheets: List[str]):\n",
    "    from ib_tasks.populate.population_utils import populate_project_roles\n",
    "    for configuration_sheet in configuration_sheets:\n",
    "        populate_project_roles(configuration_sheet)"
   ]
  },
  {
   "cell_type": "code",
   "execution_count": null,
   "metadata": {},
   "outputs": [],
   "source": [
    "\"\"\"\n",
    "Populate project and roles\n",
    "\n",
    "\"\"\"\n",
    "\n",
    "def populate_project_and_roles(project_sheet: str, configuration_sheets: List[str]):\n",
    "    populate_project(project_sheet=project_sheet)\n",
    "    populate_project_roles(configuration_sheets=configuration_sheets)"
   ]
  },
  {
   "cell_type": "code",
   "execution_count": null,
   "metadata": {},
   "outputs": [],
   "source": [
    "\"\"\"\n",
    "Populate Projects with their Roles\n",
    "\"\"\"\n",
    "\n",
    "from django.db import transaction\n",
    "\n",
    "@transaction.atomic()\n",
    "def populate_projects_with_roles(projects_with_configurations: List[dict]):\n",
    "    \n",
    "    for project_with_configurations in projects_with_configurations:\n",
    "        populate_project_and_roles(\n",
    "            project_sheet=project_with_configurations[\"project_sheet\"],\n",
    "            configuration_sheets=project_with_configurations[\"configuration_sheets\"]\n",
    "        )"
   ]
  },
  {
   "cell_type": "code",
   "execution_count": null,
   "metadata": {},
   "outputs": [],
   "source": [
    "populate_projects_with_roles(projects_with_configurations=projects_with_configurations)"
   ]
  },
  {
   "cell_type": "code",
   "execution_count": null,
   "metadata": {},
   "outputs": [],
   "source": []
  }
 ],
 "metadata": {
  "kernelspec": {
   "display_name": "Python 3",
   "language": "python",
   "name": "python3"
  },
  "language_info": {
   "codemirror_mode": {
    "name": "ipython",
    "version": 3
   },
   "file_extension": ".py",
   "mimetype": "text/x-python",
   "name": "python",
   "nbconvert_exporter": "python",
   "pygments_lexer": "ipython3",
   "version": "3.7.7"
  }
 },
 "nbformat": 4,
 "nbformat_minor": 4
}
