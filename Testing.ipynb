{
 "cells": [
  {
   "cell_type": "code",
   "execution_count": null,
   "metadata": {},
   "outputs": [],
   "source": [
    "# For no group dtos"
   ]
  },
  {
   "cell_type": "code",
   "execution_count": 1,
   "metadata": {},
   "outputs": [],
   "source": [
    "import django\n",
    "django.setup()"
   ]
  },
  {
   "cell_type": "code",
   "execution_count": 1,
   "metadata": {},
   "outputs": [],
   "source": [
    "user_id = \"aa6e1d28-5000-46c3-bdbc-8c98fd004318\"\n",
    "project_id = \"FIN_MAN\"\n",
    "stage_ids = [\"PR_PAYMENT_REQUEST_DRAFTS\", \"PR_NEED_CLARIFICATION\", \"PR_PAYMENT_REQUEST_DRAFTS\", \"PR_PENDING_RP_APPROVAL\"]\n",
    "group_by_dtos = []\n",
    "adhoc_template_id = \"FIN_PR\""
   ]
  },
  {
   "cell_type": "code",
   "execution_count": null,
   "metadata": {},
   "outputs": [],
   "source": []
  },
  {
   "cell_type": "code",
   "execution_count": 2,
   "metadata": {},
   "outputs": [],
   "source": [
    "from ib_adhoc_tasks.tests.factories.interactor_dtos import \\\n",
    "            TaskOffsetAndLimitValuesDTOFactory\n",
    "task_offset_and_limit_values_dto = TaskOffsetAndLimitValuesDTOFactory()"
   ]
  },
  {
   "cell_type": "code",
   "execution_count": 3,
   "metadata": {},
   "outputs": [
    {
     "data": {
      "text/plain": [
       "TaskOffsetAndLimitValuesDTO(offset=0, limit=5)"
      ]
     },
     "execution_count": 3,
     "metadata": {},
     "output_type": "execute_result"
    }
   ],
   "source": [
    "task_offset_and_limit_values_dto"
   ]
  },
  {
   "cell_type": "code",
   "execution_count": 4,
   "metadata": {},
   "outputs": [],
   "source": [
    "from ib_adhoc_tasks.storages.elastic_storage_implementation import *\n",
    "elastic_storage = ElasticStorageImplementation() "
   ]
  },
  {
   "cell_type": "code",
   "execution_count": 8,
   "metadata": {},
   "outputs": [],
   "source": [
    "group_details_dtos, group_count_dtos, child_group_count_dtos = \\\n",
    "    elastic_storage.get_group_details_of_project(\n",
    "        project_id=project_id, stage_ids=stage_ids,\n",
    "        adhoc_template_id=adhoc_template_id,\n",
    "        group_by_dtos=group_by_dtos,\n",
    "        task_offset_and_limit_values_dto=task_offset_and_limit_values_dto\n",
    "    )"
   ]
  },
  {
   "cell_type": "code",
   "execution_count": 9,
   "metadata": {},
   "outputs": [
    {
     "name": "stdout",
     "output_type": "stream",
     "text": [
      "********\n",
      "*********\n"
     ]
    },
    {
     "data": {
      "text/plain": [
       "[]"
      ]
     },
     "execution_count": 9,
     "metadata": {},
     "output_type": "execute_result"
    }
   ],
   "source": []
  },
  {
   "cell_type": "code",
   "execution_count": 10,
   "metadata": {},
   "outputs": [
    {
     "data": {
      "text/plain": [
       "[GroupDetailsDTO(task_ids=[19, 20, 21, 22, 23], total_tasks=19, group_by_value=None, group_by_display_name=None, child_group_by_value=None, child_group_by_display_name=None)]"
      ]
     },
     "execution_count": 10,
     "metadata": {},
     "output_type": "execute_result"
    }
   ],
   "source": [
    "group_details_dtos"
   ]
  },
  {
   "cell_type": "code",
   "execution_count": 11,
   "metadata": {},
   "outputs": [
    {
     "data": {
      "text/plain": [
       "[]"
      ]
     },
     "execution_count": 11,
     "metadata": {},
     "output_type": "execute_result"
    }
   ],
   "source": [
    "group_count_dtos\n"
   ]
  },
  {
   "cell_type": "code",
   "execution_count": 12,
   "metadata": {},
   "outputs": [
    {
     "data": {
      "text/plain": [
       "[]"
      ]
     },
     "execution_count": 12,
     "metadata": {},
     "output_type": "execute_result"
    }
   ],
   "source": [
    "child_group_count_dtos"
   ]
  },
  {
   "cell_type": "code",
   "execution_count": null,
   "metadata": {},
   "outputs": [],
   "source": []
  },
  {
   "cell_type": "code",
   "execution_count": null,
   "metadata": {},
   "outputs": [],
   "source": [
    "# For single group"
   ]
  },
  {
   "cell_type": "code",
   "execution_count": 2,
   "metadata": {},
   "outputs": [],
   "source": [
    "user_id = \"aa6e1d28-5000-46c3-bdbc-8c98fd004318\"\n",
    "project_id = \"FIN_MAN\"\n",
    "stage_ids = [\"PR_PAYMENT_REQUEST_DRAFTS\", \"PR_NEED_CLARIFICATION\", \"PR_PAYMENT_REQUEST_DRAFTS\", \"PR_PENDING_RP_APPROVAL\"]\n",
    "adhoc_template_id = \"FIN_PR\""
   ]
  },
  {
   "cell_type": "code",
   "execution_count": 3,
   "metadata": {},
   "outputs": [],
   "source": [
    "from ib_adhoc_tasks.interactors.dtos.dtos import * \n",
    "group_by_dtos = [\n",
    "    GroupByDTO(group_by_value=\"FIN_PURPOSE_OF_THE_ORDER\", order=1, offset=0, limit=5)\n",
    "]\n",
    "from ib_adhoc_tasks.tests.factories.interactor_dtos import \\\n",
    "            TaskOffsetAndLimitValuesDTOFactory\n",
    "task_offset_and_limit_values_dto = TaskOffsetAndLimitValuesDTOFactory()"
   ]
  },
  {
   "cell_type": "code",
   "execution_count": 4,
   "metadata": {},
   "outputs": [],
   "source": [
    "from ib_adhoc_tasks.storages.elastic_storage_implementation import *\n",
    "elastic_storage = ElasticStorageImplementation() "
   ]
  },
  {
   "cell_type": "code",
   "execution_count": 5,
   "metadata": {},
   "outputs": [
    {
     "name": "stderr",
     "output_type": "stream",
     "text": [
      "[none] [ib_workflows_backend - local] INFO     [20:01:53]  [/home/ib-developer/PycharmProjects/ib-workflows-backend/venv/lib/python3.8/site-packages/elasticsearch/connection/base.py] [base.py][log_request_success] [227]: POST http://localhost:9200/task-local/_search [status:200 request:0.011s]\n"
     ]
    }
   ],
   "source": [
    "group_details_dtos, group_count_dtos, child_group_count_dtos = \\\n",
    "    elastic_storage.get_group_details_of_project(\n",
    "        project_id=project_id, stage_ids=stage_ids,\n",
    "        adhoc_template_id=adhoc_template_id,\n",
    "        group_by_dtos=group_by_dtos,\n",
    "        task_offset_and_limit_values_dto=task_offset_and_limit_values_dto\n",
    "    )"
   ]
  },
  {
   "cell_type": "code",
   "execution_count": 6,
   "metadata": {},
   "outputs": [
    {
     "data": {
      "text/plain": [
       "[GroupDetailsDTO(task_ids=[19], total_tasks=1, group_by_value='need to pay debt', group_by_display_name='need to pay debt', child_group_by_value=None, child_group_by_display_name=None),\n",
       " GroupDetailsDTO(task_ids=[20], total_tasks=1, group_by_value='need to pay friend', group_by_display_name='need to pay friend', child_group_by_value=None, child_group_by_display_name=None),\n",
       " GroupDetailsDTO(task_ids=[24], total_tasks=1, group_by_value='purpose', group_by_display_name='purpose', child_group_by_value=None, child_group_by_display_name=None),\n",
       " GroupDetailsDTO(task_ids=[21], total_tasks=1, group_by_value='sfsdd', group_by_display_name='sfsdd', child_group_by_value=None, child_group_by_display_name=None),\n",
       " GroupDetailsDTO(task_ids=[25], total_tasks=1, group_by_value='sfsdfsd', group_by_display_name='sfsdfsd', child_group_by_value=None, child_group_by_display_name=None)]"
      ]
     },
     "execution_count": 6,
     "metadata": {},
     "output_type": "execute_result"
    }
   ],
   "source": [
    "group_details_dtos"
   ]
  },
  {
   "cell_type": "code",
   "execution_count": 7,
   "metadata": {},
   "outputs": [
    {
     "data": {
      "text/plain": [
       "GroupCountDTO(group_by_value='FIN_PURPOSE_OF_THE_ORDER', total_groups=5)"
      ]
     },
     "execution_count": 7,
     "metadata": {},
     "output_type": "execute_result"
    }
   ],
   "source": [
    "group_count_dtos"
   ]
  },
  {
   "cell_type": "code",
   "execution_count": 8,
   "metadata": {},
   "outputs": [
    {
     "data": {
      "text/plain": [
       "[]"
      ]
     },
     "execution_count": 8,
     "metadata": {},
     "output_type": "execute_result"
    }
   ],
   "source": [
    "child_group_count_dtos"
   ]
  },
  {
   "cell_type": "code",
   "execution_count": 19,
   "metadata": {},
   "outputs": [
    {
     "ename": "NameError",
     "evalue": "name 'response' is not defined",
     "output_type": "error",
     "traceback": [
      "\u001b[0;31m---------------------------------------------------------------------------\u001b[0m",
      "\u001b[0;31mNameError\u001b[0m                                 Traceback (most recent call last)",
      "\u001b[0;32m<ipython-input-19-082d262fc5f9>\u001b[0m in \u001b[0;36m<module>\u001b[0;34m\u001b[0m\n\u001b[0;32m----> 1\u001b[0;31m \u001b[0mgroups_count\u001b[0m \u001b[0;34m=\u001b[0m \u001b[0mlen\u001b[0m\u001b[0;34m(\u001b[0m\u001b[0mresponse\u001b[0m\u001b[0;34m.\u001b[0m\u001b[0maggregations\u001b[0m\u001b[0;34m.\u001b[0m\u001b[0mgroups\u001b[0m\u001b[0;34m.\u001b[0m\u001b[0mbuckets\u001b[0m\u001b[0;34m)\u001b[0m\u001b[0;34m\u001b[0m\u001b[0;34m\u001b[0m\u001b[0m\n\u001b[0m",
      "\u001b[0;31mNameError\u001b[0m: name 'response' is not defined"
     ]
    }
   ],
   "source": []
  },
  {
   "cell_type": "code",
   "execution_count": null,
   "metadata": {},
   "outputs": [],
   "source": []
  },
  {
   "cell_type": "code",
   "execution_count": 46,
   "metadata": {},
   "outputs": [],
   "source": [
    "# for two group by dtos"
   ]
  },
  {
   "cell_type": "code",
   "execution_count": 25,
   "metadata": {},
   "outputs": [],
   "source": [
    "user_id = \"aa6e1d28-5000-46c3-bdbc-8c98fd004318\"\n",
    "project_id = \"FIN_MAN\"\n",
    "stage_ids = [\"PR_PAYMENT_REQUEST_DRAFTS\", \"PR_NEED_CLARIFICATION\", \"PR_PAYMENT_REQUEST_DRAFTS\", \"PR_PENDING_RP_APPROVAL\"]\n",
    "adhoc_template_id = \"FIN_PR\""
   ]
  },
  {
   "cell_type": "code",
   "execution_count": 26,
   "metadata": {},
   "outputs": [],
   "source": [
    "from ib_adhoc_tasks.interactors.dtos.dtos import * \n",
    "group_by_dtos = [\n",
    "    GroupByDTO(group_by_value=\"FIN_PURPOSE_OF_THE_ORDER\", order=1, offset=0, limit=5),\n",
    "    GroupByDTO(group_by_value=\"STAGE\", order=2, offset=0, limit=5)\n",
    "]\n",
    "from ib_adhoc_tasks.tests.factories.interactor_dtos import \\\n",
    "            TaskOffsetAndLimitValuesDTOFactory\n",
    "task_offset_and_limit_values_dto = TaskOffsetAndLimitValuesDTOFactory()"
   ]
  },
  {
   "cell_type": "code",
   "execution_count": 27,
   "metadata": {},
   "outputs": [],
   "source": [
    "from ib_adhoc_tasks.storages.elastic_storage_implementation import *\n",
    "elastic_storage = ElasticStorageImplementation() "
   ]
  },
  {
   "cell_type": "code",
   "execution_count": 28,
   "metadata": {},
   "outputs": [
    {
     "name": "stderr",
     "output_type": "stream",
     "text": [
      "[none] [ib_workflows_backend - local] INFO     [20:24:05]  [/home/ib-developer/PycharmProjects/ib-workflows-backend/venv/lib/python3.8/site-packages/elasticsearch/connection/base.py] [base.py][log_request_success] [227]: POST http://localhost:9200/task-local/_search [status:200 request:0.019s]\n"
     ]
    }
   ],
   "source": [
    "group_details_dtos, group_count_dtos, child_group_count_dtos = \\\n",
    "    elastic_storage.get_group_details_of_project(\n",
    "        project_id=project_id, stage_ids=stage_ids,\n",
    "        adhoc_template_id=adhoc_template_id,\n",
    "        group_by_dtos=group_by_dtos,\n",
    "        task_offset_and_limit_values_dto=task_offset_and_limit_values_dto\n",
    "    )"
   ]
  },
  {
   "cell_type": "code",
   "execution_count": 29,
   "metadata": {},
   "outputs": [
    {
     "data": {
      "text/plain": [
       "[GroupDetailsDTO(task_ids=[19], total_tasks=1, group_by_value='need to pay debt', group_by_display_name='need to pay debt', child_group_by_value='PR_PAYMENT_REQUEST_DRAFTS', child_group_by_display_name='PR_PAYMENT_REQUEST_DRAFTS'),\n",
       " GroupDetailsDTO(task_ids=[20], total_tasks=1, group_by_value='need to pay friend', group_by_display_name='need to pay friend', child_group_by_value='PR_PAYMENT_REQUEST_DRAFTS', child_group_by_display_name='PR_PAYMENT_REQUEST_DRAFTS'),\n",
       " GroupDetailsDTO(task_ids=[24], total_tasks=1, group_by_value='purpose', group_by_display_name='purpose', child_group_by_value='PR_NEED_CLARIFICATION', child_group_by_display_name='PR_NEED_CLARIFICATION'),\n",
       " GroupDetailsDTO(task_ids=[21], total_tasks=1, group_by_value='sfsdd', group_by_display_name='sfsdd', child_group_by_value='PR_PAYMENT_REQUEST_DRAFTS', child_group_by_display_name='PR_PAYMENT_REQUEST_DRAFTS'),\n",
       " GroupDetailsDTO(task_ids=[25], total_tasks=1, group_by_value='sfsdfsd', group_by_display_name='sfsdfsd', child_group_by_value='PR_PAYMENT_REQUEST_DRAFTS', child_group_by_display_name='PR_PAYMENT_REQUEST_DRAFTS')]"
      ]
     },
     "execution_count": 29,
     "metadata": {},
     "output_type": "execute_result"
    }
   ],
   "source": [
    "group_details_dtos"
   ]
  },
  {
   "cell_type": "code",
   "execution_count": 30,
   "metadata": {},
   "outputs": [
    {
     "data": {
      "text/plain": [
       "GroupCountDTO(group_by_value='FIN_PURPOSE_OF_THE_ORDER', total_groups=5)"
      ]
     },
     "execution_count": 30,
     "metadata": {},
     "output_type": "execute_result"
    }
   ],
   "source": [
    "group_count_dtos"
   ]
  },
  {
   "cell_type": "code",
   "execution_count": 31,
   "metadata": {},
   "outputs": [
    {
     "data": {
      "text/plain": [
       "[ChildGroupCountDTO(child_group_by_value='PR_PAYMENT_REQUEST_DRAFTS', total_child_groups=1),\n",
       " ChildGroupCountDTO(child_group_by_value='PR_PAYMENT_REQUEST_DRAFTS', total_child_groups=1),\n",
       " ChildGroupCountDTO(child_group_by_value='PR_NEED_CLARIFICATION', total_child_groups=1),\n",
       " ChildGroupCountDTO(child_group_by_value='PR_PAYMENT_REQUEST_DRAFTS', total_child_groups=1),\n",
       " ChildGroupCountDTO(child_group_by_value='PR_PAYMENT_REQUEST_DRAFTS', total_child_groups=1)]"
      ]
     },
     "execution_count": 31,
     "metadata": {},
     "output_type": "execute_result"
    }
   ],
   "source": [
    "child_group_count_dtos"
   ]
  },
  {
   "cell_type": "code",
   "execution_count": null,
   "metadata": {},
   "outputs": [],
   "source": []
  },
  {
   "cell_type": "code",
   "execution_count": null,
   "metadata": {},
   "outputs": [],
   "source": []
  },
  {
   "cell_type": "code",
   "execution_count": 32,
   "metadata": {},
   "outputs": [],
   "source": [
    "from ib_adhoc_tasks.interactors.get_task_ids_for_view_interactor import * "
   ]
  },
  {
   "cell_type": "code",
   "execution_count": 33,
   "metadata": {},
   "outputs": [],
   "source": [
    "from ib_adhoc_tasks.storages.elastic_storage_implementation import *\n",
    "elastic_storage = ElasticStorageImplementation() "
   ]
  },
  {
   "cell_type": "code",
   "execution_count": 34,
   "metadata": {},
   "outputs": [
    {
     "data": {
      "text/plain": [
       "<Elasticsearch([{'host': 'localhost', 'port': 9200}])>"
      ]
     },
     "execution_count": 34,
     "metadata": {},
     "output_type": "execute_result"
    }
   ],
   "source": [
    "from elasticsearch_dsl import connections\n",
    "from django.conf import settings\n",
    "connections.create_connection(hosts=[settings.ELASTICSEARCH_ENDPOINT],\n",
    "                              timeout=20)"
   ]
  },
  {
   "cell_type": "code",
   "execution_count": 35,
   "metadata": {},
   "outputs": [],
   "source": [
    "interactor = GetTaskIdsForViewInteractor(elastic_storage=elastic_storage)"
   ]
  },
  {
   "cell_type": "code",
   "execution_count": 36,
   "metadata": {},
   "outputs": [],
   "source": [
    "user_id = \"aa6e1d28-5000-46c3-bdbc-8c98fd004318\"\n",
    "project_id = \"FIN_MAN\"\n",
    "stage_ids = [\"PR_PAYMENT_REQUEST_DRAFTS\", \"PR_NEED_CLARIFICATION\", \"PR_PAYMENT_REQUEST_DRAFTS\", \"PR_PENDING_RP_APPROVAL\"]\n",
    "# group_by_dtos = []\n",
    "group_by_dtos = [\n",
    "    GroupByDTO(group_by_value=\"FIN_PURPOSE_OF_THE_ORDER\", order=1, offset=0, limit=5),\n",
    "    GroupByDTO(group_by_value=\"STAGE\", order=2, offset=0, limit=5)\n",
    "]\n",
    "adhoc_template_id = \"FIN_PR\"\n",
    "from ib_adhoc_tasks.tests.factories.interactor_dtos import \\\n",
    "            TaskOffsetAndLimitValuesDTOFactory\n",
    "task_offset_and_limit_values_dto = TaskOffsetAndLimitValuesDTOFactory()"
   ]
  },
  {
   "cell_type": "code",
   "execution_count": 37,
   "metadata": {},
   "outputs": [
    {
     "name": "stderr",
     "output_type": "stream",
     "text": [
      "[none] [ib_workflows_backend - local] INFO     [20:26:45]  [/home/ib-developer/PycharmProjects/ib-workflows-backend/venv/lib/python3.8/site-packages/elasticsearch/connection/base.py] [base.py][log_request_success] [227]: POST http://localhost:9200/task-local/_search [status:200 request:0.005s]\n"
     ]
    }
   ],
   "source": [
    "group_details_dtos, group_count_dtos, child_group_count_dtos = \\\n",
    "    interactor.get_task_ids_for_view(\n",
    "    user_id=user_id, project_id=project_id, adhoc_template_id=adhoc_template_id,\n",
    "    group_by_dtos=group_by_dtos, task_offset_and_limit_values_dto=task_offset_and_limit_values_dto\n",
    ")"
   ]
  },
  {
   "cell_type": "code",
   "execution_count": 38,
   "metadata": {},
   "outputs": [
    {
     "data": {
      "text/plain": [
       "[GroupDetailsDTO(task_ids=[19], total_tasks=1, group_by_value='need to pay debt', group_by_display_name='need to pay debt', child_group_by_value='PR_PAYMENT_REQUEST_DRAFTS', child_group_by_display_name='Payment Request Drafts'),\n",
       " GroupDetailsDTO(task_ids=[20], total_tasks=1, group_by_value='need to pay friend', group_by_display_name='need to pay friend', child_group_by_value='PR_PAYMENT_REQUEST_DRAFTS', child_group_by_display_name='Payment Request Drafts'),\n",
       " GroupDetailsDTO(task_ids=[24], total_tasks=1, group_by_value='purpose', group_by_display_name='purpose', child_group_by_value='PR_NEED_CLARIFICATION', child_group_by_display_name='Need Clarification'),\n",
       " GroupDetailsDTO(task_ids=[21], total_tasks=1, group_by_value='sfsdd', group_by_display_name='sfsdd', child_group_by_value='PR_PAYMENT_REQUEST_DRAFTS', child_group_by_display_name='Payment Request Drafts'),\n",
       " GroupDetailsDTO(task_ids=[25], total_tasks=1, group_by_value='sfsdfsd', group_by_display_name='sfsdfsd', child_group_by_value='PR_PAYMENT_REQUEST_DRAFTS', child_group_by_display_name='Payment Request Drafts')]"
      ]
     },
     "execution_count": 38,
     "metadata": {},
     "output_type": "execute_result"
    }
   ],
   "source": [
    "group_details_dtos"
   ]
  },
  {
   "cell_type": "code",
   "execution_count": 39,
   "metadata": {},
   "outputs": [
    {
     "data": {
      "text/plain": [
       "GroupCountDTO(group_by_value='FIN_PURPOSE_OF_THE_ORDER', total_groups=5)"
      ]
     },
     "execution_count": 39,
     "metadata": {},
     "output_type": "execute_result"
    }
   ],
   "source": [
    "group_count_dtos"
   ]
  },
  {
   "cell_type": "code",
   "execution_count": 40,
   "metadata": {},
   "outputs": [
    {
     "data": {
      "text/plain": [
       "[ChildGroupCountDTO(child_group_by_value='PR_PAYMENT_REQUEST_DRAFTS', total_child_groups=1),\n",
       " ChildGroupCountDTO(child_group_by_value='PR_PAYMENT_REQUEST_DRAFTS', total_child_groups=1),\n",
       " ChildGroupCountDTO(child_group_by_value='PR_NEED_CLARIFICATION', total_child_groups=1),\n",
       " ChildGroupCountDTO(child_group_by_value='PR_PAYMENT_REQUEST_DRAFTS', total_child_groups=1),\n",
       " ChildGroupCountDTO(child_group_by_value='PR_PAYMENT_REQUEST_DRAFTS', total_child_groups=1)]"
      ]
     },
     "execution_count": 40,
     "metadata": {},
     "output_type": "execute_result"
    }
   ],
   "source": [
    "child_group_count_dtos"
   ]
  },
  {
   "cell_type": "code",
   "execution_count": null,
   "metadata": {},
   "outputs": [],
   "source": []
  }
 ],
 "metadata": {
  "kernelspec": {
   "display_name": "Python 3",
   "language": "python",
   "name": "python3"
  },
  "language_info": {
   "codemirror_mode": {
    "name": "ipython",
    "version": 3
   },
   "file_extension": ".py",
   "mimetype": "text/x-python",
   "name": "python",
   "nbconvert_exporter": "python",
   "pygments_lexer": "ipython3",
   "version": "3.8.2"
  }
 },
 "nbformat": 4,
 "nbformat_minor": 4
}
