{
 "cells": [
  {
   "cell_type": "code",
   "execution_count": 1,
   "metadata": {},
   "outputs": [],
   "source": [
    "\"\"\"\n",
    "Project Sheet names For OTG\n",
    "\"\"\"\n",
    "OTG_PROJECT_SHEET_NAME = \"OTG Model Project Configuration\"\n",
    "OTG_CONFIGURATION_SHEET_NAME=\"OTG Model Configuration- Test\"\n"
   ]
  },
  {
   "cell_type": "code",
   "execution_count": 2,
   "metadata": {},
   "outputs": [],
   "source": [
    "\"\"\"\n",
    "Project Sheet names FOR FIN MAN\n",
    "\"\"\"\n",
    "FIN_MAN_PROJECT_SHEET_NAME = \"Finman Project Configuration\"\n",
    "FIN_MAN_CONFIGURATION_SHEET_NAME=\"FinMan Configuration_v4 - Test\""
   ]
  },
  {
   "cell_type": "code",
   "execution_count": 3,
   "metadata": {},
   "outputs": [],
   "source": [
    "import django"
   ]
  },
  {
   "cell_type": "code",
   "execution_count": 4,
   "metadata": {},
   "outputs": [],
   "source": [
    "django.setup()"
   ]
  },
  {
   "cell_type": "code",
   "execution_count": 5,
   "metadata": {},
   "outputs": [],
   "source": [
    "\"\"\"\n",
    "Import the projects populate method from ib_iam app\n",
    "\"\"\"\n",
    "from ib_iam.populate.populate_utils import populate_projects\n"
   ]
  },
  {
   "cell_type": "code",
   "execution_count": null,
   "metadata": {},
   "outputs": [],
   "source": [
    "\"\"\"\n",
    "Populate the FIN  MAN project\n",
    "\"\"\"\n",
    "populate_projects(spread_sheet_name=FIN_MAN_PROJECT_SHEET_NAME)"
   ]
  },
  {
   "cell_type": "code",
   "execution_count": null,
   "metadata": {},
   "outputs": [],
   "source": [
    "\"\"\"\n",
    "Populate the OTG project\n",
    "\"\"\"\n",
    "populate_projects(spread_sheet_name=OTG_PROJECT_SHEET_NAME)"
   ]
  },
  {
   "cell_type": "code",
   "execution_count": null,
   "metadata": {},
   "outputs": [],
   "source": [
    "\"\"\"\n",
    "Populate Ib Task Related Data\n",
    "\"\"\"\n",
    "from ib_tasks.populate.population_utils import populate_data\n",
    "populate_data(FIN_MAN_PROJECT_SHEET_NAME)"
   ]
  },
  {
   "cell_type": "code",
   "execution_count": null,
   "metadata": {},
   "outputs": [],
   "source": [
    "from ib_tasks.populate.population_utils import populate_projects_for_task_templates\n",
    "populate_projects_for_task_templates(FIN_MAN_CONFIGURATION_SHEET_NAME)"
   ]
  },
  {
   "cell_type": "code",
   "execution_count": null,
   "metadata": {},
   "outputs": [],
   "source": [
    "from ib_boards.populate.get_data_from_sheet_for_boards_and_columns import GetBoardsAndColumnsDataFromSheet\n",
    "\n",
    "\n",
    "loader = GetBoardsAndColumnsDataFromSheet()\n",
    "loader.get_data_from_sheet(FIN_MAN_CONFIGURATION_SHEET_NAME)\n",
    "loader.create_boards_and_columns(FIN_MAN_CONFIGURATION_SHEET_NAME)\n"
   ]
  },
  {
   "cell_type": "code",
   "execution_count": null,
   "metadata": {},
   "outputs": [],
   "source": [
    "from ib_boards.populate.get_data_from_sheet_for_project_boards import GetSheetDataForProjectBoards\n",
    "\n",
    "\n",
    "loader = GetSheetDataForProjectBoards()\n",
    "loader.get_data_from_project_boards_sub_sheet(FIN_MAN_PROJECT_SHEET_NAME)"
   ]
  },
  {
   "cell_type": "code",
   "execution_count": null,
   "metadata": {},
   "outputs": [],
   "source": [
    "from ib_tasks.populate.write_stage_actions import writing_data_to_stage_actions_logic\n",
    "writing_data_to_stage_actions_logic()"
   ]
  },
  {
   "cell_type": "code",
   "execution_count": 6,
   "metadata": {},
   "outputs": [
    {
     "name": "stderr",
     "output_type": "stream",
     "text": [
      "[none] [ib_workflows_backend - local] INFO     [15:33:17]  [/home/ib_developer/workspace/new_project/ib-workflows-backend/env1/lib/python3.7/site-packages/elasticsearch/connection/base.py] [base.py][log_request_success] [228]: POST http://localhost:9200/user-local/_doc [status:201 request:0.008s]\n",
      "[none] [ib_workflows_backend - local] INFO     [15:33:17]  [/home/ib_developer/workspace/new_project/ib-workflows-backend/env1/lib/python3.7/site-packages/elasticsearch/connection/base.py] [base.py][log_request_success] [228]: POST http://localhost:9200/user-local/_doc [status:201 request:0.007s]\n",
      "[none] [ib_workflows_backend - local] INFO     [15:33:17]  [/home/ib_developer/workspace/new_project/ib-workflows-backend/env1/lib/python3.7/site-packages/elasticsearch/connection/base.py] [base.py][log_request_success] [228]: POST http://localhost:9200/user-local/_doc [status:201 request:0.006s]\n",
      "[none] [ib_workflows_backend - local] INFO     [15:33:17]  [/home/ib_developer/workspace/new_project/ib-workflows-backend/env1/lib/python3.7/site-packages/elasticsearch/connection/base.py] [base.py][log_request_success] [228]: POST http://localhost:9200/user-local/_doc [status:201 request:0.006s]\n",
      "[none] [ib_workflows_backend - local] INFO     [15:33:17]  [/home/ib_developer/workspace/new_project/ib-workflows-backend/env1/lib/python3.7/site-packages/elasticsearch/connection/base.py] [base.py][log_request_success] [228]: POST http://localhost:9200/user-local/_doc [status:201 request:0.007s]\n",
      "[none] [ib_workflows_backend - local] INFO     [15:33:17]  [/home/ib_developer/workspace/new_project/ib-workflows-backend/env1/lib/python3.7/site-packages/elasticsearch/connection/base.py] [base.py][log_request_success] [228]: POST http://localhost:9200/user-local/_doc [status:201 request:0.006s]\n",
      "[none] [ib_workflows_backend - local] INFO     [15:33:17]  [/home/ib_developer/workspace/new_project/ib-workflows-backend/env1/lib/python3.7/site-packages/elasticsearch/connection/base.py] [base.py][log_request_success] [228]: POST http://localhost:9200/user-local/_doc [status:201 request:0.006s]\n",
      "[none] [ib_workflows_backend - local] INFO     [15:33:17]  [/home/ib_developer/workspace/new_project/ib-workflows-backend/env1/lib/python3.7/site-packages/elasticsearch/connection/base.py] [base.py][log_request_success] [228]: POST http://localhost:9200/user-local/_doc [status:201 request:0.006s]\n",
      "[none] [ib_workflows_backend - local] INFO     [15:33:17]  [/home/ib_developer/workspace/new_project/ib-workflows-backend/env1/lib/python3.7/site-packages/elasticsearch/connection/base.py] [base.py][log_request_success] [228]: POST http://localhost:9200/user-local/_doc [status:201 request:0.006s]\n",
      "[none] [ib_workflows_backend - local] INFO     [15:33:18]  [/home/ib_developer/workspace/new_project/ib-workflows-backend/env1/lib/python3.7/site-packages/elasticsearch/connection/base.py] [base.py][log_request_success] [228]: POST http://localhost:9200/user-local/_doc [status:201 request:0.007s]\n",
      "[none] [ib_workflows_backend - local] INFO     [15:33:18]  [/home/ib_developer/workspace/new_project/ib-workflows-backend/env1/lib/python3.7/site-packages/elasticsearch/connection/base.py] [base.py][log_request_success] [228]: POST http://localhost:9200/user-local/_doc [status:201 request:0.006s]\n",
      "[none] [ib_workflows_backend - local] INFO     [15:33:18]  [/home/ib_developer/workspace/new_project/ib-workflows-backend/env1/lib/python3.7/site-packages/elasticsearch/connection/base.py] [base.py][log_request_success] [228]: POST http://localhost:9200/user-local/_doc [status:201 request:0.006s]\n"
     ]
    },
    {
     "name": "stdout",
     "output_type": "stream",
     "text": [
      "[UUID('bce59e72-25ab-4487-899c-d3b01f2dcfd2'), UUID('6d2becad-d986-48a1-8c3a-78142bd6fbeb'), UUID('75d30b51-e61a-4dfe-9218-cc0ed27fd5e7')]\n",
      "[UUID('7fb1ac1a-6463-48b5-8987-92b0484073f5'), UUID('1f1848da-8f54-42d7-acae-968eeebe31ba')]\n",
      "[UUID('7b3f4419-a6d7-497b-8d7b-69021b7c38ff'), UUID('ffbaab60-8132-48e3-bcdd-60867398a68f')]\n",
      "[UUID('d3511e81-c083-46b1-9667-d3b116733c0b'), UUID('a86e2867-4420-4e39-8d74-e8bd7f077512'), UUID('6e951270-3543-46ae-83d5-cfd42c59c994')]\n",
      "[UUID('75d30b51-e61a-4dfe-9218-cc0ed27fd5e7')]\n",
      "[UUID('7fb1ac1a-6463-48b5-8987-92b0484073f5'), UUID('1f1848da-8f54-42d7-acae-968eeebe31ba')]\n",
      "{'immediate_superior_user_id': '75d30b51-e61a-4dfe-9218-cc0ed27fd5e7', 'member_ids': ['7fb1ac1a-6463-48b5-8987-92b0484073f5', '1f1848da-8f54-42d7-acae-968eeebe31ba']}\n",
      "TeamUser object (9) super user \n",
      "c1fc4b4d-4088-4622-b4f6-57fc86789312 2 ['7fb1ac1a-6463-48b5-8987-92b0484073f5', '1f1848da-8f54-42d7-acae-968eeebe31ba'] input data\n",
      "<QuerySet [{'id': 14, 'user_id': '1f1848da-8f54-42d7-acae-968eeebe31ba', 'team_member_level_id': UUID('10c8ae70-036a-47e7-8721-7ff21bfa6882'), 'immediate_superior_team_user_id': 9, 'team_id': UUID('c1fc4b4d-4088-4622-b4f6-57fc86789312')}, {'id': 17, 'user_id': '7fb1ac1a-6463-48b5-8987-92b0484073f5', 'team_member_level_id': UUID('10c8ae70-036a-47e7-8721-7ff21bfa6882'), 'immediate_superior_team_user_id': 9, 'team_id': UUID('c1fc4b4d-4088-4622-b4f6-57fc86789312')}]> hole data\n",
      "<QuerySet [{'id': 14, 'user_id': '1f1848da-8f54-42d7-acae-968eeebe31ba', 'team_member_level_id': UUID('10c8ae70-036a-47e7-8721-7ff21bfa6882'), 'immediate_superior_team_user_id': 9, 'team_id': UUID('c1fc4b4d-4088-4622-b4f6-57fc86789312')}, {'id': 17, 'user_id': '7fb1ac1a-6463-48b5-8987-92b0484073f5', 'team_member_level_id': UUID('10c8ae70-036a-47e7-8721-7ff21bfa6882'), 'immediate_superior_team_user_id': 9, 'team_id': UUID('c1fc4b4d-4088-4622-b4f6-57fc86789312')}]>\n",
      "[UUID('1f1848da-8f54-42d7-acae-968eeebe31ba')]\n",
      "[UUID('7b3f4419-a6d7-497b-8d7b-69021b7c38ff')]\n",
      "{'immediate_superior_user_id': '1f1848da-8f54-42d7-acae-968eeebe31ba', 'member_ids': ['7b3f4419-a6d7-497b-8d7b-69021b7c38ff']}\n",
      "TeamUser object (14) super user \n",
      "c1fc4b4d-4088-4622-b4f6-57fc86789312 1 ['7b3f4419-a6d7-497b-8d7b-69021b7c38ff'] input data\n",
      "<QuerySet [{'id': 19, 'user_id': '7b3f4419-a6d7-497b-8d7b-69021b7c38ff', 'team_member_level_id': UUID('46cc0553-ed85-4c7e-954d-55ff4a53626f'), 'immediate_superior_team_user_id': 14, 'team_id': UUID('c1fc4b4d-4088-4622-b4f6-57fc86789312')}]> hole data\n",
      "<QuerySet [{'id': 19, 'user_id': '7b3f4419-a6d7-497b-8d7b-69021b7c38ff', 'team_member_level_id': UUID('46cc0553-ed85-4c7e-954d-55ff4a53626f'), 'immediate_superior_team_user_id': 14, 'team_id': UUID('c1fc4b4d-4088-4622-b4f6-57fc86789312')}, {'id': 20, 'user_id': 'ffbaab60-8132-48e3-bcdd-60867398a68f', 'team_member_level_id': UUID('46cc0553-ed85-4c7e-954d-55ff4a53626f'), 'immediate_superior_team_user_id': None, 'team_id': UUID('c1fc4b4d-4088-4622-b4f6-57fc86789312')}]>\n",
      "[UUID('7fb1ac1a-6463-48b5-8987-92b0484073f5')]\n",
      "[UUID('ffbaab60-8132-48e3-bcdd-60867398a68f')]\n",
      "{'immediate_superior_user_id': '7fb1ac1a-6463-48b5-8987-92b0484073f5', 'member_ids': ['ffbaab60-8132-48e3-bcdd-60867398a68f']}\n",
      "TeamUser object (17) super user \n",
      "c1fc4b4d-4088-4622-b4f6-57fc86789312 1 ['ffbaab60-8132-48e3-bcdd-60867398a68f'] input data\n",
      "<QuerySet [{'id': 20, 'user_id': 'ffbaab60-8132-48e3-bcdd-60867398a68f', 'team_member_level_id': UUID('46cc0553-ed85-4c7e-954d-55ff4a53626f'), 'immediate_superior_team_user_id': 17, 'team_id': UUID('c1fc4b4d-4088-4622-b4f6-57fc86789312')}]> hole data\n",
      "<QuerySet [{'id': 19, 'user_id': '7b3f4419-a6d7-497b-8d7b-69021b7c38ff', 'team_member_level_id': UUID('46cc0553-ed85-4c7e-954d-55ff4a53626f'), 'immediate_superior_team_user_id': 14, 'team_id': UUID('c1fc4b4d-4088-4622-b4f6-57fc86789312')}, {'id': 20, 'user_id': 'ffbaab60-8132-48e3-bcdd-60867398a68f', 'team_member_level_id': UUID('46cc0553-ed85-4c7e-954d-55ff4a53626f'), 'immediate_superior_team_user_id': 17, 'team_id': UUID('c1fc4b4d-4088-4622-b4f6-57fc86789312')}]>\n",
      "[UUID('ffbaab60-8132-48e3-bcdd-60867398a68f')]\n",
      "[UUID('d3511e81-c083-46b1-9667-d3b116733c0b'), UUID('6e951270-3543-46ae-83d5-cfd42c59c994')]\n",
      "{'immediate_superior_user_id': 'ffbaab60-8132-48e3-bcdd-60867398a68f', 'member_ids': ['d3511e81-c083-46b1-9667-d3b116733c0b', '6e951270-3543-46ae-83d5-cfd42c59c994']}\n",
      "TeamUser object (20) super user \n",
      "c1fc4b4d-4088-4622-b4f6-57fc86789312 0 ['d3511e81-c083-46b1-9667-d3b116733c0b', '6e951270-3543-46ae-83d5-cfd42c59c994'] input data\n",
      "<QuerySet [{'id': 22, 'user_id': '6e951270-3543-46ae-83d5-cfd42c59c994', 'team_member_level_id': UUID('63b049b3-8892-458f-9c56-055e7ed8c826'), 'immediate_superior_team_user_id': 20, 'team_id': UUID('c1fc4b4d-4088-4622-b4f6-57fc86789312')}, {'id': 21, 'user_id': 'd3511e81-c083-46b1-9667-d3b116733c0b', 'team_member_level_id': UUID('63b049b3-8892-458f-9c56-055e7ed8c826'), 'immediate_superior_team_user_id': 20, 'team_id': UUID('c1fc4b4d-4088-4622-b4f6-57fc86789312')}]> hole data\n",
      "<QuerySet [{'id': 21, 'user_id': 'd3511e81-c083-46b1-9667-d3b116733c0b', 'team_member_level_id': UUID('63b049b3-8892-458f-9c56-055e7ed8c826'), 'immediate_superior_team_user_id': 20, 'team_id': UUID('c1fc4b4d-4088-4622-b4f6-57fc86789312')}, {'id': 22, 'user_id': '6e951270-3543-46ae-83d5-cfd42c59c994', 'team_member_level_id': UUID('63b049b3-8892-458f-9c56-055e7ed8c826'), 'immediate_superior_team_user_id': 20, 'team_id': UUID('c1fc4b4d-4088-4622-b4f6-57fc86789312')}, {'id': 23, 'user_id': 'a86e2867-4420-4e39-8d74-e8bd7f077512', 'team_member_level_id': UUID('63b049b3-8892-458f-9c56-055e7ed8c826'), 'immediate_superior_team_user_id': None, 'team_id': UUID('c1fc4b4d-4088-4622-b4f6-57fc86789312')}]>\n",
      "[UUID('7b3f4419-a6d7-497b-8d7b-69021b7c38ff')]\n",
      "[UUID('a86e2867-4420-4e39-8d74-e8bd7f077512')]\n",
      "{'immediate_superior_user_id': '7b3f4419-a6d7-497b-8d7b-69021b7c38ff', 'member_ids': ['a86e2867-4420-4e39-8d74-e8bd7f077512']}\n",
      "TeamUser object (19) super user \n",
      "c1fc4b4d-4088-4622-b4f6-57fc86789312 0 ['a86e2867-4420-4e39-8d74-e8bd7f077512'] input data\n",
      "<QuerySet [{'id': 23, 'user_id': 'a86e2867-4420-4e39-8d74-e8bd7f077512', 'team_member_level_id': UUID('63b049b3-8892-458f-9c56-055e7ed8c826'), 'immediate_superior_team_user_id': 19, 'team_id': UUID('c1fc4b4d-4088-4622-b4f6-57fc86789312')}]> hole data\n",
      "<QuerySet [{'id': 21, 'user_id': 'd3511e81-c083-46b1-9667-d3b116733c0b', 'team_member_level_id': UUID('63b049b3-8892-458f-9c56-055e7ed8c826'), 'immediate_superior_team_user_id': 20, 'team_id': UUID('c1fc4b4d-4088-4622-b4f6-57fc86789312')}, {'id': 22, 'user_id': '6e951270-3543-46ae-83d5-cfd42c59c994', 'team_member_level_id': UUID('63b049b3-8892-458f-9c56-055e7ed8c826'), 'immediate_superior_team_user_id': 20, 'team_id': UUID('c1fc4b4d-4088-4622-b4f6-57fc86789312')}, {'id': 23, 'user_id': 'a86e2867-4420-4e39-8d74-e8bd7f077512', 'team_member_level_id': UUID('63b049b3-8892-458f-9c56-055e7ed8c826'), 'immediate_superior_team_user_id': 19, 'team_id': UUID('c1fc4b4d-4088-4622-b4f6-57fc86789312')}]>\n"
     ]
    },
    {
     "data": {
      "text/plain": [
       "<UserAccount: 207ad796-5ab0-4670-952f-4c4779584f4a>"
      ]
     },
     "execution_count": 6,
     "metadata": {},
     "output_type": "execute_result"
    }
   ],
   "source": [
    "\"\"\"\n",
    "Populate Ib IAM Related Data\n",
    "\n",
    "Note:- While Running the this below script need to Run the ELASTIC SEARCH SERVER\n",
    "\"\"\"\n",
    "from ib_iam.populate.populate_utils import populate\n",
    "populate(FIN_MAN_CONFIGURATION_SHEET_NAME)\n",
    "\n",
    "from ib_users.models import *\n",
    "UserAccount.objects.create_superuser(username='admin', password='admin@123', email='admin@example.com')\n",
    "UserAccount.objects.create_superuser(username='fduser', password='fduser@123', email='fduser@example.com')"
   ]
  },
  {
   "cell_type": "code",
   "execution_count": null,
   "metadata": {},
   "outputs": [],
   "source": [
    "from ib_iam.populate.populate_elastic_search_data import populate_data\n",
    "populate_data()"
   ]
  },
  {
   "cell_type": "code",
   "execution_count": null,
   "metadata": {},
   "outputs": [],
   "source": []
  }
 ],
 "metadata": {
  "kernelspec": {
   "display_name": "Python 3",
   "language": "python",
   "name": "python3"
  },
  "language_info": {
   "codemirror_mode": {
    "name": "ipython",
    "version": 3
   },
   "file_extension": ".py",
   "mimetype": "text/x-python",
   "name": "python",
   "nbconvert_exporter": "python",
   "pygments_lexer": "ipython3",
   "version": "3.7.7"
  }
 },
 "nbformat": 4,
 "nbformat_minor": 4
}
