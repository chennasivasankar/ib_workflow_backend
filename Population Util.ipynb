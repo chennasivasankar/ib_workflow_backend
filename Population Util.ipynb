{
 "cells": [
  {
   "cell_type": "code",
   "execution_count": 2,
   "metadata": {},
   "outputs": [],
   "source": [
    "import django"
   ]
  },
  {
   "cell_type": "code",
   "execution_count": 3,
   "metadata": {},
   "outputs": [
    {
     "name": "stdout",
     "output_type": "stream",
     "text": [
      "No module named 's3_uploader.conf'\n"
     ]
    }
   ],
   "source": [
    "django.setup()"
   ]
  },
  {
   "cell_type": "code",
   "execution_count": 3,
   "metadata": {},
   "outputs": [],
   "source": [
    "from ib_tasks.populate.population_utils import populate_data"
   ]
  },
  {
   "cell_type": "code",
   "execution_count": 4,
   "metadata": {},
   "outputs": [],
   "source": [
    "populate_data()"
   ]
  },
  {
   "cell_type": "code",
   "execution_count": 5,
   "metadata": {},
   "outputs": [
    {
     "name": "stdout",
     "output_type": "stream",
     "text": [
      "[BoardDTO(board_id='FINB_VENDOR_REGISTRATION', name='Added by Me'), BoardDTO(board_id='FINB_VENDOR_APPROVAL', name='RP Approval'), BoardDTO(board_id='FINB_PV5_VENDOR_VERIFICATION', name='P5 Approval'), BoardDTO(board_id='FINB_PV4_VENDOR_VERIFICATION', name='P4 Approval'), BoardDTO(board_id='FINB_AV4_VENDOR_VERIFICATION', name='A5 Approval')] [ColumnDTO(column_id='FINC_COLUMN_DRAFTS', name='Drafts', display_order=1, task_template_stages=[TaskTemplateStagesDTO(task_template_id='FIN_VENDOR', stages=['VENDOR_DRAFTS'])], user_role_ids=['FIN_PAYMENT_REQUESTER'], column_summary='ColumnSummary1', column_actions='ColumnSummary3', list_view_fields=[TaskSummaryFieldsDTO(task_id='ravi', summary_fields='ravi')], kanban_view_fields=[TaskSummaryFieldsDTO(task_id='ravi', summary_fields='ravi')], board_id='FINB_VENDOR_REGISTRATION'), ColumnDTO(column_id='FINC_PENDING_RP_APPROVAL', name='RP Approval', display_order=2, task_template_stages=[TaskTemplateStagesDTO(task_template_id='FIN_VENDOR', stages=['VENDOR_PENDING_RP_APPROVAL'])], user_role_ids=['FIN_PAYMENT_REQUESTER'], column_summary='ColumnSummary1', column_actions='ColumnSummary3', list_view_fields=[TaskSummaryFieldsDTO(task_id='ravi', summary_fields='ravi')], kanban_view_fields=[TaskSummaryFieldsDTO(task_id='ravi', summary_fields='ravi')], board_id='FINB_VENDOR_REGISTRATION'), ColumnDTO(column_id='FINC_VENDORS_PENDING_FINACC_APPROVAL', name='Verification Pending', display_order=3, task_template_stages=[TaskTemplateStagesDTO(task_template_id='FIN_VENDOR', stages=['VENDOR_PENDING_PAYMENTS_LEVEL5_VERIFICATION', 'VENDOR_PENDING_PAYMENTS_LEVEL4_VERIFICATION', 'VENDOR_PENDING ACCOUNTS_LEVEL5_VERIFICATION'])], user_role_ids=['FIN_PAYMENT_REQUESTER'], column_summary='ColumnSummary1', column_actions='ColumnSummary3', list_view_fields=[TaskSummaryFieldsDTO(task_id='ravi', summary_fields='ravi')], kanban_view_fields=[TaskSummaryFieldsDTO(task_id='ravi', summary_fields='ravi')], board_id='FINB_VENDOR_REGISTRATION'), ColumnDTO(column_id='FINC_VENDORS_APPROVED', name='Approved', display_order=4, task_template_stages=[TaskTemplateStagesDTO(task_template_id='FIN_VENDOR', stages=['VENDOR_VERIFICATION_COMPLETED'])], user_role_ids=['FIN_PAYMENT_REQUESTER'], column_summary='ColumnSummary1', column_actions='ColumnSummary3', list_view_fields=[TaskSummaryFieldsDTO(task_id='ravi', summary_fields='ravi')], kanban_view_fields=[TaskSummaryFieldsDTO(task_id='ravi', summary_fields='ravi')], board_id='FINB_VENDOR_REGISTRATION'), ColumnDTO(column_id='FINC_VENDORS_REJECTED', name='Rejected', display_order=5, task_template_stages=[TaskTemplateStagesDTO(task_template_id='FIN_VENDOR', stages=['VENDOR_REJECTED'])], user_role_ids=['FIN_PAYMENT_REQUESTER'], column_summary='ColumnSummary1', column_actions='ColumnSummary3', list_view_fields=[TaskSummaryFieldsDTO(task_id='ravi', summary_fields='ravi')], kanban_view_fields=[TaskSummaryFieldsDTO(task_id='ravi', summary_fields='ravi')], board_id='FINB_VENDOR_REGISTRATION'), ColumnDTO(column_id='FINC_VENDORS_WAITING_FOR_APPROVAL', name='RP Approval', display_order=1, task_template_stages=[TaskTemplateStagesDTO(task_template_id='FIN_VENDOR', stages=['VENDOR_PENDING_RP_APPROVAL'])], user_role_ids=['FIN_PAYMENT_APPROVER'], column_summary='ColumnSummary1', column_actions='ColumnSummary3', list_view_fields=[TaskSummaryFieldsDTO(task_id='ravi', summary_fields='ravi')], kanban_view_fields=[TaskSummaryFieldsDTO(task_id='ravi', summary_fields='ravi')], board_id='FINB_VENDOR_APPROVAL'), ColumnDTO(column_id='FINC_VENDORS_WAITING_FOR_FINANCE_TEAM_VERIFICATION', name='Verification Pending', display_order=2, task_template_stages=[TaskTemplateStagesDTO(task_template_id='FIN_VENDOR', stages=['VENDOR_PENDING_PAYMENTS_LEVEL5_VERIFICATION', 'VENDOR_PENDING_PAYMENTS_LEVEL4_VERIFICATION', 'VENDOR_PENDING_ACCOUNTS_LEVEL5_VERIFICATION'])], user_role_ids=['FIN_PAYMENT_APPROVER'], column_summary='ColumnSummary1', column_actions='ColumnSummary3', list_view_fields=[TaskSummaryFieldsDTO(task_id='ravi', summary_fields='ravi')], kanban_view_fields=[TaskSummaryFieldsDTO(task_id='ravi', summary_fields='ravi')], board_id='FINB_VENDOR_APPROVAL'), ColumnDTO(column_id='FINC_PA_VENDORS_APPROVED', name='Approved', display_order=3, task_template_stages=[TaskTemplateStagesDTO(task_template_id='FIN_VENDOR', stages=['VENDOR_VERIFICATION_COMPLETED'])], user_role_ids=['FIN_PAYMENT_APPROVER'], column_summary='ColumnSummary1', column_actions='ColumnSummary3', list_view_fields=[TaskSummaryFieldsDTO(task_id='ravi', summary_fields='ravi')], kanban_view_fields=[TaskSummaryFieldsDTO(task_id='ravi', summary_fields='ravi')], board_id='FINB_VENDOR_APPROVAL'), ColumnDTO(column_id='FINC_PA_VENDORS_REJECTED', name='Rejected', display_order=4, task_template_stages=[TaskTemplateStagesDTO(task_template_id='FIN_VENDOR', stages=['VENDOR_REJECTED'])], user_role_ids=['FIN_PAYMENT_APPROVER'], column_summary='ColumnSummary1', column_actions='ColumnSummary3', list_view_fields=[TaskSummaryFieldsDTO(task_id='ravi', summary_fields='ravi')], kanban_view_fields=[TaskSummaryFieldsDTO(task_id='ravi', summary_fields='ravi')], board_id='FINB_VENDOR_APPROVAL'), ColumnDTO(column_id='FINC_VENDORS_PAYMENTS_LEVEL5_VERIFICATION', name='P5 Approval', display_order=1, task_template_stages=[TaskTemplateStagesDTO(task_template_id='FIN_VENDOR', stages=['VENDOR_PENDING_PAYMENTS_LEVEL5_VERIFICATION'])], user_role_ids=['FIN_FINANCE_RP'], column_summary='ColumnSummary1', column_actions='ColumnSummary3', list_view_fields=[TaskSummaryFieldsDTO(task_id='ravi', summary_fields='ravi')], kanban_view_fields=[TaskSummaryFieldsDTO(task_id='ravi', summary_fields='ravi')], board_id='FINB_PV5_VENDOR_VERIFICATION'), ColumnDTO(column_id='FINC_VENDORS_PAYMENTS_LEVEL5_VERIFICATION_COMPLETED', name='P5 Approved', display_order=2, task_template_stages=[TaskTemplateStagesDTO(task_template_id='FIN_VENDOR', stages=['VENDOR_PAYMENTS_LEVEL5_VERIFICATION_COMPLETED'])], user_role_ids=['FIN_FINANCE_RP'], column_summary='ColumnSummary1', column_actions='ColumnSummary3', list_view_fields=[TaskSummaryFieldsDTO(task_id='ravi', summary_fields='ravi')], kanban_view_fields=[TaskSummaryFieldsDTO(task_id='ravi', summary_fields='ravi')], board_id='FINB_PV5_VENDOR_VERIFICATION'), ColumnDTO(column_id='FINC_PV5_VENDORS_APPROVED', name='Approved', display_order=3, task_template_stages=[TaskTemplateStagesDTO(task_template_id='FIN_VENDOR', stages=['VENDOR_VERIFICATION_COMPLETED'])], user_role_ids=['FIN_FINANCE_RP'], column_summary='ColumnSummary1', column_actions='ColumnSummary3', list_view_fields=[TaskSummaryFieldsDTO(task_id='ravi', summary_fields='ravi')], kanban_view_fields=[TaskSummaryFieldsDTO(task_id='ravi', summary_fields='ravi')], board_id='FINB_PV5_VENDOR_VERIFICATION'), ColumnDTO(column_id='FINC_VENDORS_PAYMENTS_LEVEL4_VERIFICATION', name='P4 Approval', display_order=1, task_template_stages=[TaskTemplateStagesDTO(task_template_id='FIN_VENDOR', stages=['VENDOR_PENDING_PAYMENTS_LEVEL4_VERIFICATION'])], user_role_ids=['FIN_PAYMENTS_RP'], column_summary='ColumnSummary1', column_actions='ColumnSummary3', list_view_fields=[TaskSummaryFieldsDTO(task_id='ravi', summary_fields='ravi')], kanban_view_fields=[TaskSummaryFieldsDTO(task_id='ravi', summary_fields='ravi')], board_id='FINB_PV4_VENDOR_VERIFICATION'), ColumnDTO(column_id='FINC_VENDORS_PAYMENTS_LEVEL4_VERIFICATION_COMPLETED', name='P4 Approved', display_order=2, task_template_stages=[TaskTemplateStagesDTO(task_template_id='FIN_VENDOR', stages=['VENDOR_PAYMENTS_LEVEL4_VERIFICATION_COMPLETED'])], user_role_ids=['FIN_PAYMENTS_RP'], column_summary='ColumnSummary1', column_actions='ColumnSummary3', list_view_fields=[TaskSummaryFieldsDTO(task_id='ravi', summary_fields='ravi')], kanban_view_fields=[TaskSummaryFieldsDTO(task_id='ravi', summary_fields='ravi')], board_id='FINB_PV4_VENDOR_VERIFICATION'), ColumnDTO(column_id='FINC_PV4_VENDORS_APPROVED', name='Approved', display_order=3, task_template_stages=[TaskTemplateStagesDTO(task_template_id='FIN_VENDOR', stages=['VENDOR_VERIFICATION_COMPLETED'])], user_role_ids=['FIN_PAYMENTS_RP'], column_summary='ColumnSummary1', column_actions='ColumnSummary3', list_view_fields=[TaskSummaryFieldsDTO(task_id='ravi', summary_fields='ravi')], kanban_view_fields=[TaskSummaryFieldsDTO(task_id='ravi', summary_fields='ravi')], board_id='FINB_PV4_VENDOR_VERIFICATION'), ColumnDTO(column_id='FINC_VENDORS_ACCOUNTS_LEVEL5_VERIFICATION', name='A5 Approval', display_order=1, task_template_stages=[TaskTemplateStagesDTO(task_template_id='FIN_VENDOR', stages=['VENDOR_PENDING_ACCOUNTS_LEVEL5_VERIFICATION'])], user_role_ids=['FIN_ACCOUNTS_LEVEL5_VERIFIER'], column_summary='ColumnSummary1', column_actions='ColumnSummary3', list_view_fields=[TaskSummaryFieldsDTO(task_id='ravi', summary_fields='ravi')], kanban_view_fields=[TaskSummaryFieldsDTO(task_id='ravi', summary_fields='ravi')], board_id='FINB_AV4_VENDOR_VERIFICATION'), ColumnDTO(column_id='FINC_VENDORS_ACCOUNTS_LEVEL5_VERIFICATION_COMPLETED', name='A5 Approved', display_order=2, task_template_stages=[TaskTemplateStagesDTO(task_template_id='FIN_VENDOR', stages=['VENDOR_ACCOUNTS_LEVEL5_VERIFICATION_COMPLETED'])], user_role_ids=['FIN_ACCOUNTS_LEVEL5_VERIFIER'], column_summary='ColumnSummary1', column_actions='ColumnSummary3', list_view_fields=[TaskSummaryFieldsDTO(task_id='ravi', summary_fields='ravi')], kanban_view_fields=[TaskSummaryFieldsDTO(task_id='ravi', summary_fields='ravi')], board_id='FINB_AV4_VENDOR_VERIFICATION'), ColumnDTO(column_id='FINC_AV5_VENDORS_APPROVED', name='Approved', display_order=3, task_template_stages=[TaskTemplateStagesDTO(task_template_id='FIN_VENDOR', stages=['VENDOR_VERIFICATION_COMPLETED'])], user_role_ids=['FIN_ACCOUNTS_LEVEL5_VERIFIER'], column_summary='ColumnSummary1', column_actions='ColumnSummary3', list_view_fields=[TaskSummaryFieldsDTO(task_id='ravi', summary_fields='ravi')], kanban_view_fields=[TaskSummaryFieldsDTO(task_id='ravi', summary_fields='ravi')], board_id='FINB_AV4_VENDOR_VERIFICATION')]\n"
     ]
    }
   ],
   "source": [
    "from ib_boards.populate.get_data_from_sheet_for_boards_and_columns import GetBoardsAndColumnsDataFromSheet\n",
    "\n",
    "\n",
    "loader = GetBoardsAndColumnsDataFromSheet()\n",
    "loader.get_data_from_sheet()\n",
    "loader.create_boards_and_columns()\n"
   ]
  },
  {
   "cell_type": "code",
   "execution_count": 6,
   "metadata": {},
   "outputs": [],
   "source": [
    "from ib_users.models import *"
   ]
  },
  {
   "cell_type": "code",
   "execution_count": 7,
   "metadata": {},
   "outputs": [
    {
     "data": {
      "text/plain": [
       "<UserAccount: e5b6294e-af79-46e2-98e5-f5625e8464d0>"
      ]
     },
     "execution_count": 7,
     "metadata": {},
     "output_type": "execute_result"
    }
   ],
   "source": [
    "UserAccount.objects.create_superuser(username='admin', password='admin@123', email='admin@example.com')\n",
    "UserAccount.objects.create_superuser(username='fduser', password='fduser@123', email='fduser@example.com')"
   ]
  },
  {
   "cell_type": "code",
   "execution_count": 8,
   "metadata": {},
   "outputs": [],
   "source": [
    "# user = UserAccount.objects.get(email=\"ibadmin@ibhubs.co\")"
   ]
  },
  {
   "cell_type": "code",
   "execution_count": 9,
   "metadata": {},
   "outputs": [],
   "source": [
    "# from ib_iam.models import *"
   ]
  },
  {
   "cell_type": "code",
   "execution_count": 10,
   "metadata": {},
   "outputs": [],
   "source": [
    "# for role in Role.objects.all():\n",
    "#     UserRole.objects.get_or_create(user_id=user.user_id, role=role)"
   ]
  },
  {
   "cell_type": "code",
   "execution_count": 11,
   "metadata": {},
   "outputs": [],
   "source": [
    "# from ib_tasks.populate.populate_elastic_serach_data import populate_data\n",
    "\n",
    "# populate_data()"
   ]
  },
  {
   "cell_type": "code",
   "execution_count": null,
   "metadata": {},
   "outputs": [],
   "source": [
    "\"\"\"\n",
    "Populate IAM Data For Integration Testing\n",
    "\n",
    "Populate Admin Users and Normal Users\n",
    "Load the Roles Related Data\n",
    "Populate Team\n",
    "Populate Companies\n",
    "\"\"\""
   ]
  },
  {
   "cell_type": "code",
   "execution_count": null,
   "metadata": {},
   "outputs": [],
   "source": [
    "from ib_iam.populate.populate_utils import populate\n",
    "populate()"
   ]
  },
  {
   "cell_type": "code",
   "execution_count": 5,
   "metadata": {},
   "outputs": [],
   "source": [
    "from ib_tasks.populate.write_stage_actions import writing_data_to_stage_actions_logic"
   ]
  },
  {
   "cell_type": "code",
   "execution_count": 6,
   "metadata": {},
   "outputs": [],
   "source": [
    "writing_data_to_stage_actions_logic()"
   ]
  },
  {
   "cell_type": "code",
   "execution_count": null,
   "metadata": {},
   "outputs": [],
   "source": []
  }
 ],
 "metadata": {
  "kernelspec": {
   "display_name": "Python 3",
   "language": "python",
   "name": "python3"
  },
  "language_info": {
   "codemirror_mode": {
    "name": "ipython",
    "version": 3
   },
   "file_extension": ".py",
   "mimetype": "text/x-python",
   "name": "python",
   "nbconvert_exporter": "python",
   "pygments_lexer": "ipython3",
   "version": "3.8.2"
  }
 },
 "nbformat": 4,
 "nbformat_minor": 4
}
