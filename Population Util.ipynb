{
 "cells": [
  {
   "cell_type": "code",
   "execution_count": null,
   "metadata": {},
   "outputs": [],
   "source": [
    "\"\"\"\n",
    "OTG Project & Configuration Sheet\n",
    "\"\"\"\n",
    "OTG_PROJECT_SHEET_NAME = \"OTG Model Project Configuration\"\n",
    "OTG_CONFIGURATION_SHEET_NAME=\"OTG Model Configuration- Test\"\n"
   ]
  },
  {
   "cell_type": "code",
   "execution_count": null,
   "metadata": {},
   "outputs": [],
   "source": [
    "\"\"\"\n",
    "Fin Man Project & Configuration Sheet\n",
    "\"\"\"\n",
    "FIN_MAN_PROJECT_SHEET_NAME = \"Finman Project Configuration\"\n",
    "FIN_MAN_CONFIGURATION_SHEET_NAME=\"FinMan Configuration_v4 - Test\""
   ]
  },
  {
   "cell_type": "code",
   "execution_count": null,
   "metadata": {},
   "outputs": [],
   "source": [
    "\"\"\"\n",
    "\n",
    "Project & Configuration sheets\n",
    "\"\"\"\n",
    "\n",
    "PROJECT_SHEET_NAME = FIN_MAN_PROJECT_SHEET_NAME\n",
    "CONFIGURATION_SHEET_NAME = FIN_MAN_CONFIGURATION_SHEET_NAME"
   ]
  },
  {
   "cell_type": "code",
   "execution_count": null,
   "metadata": {},
   "outputs": [],
   "source": [
    "\"\"\"\n",
    "Vendor Configuration Sheet\n",
    "\"\"\"\n",
    "VENDOR_CONFIGURATION_SHEET_NAME = \"Vendor Configuration_v1 - Test\""
   ]
  },
  {
   "cell_type": "code",
   "execution_count": 4,
   "metadata": {},
   "outputs": [],
   "source": [
    "import django"
   ]
  },
  {
   "cell_type": "code",
   "execution_count": 5,
   "metadata": {},
   "outputs": [],
   "source": [
    "django.setup()"
   ]
  },
  {
   "cell_type": "code",
   "execution_count": null,
   "metadata": {},
   "outputs": [],
   "source": [
    "\"\"\"\n",
    "Import Statement for Populate Projects\n",
    "\"\"\"\n",
    "from ib_iam.populate.populate_utils import populate_projects"
   ]
  },
  {
   "cell_type": "code",
   "execution_count": null,
   "metadata": {},
   "outputs": [],
   "source": [
    "\"\"\"\n",
    "Populate the project\n",
    "\"\"\"\n",
    "populate_projects(spread_sheet_name=PROJECT_SHEET_NAME)"
   ]
  },
  {
   "cell_type": "code",
   "execution_count": null,
   "metadata": {},
   "outputs": [],
   "source": []
  },
  {
   "cell_type": "code",
   "execution_count": 6,
   "metadata": {},
   "outputs": [],
   "source": [
    "\"\"\"\n",
    "Populate Project Roles\n",
    "\"\"\"\n",
    "from ib_tasks.populate.population_utils import populate_project_roles\n",
    "populate_project_roles(CONFIGURATION_SHEET_NAME)"
   ]
  },
  {
   "cell_type": "code",
   "execution_count": 7,
   "metadata": {},
   "outputs": [],
   "source": [
    "\"\"\"\n",
    "Populate Ib Task Related Data For Project \"Configuration\"\n",
    "\"\"\"\n",
    "from ib_tasks.populate.population_utils import populate_data\n",
    "populate_data(CONFIGURATION_SHEET_NAME)"
   ]
  },
  {
   "cell_type": "code",
   "execution_count": 8,
   "metadata": {},
   "outputs": [],
   "source": [
    "\"\"\"\n",
    "Populate Ib Task Related Data for Vendor Configuration\n",
    "\"\"\"\n",
    "from ib_tasks.populate.population_utils import populate_data\n",
    "populate_data(VENDOR_CONFIGURATION_SHEET_NAME)"
   ]
  },
  {
   "cell_type": "code",
   "execution_count": 9,
   "metadata": {},
   "outputs": [],
   "source": [
    "\"\"\"\n",
    "Populate Task Templates For Project\n",
    "\"\"\"\n",
    "from ib_tasks.populate.population_utils import populate_projects_for_task_templates\n",
    "populate_projects_for_task_templates(PROJECT_SHEET_NAME)"
   ]
  },
  {
   "cell_type": "code",
   "execution_count": 12,
   "metadata": {},
   "outputs": [
    {
     "name": "stdout",
     "output_type": "stream",
     "text": [
      "[] []\n",
      "[BoardDTO(board_id='FINB_VENDOR_REGISTRATION', name='Vendors Added by Me'), BoardDTO(board_id='FINB_VENDOR_APPROVAL', name='Vendors RP Approval'), BoardDTO(board_id='FINB_PV5_VENDOR_VERIFICATION', name='Vendors P5 Approval'), BoardDTO(board_id='FINB_PV4_VENDOR_VERIFICATION', name='Vendors P4 Approval'), BoardDTO(board_id='FINB_AV4_VENDOR_VERIFICATION', name='Vendors A5 Approval')] [ColumnDTO(column_id='FINC_COLUMN_DRAFTS', name='Drafts', display_order=1, task_template_stages=[TaskTemplateStagesDTO(task_template_id='FIN_VENDOR', stages=['VENDOR_DRAFTS'])], user_role_ids=['FIN_PAYMENT_REQUESTER'], column_summary='ColumnSummary1', column_actions='ColumnSummary3', list_view_fields=[TaskSummaryFieldsDTO(task_id='ravi', summary_fields='ravi')], kanban_view_fields=[TaskSummaryFieldsDTO(task_id='ravi', summary_fields='ravi')], board_id='FINB_VENDOR_REGISTRATION'), ColumnDTO(column_id='FINC_PENDING_RP_APPROVAL', name='RP Approval', display_order=2, task_template_stages=[TaskTemplateStagesDTO(task_template_id='FIN_VENDOR', stages=['VENDOR_PENDING_RP_APPROVAL'])], user_role_ids=['FIN_PAYMENT_REQUESTER'], column_summary='ColumnSummary1', column_actions='ColumnSummary3', list_view_fields=[TaskSummaryFieldsDTO(task_id='ravi', summary_fields='ravi')], kanban_view_fields=[TaskSummaryFieldsDTO(task_id='ravi', summary_fields='ravi')], board_id='FINB_VENDOR_REGISTRATION'), ColumnDTO(column_id='FINC_VENDORS_PENDING_FINACC_APPROVAL', name='Verification Pending', display_order=3, task_template_stages=[TaskTemplateStagesDTO(task_template_id='FIN_VENDOR', stages=['VENDOR_PENDING_PAYMENTS_LEVEL5_VERIFICATION', 'VENDOR_PENDING_PAYMENTS_LEVEL4_VERIFICATION', 'VENDOR_PENDING_ACCOUNTS_LEVEL5_VERIFICATION'])], user_role_ids=['FIN_PAYMENT_REQUESTER'], column_summary='ColumnSummary1', column_actions='ColumnSummary3', list_view_fields=[TaskSummaryFieldsDTO(task_id='ravi', summary_fields='ravi')], kanban_view_fields=[TaskSummaryFieldsDTO(task_id='ravi', summary_fields='ravi')], board_id='FINB_VENDOR_REGISTRATION'), ColumnDTO(column_id='FINC_VENDORS_APPROVED', name='Approved', display_order=4, task_template_stages=[TaskTemplateStagesDTO(task_template_id='FIN_VENDOR', stages=['VENDOR_VERIFICATION_COMPLETED'])], user_role_ids=['FIN_PAYMENT_REQUESTER'], column_summary='ColumnSummary1', column_actions='ColumnSummary3', list_view_fields=[TaskSummaryFieldsDTO(task_id='ravi', summary_fields='ravi')], kanban_view_fields=[TaskSummaryFieldsDTO(task_id='ravi', summary_fields='ravi')], board_id='FINB_VENDOR_REGISTRATION'), ColumnDTO(column_id='FINC_VENDORS_REJECTED', name='Rejected', display_order=5, task_template_stages=[TaskTemplateStagesDTO(task_template_id='FIN_VENDOR', stages=['VENDOR_REJECTED'])], user_role_ids=['FIN_PAYMENT_REQUESTER'], column_summary='ColumnSummary1', column_actions='ColumnSummary3', list_view_fields=[TaskSummaryFieldsDTO(task_id='ravi', summary_fields='ravi')], kanban_view_fields=[TaskSummaryFieldsDTO(task_id='ravi', summary_fields='ravi')], board_id='FINB_VENDOR_REGISTRATION'), ColumnDTO(column_id='FINC_VENDORS_WAITING_FOR_APPROVAL', name='RP Approval', display_order=1, task_template_stages=[TaskTemplateStagesDTO(task_template_id='FIN_VENDOR', stages=['VENDOR_PENDING_RP_APPROVAL'])], user_role_ids=['FIN_PAYMENT_APPROVER'], column_summary='ColumnSummary1', column_actions='ColumnSummary3', list_view_fields=[TaskSummaryFieldsDTO(task_id='ravi', summary_fields='ravi')], kanban_view_fields=[TaskSummaryFieldsDTO(task_id='ravi', summary_fields='ravi')], board_id='FINB_VENDOR_APPROVAL'), ColumnDTO(column_id='FINC_VENDORS_WAITING_FOR_FINANCE_TEAM_VERIFICATION', name='Verification Pending', display_order=2, task_template_stages=[TaskTemplateStagesDTO(task_template_id='FIN_VENDOR', stages=['VENDOR_PENDING_PAYMENTS_LEVEL5_VERIFICATION', 'VENDOR_PENDING_PAYMENTS_LEVEL4_VERIFICATION', 'VENDOR_PENDING_ACCOUNTS_LEVEL5_VERIFICATION'])], user_role_ids=['FIN_PAYMENT_APPROVER'], column_summary='ColumnSummary1', column_actions='ColumnSummary3', list_view_fields=[TaskSummaryFieldsDTO(task_id='ravi', summary_fields='ravi')], kanban_view_fields=[TaskSummaryFieldsDTO(task_id='ravi', summary_fields='ravi')], board_id='FINB_VENDOR_APPROVAL'), ColumnDTO(column_id='FINC_PA_VENDORS_APPROVED', name='Approved', display_order=3, task_template_stages=[TaskTemplateStagesDTO(task_template_id='FIN_VENDOR', stages=['VENDOR_VERIFICATION_COMPLETED'])], user_role_ids=['FIN_PAYMENT_APPROVER'], column_summary='ColumnSummary1', column_actions='ColumnSummary3', list_view_fields=[TaskSummaryFieldsDTO(task_id='ravi', summary_fields='ravi')], kanban_view_fields=[TaskSummaryFieldsDTO(task_id='ravi', summary_fields='ravi')], board_id='FINB_VENDOR_APPROVAL'), ColumnDTO(column_id='FINC_PA_VENDORS_REJECTED', name='Rejected', display_order=4, task_template_stages=[TaskTemplateStagesDTO(task_template_id='FIN_VENDOR', stages=['VENDOR_REJECTED'])], user_role_ids=['FIN_PAYMENT_APPROVER'], column_summary='ColumnSummary1', column_actions='ColumnSummary3', list_view_fields=[TaskSummaryFieldsDTO(task_id='ravi', summary_fields='ravi')], kanban_view_fields=[TaskSummaryFieldsDTO(task_id='ravi', summary_fields='ravi')], board_id='FINB_VENDOR_APPROVAL'), ColumnDTO(column_id='FINC_VENDORS_PAYMENTS_LEVEL5_VERIFICATION', name='P5 Approval', display_order=1, task_template_stages=[TaskTemplateStagesDTO(task_template_id='FIN_VENDOR', stages=['VENDOR_PENDING_PAYMENTS_LEVEL5_VERIFICATION'])], user_role_ids=['FIN_FINANCE_RP'], column_summary='ColumnSummary1', column_actions='ColumnSummary3', list_view_fields=[TaskSummaryFieldsDTO(task_id='ravi', summary_fields='ravi')], kanban_view_fields=[TaskSummaryFieldsDTO(task_id='ravi', summary_fields='ravi')], board_id='FINB_PV5_VENDOR_VERIFICATION'), ColumnDTO(column_id='FINC_VENDORS_PAYMENTS_LEVEL5_VERIFICATION_COMPLETED', name='P5 Approved', display_order=2, task_template_stages=[TaskTemplateStagesDTO(task_template_id='FIN_VENDOR', stages=['VENDOR_PAYMENTS_LEVEL5_VERIFICATION_COMPLETED'])], user_role_ids=['FIN_FINANCE_RP'], column_summary='ColumnSummary1', column_actions='ColumnSummary3', list_view_fields=[TaskSummaryFieldsDTO(task_id='ravi', summary_fields='ravi')], kanban_view_fields=[TaskSummaryFieldsDTO(task_id='ravi', summary_fields='ravi')], board_id='FINB_PV5_VENDOR_VERIFICATION'), ColumnDTO(column_id='FINC_PV5_VENDORS_APPROVED', name='Approved', display_order=3, task_template_stages=[TaskTemplateStagesDTO(task_template_id='FIN_VENDOR', stages=['VENDOR_VERIFICATION_COMPLETED'])], user_role_ids=['FIN_FINANCE_RP'], column_summary='ColumnSummary1', column_actions='ColumnSummary3', list_view_fields=[TaskSummaryFieldsDTO(task_id='ravi', summary_fields='ravi')], kanban_view_fields=[TaskSummaryFieldsDTO(task_id='ravi', summary_fields='ravi')], board_id='FINB_PV5_VENDOR_VERIFICATION'), ColumnDTO(column_id='FINC_VENDORS_PAYMENTS_LEVEL4_VERIFICATION', name='P4 Approval', display_order=1, task_template_stages=[TaskTemplateStagesDTO(task_template_id='FIN_VENDOR', stages=['VENDOR_PENDING_PAYMENTS_LEVEL4_VERIFICATION'])], user_role_ids=['FIN_PAYMENTS_RP'], column_summary='ColumnSummary1', column_actions='ColumnSummary3', list_view_fields=[TaskSummaryFieldsDTO(task_id='ravi', summary_fields='ravi')], kanban_view_fields=[TaskSummaryFieldsDTO(task_id='ravi', summary_fields='ravi')], board_id='FINB_PV4_VENDOR_VERIFICATION'), ColumnDTO(column_id='FINC_VENDORS_PAYMENTS_LEVEL4_VERIFICATION_COMPLETED', name='P4 Approved', display_order=2, task_template_stages=[TaskTemplateStagesDTO(task_template_id='FIN_VENDOR', stages=['VENDOR_PAYMENTS_LEVEL4_VERIFICATION_COMPLETED'])], user_role_ids=['FIN_PAYMENTS_RP'], column_summary='ColumnSummary1', column_actions='ColumnSummary3', list_view_fields=[TaskSummaryFieldsDTO(task_id='ravi', summary_fields='ravi')], kanban_view_fields=[TaskSummaryFieldsDTO(task_id='ravi', summary_fields='ravi')], board_id='FINB_PV4_VENDOR_VERIFICATION'), ColumnDTO(column_id='FINC_PV4_VENDORS_APPROVED', name='Approved', display_order=3, task_template_stages=[TaskTemplateStagesDTO(task_template_id='FIN_VENDOR', stages=['VENDOR_VERIFICATION_COMPLETED'])], user_role_ids=['FIN_PAYMENTS_RP'], column_summary='ColumnSummary1', column_actions='ColumnSummary3', list_view_fields=[TaskSummaryFieldsDTO(task_id='ravi', summary_fields='ravi')], kanban_view_fields=[TaskSummaryFieldsDTO(task_id='ravi', summary_fields='ravi')], board_id='FINB_PV4_VENDOR_VERIFICATION'), ColumnDTO(column_id='FINC_VENDORS_ACCOUNTS_LEVEL5_VERIFICATION', name='A5 Approval', display_order=1, task_template_stages=[TaskTemplateStagesDTO(task_template_id='FIN_VENDOR', stages=['VENDOR_PENDING_ACCOUNTS_LEVEL5_VERIFICATION'])], user_role_ids=['FIN_ACCOUNTS_LEVEL5_VERIFIER'], column_summary='ColumnSummary1', column_actions='ColumnSummary3', list_view_fields=[TaskSummaryFieldsDTO(task_id='ravi', summary_fields='ravi')], kanban_view_fields=[TaskSummaryFieldsDTO(task_id='ravi', summary_fields='ravi')], board_id='FINB_AV4_VENDOR_VERIFICATION'), ColumnDTO(column_id='FINC_VENDORS_ACCOUNTS_LEVEL5_VERIFICATION_COMPLETED', name='A5 Approved', display_order=2, task_template_stages=[TaskTemplateStagesDTO(task_template_id='FIN_VENDOR', stages=['VENDOR_ACCOUNTS_LEVEL5_VERIFICATION_COMPLETED'])], user_role_ids=['FIN_ACCOUNTS_LEVEL5_VERIFIER'], column_summary='ColumnSummary1', column_actions='ColumnSummary3', list_view_fields=[TaskSummaryFieldsDTO(task_id='ravi', summary_fields='ravi')], kanban_view_fields=[TaskSummaryFieldsDTO(task_id='ravi', summary_fields='ravi')], board_id='FINB_AV4_VENDOR_VERIFICATION'), ColumnDTO(column_id='FINC_AV5_VENDORS_APPROVED', name='Approved', display_order=3, task_template_stages=[TaskTemplateStagesDTO(task_template_id='FIN_VENDOR', stages=['VENDOR_VERIFICATION_COMPLETED'])], user_role_ids=['FIN_ACCOUNTS_LEVEL5_VERIFIER'], column_summary='ColumnSummary1', column_actions='ColumnSummary3', list_view_fields=[TaskSummaryFieldsDTO(task_id='ravi', summary_fields='ravi')], kanban_view_fields=[TaskSummaryFieldsDTO(task_id='ravi', summary_fields='ravi')], board_id='FINB_AV4_VENDOR_VERIFICATION')]\n"
     ]
    }
   ],
   "source": [
    "\"\"\"\n",
    "Populate Boards and Columns For FinMan & Vendor Configuration Sheet\n",
    "\n",
    "\"\"\"\n",
    "from ib_boards.populate.get_data_from_sheet_for_boards_and_columns import GetBoardsAndColumnsDataFromSheet\n",
    "\n",
    "\n",
    "loader = GetBoardsAndColumnsDataFromSheet()\n",
    "loader.get_data_from_sheet(PROJECT_SHEET_NAME)\n",
    "loader.create_boards_and_columns(PROJECT_SHEET_NAME)\n",
    "\n"
   ]
  },
  {
   "cell_type": "code",
   "execution_count": null,
   "metadata": {},
   "outputs": [],
   "source": [
    "\"\"\"\n",
    "Populate iB Borad Related boards and columns for vendor configuration\n",
    "\n",
    "\"\"\"\n",
    "loader.create_boards_and_columns(VENDOR_CONFIGURATION_SHEET_NAME)"
   ]
  },
  {
   "cell_type": "code",
   "execution_count": 13,
   "metadata": {},
   "outputs": [],
   "source": [
    "\"\"\"\n",
    "\n",
    "Populate Board Related Data For FinMan Project\n",
    "\"\"\"\n",
    "from ib_boards.populate.get_data_from_sheet_for_project_boards import GetSheetDataForProjectBoards\n",
    "\n",
    "\n",
    "loader = GetSheetDataForProjectBoards()\n",
    "loader.get_data_from_project_boards_sub_sheet(PROJECT_SHEET_NAME)"
   ]
  },
  {
   "cell_type": "code",
   "execution_count": 14,
   "metadata": {},
   "outputs": [
    {
     "name": "stderr",
     "output_type": "stream",
     "text": [
      "[none] [ib_workflows_backend - local] INFO     [17:03:41]  [/usr/lib/python3.7/lib2to3/pgen2/driver.py] [driver.py][load_grammar] [121]: Generating grammar tables from /usr/lib/python3.7/lib2to3/Grammar.txt\n",
      "[none] [ib_workflows_backend - local] INFO     [17:03:41]  [/usr/lib/python3.7/lib2to3/pgen2/driver.py] [driver.py][load_grammar] [121]: Generating grammar tables from /usr/lib/python3.7/lib2to3/PatternGrammar.txt\n"
     ]
    }
   ],
   "source": [
    "from ib_tasks.populate.write_stage_actions import writing_data_to_stage_actions_logic\n",
    "writing_data_to_stage_actions_logic()"
   ]
  },
  {
   "cell_type": "code",
   "execution_count": 15,
   "metadata": {},
   "outputs": [
    {
     "name": "stderr",
     "output_type": "stream",
     "text": [
      "[none] [ib_workflows_backend - local] INFO     [17:03:44]  [/home/ib_developer/workspace/new_project/ib-workflows-backend/env1/lib/python3.7/site-packages/elasticsearch/connection/base.py] [base.py][log_request_success] [228]: POST http://localhost:9200/user-local/_doc [status:201 request:0.171s]\n",
      "[none] [ib_workflows_backend - local] INFO     [17:03:45]  [/home/ib_developer/workspace/new_project/ib-workflows-backend/env1/lib/python3.7/site-packages/elasticsearch/connection/base.py] [base.py][log_request_success] [228]: POST http://localhost:9200/user-local/_doc [status:201 request:0.005s]\n",
      "[none] [ib_workflows_backend - local] INFO     [17:03:45]  [/home/ib_developer/workspace/new_project/ib-workflows-backend/env1/lib/python3.7/site-packages/elasticsearch/connection/base.py] [base.py][log_request_success] [228]: POST http://localhost:9200/user-local/_doc [status:201 request:0.006s]\n",
      "[none] [ib_workflows_backend - local] INFO     [17:03:45]  [/home/ib_developer/workspace/new_project/ib-workflows-backend/env1/lib/python3.7/site-packages/elasticsearch/connection/base.py] [base.py][log_request_success] [228]: POST http://localhost:9200/user-local/_doc [status:201 request:0.005s]\n",
      "[none] [ib_workflows_backend - local] INFO     [17:03:45]  [/home/ib_developer/workspace/new_project/ib-workflows-backend/env1/lib/python3.7/site-packages/elasticsearch/connection/base.py] [base.py][log_request_success] [228]: POST http://localhost:9200/user-local/_doc [status:201 request:0.005s]\n",
      "[none] [ib_workflows_backend - local] INFO     [17:03:45]  [/home/ib_developer/workspace/new_project/ib-workflows-backend/env1/lib/python3.7/site-packages/elasticsearch/connection/base.py] [base.py][log_request_success] [228]: POST http://localhost:9200/user-local/_doc [status:201 request:0.005s]\n",
      "[none] [ib_workflows_backend - local] INFO     [17:03:45]  [/home/ib_developer/workspace/new_project/ib-workflows-backend/env1/lib/python3.7/site-packages/elasticsearch/connection/base.py] [base.py][log_request_success] [228]: POST http://localhost:9200/user-local/_doc [status:201 request:0.005s]\n",
      "[none] [ib_workflows_backend - local] INFO     [17:03:45]  [/home/ib_developer/workspace/new_project/ib-workflows-backend/env1/lib/python3.7/site-packages/elasticsearch/connection/base.py] [base.py][log_request_success] [228]: POST http://localhost:9200/user-local/_doc [status:201 request:0.006s]\n",
      "[none] [ib_workflows_backend - local] INFO     [17:03:45]  [/home/ib_developer/workspace/new_project/ib-workflows-backend/env1/lib/python3.7/site-packages/elasticsearch/connection/base.py] [base.py][log_request_success] [228]: POST http://localhost:9200/user-local/_doc [status:201 request:0.005s]\n",
      "[none] [ib_workflows_backend - local] INFO     [17:03:45]  [/home/ib_developer/workspace/new_project/ib-workflows-backend/env1/lib/python3.7/site-packages/elasticsearch/connection/base.py] [base.py][log_request_success] [228]: POST http://localhost:9200/user-local/_doc [status:201 request:0.006s]\n",
      "[none] [ib_workflows_backend - local] INFO     [17:03:45]  [/home/ib_developer/workspace/new_project/ib-workflows-backend/env1/lib/python3.7/site-packages/elasticsearch/connection/base.py] [base.py][log_request_success] [228]: POST http://localhost:9200/user-local/_doc [status:201 request:0.008s]\n",
      "[none] [ib_workflows_backend - local] INFO     [17:03:45]  [/home/ib_developer/workspace/new_project/ib-workflows-backend/env1/lib/python3.7/site-packages/elasticsearch/connection/base.py] [base.py][log_request_success] [228]: POST http://localhost:9200/user-local/_doc [status:201 request:0.007s]\n",
      "[none] [ib_workflows_backend - local] INFO     [17:03:45]  [/home/ib_developer/workspace/new_project/ib-workflows-backend/env1/lib/python3.7/site-packages/elasticsearch/connection/base.py] [base.py][log_request_success] [228]: POST http://localhost:9200/user-local/_doc [status:201 request:0.007s]\n",
      "[none] [ib_workflows_backend - local] INFO     [17:03:46]  [/home/ib_developer/workspace/new_project/ib-workflows-backend/env1/lib/python3.7/site-packages/elasticsearch/connection/base.py] [base.py][log_request_success] [228]: POST http://localhost:9200/user-local/_doc [status:201 request:0.008s]\n"
     ]
    },
    {
     "data": {
      "text/plain": [
       "<UserAccount: db21d5f5-37ab-4acc-bf65-e7f05906a752>"
      ]
     },
     "execution_count": 15,
     "metadata": {},
     "output_type": "execute_result"
    }
   ],
   "source": [
    "\"\"\"\n",
    "Populate Ib IAM Related Data For FinMan Project Configuration\n",
    "\n",
    "Note:- While Running the this below script need to Run the ELASTIC SEARCH SERVER\n",
    "\"\"\"\n",
    "from ib_iam.populate.populate_utils import populate\n",
    "populate(CONFIGURATION_SHEET_NAME)\n",
    "\n",
    "from ib_users.models import *\n",
    "UserAccount.objects.create_superuser(username='admin', password='admin@123', email='admin@example.com')\n",
    "UserAccount.objects.create_superuser(username='fduser', password='fduser@123', email='fduser@example.com')"
   ]
  },
  {
   "cell_type": "code",
   "execution_count": 16,
   "metadata": {},
   "outputs": [
    {
     "name": "stderr",
     "output_type": "stream",
     "text": [
      "[none] [ib_workflows_backend - local] INFO     [17:03:52]  [/home/ib_developer/workspace/new_project/ib-workflows-backend/env1/lib/python3.7/site-packages/elasticsearch/connection/base.py] [base.py][log_request_success] [228]: POST http://localhost:9200/country-local/_doc [status:201 request:0.217s]\n",
      "[none] [ib_workflows_backend - local] INFO     [17:03:52]  [/home/ib_developer/workspace/new_project/ib-workflows-backend/env1/lib/python3.7/site-packages/elasticsearch/connection/base.py] [base.py][log_request_success] [228]: POST http://localhost:9200/country-local/_doc [status:201 request:0.009s]\n",
      "[none] [ib_workflows_backend - local] INFO     [17:03:52]  [/home/ib_developer/workspace/new_project/ib-workflows-backend/env1/lib/python3.7/site-packages/elasticsearch/connection/base.py] [base.py][log_request_success] [228]: POST http://localhost:9200/country-local/_doc [status:201 request:0.008s]\n",
      "[none] [ib_workflows_backend - local] INFO     [17:03:52]  [/home/ib_developer/workspace/new_project/ib-workflows-backend/env1/lib/python3.7/site-packages/elasticsearch/connection/base.py] [base.py][log_request_success] [228]: POST http://localhost:9200/country-local/_doc [status:201 request:0.006s]\n",
      "[none] [ib_workflows_backend - local] INFO     [17:03:52]  [/home/ib_developer/workspace/new_project/ib-workflows-backend/env1/lib/python3.7/site-packages/elasticsearch/connection/base.py] [base.py][log_request_success] [228]: POST http://localhost:9200/country-local/_doc [status:201 request:0.006s]\n",
      "[none] [ib_workflows_backend - local] INFO     [17:03:52]  [/home/ib_developer/workspace/new_project/ib-workflows-backend/env1/lib/python3.7/site-packages/elasticsearch/connection/base.py] [base.py][log_request_success] [228]: POST http://localhost:9200/country-local/_doc [status:201 request:0.010s]\n",
      "[none] [ib_workflows_backend - local] INFO     [17:03:52]  [/home/ib_developer/workspace/new_project/ib-workflows-backend/env1/lib/python3.7/site-packages/elasticsearch/connection/base.py] [base.py][log_request_success] [228]: POST http://localhost:9200/country-local/_doc [status:201 request:0.007s]\n",
      "[none] [ib_workflows_backend - local] INFO     [17:03:52]  [/home/ib_developer/workspace/new_project/ib-workflows-backend/env1/lib/python3.7/site-packages/elasticsearch/connection/base.py] [base.py][log_request_success] [228]: POST http://localhost:9200/country-local/_doc [status:201 request:0.008s]\n",
      "[none] [ib_workflows_backend - local] INFO     [17:03:52]  [/home/ib_developer/workspace/new_project/ib-workflows-backend/env1/lib/python3.7/site-packages/elasticsearch/connection/base.py] [base.py][log_request_success] [228]: POST http://localhost:9200/state-local/_doc [status:201 request:0.177s]\n",
      "[none] [ib_workflows_backend - local] INFO     [17:03:52]  [/home/ib_developer/workspace/new_project/ib-workflows-backend/env1/lib/python3.7/site-packages/elasticsearch/connection/base.py] [base.py][log_request_success] [228]: POST http://localhost:9200/state-local/_doc [status:201 request:0.009s]\n",
      "[none] [ib_workflows_backend - local] INFO     [17:03:52]  [/home/ib_developer/workspace/new_project/ib-workflows-backend/env1/lib/python3.7/site-packages/elasticsearch/connection/base.py] [base.py][log_request_success] [228]: POST http://localhost:9200/state-local/_doc [status:201 request:0.007s]\n",
      "[none] [ib_workflows_backend - local] INFO     [17:03:52]  [/home/ib_developer/workspace/new_project/ib-workflows-backend/env1/lib/python3.7/site-packages/elasticsearch/connection/base.py] [base.py][log_request_success] [228]: POST http://localhost:9200/state-local/_doc [status:201 request:0.009s]\n",
      "[none] [ib_workflows_backend - local] INFO     [17:03:52]  [/home/ib_developer/workspace/new_project/ib-workflows-backend/env1/lib/python3.7/site-packages/elasticsearch/connection/base.py] [base.py][log_request_success] [228]: POST http://localhost:9200/state-local/_doc [status:201 request:0.009s]\n",
      "[none] [ib_workflows_backend - local] INFO     [17:03:52]  [/home/ib_developer/workspace/new_project/ib-workflows-backend/env1/lib/python3.7/site-packages/elasticsearch/connection/base.py] [base.py][log_request_success] [228]: POST http://localhost:9200/state-local/_doc [status:201 request:0.008s]\n",
      "[none] [ib_workflows_backend - local] INFO     [17:03:52]  [/home/ib_developer/workspace/new_project/ib-workflows-backend/env1/lib/python3.7/site-packages/elasticsearch/connection/base.py] [base.py][log_request_success] [228]: POST http://localhost:9200/state-local/_doc [status:201 request:0.009s]\n",
      "[none] [ib_workflows_backend - local] INFO     [17:03:53]  [/home/ib_developer/workspace/new_project/ib-workflows-backend/env1/lib/python3.7/site-packages/elasticsearch/connection/base.py] [base.py][log_request_success] [228]: POST http://localhost:9200/city-local/_doc [status:201 request:0.167s]\n",
      "[none] [ib_workflows_backend - local] INFO     [17:03:53]  [/home/ib_developer/workspace/new_project/ib-workflows-backend/env1/lib/python3.7/site-packages/elasticsearch/connection/base.py] [base.py][log_request_success] [228]: POST http://localhost:9200/city-local/_doc [status:201 request:0.008s]\n",
      "[none] [ib_workflows_backend - local] INFO     [17:03:53]  [/home/ib_developer/workspace/new_project/ib-workflows-backend/env1/lib/python3.7/site-packages/elasticsearch/connection/base.py] [base.py][log_request_success] [228]: POST http://localhost:9200/city-local/_doc [status:201 request:0.006s]\n",
      "[none] [ib_workflows_backend - local] INFO     [17:03:53]  [/home/ib_developer/workspace/new_project/ib-workflows-backend/env1/lib/python3.7/site-packages/elasticsearch/connection/base.py] [base.py][log_request_success] [228]: POST http://localhost:9200/city-local/_doc [status:201 request:0.007s]\n",
      "[none] [ib_workflows_backend - local] INFO     [17:03:53]  [/home/ib_developer/workspace/new_project/ib-workflows-backend/env1/lib/python3.7/site-packages/elasticsearch/connection/base.py] [base.py][log_request_success] [228]: POST http://localhost:9200/city-local/_doc [status:201 request:0.007s]\n",
      "[none] [ib_workflows_backend - local] INFO     [17:03:53]  [/home/ib_developer/workspace/new_project/ib-workflows-backend/env1/lib/python3.7/site-packages/elasticsearch/connection/base.py] [base.py][log_request_success] [228]: POST http://localhost:9200/city-local/_doc [status:201 request:0.008s]\n",
      "[none] [ib_workflows_backend - local] INFO     [17:03:53]  [/home/ib_developer/workspace/new_project/ib-workflows-backend/env1/lib/python3.7/site-packages/elasticsearch/connection/base.py] [base.py][log_request_success] [228]: POST http://localhost:9200/city-local/_doc [status:201 request:0.007s]\n"
     ]
    }
   ],
   "source": [
    "\"\"\"\n",
    "Populate Elastic Search Data For Cities\n",
    "\n",
    "\"\"\"\n",
    "from ib_iam.populate.populate_elastic_search_data import populate_data\n",
    "populate_data()"
   ]
  },
  {
   "cell_type": "code",
   "execution_count": null,
   "metadata": {},
   "outputs": [],
   "source": []
  }
 ],
 "metadata": {
  "kernelspec": {
   "display_name": "Python 3",
   "language": "python",
   "name": "python3"
  },
  "language_info": {
   "codemirror_mode": {
    "name": "ipython",
    "version": 3
   },
   "file_extension": ".py",
   "mimetype": "text/x-python",
   "name": "python",
   "nbconvert_exporter": "python",
   "pygments_lexer": "ipython3",
   "version": "3.7.7"
  }
 },
 "nbformat": 4,
 "nbformat_minor": 4
}
