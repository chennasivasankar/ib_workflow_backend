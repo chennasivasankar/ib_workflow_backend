{
 "cells": [
  {
   "cell_type": "code",
   "execution_count": 5,
   "metadata": {},
   "outputs": [],
   "source": [
    "\"\"\"\n",
    "Project Sheet name \n",
    "\"\"\"\n",
    "PROJECT_SHEET_NAME = \"OTG Model Project Configuration\"\n",
    "SHEET_NAME=\"OTG Model Configuration- Test\""
   ]
  },
  {
   "cell_type": "code",
   "execution_count": 6,
   "metadata": {},
   "outputs": [],
   "source": [
    "import django"
   ]
  },
  {
   "cell_type": "code",
   "execution_count": 7,
   "metadata": {},
   "outputs": [
    {
     "name": "stdout",
     "output_type": "stream",
     "text": [
      "LE: \n",
      "\n",
      "It appears the LOGENTRIES_TOKEN parameter you entered is incorrect!\n",
      "\n",
      "\n"
     ]
    }
   ],
   "source": [
    "django.setup()"
   ]
  },
  {
   "cell_type": "code",
   "execution_count": 8,
   "metadata": {},
   "outputs": [],
   "source": [
    "\"\"\"\n",
    "Import the projects populate method from ib_iam app\n",
    "\"\"\"\n",
    "from ib_iam.populate.populate_utils import populate_projects\n",
    "\"\"\"\n",
    "Populate the projects in db\n",
    "\"\"\"\n",
    "populate_projects(spread_sheet_name=PROJECT_SHEET_NAME)"
   ]
  },
  {
   "cell_type": "code",
   "execution_count": 9,
   "metadata": {},
   "outputs": [],
   "source": [
    "\"\"\"\n",
    "Populate Ib Task Related Data\n",
    "\"\"\"\n",
    "from ib_tasks.populate.population_utils import populate_data\n",
    "populate_data(SHEET_NAME)"
   ]
  },
  {
   "cell_type": "code",
   "execution_count": 10,
   "metadata": {},
   "outputs": [],
   "source": [
    "from ib_tasks.populate.population_utils import populate_projects_for_task_templates\n",
    "populate_projects_for_task_templates(PROJECT_SHEET_NAME)"
   ]
  },
  {
   "cell_type": "code",
   "execution_count": 11,
   "metadata": {},
   "outputs": [
    {
     "name": "stdout",
     "output_type": "stream",
     "text": [
      "[BoardDTO(board_id='OTGB_EMPLOYEE_REGISTRATION', name='Employees'), BoardDTO(board_id='OTGB_EMPLOYEE_ENROLLING', name='Employee Selection Process'), BoardDTO(board_id='OTGB_EMPLOYEE_TRAINING', name='Trainings'), BoardDTO(board_id='OTGB_EMPLOYEE_ONBOARDING_AGREEMENTS', name='Signing Agreements'), BoardDTO(board_id='OTGB_EMPLOYEE_ALIGNMENT', name='Alignment Validation'), BoardDTO(board_id='OTGB_EMPLOYEE_SCAFFHOLDING', name='Weekly Target Completion')] [ColumnDTO(column_id='OTGC_EMP_DRAFTS', name='Employee Drafts', display_order=1, task_template_stages=[TaskTemplateStagesDTO(task_template_id='OTG_PROCESS', stages=['EMP_DRAFTS'])], user_role_ids=['ALL_ROLES'], column_summary='ColumnSummary1', column_actions='ColumnSummary3', list_view_fields=[TaskSummaryFieldsDTO(task_id='ravi', summary_fields='ravi')], kanban_view_fields=[TaskSummaryFieldsDTO(task_id='ravi', summary_fields='ravi')], board_id='OTGB_EMPLOYEE_REGISTRATION'), ColumnDTO(column_id='OTGC_PENDING_SELECTION_PROCESS', name='Pending Selection Process', display_order=2, task_template_stages=[TaskTemplateStagesDTO(task_template_id='OTG_PROCESS', stages=['EMP_PENDING_SELECTION_PROCESS'])], user_role_ids=['ALL_ROLES'], column_summary='ColumnSummary1', column_actions='ColumnSummary3', list_view_fields=[TaskSummaryFieldsDTO(task_id='ravi', summary_fields='ravi')], kanban_view_fields=[TaskSummaryFieldsDTO(task_id='ravi', summary_fields='ravi')], board_id='OTGB_EMPLOYEE_ENROLLING'), ColumnDTO(column_id='OTGC_PENDING_MENTORS_DISCUSSION', name='Mentor Discussion', display_order=3, task_template_stages=[TaskTemplateStagesDTO(task_template_id='OTG_PROCESS', stages=['EMP_PENDING_MENTOR_DISCUSSION'])], user_role_ids=['ALL_ROLES'], column_summary='ColumnSummary1', column_actions='ColumnSummary3', list_view_fields=[TaskSummaryFieldsDTO(task_id='ravi', summary_fields='ravi')], kanban_view_fields=[TaskSummaryFieldsDTO(task_id='ravi', summary_fields='ravi')], board_id='OTGB_EMPLOYEE_ENROLLING'), ColumnDTO(column_id='OTGC_EMP_PENDING_PAYMENT_INFORMATION', name='Payments', display_order=4, task_template_stages=[TaskTemplateStagesDTO(task_template_id='OTG_PROCESS', stages=['EMP_PENDING_PAYMENT_INFORMATION'])], user_role_ids=['ALL_ROLES'], column_summary='ColumnSummary1', column_actions='ColumnSummary3', list_view_fields=[TaskSummaryFieldsDTO(task_id='ravi', summary_fields='ravi')], kanban_view_fields=[TaskSummaryFieldsDTO(task_id='ravi', summary_fields='ravi')], board_id='OTGB_EMPLOYEE_ENROLLING'), ColumnDTO(column_id='OTGC_EMP_PENDING_TRAINING', name='Trainings', display_order=5, task_template_stages=[TaskTemplateStagesDTO(task_template_id='OTG_PROCESS', stages=['EMP_PENDING_TRAINING'])], user_role_ids=['ALL_ROLES'], column_summary='ColumnSummary1', column_actions='ColumnSummary3', list_view_fields=[TaskSummaryFieldsDTO(task_id='ravi', summary_fields='ravi')], kanban_view_fields=[TaskSummaryFieldsDTO(task_id='ravi', summary_fields='ravi')], board_id='OTGB_EMPLOYEE_TRAINING'), ColumnDTO(column_id='OTGC_EMP_PENDING_FINAL_SELECTION', name='Final Selection', display_order=1, task_template_stages=[TaskTemplateStagesDTO(task_template_id='OTG_PROCESS', stages=['EMP_PENDING_FINAL_SELECTION'])], user_role_ids=['ALL_ROLES'], column_summary='ColumnSummary1', column_actions='ColumnSummary3', list_view_fields=[TaskSummaryFieldsDTO(task_id='ravi', summary_fields='ravi')], kanban_view_fields=[TaskSummaryFieldsDTO(task_id='ravi', summary_fields='ravi')], board_id='OTGB_EMPLOYEE_TRAINING'), ColumnDTO(column_id='OTGC_EMP_PENDING_ONBOARDING_SIGNING_AGREEMENTS', name='Signing Agreements', display_order=2, task_template_stages=[TaskTemplateStagesDTO(task_template_id='OTG_PROCESS', stages=['EMP_PENDING_ONBOARDING_SIGNING_AGREEMENTS'])], user_role_ids=['ALL_ROLES'], column_summary='ColumnSummary1', column_actions='ColumnSummary3', list_view_fields=[TaskSummaryFieldsDTO(task_id='ravi', summary_fields='ravi')], kanban_view_fields=[TaskSummaryFieldsDTO(task_id='ravi', summary_fields='ravi')], board_id='OTGB_EMPLOYEE_ONBOARDING_AGREEMENTS'), ColumnDTO(column_id='OTGC_EMP_PENDING_BACKGROUND_CHECK', name='BackGround Check', display_order=3, task_template_stages=[TaskTemplateStagesDTO(task_template_id='OTG_PROCESS', stages=['EMP_PENDING_BACKGROUND_CHECK'])], user_role_ids=['ALL_ROLES'], column_summary='ColumnSummary1', column_actions='ColumnSummary3', list_view_fields=[TaskSummaryFieldsDTO(task_id='ravi', summary_fields='ravi')], kanban_view_fields=[TaskSummaryFieldsDTO(task_id='ravi', summary_fields='ravi')], board_id='OTGB_EMPLOYEE_ONBOARDING_AGREEMENTS'), ColumnDTO(column_id='OTGC_PENDING_EMPLOYEE_ALIGNMENT_VALIDATION', name='Alignment Validation', display_order=4, task_template_stages=[TaskTemplateStagesDTO(task_template_id='OTG_PROCESS', stages=['PENDING_EMPLOYEE_ALIGNMENT_VALIDATION'])], user_role_ids=['ALL_ROLES'], column_summary='ColumnSummary1', column_actions='ColumnSummary3', list_view_fields=[TaskSummaryFieldsDTO(task_id='ravi', summary_fields='ravi')], kanban_view_fields=[TaskSummaryFieldsDTO(task_id='ravi', summary_fields='ravi')], board_id='OTGB_EMPLOYEE_ALIGNMENT'), ColumnDTO(column_id='OTGC_PENDING_EMPLOYEE_ASSIGNMENT_COMPLETION', name='Assignment Completion', display_order=1, task_template_stages=[TaskTemplateStagesDTO(task_template_id='OTG_PROCESS', stages=['PENDING_EMPLOYEE_ASSIGNMENT_COMPLETION'])], user_role_ids=['ALL_ROLES'], column_summary='ColumnSummary1', column_actions='ColumnSummary3', list_view_fields=[TaskSummaryFieldsDTO(task_id='ravi', summary_fields='ravi')], kanban_view_fields=[TaskSummaryFieldsDTO(task_id='ravi', summary_fields='ravi')], board_id='OTGB_EMPLOYEE_ALIGNMENT'), ColumnDTO(column_id='OTGC_PENDING_SALARY_DEPOSIT', name='Salary Deposit', display_order=2, task_template_stages=[TaskTemplateStagesDTO(task_template_id='OTG_PROCESS', stages=['PENDING_SALARY_DEPOSIT'])], user_role_ids=['ALL_ROLES'], column_summary='ColumnSummary1', column_actions='ColumnSummary3', list_view_fields=[TaskSummaryFieldsDTO(task_id='ravi', summary_fields='ravi')], kanban_view_fields=[TaskSummaryFieldsDTO(task_id='ravi', summary_fields='ravi')], board_id='OTGB_EMPLOYEE_ALIGNMENT'), ColumnDTO(column_id='OTGC_PENDING_WEEKLY_TARGET_COMPLETION', name='Weekly Target Completion', display_order=3, task_template_stages=[TaskTemplateStagesDTO(task_template_id='OTG_PROCESS', stages=['PENDING_WEEKLY_TARGET_COMPLETION'])], user_role_ids=['ALL_ROLES'], column_summary='ColumnSummary1', column_actions='ColumnSummary3', list_view_fields=[TaskSummaryFieldsDTO(task_id='ravi', summary_fields='ravi')], kanban_view_fields=[TaskSummaryFieldsDTO(task_id='ravi', summary_fields='ravi')], board_id='OTGB_EMPLOYEE_SCAFFHOLDING'), ColumnDTO(column_id='OTGC_PENDING_EXTRA_ASSIGNMENT_COMPLETION', name='Extra Assignment Completion', display_order=1, task_template_stages=[TaskTemplateStagesDTO(task_template_id='OTG_PROCESS', stages=['PENDING_EXTRA_ASSIGNMENT_COMPLETION'])], user_role_ids=['ALL_ROLES'], column_summary='ColumnSummary1', column_actions='ColumnSummary3', list_view_fields=[TaskSummaryFieldsDTO(task_id='ravi', summary_fields='ravi')], kanban_view_fields=[TaskSummaryFieldsDTO(task_id='ravi', summary_fields='ravi')], board_id='OTGB_EMPLOYEE_SCAFFHOLDING'), ColumnDTO(column_id='OTGC_PENDING_LEARNINGS_FOR_WEEK', name='Learnings for Week', display_order=2, task_template_stages=[TaskTemplateStagesDTO(task_template_id='OTG_PROCESS', stages=['PENDING_LEARNINGS_FOR_WEEK'])], user_role_ids=['ALL_ROLES'], column_summary='ColumnSummary1', column_actions='ColumnSummary3', list_view_fields=[TaskSummaryFieldsDTO(task_id='ravi', summary_fields='ravi')], kanban_view_fields=[TaskSummaryFieldsDTO(task_id='ravi', summary_fields='ravi')], board_id='OTGB_EMPLOYEE_SCAFFHOLDING')]\n"
     ]
    }
   ],
   "source": [
    "from ib_boards.populate.get_data_from_sheet_for_boards_and_columns import GetBoardsAndColumnsDataFromSheet\n",
    "\n",
    "\n",
    "loader = GetBoardsAndColumnsDataFromSheet()\n",
    "loader.get_data_from_sheet(SHEET_NAME)\n",
    "loader.create_boards_and_columns(SHEET_NAME)\n"
   ]
  },
  {
   "cell_type": "code",
   "execution_count": 12,
   "metadata": {},
   "outputs": [],
   "source": [
    "from ib_boards.populate.get_data_from_sheet_for_project_boards import GetSheetDataForProjectBoards\n",
    "\n",
    "\n",
    "loader = GetSheetDataForProjectBoards()\n",
    "loader.get_data_from_project_boards_sub_sheet(PROJECT_SHEET_NAME)"
   ]
  },
  {
   "cell_type": "code",
   "execution_count": 13,
   "metadata": {},
   "outputs": [
    {
     "name": "stderr",
     "output_type": "stream",
     "text": [
      "[none] [ib_workflows_backend - alpha] INFO     [18:49:32]  [/usr/lib/python3.8/lib2to3/pgen2/driver.py] [driver.py][load_grammar] [120]: Generating grammar tables from /usr/lib/python3.8/lib2to3/Grammar.txt\n",
      "[none] [ib_workflows_backend - alpha] INFO     [18:49:32]  [/usr/lib/python3.8/lib2to3/pgen2/driver.py] [driver.py][load_grammar] [120]: Generating grammar tables from /usr/lib/python3.8/lib2to3/PatternGrammar.txt\n"
     ]
    },
    {
     "name": "stdout",
     "output_type": "stream",
     "text": [
      "LE: Starting Logentries Asynchronous Socket Appender\n"
     ]
    }
   ],
   "source": [
    "from ib_tasks.populate.write_stage_actions import writing_data_to_stage_actions_logic\n",
    "writing_data_to_stage_actions_logic()"
   ]
  },
  {
   "cell_type": "code",
   "execution_count": 12,
   "metadata": {},
   "outputs": [
    {
     "name": "stderr",
     "output_type": "stream",
     "text": [
      "[none] [ib_workflows_backend - local] INFO     [09:58:59]  [/home/ib-developer/Desktop/work/ib-workflows-backend/venv/lib/python3.8/site-packages/elasticsearch/connection/base.py] [base.py][log_request_success] [227]: POST http://localhost:9200/user-local/_doc [status:201 request:0.170s]\n",
      "[none] [ib_workflows_backend - local] INFO     [09:58:59]  [/home/ib-developer/Desktop/work/ib-workflows-backend/venv/lib/python3.8/site-packages/elasticsearch/connection/base.py] [base.py][log_request_success] [227]: POST http://localhost:9200/user-local/_doc [status:201 request:0.010s]\n",
      "[none] [ib_workflows_backend - local] INFO     [09:58:59]  [/home/ib-developer/Desktop/work/ib-workflows-backend/venv/lib/python3.8/site-packages/elasticsearch/connection/base.py] [base.py][log_request_success] [227]: POST http://localhost:9200/user-local/_doc [status:201 request:0.007s]\n",
      "[none] [ib_workflows_backend - local] INFO     [09:59:00]  [/home/ib-developer/Desktop/work/ib-workflows-backend/venv/lib/python3.8/site-packages/elasticsearch/connection/base.py] [base.py][log_request_success] [227]: POST http://localhost:9200/user-local/_doc [status:201 request:0.027s]\n",
      "[none] [ib_workflows_backend - local] INFO     [09:59:00]  [/home/ib-developer/Desktop/work/ib-workflows-backend/venv/lib/python3.8/site-packages/elasticsearch/connection/base.py] [base.py][log_request_success] [227]: POST http://localhost:9200/user-local/_doc [status:201 request:0.008s]\n",
      "[none] [ib_workflows_backend - local] INFO     [09:59:00]  [/home/ib-developer/Desktop/work/ib-workflows-backend/venv/lib/python3.8/site-packages/elasticsearch/connection/base.py] [base.py][log_request_success] [227]: POST http://localhost:9200/user-local/_doc [status:201 request:0.006s]\n",
      "[none] [ib_workflows_backend - local] INFO     [09:59:00]  [/home/ib-developer/Desktop/work/ib-workflows-backend/venv/lib/python3.8/site-packages/elasticsearch/connection/base.py] [base.py][log_request_success] [227]: POST http://localhost:9200/user-local/_doc [status:201 request:0.007s]\n"
     ]
    },
    {
     "data": {
      "text/plain": [
       "<UserAccount: afb3c021-77f5-43f4-a8f5-78bc6a02ef4e>"
      ]
     },
     "execution_count": 12,
     "metadata": {},
     "output_type": "execute_result"
    }
   ],
   "source": [
    "\"\"\"\n",
    "Populate Ib IAM Related Data\n",
    "\"\"\"\n",
    "from ib_iam.populate.populate_utils import populate\n",
    "populate(SHEET_NAME)\n",
    "\n",
    "from ib_users.models import *\n",
    "UserAccount.objects.create_superuser(username='admin', password='admin@123', email='admin@example.com')\n",
    "UserAccount.objects.create_superuser(username='fduser', password='fduser@123', email='fduser@example.com')"
   ]
  },
  {
   "cell_type": "code",
   "execution_count": 13,
   "metadata": {},
   "outputs": [
    {
     "name": "stderr",
     "output_type": "stream",
     "text": [
      "[none] [ib_workflows_backend - local] INFO     [09:59:02]  [/home/ib-developer/Desktop/work/ib-workflows-backend/venv/lib/python3.8/site-packages/elasticsearch/connection/base.py] [base.py][log_request_success] [227]: POST http://localhost:9200/country-local/_doc [status:201 request:0.191s]\n",
      "[none] [ib_workflows_backend - local] INFO     [09:59:02]  [/home/ib-developer/Desktop/work/ib-workflows-backend/venv/lib/python3.8/site-packages/elasticsearch/connection/base.py] [base.py][log_request_success] [227]: POST http://localhost:9200/country-local/_doc [status:201 request:0.016s]\n",
      "[none] [ib_workflows_backend - local] INFO     [09:59:02]  [/home/ib-developer/Desktop/work/ib-workflows-backend/venv/lib/python3.8/site-packages/elasticsearch/connection/base.py] [base.py][log_request_success] [227]: POST http://localhost:9200/country-local/_doc [status:201 request:0.012s]\n",
      "[none] [ib_workflows_backend - local] INFO     [09:59:02]  [/home/ib-developer/Desktop/work/ib-workflows-backend/venv/lib/python3.8/site-packages/elasticsearch/connection/base.py] [base.py][log_request_success] [227]: POST http://localhost:9200/country-local/_doc [status:201 request:0.011s]\n",
      "[none] [ib_workflows_backend - local] INFO     [09:59:02]  [/home/ib-developer/Desktop/work/ib-workflows-backend/venv/lib/python3.8/site-packages/elasticsearch/connection/base.py] [base.py][log_request_success] [227]: POST http://localhost:9200/country-local/_doc [status:201 request:0.009s]\n",
      "[none] [ib_workflows_backend - local] INFO     [09:59:02]  [/home/ib-developer/Desktop/work/ib-workflows-backend/venv/lib/python3.8/site-packages/elasticsearch/connection/base.py] [base.py][log_request_success] [227]: POST http://localhost:9200/country-local/_doc [status:201 request:0.008s]\n",
      "[none] [ib_workflows_backend - local] INFO     [09:59:03]  [/home/ib-developer/Desktop/work/ib-workflows-backend/venv/lib/python3.8/site-packages/elasticsearch/connection/base.py] [base.py][log_request_success] [227]: POST http://localhost:9200/state-local/_doc [status:201 request:0.248s]\n",
      "[none] [ib_workflows_backend - local] INFO     [09:59:03]  [/home/ib-developer/Desktop/work/ib-workflows-backend/venv/lib/python3.8/site-packages/elasticsearch/connection/base.py] [base.py][log_request_success] [227]: POST http://localhost:9200/state-local/_doc [status:201 request:0.023s]\n",
      "[none] [ib_workflows_backend - local] INFO     [09:59:03]  [/home/ib-developer/Desktop/work/ib-workflows-backend/venv/lib/python3.8/site-packages/elasticsearch/connection/base.py] [base.py][log_request_success] [227]: POST http://localhost:9200/state-local/_doc [status:201 request:0.023s]\n",
      "[none] [ib_workflows_backend - local] INFO     [09:59:03]  [/home/ib-developer/Desktop/work/ib-workflows-backend/venv/lib/python3.8/site-packages/elasticsearch/connection/base.py] [base.py][log_request_success] [227]: POST http://localhost:9200/state-local/_doc [status:201 request:0.016s]\n",
      "[none] [ib_workflows_backend - local] INFO     [09:59:03]  [/home/ib-developer/Desktop/work/ib-workflows-backend/venv/lib/python3.8/site-packages/elasticsearch/connection/base.py] [base.py][log_request_success] [227]: POST http://localhost:9200/state-local/_doc [status:201 request:0.015s]\n",
      "[none] [ib_workflows_backend - local] INFO     [09:59:03]  [/home/ib-developer/Desktop/work/ib-workflows-backend/venv/lib/python3.8/site-packages/elasticsearch/connection/base.py] [base.py][log_request_success] [227]: POST http://localhost:9200/state-local/_doc [status:201 request:0.012s]\n",
      "[none] [ib_workflows_backend - local] INFO     [09:59:03]  [/home/ib-developer/Desktop/work/ib-workflows-backend/venv/lib/python3.8/site-packages/elasticsearch/connection/base.py] [base.py][log_request_success] [227]: POST http://localhost:9200/state-local/_doc [status:201 request:0.009s]\n",
      "[none] [ib_workflows_backend - local] INFO     [09:59:03]  [/home/ib-developer/Desktop/work/ib-workflows-backend/venv/lib/python3.8/site-packages/elasticsearch/connection/base.py] [base.py][log_request_success] [227]: POST http://localhost:9200/city-local/_doc [status:201 request:0.284s]\n",
      "[none] [ib_workflows_backend - local] INFO     [09:59:03]  [/home/ib-developer/Desktop/work/ib-workflows-backend/venv/lib/python3.8/site-packages/elasticsearch/connection/base.py] [base.py][log_request_success] [227]: POST http://localhost:9200/city-local/_doc [status:201 request:0.010s]\n",
      "[none] [ib_workflows_backend - local] INFO     [09:59:03]  [/home/ib-developer/Desktop/work/ib-workflows-backend/venv/lib/python3.8/site-packages/elasticsearch/connection/base.py] [base.py][log_request_success] [227]: POST http://localhost:9200/city-local/_doc [status:201 request:0.012s]\n",
      "[none] [ib_workflows_backend - local] INFO     [09:59:03]  [/home/ib-developer/Desktop/work/ib-workflows-backend/venv/lib/python3.8/site-packages/elasticsearch/connection/base.py] [base.py][log_request_success] [227]: POST http://localhost:9200/city-local/_doc [status:201 request:0.012s]\n",
      "[none] [ib_workflows_backend - local] INFO     [09:59:03]  [/home/ib-developer/Desktop/work/ib-workflows-backend/venv/lib/python3.8/site-packages/elasticsearch/connection/base.py] [base.py][log_request_success] [227]: POST http://localhost:9200/city-local/_doc [status:201 request:0.010s]\n",
      "[none] [ib_workflows_backend - local] INFO     [09:59:03]  [/home/ib-developer/Desktop/work/ib-workflows-backend/venv/lib/python3.8/site-packages/elasticsearch/connection/base.py] [base.py][log_request_success] [227]: POST http://localhost:9200/city-local/_doc [status:201 request:0.009s]\n"
     ]
    }
   ],
   "source": [
    "from ib_iam.populate.populate_elastic_search_data import populate_data\n",
    "populate_data()"
   ]
  },
  {
   "cell_type": "code",
   "execution_count": null,
   "metadata": {},
   "outputs": [],
   "source": []
  }
 ],
 "metadata": {
  "kernelspec": {
   "display_name": "Python 3",
   "language": "python",
   "name": "python3"
  },
  "language_info": {
   "codemirror_mode": {
    "name": "ipython",
    "version": 3
   },
   "file_extension": ".py",
   "mimetype": "text/x-python",
   "name": "python",
   "nbconvert_exporter": "python",
   "pygments_lexer": "ipython3",
   "version": "3.8.0"
  }
 },
 "nbformat": 4,
 "nbformat_minor": 4
}
