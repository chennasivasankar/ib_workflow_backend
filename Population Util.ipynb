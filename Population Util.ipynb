{
 "cells": [
  {
   "cell_type": "code",
   "execution_count": 1,
   "metadata": {},
   "outputs": [],
   "source": [
    "\"\"\"\n",
    "Project Sheet name \n",
    "\"\"\"\n",
    "PROJECT_SHEET_NAME = \"Projects Configuration\"\n",
    "SHEET_NAME=\"Vendor Configuration_v1 - Test\""
   ]
  },
  {
   "cell_type": "code",
   "execution_count": 2,
   "metadata": {},
   "outputs": [],
   "source": [
    "import django"
   ]
  },
  {
   "cell_type": "code",
   "execution_count": 3,
   "metadata": {},
   "outputs": [],
   "source": [
    "django.setup()"
   ]
  },
  {
   "cell_type": "code",
   "execution_count": 4,
   "metadata": {},
   "outputs": [],
   "source": [
    "\"\"\"\n",
    "Import the projects populate method from ib_iam app\n",
    "\"\"\"\n",
    "from ib_iam.populate.populate_utils import populate_projects\n",
    "\"\"\"\n",
    "Populate the projects in db\n",
    "\"\"\"\n",
    "populate_projects(spread_sheet_name=PROJECT_SHEET_NAME)"
   ]
  },
  {
   "cell_type": "code",
   "execution_count": 5,
   "metadata": {},
   "outputs": [],
   "source": [
    "from ib_tasks.populate.population_utils import populate_data\n",
    "populate_data(SHEET_NAME)"
   ]
  },
  {
   "cell_type": "code",
   "execution_count": 6,
   "metadata": {},
   "outputs": [],
   "source": [
    "from ib_tasks.populate.population_utils import populate_projects_for_task_templates\n",
    "populate_projects_for_task_templates(PROJECT_SHEET_NAME)"
   ]
  },
  {
   "cell_type": "code",
   "execution_count": 7,
   "metadata": {},
   "outputs": [
    {
     "name": "stdout",
     "output_type": "stream",
     "text": [
      "[BoardDTO(board_id='FINB_VENDOR_REGISTRATION', name='Added by Me'), BoardDTO(board_id='FINB_VENDOR_APPROVAL', name='RP Approval'), BoardDTO(board_id='FINB_PV5_VENDOR_VERIFICATION', name='P5 Approval'), BoardDTO(board_id='FINB_PV4_VENDOR_VERIFICATION', name='P4 Approval'), BoardDTO(board_id='FINB_AV4_VENDOR_VERIFICATION', name='A5 Approval')] [ColumnDTO(column_id='FINC_COLUMN_DRAFTS', name='Drafts', display_order=1, task_template_stages=[TaskTemplateStagesDTO(task_template_id='FIN_VENDOR', stages=['VENDOR_DRAFTS'])], user_role_ids=['FIN_PAYMENT_REQUESTER'], column_summary='ColumnSummary1', column_actions='ColumnSummary3', list_view_fields=[TaskSummaryFieldsDTO(task_id='ravi', summary_fields='ravi')], kanban_view_fields=[TaskSummaryFieldsDTO(task_id='ravi', summary_fields='ravi')], board_id='FINB_VENDOR_REGISTRATION'), ColumnDTO(column_id='FINC_PENDING_RP_APPROVAL', name='RP Approval', display_order=2, task_template_stages=[TaskTemplateStagesDTO(task_template_id='FIN_VENDOR', stages=['VENDOR_PENDING_RP_APPROVAL'])], user_role_ids=['FIN_PAYMENT_REQUESTER'], column_summary='ColumnSummary1', column_actions='ColumnSummary3', list_view_fields=[TaskSummaryFieldsDTO(task_id='ravi', summary_fields='ravi')], kanban_view_fields=[TaskSummaryFieldsDTO(task_id='ravi', summary_fields='ravi')], board_id='FINB_VENDOR_REGISTRATION'), ColumnDTO(column_id='FINC_VENDORS_PENDING_FINACC_APPROVAL', name='Verification Pending', display_order=3, task_template_stages=[TaskTemplateStagesDTO(task_template_id='FIN_VENDOR', stages=['VENDOR_PENDING_PAYMENTS_LEVEL5_VERIFICATION', 'VENDOR_PENDING_PAYMENTS_LEVEL4_VERIFICATION', 'VENDOR_PENDING_ACCOUNTS_LEVEL5_VERIFICATION'])], user_role_ids=['FIN_PAYMENT_REQUESTER'], column_summary='ColumnSummary1', column_actions='ColumnSummary3', list_view_fields=[TaskSummaryFieldsDTO(task_id='ravi', summary_fields='ravi')], kanban_view_fields=[TaskSummaryFieldsDTO(task_id='ravi', summary_fields='ravi')], board_id='FINB_VENDOR_REGISTRATION'), ColumnDTO(column_id='FINC_VENDORS_APPROVED', name='Approved', display_order=4, task_template_stages=[TaskTemplateStagesDTO(task_template_id='FIN_VENDOR', stages=['VENDOR_VERIFICATION_COMPLETED'])], user_role_ids=['FIN_PAYMENT_REQUESTER'], column_summary='ColumnSummary1', column_actions='ColumnSummary3', list_view_fields=[TaskSummaryFieldsDTO(task_id='ravi', summary_fields='ravi')], kanban_view_fields=[TaskSummaryFieldsDTO(task_id='ravi', summary_fields='ravi')], board_id='FINB_VENDOR_REGISTRATION'), ColumnDTO(column_id='FINC_VENDORS_REJECTED', name='Rejected', display_order=5, task_template_stages=[TaskTemplateStagesDTO(task_template_id='FIN_VENDOR', stages=['VENDOR_REJECTED'])], user_role_ids=['FIN_PAYMENT_REQUESTER'], column_summary='ColumnSummary1', column_actions='ColumnSummary3', list_view_fields=[TaskSummaryFieldsDTO(task_id='ravi', summary_fields='ravi')], kanban_view_fields=[TaskSummaryFieldsDTO(task_id='ravi', summary_fields='ravi')], board_id='FINB_VENDOR_REGISTRATION'), ColumnDTO(column_id='FINC_VENDORS_WAITING_FOR_APPROVAL', name='RP Approval', display_order=1, task_template_stages=[TaskTemplateStagesDTO(task_template_id='FIN_VENDOR', stages=['VENDOR_PENDING_RP_APPROVAL'])], user_role_ids=['FIN_PAYMENT_APPROVER'], column_summary='ColumnSummary1', column_actions='ColumnSummary3', list_view_fields=[TaskSummaryFieldsDTO(task_id='ravi', summary_fields='ravi')], kanban_view_fields=[TaskSummaryFieldsDTO(task_id='ravi', summary_fields='ravi')], board_id='FINB_VENDOR_APPROVAL'), ColumnDTO(column_id='FINC_VENDORS_WAITING_FOR_FINANCE_TEAM_VERIFICATION', name='Verification Pending', display_order=2, task_template_stages=[TaskTemplateStagesDTO(task_template_id='FIN_VENDOR', stages=['VENDOR_PENDING_PAYMENTS_LEVEL5_VERIFICATION', 'VENDOR_PENDING_PAYMENTS_LEVEL4_VERIFICATION', 'VENDOR_PENDING_ACCOUNTS_LEVEL5_VERIFICATION'])], user_role_ids=['FIN_PAYMENT_APPROVER'], column_summary='ColumnSummary1', column_actions='ColumnSummary3', list_view_fields=[TaskSummaryFieldsDTO(task_id='ravi', summary_fields='ravi')], kanban_view_fields=[TaskSummaryFieldsDTO(task_id='ravi', summary_fields='ravi')], board_id='FINB_VENDOR_APPROVAL'), ColumnDTO(column_id='FINC_PA_VENDORS_APPROVED', name='Approved', display_order=3, task_template_stages=[TaskTemplateStagesDTO(task_template_id='FIN_VENDOR', stages=['VENDOR_VERIFICATION_COMPLETED'])], user_role_ids=['FIN_PAYMENT_APPROVER'], column_summary='ColumnSummary1', column_actions='ColumnSummary3', list_view_fields=[TaskSummaryFieldsDTO(task_id='ravi', summary_fields='ravi')], kanban_view_fields=[TaskSummaryFieldsDTO(task_id='ravi', summary_fields='ravi')], board_id='FINB_VENDOR_APPROVAL'), ColumnDTO(column_id='FINC_PA_VENDORS_REJECTED', name='Rejected', display_order=4, task_template_stages=[TaskTemplateStagesDTO(task_template_id='FIN_VENDOR', stages=['VENDOR_REJECTED'])], user_role_ids=['FIN_PAYMENT_APPROVER'], column_summary='ColumnSummary1', column_actions='ColumnSummary3', list_view_fields=[TaskSummaryFieldsDTO(task_id='ravi', summary_fields='ravi')], kanban_view_fields=[TaskSummaryFieldsDTO(task_id='ravi', summary_fields='ravi')], board_id='FINB_VENDOR_APPROVAL'), ColumnDTO(column_id='FINC_VENDORS_PAYMENTS_LEVEL5_VERIFICATION', name='P5 Approval', display_order=1, task_template_stages=[TaskTemplateStagesDTO(task_template_id='FIN_VENDOR', stages=['VENDOR_PENDING_PAYMENTS_LEVEL5_VERIFICATION'])], user_role_ids=['FIN_FINANCE_RP'], column_summary='ColumnSummary1', column_actions='ColumnSummary3', list_view_fields=[TaskSummaryFieldsDTO(task_id='ravi', summary_fields='ravi')], kanban_view_fields=[TaskSummaryFieldsDTO(task_id='ravi', summary_fields='ravi')], board_id='FINB_PV5_VENDOR_VERIFICATION'), ColumnDTO(column_id='FINC_VENDORS_PAYMENTS_LEVEL5_VERIFICATION_COMPLETED', name='P5 Approved', display_order=2, task_template_stages=[TaskTemplateStagesDTO(task_template_id='FIN_VENDOR', stages=['VENDOR_PAYMENTS_LEVEL5_VERIFICATION_COMPLETED'])], user_role_ids=['FIN_FINANCE_RP'], column_summary='ColumnSummary1', column_actions='ColumnSummary3', list_view_fields=[TaskSummaryFieldsDTO(task_id='ravi', summary_fields='ravi')], kanban_view_fields=[TaskSummaryFieldsDTO(task_id='ravi', summary_fields='ravi')], board_id='FINB_PV5_VENDOR_VERIFICATION'), ColumnDTO(column_id='FINC_PV5_VENDORS_APPROVED', name='Approved', display_order=3, task_template_stages=[TaskTemplateStagesDTO(task_template_id='FIN_VENDOR', stages=['VENDOR_VERIFICATION_COMPLETED'])], user_role_ids=['FIN_FINANCE_RP'], column_summary='ColumnSummary1', column_actions='ColumnSummary3', list_view_fields=[TaskSummaryFieldsDTO(task_id='ravi', summary_fields='ravi')], kanban_view_fields=[TaskSummaryFieldsDTO(task_id='ravi', summary_fields='ravi')], board_id='FINB_PV5_VENDOR_VERIFICATION'), ColumnDTO(column_id='FINC_VENDORS_PAYMENTS_LEVEL4_VERIFICATION', name='P4 Approval', display_order=1, task_template_stages=[TaskTemplateStagesDTO(task_template_id='FIN_VENDOR', stages=['VENDOR_PENDING_PAYMENTS_LEVEL4_VERIFICATION'])], user_role_ids=['FIN_PAYMENTS_RP'], column_summary='ColumnSummary1', column_actions='ColumnSummary3', list_view_fields=[TaskSummaryFieldsDTO(task_id='ravi', summary_fields='ravi')], kanban_view_fields=[TaskSummaryFieldsDTO(task_id='ravi', summary_fields='ravi')], board_id='FINB_PV4_VENDOR_VERIFICATION'), ColumnDTO(column_id='FINC_VENDORS_PAYMENTS_LEVEL4_VERIFICATION_COMPLETED', name='P4 Approved', display_order=2, task_template_stages=[TaskTemplateStagesDTO(task_template_id='FIN_VENDOR', stages=['VENDOR_PAYMENTS_LEVEL4_VERIFICATION_COMPLETED'])], user_role_ids=['FIN_PAYMENTS_RP'], column_summary='ColumnSummary1', column_actions='ColumnSummary3', list_view_fields=[TaskSummaryFieldsDTO(task_id='ravi', summary_fields='ravi')], kanban_view_fields=[TaskSummaryFieldsDTO(task_id='ravi', summary_fields='ravi')], board_id='FINB_PV4_VENDOR_VERIFICATION'), ColumnDTO(column_id='FINC_PV4_VENDORS_APPROVED', name='Approved', display_order=3, task_template_stages=[TaskTemplateStagesDTO(task_template_id='FIN_VENDOR', stages=['VENDOR_VERIFICATION_COMPLETED'])], user_role_ids=['FIN_PAYMENTS_RP'], column_summary='ColumnSummary1', column_actions='ColumnSummary3', list_view_fields=[TaskSummaryFieldsDTO(task_id='ravi', summary_fields='ravi')], kanban_view_fields=[TaskSummaryFieldsDTO(task_id='ravi', summary_fields='ravi')], board_id='FINB_PV4_VENDOR_VERIFICATION'), ColumnDTO(column_id='FINC_VENDORS_ACCOUNTS_LEVEL5_VERIFICATION', name='A5 Approval', display_order=1, task_template_stages=[TaskTemplateStagesDTO(task_template_id='FIN_VENDOR', stages=['VENDOR_PENDING_ACCOUNTS_LEVEL5_VERIFICATION'])], user_role_ids=['FIN_ACCOUNTS_LEVEL5_VERIFIER'], column_summary='ColumnSummary1', column_actions='ColumnSummary3', list_view_fields=[TaskSummaryFieldsDTO(task_id='ravi', summary_fields='ravi')], kanban_view_fields=[TaskSummaryFieldsDTO(task_id='ravi', summary_fields='ravi')], board_id='FINB_AV4_VENDOR_VERIFICATION'), ColumnDTO(column_id='FINC_VENDORS_ACCOUNTS_LEVEL5_VERIFICATION_COMPLETED', name='A5 Approved', display_order=2, task_template_stages=[TaskTemplateStagesDTO(task_template_id='FIN_VENDOR', stages=['VENDOR_ACCOUNTS_LEVEL5_VERIFICATION_COMPLETED'])], user_role_ids=['FIN_ACCOUNTS_LEVEL5_VERIFIER'], column_summary='ColumnSummary1', column_actions='ColumnSummary3', list_view_fields=[TaskSummaryFieldsDTO(task_id='ravi', summary_fields='ravi')], kanban_view_fields=[TaskSummaryFieldsDTO(task_id='ravi', summary_fields='ravi')], board_id='FINB_AV4_VENDOR_VERIFICATION'), ColumnDTO(column_id='FINC_AV5_VENDORS_APPROVED', name='Approved', display_order=3, task_template_stages=[TaskTemplateStagesDTO(task_template_id='FIN_VENDOR', stages=['VENDOR_VERIFICATION_COMPLETED'])], user_role_ids=['FIN_ACCOUNTS_LEVEL5_VERIFIER'], column_summary='ColumnSummary1', column_actions='ColumnSummary3', list_view_fields=[TaskSummaryFieldsDTO(task_id='ravi', summary_fields='ravi')], kanban_view_fields=[TaskSummaryFieldsDTO(task_id='ravi', summary_fields='ravi')], board_id='FINB_AV4_VENDOR_VERIFICATION')]\n"
     ]
    }
   ],
   "source": [
    "from ib_boards.populate.get_data_from_sheet_for_boards_and_columns import GetBoardsAndColumnsDataFromSheet\n",
    "\n",
    "\n",
    "loader = GetBoardsAndColumnsDataFromSheet()\n",
    "loader.get_data_from_sheet(SHEET_NAME)\n",
    "loader.create_boards_and_columns(SHEET_NAME)\n"
   ]
  },
  {
   "cell_type": "code",
   "execution_count": 8,
   "metadata": {},
   "outputs": [],
   "source": [
    "from ib_boards.populate.get_data_from_sheet_for_project_boards import GetSheetDataForProjectBoards\n",
    "\n",
    "\n",
    "loader = GetSheetDataForProjectBoards()\n",
    "loader.get_data_from_project_boards_sub_sheet(PROJECT_SHEET_NAME)"
   ]
  },
  {
   "cell_type": "code",
   "execution_count": 9,
   "metadata": {},
   "outputs": [],
   "source": [
    "from ib_tasks.populate.write_stage_actions import writing_data_to_stage_actions_logic\n",
    "writing_data_to_stage_actions_logic()"
   ]
  },
  {
   "cell_type": "code",
   "execution_count": 10,
   "metadata": {},
   "outputs": [
    {
     "name": "stderr",
     "output_type": "stream",
     "text": [
      "[none] [ib_workflows_backend - local] INFO     [17:30:45]  [/home/ib-developer/Desktop/work/ib-workflows-backend/venv/lib/python3.8/site-packages/elasticsearch/connection/base.py] [base.py][log_request_success] [227]: POST http://localhost:9200/user-local/_doc [status:201 request:0.172s]\n",
      "[none] [ib_workflows_backend - local] INFO     [17:30:45]  [/home/ib-developer/Desktop/work/ib-workflows-backend/venv/lib/python3.8/site-packages/elasticsearch/connection/base.py] [base.py][log_request_success] [227]: POST http://localhost:9200/user-local/_doc [status:201 request:0.010s]\n",
      "[none] [ib_workflows_backend - local] INFO     [17:30:45]  [/home/ib-developer/Desktop/work/ib-workflows-backend/venv/lib/python3.8/site-packages/elasticsearch/connection/base.py] [base.py][log_request_success] [227]: POST http://localhost:9200/user-local/_doc [status:201 request:0.007s]\n",
      "[none] [ib_workflows_backend - local] INFO     [17:30:45]  [/home/ib-developer/Desktop/work/ib-workflows-backend/venv/lib/python3.8/site-packages/elasticsearch/connection/base.py] [base.py][log_request_success] [227]: POST http://localhost:9200/user-local/_doc [status:201 request:0.010s]\n",
      "[none] [ib_workflows_backend - local] INFO     [17:30:45]  [/home/ib-developer/Desktop/work/ib-workflows-backend/venv/lib/python3.8/site-packages/elasticsearch/connection/base.py] [base.py][log_request_success] [227]: POST http://localhost:9200/user-local/_doc [status:201 request:0.038s]\n",
      "[none] [ib_workflows_backend - local] INFO     [17:30:45]  [/home/ib-developer/Desktop/work/ib-workflows-backend/venv/lib/python3.8/site-packages/elasticsearch/connection/base.py] [base.py][log_request_success] [227]: POST http://localhost:9200/user-local/_doc [status:201 request:0.010s]\n",
      "[none] [ib_workflows_backend - local] INFO     [17:30:45]  [/home/ib-developer/Desktop/work/ib-workflows-backend/venv/lib/python3.8/site-packages/elasticsearch/connection/base.py] [base.py][log_request_success] [227]: POST http://localhost:9200/user-local/_doc [status:201 request:0.005s]\n"
     ]
    },
    {
     "data": {
      "text/plain": [
       "<UserAccount: 396eda15-cf6f-47ea-b4a4-aba11232c4c9>"
      ]
     },
     "execution_count": 10,
     "metadata": {},
     "output_type": "execute_result"
    }
   ],
   "source": [
    "\n",
    "from ib_iam.populate.populate_utils import populate\n",
    "populate(SHEET_NAME)\n",
    "\n",
    "from ib_users.models import *\n",
    "UserAccount.objects.create_superuser(username='admin', password='admin@123', email='admin@example.com')\n",
    "UserAccount.objects.create_superuser(username='fduser', password='fduser@123', email='fduser@example.com')"
   ]
  },
  {
   "cell_type": "code",
   "execution_count": null,
   "metadata": {},
   "outputs": [],
   "source": []
  }
 ],
 "metadata": {
  "kernelspec": {
   "display_name": "Python 3",
   "language": "python",
   "name": "python3"
  },
  "language_info": {
   "codemirror_mode": {
    "name": "ipython",
    "version": 3
   },
   "file_extension": ".py",
   "mimetype": "text/x-python",
   "name": "python",
   "nbconvert_exporter": "python",
   "pygments_lexer": "ipython3",
   "version": "3.8.2"
  }
 },
 "nbformat": 4,
 "nbformat_minor": 4
}
