{
 "cells": [
  {
   "cell_type": "code",
   "execution_count": 1,
   "metadata": {},
   "outputs": [],
   "source": [
    "import os\n",
    "import django\n",
    "os.environ.setdefault(\"DJANGO_SETTINGS_MODULE\", \"ib_workflows_backend.settings.local\")\n",
    "\n",
    "django.setup()\n",
    "from elasticsearch_dsl import connections\n",
    "from django.conf import settings \n",
    "connections.create_connection(hosts=[settings.ELASTICSEARCH_ENDPOINT],timeout=20)\n",
    "from elasticsearch_dsl import Document, Date, Nested, Boolean, \\\n",
    "    analyzer, InnerDoc, Completion, Keyword, Text, Q, Search, Mapping, Integer, Keyword, A"
   ]
  },
  {
   "cell_type": "code",
   "execution_count": 2,
   "metadata": {},
   "outputs": [],
   "source": [
    "project_id =\"FIN_MAN\"\n",
    "adhoc_template_id = \"FIN_PR\""
   ]
  },
  {
   "cell_type": "code",
   "execution_count": 3,
   "metadata": {},
   "outputs": [],
   "source": [
    "from elasticsearch_dsl import Q, Search\n",
    "query = Q(\"term\", project_id__keyword=project_id) \\\n",
    "            & Q('term', template_id__keyword=adhoc_template_id)"
   ]
  },
  {
   "cell_type": "code",
   "execution_count": 4,
   "metadata": {},
   "outputs": [
    {
     "data": {
      "text/plain": [
       "Bool(must=[Term(project_id__keyword='FIN_MAN'), Term(template_id__keyword='FIN_PR')])"
      ]
     },
     "execution_count": 4,
     "metadata": {},
     "output_type": "execute_result"
    }
   ],
   "source": [
    "query"
   ]
  },
  {
   "cell_type": "code",
   "execution_count": 5,
   "metadata": {},
   "outputs": [],
   "source": [
    "search = Search(index=\"task-local\")"
   ]
  },
  {
   "cell_type": "code",
   "execution_count": 6,
   "metadata": {},
   "outputs": [
    {
     "data": {
      "text/plain": [
       "<elasticsearch_dsl.search.Search at 0x7f2048589f70>"
      ]
     },
     "execution_count": 6,
     "metadata": {},
     "output_type": "execute_result"
    }
   ],
   "source": [
    "search\n"
   ]
  },
  {
   "cell_type": "code",
   "execution_count": 7,
   "metadata": {},
   "outputs": [
    {
     "data": {
      "text/plain": [
       "{}"
      ]
     },
     "execution_count": 7,
     "metadata": {},
     "output_type": "execute_result"
    }
   ],
   "source": [
    "search.to_dict()"
   ]
  },
  {
   "cell_type": "code",
   "execution_count": 8,
   "metadata": {},
   "outputs": [
    {
     "data": {
      "text/plain": [
       "TopHits()"
      ]
     },
     "execution_count": 8,
     "metadata": {},
     "output_type": "execute_result"
    }
   ],
   "source": [
    "field_agg = A('terms', field='FIN_PURPOSE_OF_THE_ORDER.keyword')\n",
    "stage_agg = A('terms', field='stages.stage_id.keyword')\n",
    "a_data = A('top_hits')\n",
    "search.aggs.bucket('groups',field_agg).bucket('child_groups', stage_agg).bucket('tasks', a_data)"
   ]
  },
  {
   "cell_type": "code",
   "execution_count": 9,
   "metadata": {},
   "outputs": [
    {
     "data": {
      "text/plain": [
       "{'aggs': {'groups': {'terms': {'field': 'FIN_PURPOSE_OF_THE_ORDER.keyword'},\n",
       "   'aggs': {'child_groups': {'terms': {'field': 'stages.stage_id.keyword'},\n",
       "     'aggs': {'tasks': {'top_hits': {}}}}}}}}"
      ]
     },
     "execution_count": 9,
     "metadata": {},
     "output_type": "execute_result"
    }
   ],
   "source": [
    "search.to_dict()"
   ]
  },
  {
   "cell_type": "code",
   "execution_count": 10,
   "metadata": {},
   "outputs": [
    {
     "name": "stderr",
     "output_type": "stream",
     "text": [
      "[none] [ib_workflows_backend - local] INFO     [16:17:22]  [/home/ib-developer/PycharmProjects/ib-workflows-backend/venv/lib/python3.8/site-packages/elasticsearch/connection/base.py] [base.py][log_request_success] [227]: POST http://localhost:9200/task-local/_search [status:200 request:0.013s]\n"
     ]
    }
   ],
   "source": [
    "response = search.execute()"
   ]
  },
  {
   "cell_type": "code",
   "execution_count": 15,
   "metadata": {
    "scrolled": true
   },
   "outputs": [
    {
     "name": "stdout",
     "output_type": "stream",
     "text": [
      "group_count 1\n",
      "grouped_by need to pay debt\n",
      "group\n",
      "chld_group\n",
      "child_grouped_by PR_PAYMENT_REQUEST_DRAFTS\n",
      "child_group_count 1\n",
      "19\n",
      "************\n",
      "**********\n",
      "group_count 1\n",
      "grouped_by need to pay friend\n",
      "group\n",
      "chld_group\n",
      "child_grouped_by PR_PAYMENT_REQUEST_DRAFTS\n",
      "child_group_count 1\n",
      "20\n",
      "************\n",
      "**********\n",
      "group_count 1\n",
      "grouped_by purpose\n",
      "group\n",
      "chld_group\n",
      "child_grouped_by PR_NEED_CLARIFICATION\n",
      "child_group_count 1\n",
      "24\n",
      "************\n",
      "**********\n",
      "group_count 1\n",
      "grouped_by sfsdd\n",
      "group\n",
      "chld_group\n",
      "child_grouped_by PR_PAYMENT_REQUEST_DRAFTS\n",
      "child_group_count 1\n",
      "21\n",
      "************\n",
      "**********\n",
      "group_count 1\n",
      "grouped_by sfsdfsd\n",
      "group\n",
      "chld_group\n",
      "child_grouped_by PR_PAYMENT_REQUEST_DRAFTS\n",
      "child_group_count 1\n",
      "25\n",
      "************\n",
      "**********\n"
     ]
    }
   ],
   "source": [
    "for group in response.aggregations.groups.buckets:\n",
    "    print(\"group_count\", group.doc_count)\n",
    "    print(\"grouped_by\", group.key)\n",
    "    print(\"group\")\n",
    "    for child_group in group.child_groups:\n",
    "#         print(task.value)\n",
    "        print(\"chld_group\")\n",
    "        print(\"child_grouped_by\", child_group.key)\n",
    "        print(\"child_group_count\", child_group.doc_count)\n",
    "        for task in child_group.tasks:\n",
    "            print(task.task_id)\n",
    "        print(\"************\")\n",
    "    print(\"**********\")\n"
   ]
  },
  {
   "cell_type": "code",
   "execution_count": 13,
   "metadata": {},
   "outputs": [
    {
     "data": {
      "text/plain": [
       "[{'key': 'need to pay debt', 'doc_count': 1, 'child_groups': {'doc_count_error_upper_bound': 0, 'sum_other_doc_count': 0, 'buckets': [{'key': 'PR_PAYMENT_REQUEST_DRAFTS', 'doc_count': 1, 'tasks': {'hits': {'total': {'value': 1, 'relation': 'eq'}, 'max_score': 1.0, 'hits': [{'_index': 'task-local', '_type': '_doc', '_id': 'AQtuoHQBlEpf_YrJx9SP', '_score': 1.0, '_source': {'project_id': 'FIN_MAN', 'template_id': 'FIN_PR', 'task_id': 19, 'title': 'draft task', 'FIN_TYPE_OF_PAYMENT_REQUEST': 'Expense Card Loading', 'FIN_EVENTS_ACTIVITY_PETTYCASH': 'iB Hubs Pool Drive (Vizag, East & West Godavari)', 'FIN_OFFICE_LOCATION_FOR_WHICH_PURCHASE_IS_BEING_DONE': '30', 'FIN_PURPOSE_OF_THE_ORDER': 'need to pay debt', 'stages': [{'stage_id': 'PR_PAYMENT_REQUEST_DRAFTS'}]}}]}}}]}}, {'key': 'need to pay friend', 'doc_count': 1, 'child_groups': {'doc_count_error_upper_bound': 0, 'sum_other_doc_count': 0, 'buckets': [{'key': 'PR_PAYMENT_REQUEST_DRAFTS', 'doc_count': 1, 'tasks': {'hits': {'total': {'value': 1, 'relation': 'eq'}, 'max_score': 1.0, 'hits': [{'_index': 'task-local', '_type': '_doc', '_id': 'HQtvoHQBlEpf_YrJstTD', '_score': 1.0, '_source': {'project_id': 'FIN_MAN', 'template_id': 'FIN_PR', 'task_id': 20, 'title': 'draft 3', 'FIN_TYPE_OF_PAYMENT_REQUEST': 'Expense Card Loading', 'FIN_PURPOSE_OF_THE_ORDER': 'need to pay friend', 'FIN_EVENTS_ACTIVITY_PETTYCASH': 'iB Hubs Pool Drive (Vizag, East & West Godavari)', 'stages': [{'stage_id': 'PR_PAYMENT_REQUEST_DRAFTS'}]}}]}}}]}}, {'key': 'purpose', 'doc_count': 1, 'child_groups': {'doc_count_error_upper_bound': 0, 'sum_other_doc_count': 0, 'buckets': [{'key': 'PR_NEED_CLARIFICATION', 'doc_count': 1, 'tasks': {'hits': {'total': {'value': 1, 'relation': 'eq'}, 'max_score': 1.0, 'hits': [{'_index': 'task-local', '_type': '_doc', '_id': 'ngu-oHQBlEpf_YrJAdTi', '_score': 1.0, '_source': {'project_id': 'FIN_MAN', 'template_id': 'FIN_PR', 'task_id': 24, 'title': 'Mahendra task 1', 'FIN_TYPE_OF_PAYMENT_REQUEST': 'Online Orders/3rd Party Site Payment', 'FIN_COMPANY_NAME': 'iBuild', 'FIN_VENDOR_NAME': 'Vendor 1', 'FIN_PURPOSE_OF_THE_EXPENSE': 'Plain Text', 'FIN_PAYMENT_TYPE_VENDOR': 'One Time Payment', 'FIN_PAYMENT_MODE_VENDOR': 'Online Payment', 'FIN_CURRENCY_VENDOR': 'EUR - European euro', 'FIN_INVOICE_AMOUNT': 1.2, 'FIN_REQUESTED_AMOUNT': 1.2, 'FIN_CONVERSION_RATE_VENDOR': 1.2, 'FIN_REQUESTED_AMOUNT_AFTER_CONVERSION': 1.2, 'FIN_CATEGORY_ONLINE_EXPENSE': 'Plain Text', 'FIN_EVENTS_ACTIVITY_ONLINE_EXPENSE': 'Entrepreneurship talk in Bundelkhand Chamber of Commerce & Industry', 'FIN_PRODUCT_SERVICE': 'Product', 'FIN_GST_OFFICE_LOCATION': 'Plain Text', 'FIN_GST_LOCATION': '29', 'FIN_GST_NUMBER': 'Plain Text', 'FIN_GST_ADDRESS': 'Plain Text', 'FIN_SOFT_COPY_STATUS': 'Uploaded', 'FIN_TYPE_OF_ATTACHMENT': 'https://cdn.zeplin.io/5efacaf3a9674a242eb8fb11/assets/b14964e2-56ae-47d4-a4c9-df3f84cf1064.png', 'FIN_ATTACHMENT': 'https://cdn.zeplin.io/5efacaf3a9674a242eb8fb11/assets/b14964e2-56ae-47d4-a4c9-df3f84cf1064.png', 'FIN_TAX_INVOICE_UPLOAD_DATE': '2000-02-20', 'FIN_TAX_INVOICE_SUBMISSION_REMARKS': 'In computing, plain text is a loose term for data that represent only characters of readable material but not its graphical representation nor other objects. I', 'FIN_HARD_COPY_SUBMISSION_STATUS': 'Submitted', 'FIN_HARD_COPY_REMARKS': 'In computing, plain text is a loose term for data that represent only characters of readable material but not its graphical representation nor other objects. I', 'FIN_HARD_COPY_COURIER_FROM_LOCATION': '30', 'FIN_HARD_COPY_SUBISSION_DATE': '2000-02-20', 'FIN_HARD_COPY_REFERENCE_ID': 'Plain Text', 'FIN_TEAM_NAME': 'Tech Team', 'FIN_PAYMENT_POC_NAME': '00fd0593-c53d-4efd-8d75-4623af183965', 'FIN_PAYMENT_REQUESTOR_NAME': 'Plain Text', 'FIN_PAYMENT_APPROVER_NAME': '00fd0593-c53d-4efd-8d75-4623af183965', 'FIN_PAYMENT_REQUEST_DATE': '2000-02-20', 'FIN_TENTATIVE_PAYMENT_DATE': '2000-02-20', 'FIN_EXPECTED_PAYMENT_TIMELINE': 'Standard Timeline', 'FIN_PRIORITY': 'Critical - Confirmed by Sir', 'FIN_EXPECTED_PAYMENT_TIMELINE_REMARKS': 'In computing, plain text is a loose term for data that represent only characters of readable material but not its graphical representation nor other objects. I', 'FIN_SITE_NAME': 'site name', 'FIN_PURPOSE_OF_THE_ORDER': 'purpose', 'FIN_PAYMENT_TYPE_ONLINE_ORDER': 'One Time Payment', 'FIN_PAYMENT_MODE_ONLINE_ORDER': 'Online Payment', 'FIN_ITEM_NAME': 'item name', 'FIN_QUANTITY': 3, 'FIN_RATE': 3.0, 'FIN_CURRENCY_ONLINE_ORDER': 'INR', 'FIN_AMOUNT_ONLINE_ORDER': 3.0, 'FIN_TOTAL ESTIMATED AMOUNT_ONLINE_ORDER': 3.0, 'FIN_CONVERSION_RATE_ONLINE_ORDER': 3.0, 'FIN_AMOUNT_INR_ONLINE_ORDER': 3.0, 'TOTAL_ESTIMATED_AMOUNT_INR_ONLINE_ORDER': 3.0, 'stages': [{'stage_id': 'PR_NEED_CLARIFICATION'}]}}]}}}]}}, {'key': 'sfsdd', 'doc_count': 1, 'child_groups': {'doc_count_error_upper_bound': 0, 'sum_other_doc_count': 0, 'buckets': [{'key': 'PR_PAYMENT_REQUEST_DRAFTS', 'doc_count': 1, 'tasks': {'hits': {'total': {'value': 1, 'relation': 'eq'}, 'max_score': 1.0, 'hits': [{'_index': 'task-local', '_type': '_doc', '_id': 'QwuIoHQBlEpf_YrJ_tRM', '_score': 1.0, '_source': {'project_id': 'FIN_MAN', 'template_id': 'FIN_PR', 'task_id': 21, 'title': 'xsdfsf', 'FIN_TYPE_OF_PAYMENT_REQUEST': 'Online Orders/3rd Party Site Payment', 'FIN_PURPOSE_OF_THE_ORDER': 'sfsdd', 'FIN_EVENTS_ACTIVITY_PETTYCASH': 'Entrepreneurship talk in Bundelkhand Chamber of Commerce & Industry', 'stages': [{'stage_id': 'PR_PAYMENT_REQUEST_DRAFTS'}]}}]}}}]}}, {'key': 'sfsdfsd', 'doc_count': 1, 'child_groups': {'doc_count_error_upper_bound': 0, 'sum_other_doc_count': 0, 'buckets': [{'key': 'PR_PAYMENT_REQUEST_DRAFTS', 'doc_count': 1, 'tasks': {'hits': {'total': {'value': 1, 'relation': 'eq'}, 'max_score': 1.0, 'hits': [{'_index': 'task-local', '_type': '_doc', '_id': 'zgvAoHQBlEpf_YrJJdSg', '_score': 1.0, '_source': {'project_id': 'FIN_MAN', 'template_id': 'FIN_PR', 'task_id': 25, 'title': 'Mahendra draft task', 'FIN_TYPE_OF_PAYMENT_REQUEST': 'Online Orders/3rd Party Site Payment', 'FIN_PURPOSE_OF_THE_ORDER': 'sfsdfsd', 'FIN_PAYMENT_TYPE_ONLINE_ORDER': 'One Time Payment', 'FIN_CURRENCY_ONLINE_ORDER': 'INR', 'stages': [{'stage_id': 'PR_PAYMENT_REQUEST_DRAFTS'}]}}]}}}]}}]"
      ]
     },
     "execution_count": 13,
     "metadata": {},
     "output_type": "execute_result"
    }
   ],
   "source": [
    "response.aggregations.groups.buckets"
   ]
  },
  {
   "cell_type": "code",
   "execution_count": null,
   "metadata": {},
   "outputs": [],
   "source": []
  },
  {
   "cell_type": "code",
   "execution_count": null,
   "metadata": {},
   "outputs": [],
   "source": []
  },
  {
   "cell_type": "code",
   "execution_count": null,
   "metadata": {},
   "outputs": [],
   "source": []
  },
  {
   "cell_type": "code",
   "execution_count": null,
   "metadata": {},
   "outputs": [],
   "source": []
  },
  {
   "cell_type": "code",
   "execution_count": null,
   "metadata": {},
   "outputs": [],
   "source": []
  },
  {
   "cell_type": "code",
   "execution_count": null,
   "metadata": {},
   "outputs": [],
   "source": []
  },
  {
   "cell_type": "code",
   "execution_count": null,
   "metadata": {},
   "outputs": [],
   "source": []
  },
  {
   "cell_type": "code",
   "execution_count": null,
   "metadata": {},
   "outputs": [],
   "source": []
  },
  {
   "cell_type": "code",
   "execution_count": 248,
   "metadata": {},
   "outputs": [],
   "source": [
    "# total tasks"
   ]
  },
  {
   "cell_type": "code",
   "execution_count": 249,
   "metadata": {},
   "outputs": [],
   "source": [
    "from elasticsearch_dsl import Q, Search\n",
    "query = Q(\"term\", project_id__keyword=project_id) \\\n",
    "            & Q('term', template_id__keyword=adhoc_template_id)"
   ]
  },
  {
   "cell_type": "code",
   "execution_count": 284,
   "metadata": {},
   "outputs": [],
   "source": [
    "search = Search(index=\"task-local\")"
   ]
  },
  {
   "cell_type": "code",
   "execution_count": 251,
   "metadata": {},
   "outputs": [
    {
     "data": {
      "text/plain": [
       "{}"
      ]
     },
     "execution_count": 251,
     "metadata": {},
     "output_type": "execute_result"
    }
   ],
   "source": [
    "search.to_dict()"
   ]
  },
  {
   "cell_type": "code",
   "execution_count": 252,
   "metadata": {},
   "outputs": [],
   "source": [
    "task_objects = search.filter(query)"
   ]
  },
  {
   "cell_type": "code",
   "execution_count": 253,
   "metadata": {},
   "outputs": [],
   "source": [
    "response = search.execute()"
   ]
  },
  {
   "cell_type": "code",
   "execution_count": 272,
   "metadata": {},
   "outputs": [
    {
     "name": "stdout",
     "output_type": "stream",
     "text": [
      "19\n",
      "20\n",
      "21\n",
      "22\n",
      "23\n",
      "24\n",
      "25\n",
      "26\n",
      "27\n",
      "28\n"
     ]
    }
   ],
   "source": [
    "for task in task_objects:\n",
    "    print(task.task_id)"
   ]
  },
  {
   "cell_type": "code",
   "execution_count": 227,
   "metadata": {},
   "outputs": [
    {
     "data": {
      "text/plain": [
       "19"
      ]
     },
     "execution_count": 227,
     "metadata": {},
     "output_type": "execute_result"
    }
   ],
   "source": [
    "task_objects.count()"
   ]
  },
  {
   "cell_type": "code",
   "execution_count": 270,
   "metadata": {},
   "outputs": [
    {
     "data": {
      "text/plain": [
       "<elasticsearch_dsl.search.Search at 0x7f9bbe8418e0>"
      ]
     },
     "execution_count": 270,
     "metadata": {},
     "output_type": "execute_result"
    }
   ],
   "source": [
    "task_objects[1:5]"
   ]
  },
  {
   "cell_type": "code",
   "execution_count": null,
   "metadata": {},
   "outputs": [],
   "source": []
  },
  {
   "cell_type": "code",
   "execution_count": null,
   "metadata": {},
   "outputs": [],
   "source": []
  },
  {
   "cell_type": "code",
   "execution_count": 303,
   "metadata": {},
   "outputs": [],
   "source": [
    "# For one grouping"
   ]
  },
  {
   "cell_type": "code",
   "execution_count": 11,
   "metadata": {},
   "outputs": [],
   "source": [
    "from elasticsearch_dsl import Q, Search\n",
    "query = Q(\"term\", project_id__keyword=project_id) \\\n",
    "            & Q('term', template_id__keyword=adhoc_template_id)"
   ]
  },
  {
   "cell_type": "code",
   "execution_count": 16,
   "metadata": {},
   "outputs": [],
   "source": [
    "search = Search(index=\"task-local\")\n",
    "search.filter(query)\n",
    "field_agg = A('terms', field='FIN_PURPOSE_OF_THE_ORDER.keyword')\n",
    "tasks_data = A('top_hits')"
   ]
  },
  {
   "cell_type": "code",
   "execution_count": 17,
   "metadata": {},
   "outputs": [
    {
     "data": {
      "text/plain": [
       "TopHits()"
      ]
     },
     "execution_count": 17,
     "metadata": {},
     "output_type": "execute_result"
    }
   ],
   "source": [
    "search.aggs.bucket('groups',field_agg).bucket('tasks', tasks_data)"
   ]
  },
  {
   "cell_type": "code",
   "execution_count": 18,
   "metadata": {},
   "outputs": [
    {
     "name": "stderr",
     "output_type": "stream",
     "text": [
      "[none] [ib_workflows_backend - local] INFO     [15:29:36]  [/home/ib-developer/PycharmProjects/ib-workflows-backend/venv/lib/python3.8/site-packages/elasticsearch/connection/base.py] [base.py][log_request_success] [227]: POST http://localhost:9200/task-local/_search [status:200 request:0.003s]\n"
     ]
    }
   ],
   "source": [
    "response = search.execute()"
   ]
  },
  {
   "cell_type": "code",
   "execution_count": 19,
   "metadata": {},
   "outputs": [
    {
     "data": {
      "text/plain": [
       "{'aggs': {'groups': {'terms': {'field': 'FIN_PURPOSE_OF_THE_ORDER.keyword'},\n",
       "   'aggs': {'tasks': {'top_hits': {}}}}}}"
      ]
     },
     "execution_count": 19,
     "metadata": {},
     "output_type": "execute_result"
    }
   ],
   "source": [
    "search.to_dict()"
   ]
  },
  {
   "cell_type": "code",
   "execution_count": 21,
   "metadata": {},
   "outputs": [],
   "source": [
    "response = search.execute()"
   ]
  },
  {
   "cell_type": "code",
   "execution_count": 30,
   "metadata": {},
   "outputs": [
    {
     "data": {
      "text/plain": [
       "5"
      ]
     },
     "execution_count": 30,
     "metadata": {},
     "output_type": "execute_result"
    }
   ],
   "source": [
    "len(response.aggregations.groups.buckets)"
   ]
  },
  {
   "cell_type": "code",
   "execution_count": 35,
   "metadata": {},
   "outputs": [
    {
     "name": "stdout",
     "output_type": "stream",
     "text": [
      "need to pay debt\n",
      "1\n",
      "<Response: [<Hit(task-local/AQtuoHQBlEpf_YrJx9SP): {'project_id': 'FIN_MAN', 'template_id': 'FIN_PR', 'task_id'...}>]>\n",
      "need to pay friend\n",
      "1\n",
      "<Response: [<Hit(task-local/HQtvoHQBlEpf_YrJstTD): {'project_id': 'FIN_MAN', 'template_id': 'FIN_PR', 'task_id'...}>]>\n",
      "purpose\n",
      "1\n",
      "<Response: [<Hit(task-local/ngu-oHQBlEpf_YrJAdTi): {'project_id': 'FIN_MAN', 'template_id': 'FIN_PR', 'task_id'...}>]>\n",
      "sfsdd\n",
      "1\n",
      "<Response: [<Hit(task-local/QwuIoHQBlEpf_YrJ_tRM): {'project_id': 'FIN_MAN', 'template_id': 'FIN_PR', 'task_id'...}>]>\n",
      "sfsdfsd\n",
      "1\n",
      "<Response: [<Hit(task-local/zgvAoHQBlEpf_YrJJdSg): {'project_id': 'FIN_MAN', 'template_id': 'FIN_PR', 'task_id'...}>]>\n"
     ]
    }
   ],
   "source": [
    "for group in response.aggregations.groups.buckets:\n",
    "    print(group.key)\n",
    "    print(group.doc_count)\n",
    "    print(group.tasks)"
   ]
  },
  {
   "cell_type": "code",
   "execution_count": null,
   "metadata": {},
   "outputs": [],
   "source": []
  }
 ],
 "metadata": {
  "kernelspec": {
   "display_name": "Python 3",
   "language": "python",
   "name": "python3"
  },
  "language_info": {
   "codemirror_mode": {
    "name": "ipython",
    "version": 3
   },
   "file_extension": ".py",
   "mimetype": "text/x-python",
   "name": "python",
   "nbconvert_exporter": "python",
   "pygments_lexer": "ipython3",
   "version": "3.8.2"
  }
 },
 "nbformat": 4,
 "nbformat_minor": 4
}
