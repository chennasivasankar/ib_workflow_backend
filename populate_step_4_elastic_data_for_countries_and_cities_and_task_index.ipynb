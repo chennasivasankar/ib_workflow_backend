{
 "cells": [
  {
   "cell_type": "code",
   "execution_count": 1,
   "metadata": {},
   "outputs": [
    {
     "name": "stdout",
     "output_type": "stream",
     "text": [
      "{\n",
      "  \"shell_port\": 36835,\n",
      "  \"iopub_port\": 52741,\n",
      "  \"stdin_port\": 35339,\n",
      "  \"control_port\": 47589,\n",
      "  \"hb_port\": 36287,\n",
      "  \"ip\": \"127.0.0.1\",\n",
      "  \"key\": \"d5078f29-ba381f07d65b7643cf9e3d6c\",\n",
      "  \"transport\": \"tcp\",\n",
      "  \"signature_scheme\": \"hmac-sha256\",\n",
      "  \"kernel_name\": \"\"\n",
      "}\n",
      "\n",
      "Paste the above JSON into a file, and connect with:\n",
      "    $> jupyter <app> --existing <file>\n",
      "or, if you are local, you can connect with just:\n",
      "    $> jupyter <app> --existing kernel-e3da5857-34b9-4f93-a51b-d4cd5ef9aff7.json\n",
      "or even just:\n",
      "    $> jupyter <app> --existing\n",
      "if this is the most recent Jupyter kernel you have started.\n"
     ]
    }
   ],
   "source": [
    "%load_ext autoreload\n",
    "%autoreload 2\n",
    "\n",
    "%connect_info"
   ]
  },
  {
   "cell_type": "code",
   "execution_count": 2,
   "metadata": {},
   "outputs": [],
   "source": [
    "import django\n",
    "django.setup()"
   ]
  },
  {
   "cell_type": "code",
   "execution_count": 3,
   "metadata": {},
   "outputs": [
    {
     "name": "stderr",
     "output_type": "stream",
     "text": [
      "[none] [ib_workflows_backend - local] INFO     [21:38:03]  [/home/ib-developer/PycharmProjects/ib-workflows-backend/venv/lib/python3.8/site-packages/elasticsearch/connection/base.py] [base.py][log_request_success] [227]: POST http://localhost:9200/country-local/_doc [status:201 request:0.187s]\n",
      "[none] [ib_workflows_backend - local] INFO     [21:38:03]  [/home/ib-developer/PycharmProjects/ib-workflows-backend/venv/lib/python3.8/site-packages/elasticsearch/connection/base.py] [base.py][log_request_success] [227]: POST http://localhost:9200/country-local/_doc [status:201 request:0.006s]\n",
      "[none] [ib_workflows_backend - local] INFO     [21:38:03]  [/home/ib-developer/PycharmProjects/ib-workflows-backend/venv/lib/python3.8/site-packages/elasticsearch/connection/base.py] [base.py][log_request_success] [227]: POST http://localhost:9200/country-local/_doc [status:201 request:0.005s]\n",
      "[none] [ib_workflows_backend - local] INFO     [21:38:03]  [/home/ib-developer/PycharmProjects/ib-workflows-backend/venv/lib/python3.8/site-packages/elasticsearch/connection/base.py] [base.py][log_request_success] [227]: POST http://localhost:9200/country-local/_doc [status:201 request:0.006s]\n",
      "[none] [ib_workflows_backend - local] INFO     [21:38:03]  [/home/ib-developer/PycharmProjects/ib-workflows-backend/venv/lib/python3.8/site-packages/elasticsearch/connection/base.py] [base.py][log_request_success] [227]: POST http://localhost:9200/country-local/_doc [status:201 request:0.033s]\n",
      "[none] [ib_workflows_backend - local] INFO     [21:38:03]  [/home/ib-developer/PycharmProjects/ib-workflows-backend/venv/lib/python3.8/site-packages/elasticsearch/connection/base.py] [base.py][log_request_success] [227]: POST http://localhost:9200/country-local/_doc [status:201 request:0.005s]\n",
      "[none] [ib_workflows_backend - local] INFO     [21:38:03]  [/home/ib-developer/PycharmProjects/ib-workflows-backend/venv/lib/python3.8/site-packages/elasticsearch/connection/base.py] [base.py][log_request_success] [227]: POST http://localhost:9200/country-local/_doc [status:201 request:0.005s]\n",
      "[none] [ib_workflows_backend - local] INFO     [21:38:03]  [/home/ib-developer/PycharmProjects/ib-workflows-backend/venv/lib/python3.8/site-packages/elasticsearch/connection/base.py] [base.py][log_request_success] [227]: POST http://localhost:9200/country-local/_doc [status:201 request:0.006s]\n",
      "[none] [ib_workflows_backend - local] INFO     [21:38:03]  [/home/ib-developer/PycharmProjects/ib-workflows-backend/venv/lib/python3.8/site-packages/elasticsearch/connection/base.py] [base.py][log_request_success] [227]: POST http://localhost:9200/state-local/_doc [status:201 request:0.195s]\n",
      "[none] [ib_workflows_backend - local] INFO     [21:38:03]  [/home/ib-developer/PycharmProjects/ib-workflows-backend/venv/lib/python3.8/site-packages/elasticsearch/connection/base.py] [base.py][log_request_success] [227]: POST http://localhost:9200/state-local/_doc [status:201 request:0.005s]\n",
      "[none] [ib_workflows_backend - local] INFO     [21:38:03]  [/home/ib-developer/PycharmProjects/ib-workflows-backend/venv/lib/python3.8/site-packages/elasticsearch/connection/base.py] [base.py][log_request_success] [227]: POST http://localhost:9200/state-local/_doc [status:201 request:0.008s]\n",
      "[none] [ib_workflows_backend - local] INFO     [21:38:03]  [/home/ib-developer/PycharmProjects/ib-workflows-backend/venv/lib/python3.8/site-packages/elasticsearch/connection/base.py] [base.py][log_request_success] [227]: POST http://localhost:9200/state-local/_doc [status:201 request:0.006s]\n",
      "[none] [ib_workflows_backend - local] INFO     [21:38:03]  [/home/ib-developer/PycharmProjects/ib-workflows-backend/venv/lib/python3.8/site-packages/elasticsearch/connection/base.py] [base.py][log_request_success] [227]: POST http://localhost:9200/state-local/_doc [status:201 request:0.007s]\n",
      "[none] [ib_workflows_backend - local] INFO     [21:38:03]  [/home/ib-developer/PycharmProjects/ib-workflows-backend/venv/lib/python3.8/site-packages/elasticsearch/connection/base.py] [base.py][log_request_success] [227]: POST http://localhost:9200/state-local/_doc [status:201 request:0.006s]\n",
      "[none] [ib_workflows_backend - local] INFO     [21:38:04]  [/home/ib-developer/PycharmProjects/ib-workflows-backend/venv/lib/python3.8/site-packages/elasticsearch/connection/base.py] [base.py][log_request_success] [227]: POST http://localhost:9200/state-local/_doc [status:201 request:0.006s]\n",
      "[none] [ib_workflows_backend - local] INFO     [21:38:04]  [/home/ib-developer/PycharmProjects/ib-workflows-backend/venv/lib/python3.8/site-packages/elasticsearch/connection/base.py] [base.py][log_request_success] [227]: POST http://localhost:9200/city-local/_doc [status:201 request:0.166s]\n",
      "[none] [ib_workflows_backend - local] INFO     [21:38:04]  [/home/ib-developer/PycharmProjects/ib-workflows-backend/venv/lib/python3.8/site-packages/elasticsearch/connection/base.py] [base.py][log_request_success] [227]: POST http://localhost:9200/city-local/_doc [status:201 request:0.008s]\n",
      "[none] [ib_workflows_backend - local] INFO     [21:38:04]  [/home/ib-developer/PycharmProjects/ib-workflows-backend/venv/lib/python3.8/site-packages/elasticsearch/connection/base.py] [base.py][log_request_success] [227]: POST http://localhost:9200/city-local/_doc [status:201 request:0.009s]\n",
      "[none] [ib_workflows_backend - local] INFO     [21:38:04]  [/home/ib-developer/PycharmProjects/ib-workflows-backend/venv/lib/python3.8/site-packages/elasticsearch/connection/base.py] [base.py][log_request_success] [227]: POST http://localhost:9200/city-local/_doc [status:201 request:0.006s]\n",
      "[none] [ib_workflows_backend - local] INFO     [21:38:04]  [/home/ib-developer/PycharmProjects/ib-workflows-backend/venv/lib/python3.8/site-packages/elasticsearch/connection/base.py] [base.py][log_request_success] [227]: POST http://localhost:9200/city-local/_doc [status:201 request:0.006s]\n",
      "[none] [ib_workflows_backend - local] INFO     [21:38:04]  [/home/ib-developer/PycharmProjects/ib-workflows-backend/venv/lib/python3.8/site-packages/elasticsearch/connection/base.py] [base.py][log_request_success] [227]: POST http://localhost:9200/city-local/_doc [status:201 request:0.006s]\n",
      "[none] [ib_workflows_backend - local] INFO     [21:38:04]  [/home/ib-developer/PycharmProjects/ib-workflows-backend/venv/lib/python3.8/site-packages/elasticsearch/connection/base.py] [base.py][log_request_success] [227]: POST http://localhost:9200/city-local/_doc [status:201 request:0.008s]\n"
     ]
    }
   ],
   "source": [
    "\"\"\"\n",
    "Populate Elastic Search Data For Cities\n",
    "\n",
    "\"\"\"\n",
    "\n",
    "from ib_iam.populate.populate_elastic_search_data import populate_data\n",
    "populate_data()"
   ]
  },
  {
   "cell_type": "code",
   "execution_count": null,
   "metadata": {},
   "outputs": [],
   "source": []
  },
  {
   "cell_type": "code",
   "execution_count": 8,
   "metadata": {},
   "outputs": [],
   "source": [
    "from elasticsearch_dsl import connections\n",
    "from django.conf import settings\n",
    "es = connections.create_connection(\n",
    "hosts=[settings.ELASTICSEARCH_ENDPOINT], timeout=20)"
   ]
  },
  {
   "cell_type": "code",
   "execution_count": 9,
   "metadata": {},
   "outputs": [
    {
     "name": "stderr",
     "output_type": "stream",
     "text": [
      "[none] [ib_workflows_backend - local] WARNING  [21:38:27]  [/home/ib-developer/PycharmProjects/ib-workflows-backend/venv/lib/python3.8/site-packages/elasticsearch/connection/base.py] [base.py][log_request_fail] [250]: PUT http://localhost:9200/task-local [status:400 request:0.004s]\n"
     ]
    },
    {
     "ename": "RequestError",
     "evalue": "RequestError(400, 'resource_already_exists_exception', 'index [task-local/8-nnIachRl60PoMTVOIlMQ] already exists')",
     "output_type": "error",
     "traceback": [
      "\u001b[0;31m---------------------------------------------------------------------------\u001b[0m",
      "\u001b[0;31mRequestError\u001b[0m                              Traceback (most recent call last)",
      "\u001b[0;32m<ipython-input-9-5324acb3811a>\u001b[0m in \u001b[0;36m<module>\u001b[0;34m\u001b[0m\n\u001b[1;32m      3\u001b[0m \"\"\"\n\u001b[1;32m      4\u001b[0m \u001b[0;32mfrom\u001b[0m \u001b[0mib_tasks\u001b[0m\u001b[0;34m.\u001b[0m\u001b[0mdocuments\u001b[0m\u001b[0;34m.\u001b[0m\u001b[0melastic_task\u001b[0m \u001b[0;32mimport\u001b[0m \u001b[0mTASK_INDEX_NAME\u001b[0m\u001b[0;34m\u001b[0m\u001b[0;34m\u001b[0m\u001b[0m\n\u001b[0;32m----> 5\u001b[0;31m \u001b[0mes\u001b[0m\u001b[0;34m.\u001b[0m\u001b[0mindices\u001b[0m\u001b[0;34m.\u001b[0m\u001b[0mcreate\u001b[0m\u001b[0;34m(\u001b[0m\u001b[0mindex\u001b[0m \u001b[0;34m=\u001b[0m \u001b[0mTASK_INDEX_NAME\u001b[0m\u001b[0;34m)\u001b[0m\u001b[0;34m\u001b[0m\u001b[0;34m\u001b[0m\u001b[0m\n\u001b[0m",
      "\u001b[0;32m~/PycharmProjects/ib-workflows-backend/venv/lib/python3.8/site-packages/elasticsearch/client/utils.py\u001b[0m in \u001b[0;36m_wrapped\u001b[0;34m(*args, **kwargs)\u001b[0m\n\u001b[1;32m    137\u001b[0m                 \u001b[0;32mif\u001b[0m \u001b[0mp\u001b[0m \u001b[0;32min\u001b[0m \u001b[0mkwargs\u001b[0m\u001b[0;34m:\u001b[0m\u001b[0;34m\u001b[0m\u001b[0;34m\u001b[0m\u001b[0m\n\u001b[1;32m    138\u001b[0m                     \u001b[0mparams\u001b[0m\u001b[0;34m[\u001b[0m\u001b[0mp\u001b[0m\u001b[0;34m]\u001b[0m \u001b[0;34m=\u001b[0m \u001b[0mkwargs\u001b[0m\u001b[0;34m.\u001b[0m\u001b[0mpop\u001b[0m\u001b[0;34m(\u001b[0m\u001b[0mp\u001b[0m\u001b[0;34m)\u001b[0m\u001b[0;34m\u001b[0m\u001b[0;34m\u001b[0m\u001b[0m\n\u001b[0;32m--> 139\u001b[0;31m             \u001b[0;32mreturn\u001b[0m \u001b[0mfunc\u001b[0m\u001b[0;34m(\u001b[0m\u001b[0;34m*\u001b[0m\u001b[0margs\u001b[0m\u001b[0;34m,\u001b[0m \u001b[0mparams\u001b[0m\u001b[0;34m=\u001b[0m\u001b[0mparams\u001b[0m\u001b[0;34m,\u001b[0m \u001b[0mheaders\u001b[0m\u001b[0;34m=\u001b[0m\u001b[0mheaders\u001b[0m\u001b[0;34m,\u001b[0m \u001b[0;34m**\u001b[0m\u001b[0mkwargs\u001b[0m\u001b[0;34m)\u001b[0m\u001b[0;34m\u001b[0m\u001b[0;34m\u001b[0m\u001b[0m\n\u001b[0m\u001b[1;32m    140\u001b[0m \u001b[0;34m\u001b[0m\u001b[0m\n\u001b[1;32m    141\u001b[0m         \u001b[0;32mreturn\u001b[0m \u001b[0m_wrapped\u001b[0m\u001b[0;34m\u001b[0m\u001b[0;34m\u001b[0m\u001b[0m\n",
      "\u001b[0;32m~/PycharmProjects/ib-workflows-backend/venv/lib/python3.8/site-packages/elasticsearch/client/indices.py\u001b[0m in \u001b[0;36mcreate\u001b[0;34m(self, index, body, params, headers)\u001b[0m\n\u001b[1;32m    104\u001b[0m             \u001b[0;32mraise\u001b[0m \u001b[0mValueError\u001b[0m\u001b[0;34m(\u001b[0m\u001b[0;34m\"Empty value passed for a required argument 'index'.\"\u001b[0m\u001b[0;34m)\u001b[0m\u001b[0;34m\u001b[0m\u001b[0;34m\u001b[0m\u001b[0m\n\u001b[1;32m    105\u001b[0m \u001b[0;34m\u001b[0m\u001b[0m\n\u001b[0;32m--> 106\u001b[0;31m         return self.transport.perform_request(\n\u001b[0m\u001b[1;32m    107\u001b[0m             \u001b[0;34m\"PUT\"\u001b[0m\u001b[0;34m,\u001b[0m \u001b[0m_make_path\u001b[0m\u001b[0;34m(\u001b[0m\u001b[0mindex\u001b[0m\u001b[0;34m)\u001b[0m\u001b[0;34m,\u001b[0m \u001b[0mparams\u001b[0m\u001b[0;34m=\u001b[0m\u001b[0mparams\u001b[0m\u001b[0;34m,\u001b[0m \u001b[0mheaders\u001b[0m\u001b[0;34m=\u001b[0m\u001b[0mheaders\u001b[0m\u001b[0;34m,\u001b[0m \u001b[0mbody\u001b[0m\u001b[0;34m=\u001b[0m\u001b[0mbody\u001b[0m\u001b[0;34m\u001b[0m\u001b[0;34m\u001b[0m\u001b[0m\n\u001b[1;32m    108\u001b[0m         )\n",
      "\u001b[0;32m~/PycharmProjects/ib-workflows-backend/venv/lib/python3.8/site-packages/elasticsearch/transport.py\u001b[0m in \u001b[0;36mperform_request\u001b[0;34m(self, method, url, headers, params, body)\u001b[0m\n\u001b[1;32m    343\u001b[0m \u001b[0;34m\u001b[0m\u001b[0m\n\u001b[1;32m    344\u001b[0m             \u001b[0;32mtry\u001b[0m\u001b[0;34m:\u001b[0m\u001b[0;34m\u001b[0m\u001b[0;34m\u001b[0m\u001b[0m\n\u001b[0;32m--> 345\u001b[0;31m                 status, headers_response, data = connection.perform_request(\n\u001b[0m\u001b[1;32m    346\u001b[0m                     \u001b[0mmethod\u001b[0m\u001b[0;34m,\u001b[0m\u001b[0;34m\u001b[0m\u001b[0;34m\u001b[0m\u001b[0m\n\u001b[1;32m    347\u001b[0m                     \u001b[0murl\u001b[0m\u001b[0;34m,\u001b[0m\u001b[0;34m\u001b[0m\u001b[0;34m\u001b[0m\u001b[0m\n",
      "\u001b[0;32m~/PycharmProjects/ib-workflows-backend/venv/lib/python3.8/site-packages/elasticsearch/connection/http_urllib3.py\u001b[0m in \u001b[0;36mperform_request\u001b[0;34m(self, method, url, params, body, timeout, ignore, headers)\u001b[0m\n\u001b[1;32m    254\u001b[0m                 \u001b[0mmethod\u001b[0m\u001b[0;34m,\u001b[0m \u001b[0mfull_url\u001b[0m\u001b[0;34m,\u001b[0m \u001b[0murl\u001b[0m\u001b[0;34m,\u001b[0m \u001b[0morig_body\u001b[0m\u001b[0;34m,\u001b[0m \u001b[0mduration\u001b[0m\u001b[0;34m,\u001b[0m \u001b[0mresponse\u001b[0m\u001b[0;34m.\u001b[0m\u001b[0mstatus\u001b[0m\u001b[0;34m,\u001b[0m \u001b[0mraw_data\u001b[0m\u001b[0;34m\u001b[0m\u001b[0;34m\u001b[0m\u001b[0m\n\u001b[1;32m    255\u001b[0m             )\n\u001b[0;32m--> 256\u001b[0;31m             \u001b[0mself\u001b[0m\u001b[0;34m.\u001b[0m\u001b[0m_raise_error\u001b[0m\u001b[0;34m(\u001b[0m\u001b[0mresponse\u001b[0m\u001b[0;34m.\u001b[0m\u001b[0mstatus\u001b[0m\u001b[0;34m,\u001b[0m \u001b[0mraw_data\u001b[0m\u001b[0;34m)\u001b[0m\u001b[0;34m\u001b[0m\u001b[0;34m\u001b[0m\u001b[0m\n\u001b[0m\u001b[1;32m    257\u001b[0m \u001b[0;34m\u001b[0m\u001b[0m\n\u001b[1;32m    258\u001b[0m         self.log_request_success(\n",
      "\u001b[0;32m~/PycharmProjects/ib-workflows-backend/venv/lib/python3.8/site-packages/elasticsearch/connection/base.py\u001b[0m in \u001b[0;36m_raise_error\u001b[0;34m(self, status_code, raw_data)\u001b[0m\n\u001b[1;32m    285\u001b[0m             \u001b[0mlogger\u001b[0m\u001b[0;34m.\u001b[0m\u001b[0mwarning\u001b[0m\u001b[0;34m(\u001b[0m\u001b[0;34m\"Undecodable raw error response from server: %s\"\u001b[0m\u001b[0;34m,\u001b[0m \u001b[0merr\u001b[0m\u001b[0;34m)\u001b[0m\u001b[0;34m\u001b[0m\u001b[0;34m\u001b[0m\u001b[0m\n\u001b[1;32m    286\u001b[0m \u001b[0;34m\u001b[0m\u001b[0m\n\u001b[0;32m--> 287\u001b[0;31m         raise HTTP_EXCEPTIONS.get(status_code, TransportError)(\n\u001b[0m\u001b[1;32m    288\u001b[0m             \u001b[0mstatus_code\u001b[0m\u001b[0;34m,\u001b[0m \u001b[0merror_message\u001b[0m\u001b[0;34m,\u001b[0m \u001b[0madditional_info\u001b[0m\u001b[0;34m\u001b[0m\u001b[0;34m\u001b[0m\u001b[0m\n\u001b[1;32m    289\u001b[0m         )\n",
      "\u001b[0;31mRequestError\u001b[0m: RequestError(400, 'resource_already_exists_exception', 'index [task-local/8-nnIachRl60PoMTVOIlMQ] already exists')"
     ]
    }
   ],
   "source": [
    "\"\"\"\n",
    "Create Index for Tasks\n",
    "\"\"\"\n",
    "from ib_tasks.documents.elastic_task import TASK_INDEX_NAME\n",
    "es.indices.create(index = TASK_INDEX_NAME)"
   ]
  },
  {
   "cell_type": "code",
   "execution_count": 10,
   "metadata": {},
   "outputs": [
    {
     "ename": "InvalidUserId",
     "evalue": "",
     "output_type": "error",
     "traceback": [
      "\u001b[0;31m---------------------------------------------------------------------------\u001b[0m",
      "\u001b[0;31mInvalidUserException\u001b[0m                      Traceback (most recent call last)",
      "\u001b[0;32m~/PycharmProjects/ib-workflows-backend/ib_iam/adapters/user_service.py\u001b[0m in \u001b[0;36mget_user_profile_bulk\u001b[0;34m(self, user_ids)\u001b[0m\n\u001b[1;32m     25\u001b[0m         \u001b[0;32mtry\u001b[0m\u001b[0;34m:\u001b[0m\u001b[0;34m\u001b[0m\u001b[0;34m\u001b[0m\u001b[0m\n\u001b[0;32m---> 26\u001b[0;31m             user_profiles = self.interface.get_user_profile_bulk(\n\u001b[0m\u001b[1;32m     27\u001b[0m                 user_ids=user_ids)\n",
      "\u001b[0;32m~/PycharmProjects/ib-workflows-backend/venv/lib/python3.8/site-packages/ib_users/interfaces/service_interface.py\u001b[0m in \u001b[0;36mget_user_profile_bulk\u001b[0;34m(user_ids)\u001b[0m\n\u001b[1;32m    356\u001b[0m             storage=storage, presenter=presenter)\n\u001b[0;32m--> 357\u001b[0;31m         user_profiles = user_profile_interactor.get_user_profiles(\n\u001b[0m\u001b[1;32m    358\u001b[0m             user_ids=user_ids)\n",
      "\u001b[0;32m~/PycharmProjects/ib-workflows-backend/venv/lib/python3.8/site-packages/ib_users/interactors/user_profile_interactor.py\u001b[0m in \u001b[0;36mget_user_profiles\u001b[0;34m(self, user_ids)\u001b[0m\n\u001b[1;32m    338\u001b[0m \u001b[0;34m\u001b[0m\u001b[0m\n\u001b[0;32m--> 339\u001b[0;31m         self._check_and_throw_error_for_users_does_not_exist_bulk(\n\u001b[0m\u001b[1;32m    340\u001b[0m             \u001b[0muser_ids\u001b[0m\u001b[0;34m=\u001b[0m\u001b[0muser_ids\u001b[0m\u001b[0;34m\u001b[0m\u001b[0;34m\u001b[0m\u001b[0m\n",
      "\u001b[0;32m~/PycharmProjects/ib-workflows-backend/venv/lib/python3.8/site-packages/ib_users/interactors/user_profile_interactor.py\u001b[0m in \u001b[0;36m_check_and_throw_error_for_users_does_not_exist_bulk\u001b[0;34m(self, user_ids)\u001b[0m\n\u001b[1;32m    218\u001b[0m                 \u001b[0mINVALID_USER_ID_ERROR_TYPE\u001b[0m\u001b[0;34m\u001b[0m\u001b[0;34m\u001b[0m\u001b[0m\n\u001b[0;32m--> 219\u001b[0;31m             raise InvalidUserException(message=INVALID_USER_ID,\n\u001b[0m\u001b[1;32m    220\u001b[0m                                        exception_type=INVALID_USER_ID_ERROR_TYPE)\n",
      "\u001b[0;31mInvalidUserException\u001b[0m: Invalid user, Please check user id",
      "\nDuring handling of the above exception, another exception occurred:\n",
      "\u001b[0;31mInvalidUserId\u001b[0m                             Traceback (most recent call last)",
      "\u001b[0;32m<ipython-input-10-57a40c051423>\u001b[0m in \u001b[0;36m<module>\u001b[0;34m\u001b[0m\n\u001b[1;32m      7\u001b[0m \u001b[0;34m\u001b[0m\u001b[0m\n\u001b[1;32m      8\u001b[0m \u001b[0;34m\u001b[0m\u001b[0m\n\u001b[0;32m----> 9\u001b[0;31m \u001b[0mpopulate_existing_users_to_elastic_search_database\u001b[0m\u001b[0;34m(\u001b[0m\u001b[0;34m)\u001b[0m\u001b[0;34m\u001b[0m\u001b[0;34m\u001b[0m\u001b[0m\n\u001b[0m",
      "\u001b[0;32m~/PycharmProjects/ib-workflows-backend/ib_iam/populate/populate_elastic_search_data.py\u001b[0m in \u001b[0;36mpopulate_existing_users_to_elastic_search_database\u001b[0;34m()\u001b[0m\n\u001b[1;32m     24\u001b[0m     \u001b[0;32mfrom\u001b[0m \u001b[0mib_iam\u001b[0m\u001b[0;34m.\u001b[0m\u001b[0madapters\u001b[0m\u001b[0;34m.\u001b[0m\u001b[0muser_service\u001b[0m \u001b[0;32mimport\u001b[0m \u001b[0mUserService\u001b[0m\u001b[0;34m\u001b[0m\u001b[0;34m\u001b[0m\u001b[0m\n\u001b[1;32m     25\u001b[0m     \u001b[0muser_service\u001b[0m \u001b[0;34m=\u001b[0m \u001b[0mUserService\u001b[0m\u001b[0;34m(\u001b[0m\u001b[0;34m)\u001b[0m\u001b[0;34m\u001b[0m\u001b[0;34m\u001b[0m\u001b[0m\n\u001b[0;32m---> 26\u001b[0;31m     user_dtos = user_service.get_user_profile_bulk(\n\u001b[0m\u001b[1;32m     27\u001b[0m         \u001b[0muser_ids\u001b[0m\u001b[0;34m=\u001b[0m\u001b[0muser_ids\u001b[0m\u001b[0;34m\u001b[0m\u001b[0;34m\u001b[0m\u001b[0m\n\u001b[1;32m     28\u001b[0m     )\n",
      "\u001b[0;32m~/PycharmProjects/ib-workflows-backend/ib_iam/adapters/user_service.py\u001b[0m in \u001b[0;36mget_user_profile_bulk\u001b[0;34m(self, user_ids)\u001b[0m\n\u001b[1;32m     27\u001b[0m                 user_ids=user_ids)\n\u001b[1;32m     28\u001b[0m         \u001b[0;32mexcept\u001b[0m \u001b[0mInvalidUserException\u001b[0m\u001b[0;34m:\u001b[0m\u001b[0;34m\u001b[0m\u001b[0;34m\u001b[0m\u001b[0m\n\u001b[0;32m---> 29\u001b[0;31m             \u001b[0;32mraise\u001b[0m \u001b[0mInvalidUserId\u001b[0m\u001b[0;34m(\u001b[0m\u001b[0;34m)\u001b[0m\u001b[0;34m\u001b[0m\u001b[0;34m\u001b[0m\u001b[0m\n\u001b[0m\u001b[1;32m     30\u001b[0m         user_profile_dtos = [\n\u001b[1;32m     31\u001b[0m             UserProfileDTO(\n",
      "\u001b[0;31mInvalidUserId\u001b[0m: "
     ]
    }
   ],
   "source": [
    "\"\"\"\n",
    "Populate Existing Users in Elastic Search\n",
    "\n",
    "\"\"\"\n",
    "\n",
    "from ib_iam.populate.populate_elastic_search_data import populate_existing_users_to_elastic_search_database\n",
    "\n",
    "\n",
    "populate_existing_users_to_elastic_search_database()"
   ]
  },
  {
   "cell_type": "code",
   "execution_count": null,
   "metadata": {},
   "outputs": [],
   "source": []
  }
 ],
 "metadata": {
  "kernelspec": {
   "display_name": "Python 3",
   "language": "python",
   "name": "python3"
  },
  "language_info": {
   "codemirror_mode": {
    "name": "ipython",
    "version": 3
   },
   "file_extension": ".py",
   "mimetype": "text/x-python",
   "name": "python",
   "nbconvert_exporter": "python",
   "pygments_lexer": "ipython3",
   "version": "3.8.2"
  }
 },
 "nbformat": 4,
 "nbformat_minor": 4
}
