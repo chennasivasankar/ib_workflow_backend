{
 "cells": [
  {
   "cell_type": "code",
   "execution_count": 1,
   "metadata": {},
   "outputs": [
    {
     "data": {
      "text/plain": [
       "<Elasticsearch([{'host': 'localhost', 'port': 9200}])>"
      ]
     },
     "execution_count": 1,
     "metadata": {},
     "output_type": "execute_result"
    }
   ],
   "source": [
    "import os\n",
    "import django\n",
    "os.environ.setdefault(\"DJANGO_SETTINGS_MODULE\", \"ib_workflows_backend.settings.local\")\n",
    "\n",
    "django.setup()\n",
    "from elasticsearch_dsl import connections\n",
    "from django.conf import settings \n",
    "connections.create_connection(hosts=[settings.ELASTICSEARCH_ENDPOINT],timeout=20)"
   ]
  },
  {
   "cell_type": "code",
   "execution_count": null,
   "metadata": {},
   "outputs": [],
   "source": []
  },
  {
   "cell_type": "code",
   "execution_count": 2,
   "metadata": {},
   "outputs": [],
   "source": [
    "spread_sheet_name = \"JGC Cycle Users Data Dev Loading\"\n",
    "sub_sheet_name = \"Users\"\n",
    "project_id = \"FIN_MAN\""
   ]
  },
  {
   "cell_type": "code",
   "execution_count": null,
   "metadata": {},
   "outputs": [],
   "source": []
  },
  {
   "cell_type": "code",
   "execution_count": 3,
   "metadata": {},
   "outputs": [],
   "source": [
    "from ib_iam.populate.populate_auth_users import * \n",
    "auth_users = AuthUsers()"
   ]
  },
  {
   "cell_type": "code",
   "execution_count": 4,
   "metadata": {},
   "outputs": [
    {
     "name": "stderr",
     "output_type": "stream",
     "text": [
      "[none] [ib_workflows_backend - local] INFO     [11:35:29]  [/home/ib-developer/PycharmProjects/ib-workflows-backend/venv/lib/python3.8/site-packages/elasticsearch/connection/base.py] [base.py][log_request_success] [227]: POST http://localhost:9200/user-local/_doc [status:201 request:0.009s]\n",
      "[none] [ib_workflows_backend - local] INFO     [11:35:29]  [/home/ib-developer/PycharmProjects/ib-workflows-backend/venv/lib/python3.8/site-packages/elasticsearch/connection/base.py] [base.py][log_request_success] [227]: POST http://localhost:9200/user-local/_doc [status:201 request:0.007s]\n",
      "[none] [ib_workflows_backend - local] INFO     [11:35:29]  [/home/ib-developer/PycharmProjects/ib-workflows-backend/venv/lib/python3.8/site-packages/elasticsearch/connection/base.py] [base.py][log_request_success] [227]: POST http://localhost:9200/user-local/_doc [status:201 request:0.006s]\n",
      "[none] [ib_workflows_backend - local] INFO     [11:35:29]  [/home/ib-developer/PycharmProjects/ib-workflows-backend/venv/lib/python3.8/site-packages/elasticsearch/connection/base.py] [base.py][log_request_success] [227]: POST http://localhost:9200/user-local/_doc [status:201 request:0.005s]\n",
      "[none] [ib_workflows_backend - local] INFO     [11:35:29]  [/home/ib-developer/PycharmProjects/ib-workflows-backend/venv/lib/python3.8/site-packages/elasticsearch/connection/base.py] [base.py][log_request_success] [227]: POST http://localhost:9200/user-local/_doc [status:201 request:0.006s]\n",
      "[none] [ib_workflows_backend - local] INFO     [11:35:30]  [/home/ib-developer/PycharmProjects/ib-workflows-backend/venv/lib/python3.8/site-packages/elasticsearch/connection/base.py] [base.py][log_request_success] [227]: POST http://localhost:9200/user-local/_doc [status:201 request:0.006s]\n",
      "[none] [ib_workflows_backend - local] INFO     [11:35:30]  [/home/ib-developer/PycharmProjects/ib-workflows-backend/venv/lib/python3.8/site-packages/elasticsearch/connection/base.py] [base.py][log_request_success] [227]: POST http://localhost:9200/user-local/_doc [status:201 request:0.006s]\n",
      "[none] [ib_workflows_backend - local] INFO     [11:35:30]  [/home/ib-developer/PycharmProjects/ib-workflows-backend/venv/lib/python3.8/site-packages/elasticsearch/connection/base.py] [base.py][log_request_success] [227]: POST http://localhost:9200/user-local/_doc [status:201 request:0.006s]\n",
      "[none] [ib_workflows_backend - local] INFO     [11:35:30]  [/home/ib-developer/PycharmProjects/ib-workflows-backend/venv/lib/python3.8/site-packages/elasticsearch/connection/base.py] [base.py][log_request_success] [227]: POST http://localhost:9200/user-local/_doc [status:201 request:0.005s]\n"
     ]
    }
   ],
   "source": [
    "auth_users.populate_auth_users(\n",
    "    spread_sheet_name=spread_sheet_name, \n",
    "    sub_sheet_name=sub_sheet_name,\n",
    "    project_id=project_id\n",
    ")"
   ]
  },
  {
   "cell_type": "code",
   "execution_count": null,
   "metadata": {},
   "outputs": [],
   "source": []
  },
  {
   "cell_type": "code",
   "execution_count": 3,
   "metadata": {},
   "outputs": [],
   "source": [
    "sub_sheet_name = \"Teams and Levels\""
   ]
  },
  {
   "cell_type": "code",
   "execution_count": 4,
   "metadata": {},
   "outputs": [],
   "source": [
    "from ib_iam.populate.add_pm_and_sub_users import * "
   ]
  },
  {
   "cell_type": "code",
   "execution_count": 5,
   "metadata": {},
   "outputs": [],
   "source": [
    "pm_and_users = AddPMAndSubUsers()"
   ]
  },
  {
   "cell_type": "code",
   "execution_count": null,
   "metadata": {},
   "outputs": [],
   "source": []
  },
  {
   "cell_type": "code",
   "execution_count": 6,
   "metadata": {},
   "outputs": [
    {
     "name": "stdout",
     "output_type": "stream",
     "text": [
      "PMAndSubUsersAuthTokensDTO(pm_auth_token='pm_token_1', sub_user_auth_token='user_token_1')\n",
      "defaultdict(<class 'list'>, {'ab07929d-c5c3-4cf7-9d5a-294fe240198d': ['60662815-796e-4b48-83ee-f049b750bcb5']})\n",
      "PMAndSubUsersAuthTokensDTO(pm_auth_token='pm_token_1', sub_user_auth_token='user_token_2')\n",
      "defaultdict(<class 'list'>, {'ab07929d-c5c3-4cf7-9d5a-294fe240198d': ['60662815-796e-4b48-83ee-f049b750bcb5', 'f1d90821-abe2-4a07-bda3-664052c03692']})\n",
      "PMAndSubUsersAuthTokensDTO(pm_auth_token='pm_token_1', sub_user_auth_token='user_token_3')\n",
      "defaultdict(<class 'list'>, {'ab07929d-c5c3-4cf7-9d5a-294fe240198d': ['60662815-796e-4b48-83ee-f049b750bcb5', 'f1d90821-abe2-4a07-bda3-664052c03692', 'b983bdcf-e6d5-4b8e-a76f-0a2eb3887772']})\n",
      "PMAndSubUsersAuthTokensDTO(pm_auth_token='pm_token_2', sub_user_auth_token='user_token_4')\n",
      "defaultdict(<class 'list'>, {'ab07929d-c5c3-4cf7-9d5a-294fe240198d': ['60662815-796e-4b48-83ee-f049b750bcb5', 'f1d90821-abe2-4a07-bda3-664052c03692', 'b983bdcf-e6d5-4b8e-a76f-0a2eb3887772'], '33c3d60c-e33a-4a22-9e33-b0560d5a0254': ['7b48da8a-91f6-456a-888e-c992872acb6d']})\n",
      "PMAndSubUsersAuthTokensDTO(pm_auth_token='pm_token_2', sub_user_auth_token='user_token_5')\n",
      "defaultdict(<class 'list'>, {'ab07929d-c5c3-4cf7-9d5a-294fe240198d': ['60662815-796e-4b48-83ee-f049b750bcb5', 'f1d90821-abe2-4a07-bda3-664052c03692', 'b983bdcf-e6d5-4b8e-a76f-0a2eb3887772'], '33c3d60c-e33a-4a22-9e33-b0560d5a0254': ['7b48da8a-91f6-456a-888e-c992872acb6d', '5681de7f-a051-4f1c-9ae0-49b2cfe44d5d']})\n",
      "PMAndSubUsersAuthTokensDTO(pm_auth_token='pm_token_2', sub_user_auth_token='user_token_6')\n",
      "defaultdict(<class 'list'>, {'ab07929d-c5c3-4cf7-9d5a-294fe240198d': ['60662815-796e-4b48-83ee-f049b750bcb5', 'f1d90821-abe2-4a07-bda3-664052c03692', 'b983bdcf-e6d5-4b8e-a76f-0a2eb3887772'], '33c3d60c-e33a-4a22-9e33-b0560d5a0254': ['7b48da8a-91f6-456a-888e-c992872acb6d', '5681de7f-a051-4f1c-9ae0-49b2cfe44d5d', 'd0e4eaa4-8b3b-483c-a732-91ef89553870']})\n"
     ]
    }
   ],
   "source": [
    "pm_and_users.add_pm_and_sub_users(spread_sheet_name=spread_sheet_name, sub_sheet_name=sub_sheet_name)"
   ]
  },
  {
   "cell_type": "code",
   "execution_count": null,
   "metadata": {},
   "outputs": [],
   "source": []
  },
  {
   "cell_type": "code",
   "execution_count": null,
   "metadata": {},
   "outputs": [],
   "source": []
  }
 ],
 "metadata": {
  "kernelspec": {
   "display_name": "Python 3",
   "language": "python",
   "name": "python3"
  },
  "language_info": {
   "codemirror_mode": {
    "name": "ipython",
    "version": 3
   },
   "file_extension": ".py",
   "mimetype": "text/x-python",
   "name": "python",
   "nbconvert_exporter": "python",
   "pygments_lexer": "ipython3",
   "version": "3.8.2"
  }
 },
 "nbformat": 4,
 "nbformat_minor": 4
}
