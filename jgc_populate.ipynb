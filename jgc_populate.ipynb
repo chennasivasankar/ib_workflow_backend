{
 "cells": [
  {
   "cell_type": "code",
   "execution_count": 1,
   "metadata": {},
   "outputs": [
    {
     "name": "stdout",
     "output_type": "stream",
     "text": [
      "{\n",
      "  \"shell_port\": 55557,\n",
      "  \"iopub_port\": 55558,\n",
      "  \"stdin_port\": 55559,\n",
      "  \"control_port\": 55561,\n",
      "  \"hb_port\": 55560,\n",
      "  \"ip\": \"127.0.0.1\",\n",
      "  \"key\": \"3a85a8cd-8fbbac37d84bdf737e59222d\",\n",
      "  \"transport\": \"tcp\",\n",
      "  \"signature_scheme\": \"hmac-sha256\",\n",
      "  \"kernel_name\": \"\"\n",
      "}\n",
      "\n",
      "Paste the above JSON into a file, and connect with:\n",
      "    $> jupyter <app> --existing <file>\n",
      "or, if you are local, you can connect with just:\n",
      "    $> jupyter <app> --existing kernel-b24cbd37-9d57-4626-b2d4-f719a6f918a1.json\n",
      "or even just:\n",
      "    $> jupyter <app> --existing\n",
      "if this is the most recent Jupyter kernel you have started.\n"
     ]
    }
   ],
   "source": [
    "%load_ext autoreload\n",
    "%autoreload 2\n",
    "\n",
    "%connect_info"
   ]
  },
  {
   "cell_type": "code",
   "execution_count": 2,
   "metadata": {},
   "outputs": [
    {
     "data": {
      "text/plain": [
       "<Elasticsearch([{'host': 'localhost', 'port': 9200}])>"
      ]
     },
     "execution_count": 2,
     "metadata": {},
     "output_type": "execute_result"
    }
   ],
   "source": [
    "import os\n",
    "import django\n",
    "os.environ.setdefault(\"DJANGO_SETTINGS_MODULE\", \"ib_workflows_backend.settings.local\")\n",
    "\n",
    "django.setup()\n",
    "from elasticsearch_dsl import connections\n",
    "from django.conf import settings \n",
    "connections.create_connection(hosts=[settings.ELASTICSEARCH_ENDPOINT],timeout=20)"
   ]
  },
  {
   "cell_type": "code",
   "execution_count": null,
   "metadata": {},
   "outputs": [],
   "source": []
  },
  {
   "cell_type": "code",
   "execution_count": null,
   "metadata": {},
   "outputs": [],
   "source": [
    "# Note: Create when required\n",
    "# Create Super User -- To see admin panels\n",
    "\n",
    "from ib_users.models import *\n",
    "UserAccount.objects.create_superuser(username='admin', password='admin', email='admin@example.com')"
   ]
  },
  {
   "cell_type": "code",
   "execution_count": null,
   "metadata": {},
   "outputs": [],
   "source": []
  },
  {
   "cell_type": "code",
   "execution_count": null,
   "metadata": {},
   "outputs": [],
   "source": [
    "# TO Populate Data of Users in sheet"
   ]
  },
  {
   "cell_type": "code",
   "execution_count": 3,
   "metadata": {},
   "outputs": [],
   "source": [
    "spread_sheet_name = \"JGC Users Data Dev Loading\"\n",
    "sub_sheet_name = \"Users\"\n",
    "project_id = \"FIN_MAN\"\n",
    "is_assign_auth_token_users_to_team = True\n",
    "\n",
    "\n",
    "\n",
    "spread_sheet_name = \"Workflow Datasets For Accounts Creation\"\n",
    "sub_sheet_name = \"All Buckets With Users ID's\"\n",
    "project_id = \"JGC_DRIVE\"\n",
    "is_assign_auth_token_users_to_team = True\n",
    "\n",
    "\n"
   ]
  },
  {
   "cell_type": "code",
   "execution_count": 4,
   "metadata": {},
   "outputs": [],
   "source": [
    "from ib_iam.populate.populate_auth_users import * \n",
    "auth_users = AuthUsers()"
   ]
  },
  {
   "cell_type": "code",
   "execution_count": null,
   "metadata": {},
   "outputs": [],
   "source": [
    "\n",
    "auth_users.populate_auth_users(\n",
    "    spread_sheet_name=spread_sheet_name, \n",
    "    sub_sheet_name=sub_sheet_name,\n",
    "    project_id=project_id, role_ids=[\"CCBP_DRIVE_USER\"],\n",
    "    is_assign_auth_token_users_to_team=is_assign_auth_token_users_to_team\n",
    ")"
   ]
  },
  {
   "cell_type": "code",
   "execution_count": null,
   "metadata": {},
   "outputs": [],
   "source": [
    "len(data)"
   ]
  },
  {
   "cell_type": "code",
   "execution_count": null,
   "metadata": {},
   "outputs": [],
   "source": [
    "# TO Populate Data of PMs in sheet"
   ]
  },
  {
   "cell_type": "code",
   "execution_count": null,
   "metadata": {},
   "outputs": [],
   "source": [
    "spread_sheet_name = \"JGC Users Data Dev Loading\"\n",
    "sub_sheet_name = \"PMs\"\n",
    "project_id = \"FIN_MAN\"\n",
    "is_assign_auth_token_users_to_team = False"
   ]
  },
  {
   "cell_type": "code",
   "execution_count": null,
   "metadata": {},
   "outputs": [],
   "source": [
    "from ib_iam.populate.populate_auth_users import * \n",
    "auth_users = AuthUsers()"
   ]
  },
  {
   "cell_type": "code",
   "execution_count": null,
   "metadata": {},
   "outputs": [],
   "source": [
    "auth_users.populate_auth_users(\n",
    "    spread_sheet_name=spread_sheet_name, \n",
    "    sub_sheet_name=sub_sheet_name,\n",
    "    project_id=project_id, role_ids=[\"JGC_PM\"],\n",
    "    is_assign_auth_token_users_to_team=is_assign_auth_token_users_to_team\n",
    ")"
   ]
  },
  {
   "cell_type": "code",
   "execution_count": null,
   "metadata": {},
   "outputs": [],
   "source": []
  },
  {
   "cell_type": "code",
   "execution_count": null,
   "metadata": {},
   "outputs": [],
   "source": [
    "# TO Populate Data of SPMs in sheet"
   ]
  },
  {
   "cell_type": "code",
   "execution_count": null,
   "metadata": {},
   "outputs": [],
   "source": [
    "spread_sheet_name = \"JGC Users Data Dev Loading\"\n",
    "sub_sheet_name = \"SPMs\"\n",
    "project_id = \"FIN_MAN\"\n",
    "is_assign_auth_token_users_to_team = False"
   ]
  },
  {
   "cell_type": "code",
   "execution_count": null,
   "metadata": {},
   "outputs": [],
   "source": [
    "from ib_iam.populate.populate_auth_users import * \n",
    "auth_users = AuthUsers()"
   ]
  },
  {
   "cell_type": "code",
   "execution_count": null,
   "metadata": {},
   "outputs": [],
   "source": [
    "auth_users.populate_auth_users(\n",
    "    spread_sheet_name=spread_sheet_name, \n",
    "    sub_sheet_name=sub_sheet_name,\n",
    "    project_id=project_id, role_ids=[\"JGC_USER\"],\n",
    "    is_assign_auth_token_users_to_team=is_assign_auth_token_users_to_team\n",
    ")"
   ]
  },
  {
   "cell_type": "code",
   "execution_count": null,
   "metadata": {},
   "outputs": [],
   "source": []
  },
  {
   "cell_type": "code",
   "execution_count": null,
   "metadata": {},
   "outputs": [],
   "source": [
    "# TO populate PM and Sub Users in sheet"
   ]
  },
  {
   "cell_type": "code",
   "execution_count": null,
   "metadata": {},
   "outputs": [],
   "source": [
    "spread_sheet_name = \"JGC Users Data Dev Loading\"\n",
    "sub_sheet_name = \"Users and PMs\"\n",
    "project_id = \"FIN_MAN\"\n",
    "update_teams_of_users = True"
   ]
  },
  {
   "cell_type": "code",
   "execution_count": null,
   "metadata": {},
   "outputs": [],
   "source": [
    "from ib_iam.populate.add_pm_and_sub_users import * "
   ]
  },
  {
   "cell_type": "code",
   "execution_count": null,
   "metadata": {},
   "outputs": [],
   "source": [
    "pm_and_users = AddPMAndSubUsers()"
   ]
  },
  {
   "cell_type": "code",
   "execution_count": null,
   "metadata": {},
   "outputs": [],
   "source": [
    "pm_and_users.add_pm_and_sub_users(\n",
    "    spread_sheet_name=spread_sheet_name,\n",
    "    sub_sheet_name=sub_sheet_name,\n",
    "    project_id=project_id, update_teams_of_users=update_teams_of_users\n",
    ")"
   ]
  },
  {
   "cell_type": "code",
   "execution_count": null,
   "metadata": {},
   "outputs": [],
   "source": []
  },
  {
   "cell_type": "code",
   "execution_count": null,
   "metadata": {},
   "outputs": [],
   "source": [
    "# TO populate SPMs and PM in sheet"
   ]
  },
  {
   "cell_type": "code",
   "execution_count": null,
   "metadata": {},
   "outputs": [],
   "source": [
    "spread_sheet_name = \"JGC Users Data Dev Loading\"\n",
    "sub_sheet_name = \"SPMs and PMs\"\n",
    "project_id = \"FIN_MAN\""
   ]
  },
  {
   "cell_type": "code",
   "execution_count": null,
   "metadata": {},
   "outputs": [],
   "source": [
    "from ib_iam.populate.add_spm_and_pms import *"
   ]
  },
  {
   "cell_type": "code",
   "execution_count": null,
   "metadata": {},
   "outputs": [],
   "source": [
    "spm_and_pms = AddSpmAndPms()"
   ]
  },
  {
   "cell_type": "code",
   "execution_count": null,
   "metadata": {},
   "outputs": [],
   "source": [
    "spm_and_pms.add_spm_and_pms(\n",
    "    spread_sheet_name=spread_sheet_name,\n",
    "    sub_sheet_name=sub_sheet_name,\n",
    "    project_id=project_id\n",
    ")"
   ]
  },
  {
   "cell_type": "code",
   "execution_count": null,
   "metadata": {},
   "outputs": [],
   "source": []
  }
 ],
 "metadata": {
  "kernelspec": {
   "display_name": "Python 3",
   "language": "python",
   "name": "python3"
  },
  "language_info": {
   "codemirror_mode": {
    "name": "ipython",
    "version": 3
   },
   "file_extension": ".py",
   "mimetype": "text/x-python",
   "name": "python",
   "nbconvert_exporter": "python",
   "pygments_lexer": "ipython3",
   "version": "3.8.2"
  }
 },
 "nbformat": 4,
 "nbformat_minor": 4
}
