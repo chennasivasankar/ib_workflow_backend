{
 "cells": [
  {
   "cell_type": "code",
   "execution_count": 1,
   "metadata": {},
   "outputs": [
    {
     "data": {
      "text/plain": [
       "<Elasticsearch([{'host': 'localhost', 'port': 9200}])>"
      ]
     },
     "execution_count": 1,
     "metadata": {},
     "output_type": "execute_result"
    }
   ],
   "source": [
    "import os\n",
    "import django\n",
    "os.environ.setdefault(\"DJANGO_SETTINGS_MODULE\", \"ib_workflows_backend.settings.local\")\n",
    "\n",
    "django.setup()\n",
    "from elasticsearch_dsl import connections\n",
    "from django.conf import settings \n",
    "connections.create_connection(hosts=[settings.ELASTICSEARCH_ENDPOINT],timeout=20)"
   ]
  },
  {
   "cell_type": "code",
   "execution_count": null,
   "metadata": {},
   "outputs": [],
   "source": []
  },
  {
   "cell_type": "code",
   "execution_count": 2,
   "metadata": {},
   "outputs": [],
   "source": [
    "spread_sheet_name = \"JGC Cycle Users Data Dev Loading\"\n",
    "sub_sheet_name = \"Users\""
   ]
  },
  {
   "cell_type": "code",
   "execution_count": null,
   "metadata": {},
   "outputs": [],
   "source": []
  },
  {
   "cell_type": "code",
   "execution_count": 3,
   "metadata": {},
   "outputs": [],
   "source": [
    "from ib_iam.populate.populate_auth_users import * \n",
    "auth_users = AuthUsers()"
   ]
  },
  {
   "cell_type": "code",
   "execution_count": 4,
   "metadata": {},
   "outputs": [
    {
     "ename": "UserAccountAlreadyExistWithThisEmail",
     "evalue": "",
     "output_type": "error",
     "traceback": [
      "\u001b[0;31m---------------------------------------------------------------------------\u001b[0m",
      "\u001b[0;31mAccountWithThisEmailAlreadyExistsException\u001b[0mTraceback (most recent call last)",
      "\u001b[0;32m~/PycharmProjects/ib-workflows-backend/ib_iam/adapters/user_service.py\u001b[0m in \u001b[0;36mcreate_user_account_with_email\u001b[0;34m(self, email, password)\u001b[0m\n\u001b[1;32m     49\u001b[0m         \u001b[0;32mtry\u001b[0m\u001b[0;34m:\u001b[0m\u001b[0;34m\u001b[0m\u001b[0;34m\u001b[0m\u001b[0m\n\u001b[0;32m---> 50\u001b[0;31m             user_id = self.interface.create_user_account_with_email(\n\u001b[0m\u001b[1;32m     51\u001b[0m                 email=email, password=password)\n",
      "\u001b[0;32m~/PycharmProjects/ib-workflows-backend/venv/lib/python3.8/site-packages/ib_users/interfaces/service_interface.py\u001b[0m in \u001b[0;36mcreate_user_account_with_email\u001b[0;34m(email, password, username)\u001b[0m\n\u001b[1;32m    156\u001b[0m         )\n\u001b[0;32m--> 157\u001b[0;31m         user_id_dict = interactor.create_account_with_email(\n\u001b[0m\u001b[1;32m    158\u001b[0m             \u001b[0mcreate_account_dto\u001b[0m\u001b[0;34m\u001b[0m\u001b[0;34m\u001b[0m\u001b[0m\n",
      "\u001b[0;32m~/PycharmProjects/ib-workflows-backend/venv/lib/python3.8/site-packages/ib_users/interactors/registration/email_registration_interactor.py\u001b[0m in \u001b[0;36mcreate_account_with_email\u001b[0;34m(self, create_account_dto)\u001b[0m\n\u001b[1;32m     17\u001b[0m \u001b[0;34m\u001b[0m\u001b[0m\n\u001b[0;32m---> 18\u001b[0;31m         \u001b[0mself\u001b[0m\u001b[0;34m.\u001b[0m\u001b[0mcheck_email_is_registered\u001b[0m\u001b[0;34m(\u001b[0m\u001b[0mcreate_account_dto\u001b[0m\u001b[0;34m.\u001b[0m\u001b[0memail\u001b[0m\u001b[0;34m)\u001b[0m\u001b[0;34m\u001b[0m\u001b[0;34m\u001b[0m\u001b[0m\n\u001b[0m\u001b[1;32m     19\u001b[0m \u001b[0;34m\u001b[0m\u001b[0m\n",
      "\u001b[0;32m~/PycharmProjects/ib-workflows-backend/venv/lib/python3.8/site-packages/ib_users/interactors/registration/email_registration_interactor.py\u001b[0m in \u001b[0;36mcheck_email_is_registered\u001b[0;34m(self, email)\u001b[0m\n\u001b[1;32m     26\u001b[0m     \u001b[0;32mdef\u001b[0m \u001b[0mcheck_email_is_registered\u001b[0m\u001b[0;34m(\u001b[0m\u001b[0mself\u001b[0m\u001b[0;34m,\u001b[0m \u001b[0memail\u001b[0m\u001b[0;34m)\u001b[0m\u001b[0;34m:\u001b[0m\u001b[0;34m\u001b[0m\u001b[0;34m\u001b[0m\u001b[0m\n\u001b[0;32m---> 27\u001b[0;31m         \u001b[0mself\u001b[0m\u001b[0;34m.\u001b[0m\u001b[0maccounts_storage\u001b[0m\u001b[0;34m.\u001b[0m\u001b[0mcheck_user_exists_with_email\u001b[0m\u001b[0;34m(\u001b[0m\u001b[0memail\u001b[0m\u001b[0;34m)\u001b[0m\u001b[0;34m\u001b[0m\u001b[0;34m\u001b[0m\u001b[0m\n\u001b[0m",
      "\u001b[0;32m~/PycharmProjects/ib-workflows-backend/venv/lib/python3.8/site-packages/ib_users/storages/user_accounts_sql_storage.py\u001b[0m in \u001b[0;36mcheck_user_exists_with_email\u001b[0;34m(self, email)\u001b[0m\n\u001b[1;32m    153\u001b[0m         \u001b[0;32mif\u001b[0m \u001b[0mUserAccount\u001b[0m\u001b[0;34m.\u001b[0m\u001b[0mobjects\u001b[0m\u001b[0;34m.\u001b[0m\u001b[0mfilter\u001b[0m\u001b[0;34m(\u001b[0m\u001b[0memail\u001b[0m\u001b[0;34m=\u001b[0m\u001b[0memail\u001b[0m\u001b[0;34m)\u001b[0m\u001b[0;34m.\u001b[0m\u001b[0mexists\u001b[0m\u001b[0;34m(\u001b[0m\u001b[0;34m)\u001b[0m\u001b[0;34m:\u001b[0m\u001b[0;34m\u001b[0m\u001b[0;34m\u001b[0m\u001b[0m\n\u001b[0;32m--> 154\u001b[0;31m             \u001b[0;32mraise\u001b[0m \u001b[0mAccountWithThisEmailAlreadyExistsException\u001b[0m\u001b[0;34m\u001b[0m\u001b[0;34m\u001b[0m\u001b[0m\n\u001b[0m\u001b[1;32m    155\u001b[0m \u001b[0;34m\u001b[0m\u001b[0m\n",
      "\u001b[0;31mAccountWithThisEmailAlreadyExistsException\u001b[0m: (AccountWithThisEmailAlreadyExistsException(...), 'Account already exists with this email id')",
      "\nDuring handling of the above exception, another exception occurred:\n",
      "\u001b[0;31mUserAccountAlreadyExistWithThisEmail\u001b[0m      Traceback (most recent call last)",
      "\u001b[0;32m<ipython-input-4-3f91cc56422a>\u001b[0m in \u001b[0;36m<module>\u001b[0;34m\u001b[0m\n\u001b[0;32m----> 1\u001b[0;31m \u001b[0mauth_users\u001b[0m\u001b[0;34m.\u001b[0m\u001b[0mpopulate_auth_users\u001b[0m\u001b[0;34m(\u001b[0m\u001b[0mspread_sheet_name\u001b[0m\u001b[0;34m=\u001b[0m\u001b[0mspread_sheet_name\u001b[0m\u001b[0;34m,\u001b[0m \u001b[0msub_sheet_name\u001b[0m\u001b[0;34m=\u001b[0m\u001b[0msub_sheet_name\u001b[0m\u001b[0;34m)\u001b[0m\u001b[0;34m\u001b[0m\u001b[0;34m\u001b[0m\u001b[0m\n\u001b[0m",
      "\u001b[0;32m/usr/lib/python3.8/contextlib.py\u001b[0m in \u001b[0;36minner\u001b[0;34m(*args, **kwds)\u001b[0m\n\u001b[1;32m     73\u001b[0m         \u001b[0;32mdef\u001b[0m \u001b[0minner\u001b[0m\u001b[0;34m(\u001b[0m\u001b[0;34m*\u001b[0m\u001b[0margs\u001b[0m\u001b[0;34m,\u001b[0m \u001b[0;34m**\u001b[0m\u001b[0mkwds\u001b[0m\u001b[0;34m)\u001b[0m\u001b[0;34m:\u001b[0m\u001b[0;34m\u001b[0m\u001b[0;34m\u001b[0m\u001b[0m\n\u001b[1;32m     74\u001b[0m             \u001b[0;32mwith\u001b[0m \u001b[0mself\u001b[0m\u001b[0;34m.\u001b[0m\u001b[0m_recreate_cm\u001b[0m\u001b[0;34m(\u001b[0m\u001b[0;34m)\u001b[0m\u001b[0;34m:\u001b[0m\u001b[0;34m\u001b[0m\u001b[0;34m\u001b[0m\u001b[0m\n\u001b[0;32m---> 75\u001b[0;31m                 \u001b[0;32mreturn\u001b[0m \u001b[0mfunc\u001b[0m\u001b[0;34m(\u001b[0m\u001b[0;34m*\u001b[0m\u001b[0margs\u001b[0m\u001b[0;34m,\u001b[0m \u001b[0;34m**\u001b[0m\u001b[0mkwds\u001b[0m\u001b[0;34m)\u001b[0m\u001b[0;34m\u001b[0m\u001b[0;34m\u001b[0m\u001b[0m\n\u001b[0m\u001b[1;32m     76\u001b[0m         \u001b[0;32mreturn\u001b[0m \u001b[0minner\u001b[0m\u001b[0;34m\u001b[0m\u001b[0;34m\u001b[0m\u001b[0m\n\u001b[1;32m     77\u001b[0m \u001b[0;34m\u001b[0m\u001b[0m\n",
      "\u001b[0;32m~/PycharmProjects/ib-workflows-backend/ib_iam/populate/populate_auth_users.py\u001b[0m in \u001b[0;36mpopulate_auth_users\u001b[0;34m(self, spread_sheet_name, sub_sheet_name)\u001b[0m\n\u001b[1;32m     31\u001b[0m             \u001b[0melastic_storage\u001b[0m\u001b[0;34m=\u001b[0m\u001b[0melastic_storage\u001b[0m\u001b[0;34m\u001b[0m\u001b[0;34m\u001b[0m\u001b[0m\n\u001b[1;32m     32\u001b[0m         )\n\u001b[0;32m---> 33\u001b[0;31m         \u001b[0minteractor\u001b[0m\u001b[0;34m.\u001b[0m\u001b[0mauth_user_dtos\u001b[0m\u001b[0;34m(\u001b[0m\u001b[0mauth_user_dtos\u001b[0m\u001b[0;34m=\u001b[0m\u001b[0mauth_user_dtos\u001b[0m\u001b[0;34m)\u001b[0m\u001b[0;34m\u001b[0m\u001b[0;34m\u001b[0m\u001b[0m\n\u001b[0m\u001b[1;32m     34\u001b[0m         \u001b[0;32mreturn\u001b[0m\u001b[0;34m\u001b[0m\u001b[0;34m\u001b[0m\u001b[0m\n\u001b[1;32m     35\u001b[0m \u001b[0;34m\u001b[0m\u001b[0m\n",
      "\u001b[0;32m~/PycharmProjects/ib-workflows-backend/ib_iam/interactors/auth_users_interactor.py\u001b[0m in \u001b[0;36mauth_user_dtos\u001b[0;34m(self, auth_user_dtos)\u001b[0m\n\u001b[1;32m     19\u001b[0m     \u001b[0;32mdef\u001b[0m \u001b[0mauth_user_dtos\u001b[0m\u001b[0;34m(\u001b[0m\u001b[0mself\u001b[0m\u001b[0;34m,\u001b[0m \u001b[0mauth_user_dtos\u001b[0m\u001b[0;34m:\u001b[0m \u001b[0mList\u001b[0m\u001b[0;34m[\u001b[0m\u001b[0mAuthUserDTO\u001b[0m\u001b[0;34m]\u001b[0m\u001b[0;34m)\u001b[0m\u001b[0;34m:\u001b[0m\u001b[0;34m\u001b[0m\u001b[0;34m\u001b[0m\u001b[0m\n\u001b[1;32m     20\u001b[0m         \u001b[0;32mfor\u001b[0m \u001b[0mauth_user_dto\u001b[0m \u001b[0;32min\u001b[0m \u001b[0mauth_user_dtos\u001b[0m\u001b[0;34m:\u001b[0m\u001b[0;34m\u001b[0m\u001b[0;34m\u001b[0m\u001b[0m\n\u001b[0;32m---> 21\u001b[0;31m             \u001b[0mself\u001b[0m\u001b[0;34m.\u001b[0m\u001b[0m_create_auth_user_details\u001b[0m\u001b[0;34m(\u001b[0m\u001b[0mauth_user_dto\u001b[0m\u001b[0;34m=\u001b[0m\u001b[0mauth_user_dto\u001b[0m\u001b[0;34m)\u001b[0m\u001b[0;34m\u001b[0m\u001b[0;34m\u001b[0m\u001b[0m\n\u001b[0m\u001b[1;32m     22\u001b[0m \u001b[0;34m\u001b[0m\u001b[0m\n\u001b[1;32m     23\u001b[0m     \u001b[0;32mdef\u001b[0m \u001b[0m_create_auth_user_details\u001b[0m\u001b[0;34m(\u001b[0m\u001b[0mself\u001b[0m\u001b[0;34m,\u001b[0m \u001b[0mauth_user_dto\u001b[0m\u001b[0;34m:\u001b[0m \u001b[0mAuthUserDTO\u001b[0m\u001b[0;34m)\u001b[0m\u001b[0;34m:\u001b[0m\u001b[0;34m\u001b[0m\u001b[0;34m\u001b[0m\u001b[0m\n",
      "\u001b[0;32m~/PycharmProjects/ib-workflows-backend/ib_iam/interactors/auth_users_interactor.py\u001b[0m in \u001b[0;36m_create_auth_user_details\u001b[0;34m(self, auth_user_dto)\u001b[0m\n\u001b[1;32m     24\u001b[0m         \u001b[0;32mfrom\u001b[0m \u001b[0mib_iam\u001b[0m\u001b[0;34m.\u001b[0m\u001b[0madapters\u001b[0m\u001b[0;34m.\u001b[0m\u001b[0mservice_adapter\u001b[0m \u001b[0;32mimport\u001b[0m \u001b[0mget_service_adapter\u001b[0m\u001b[0;34m\u001b[0m\u001b[0;34m\u001b[0m\u001b[0m\n\u001b[1;32m     25\u001b[0m         \u001b[0mservice_adapter\u001b[0m \u001b[0;34m=\u001b[0m \u001b[0mget_service_adapter\u001b[0m\u001b[0;34m(\u001b[0m\u001b[0;34m)\u001b[0m\u001b[0;34m\u001b[0m\u001b[0;34m\u001b[0m\u001b[0m\n\u001b[0;32m---> 26\u001b[0;31m         user_id = service_adapter.user_service.create_user_account_with_email(\n\u001b[0m\u001b[1;32m     27\u001b[0m             \u001b[0memail\u001b[0m\u001b[0;34m=\u001b[0m\u001b[0mauth_user_dto\u001b[0m\u001b[0;34m.\u001b[0m\u001b[0memail\u001b[0m\u001b[0;34m,\u001b[0m \u001b[0mpassword\u001b[0m\u001b[0;34m=\u001b[0m\u001b[0mauth_user_dto\u001b[0m\u001b[0;34m.\u001b[0m\u001b[0mpassword\u001b[0m\u001b[0;34m\u001b[0m\u001b[0;34m\u001b[0m\u001b[0m\n\u001b[1;32m     28\u001b[0m         )\n",
      "\u001b[0;32m~/PycharmProjects/ib-workflows-backend/ib_iam/adapters/user_service.py\u001b[0m in \u001b[0;36mcreate_user_account_with_email\u001b[0;34m(self, email, password)\u001b[0m\n\u001b[1;32m     52\u001b[0m             \u001b[0;32mreturn\u001b[0m \u001b[0muser_id\u001b[0m\u001b[0;34m\u001b[0m\u001b[0;34m\u001b[0m\u001b[0m\n\u001b[1;32m     53\u001b[0m         \u001b[0;32mexcept\u001b[0m \u001b[0mAccountWithThisEmailAlreadyExistsException\u001b[0m\u001b[0;34m:\u001b[0m\u001b[0;34m\u001b[0m\u001b[0;34m\u001b[0m\u001b[0m\n\u001b[0;32m---> 54\u001b[0;31m             \u001b[0;32mraise\u001b[0m \u001b[0mUserAccountAlreadyExistWithThisEmail\u001b[0m\u001b[0;34m\u001b[0m\u001b[0;34m\u001b[0m\u001b[0m\n\u001b[0m\u001b[1;32m     55\u001b[0m         \u001b[0;32mexcept\u001b[0m \u001b[0mCustomException\u001b[0m \u001b[0;32mas\u001b[0m \u001b[0merr\u001b[0m\u001b[0;34m:\u001b[0m\u001b[0;34m\u001b[0m\u001b[0;34m\u001b[0m\u001b[0m\n\u001b[1;32m     56\u001b[0m             \u001b[0;32mif\u001b[0m \u001b[0merr\u001b[0m\u001b[0;34m.\u001b[0m\u001b[0merror_type\u001b[0m \u001b[0;34m==\u001b[0m \u001b[0mINVALID_EMAIL\u001b[0m\u001b[0;34m.\u001b[0m\u001b[0mcode\u001b[0m\u001b[0;34m:\u001b[0m\u001b[0;34m\u001b[0m\u001b[0;34m\u001b[0m\u001b[0m\n",
      "\u001b[0;31mUserAccountAlreadyExistWithThisEmail\u001b[0m: "
     ]
    }
   ],
   "source": [
    "auth_users.populate_auth_users(spread_sheet_name=spread_sheet_name, sub_sheet_name=sub_sheet_name)"
   ]
  },
  {
   "cell_type": "code",
   "execution_count": null,
   "metadata": {},
   "outputs": [],
   "source": []
  },
  {
   "cell_type": "code",
   "execution_count": 5,
   "metadata": {},
   "outputs": [],
   "source": [
    "sub_sheet_name = \"Teams and Levels\""
   ]
  },
  {
   "cell_type": "code",
   "execution_count": 6,
   "metadata": {},
   "outputs": [],
   "source": [
    "from ib_iam.populate.add_pm_and_sub_users import * "
   ]
  },
  {
   "cell_type": "code",
   "execution_count": 7,
   "metadata": {},
   "outputs": [],
   "source": [
    "pm_and_users = AddPMAndSubUsers()"
   ]
  },
  {
   "cell_type": "code",
   "execution_count": null,
   "metadata": {},
   "outputs": [],
   "source": []
  },
  {
   "cell_type": "code",
   "execution_count": 8,
   "metadata": {},
   "outputs": [
    {
     "name": "stdout",
     "output_type": "stream",
     "text": [
      "PMAndSubUsersAuthTokensDTO(pm_auth_token='pm_token_1', sub_user_auth_token='user_token_1')\n",
      "defaultdict(<class 'list'>, {'ab07929d-c5c3-4cf7-9d5a-294fe240198d': ['60662815-796e-4b48-83ee-f049b750bcb5']})\n",
      "PMAndSubUsersAuthTokensDTO(pm_auth_token='pm_token_1', sub_user_auth_token='user_token_2')\n",
      "defaultdict(<class 'list'>, {'ab07929d-c5c3-4cf7-9d5a-294fe240198d': ['60662815-796e-4b48-83ee-f049b750bcb5', 'f1d90821-abe2-4a07-bda3-664052c03692']})\n",
      "PMAndSubUsersAuthTokensDTO(pm_auth_token='pm_token_1', sub_user_auth_token='user_token_3')\n",
      "defaultdict(<class 'list'>, {'ab07929d-c5c3-4cf7-9d5a-294fe240198d': ['60662815-796e-4b48-83ee-f049b750bcb5', 'f1d90821-abe2-4a07-bda3-664052c03692', 'b983bdcf-e6d5-4b8e-a76f-0a2eb3887772']})\n",
      "PMAndSubUsersAuthTokensDTO(pm_auth_token='pm_token_2', sub_user_auth_token='user_token_4')\n",
      "defaultdict(<class 'list'>, {'ab07929d-c5c3-4cf7-9d5a-294fe240198d': ['60662815-796e-4b48-83ee-f049b750bcb5', 'f1d90821-abe2-4a07-bda3-664052c03692', 'b983bdcf-e6d5-4b8e-a76f-0a2eb3887772'], '33c3d60c-e33a-4a22-9e33-b0560d5a0254': ['7b48da8a-91f6-456a-888e-c992872acb6d']})\n",
      "PMAndSubUsersAuthTokensDTO(pm_auth_token='pm_token_2', sub_user_auth_token='user_token_5')\n",
      "defaultdict(<class 'list'>, {'ab07929d-c5c3-4cf7-9d5a-294fe240198d': ['60662815-796e-4b48-83ee-f049b750bcb5', 'f1d90821-abe2-4a07-bda3-664052c03692', 'b983bdcf-e6d5-4b8e-a76f-0a2eb3887772'], '33c3d60c-e33a-4a22-9e33-b0560d5a0254': ['7b48da8a-91f6-456a-888e-c992872acb6d', '5681de7f-a051-4f1c-9ae0-49b2cfe44d5d']})\n",
      "PMAndSubUsersAuthTokensDTO(pm_auth_token='pm_token_2', sub_user_auth_token='user_token_6')\n",
      "defaultdict(<class 'list'>, {'ab07929d-c5c3-4cf7-9d5a-294fe240198d': ['60662815-796e-4b48-83ee-f049b750bcb5', 'f1d90821-abe2-4a07-bda3-664052c03692', 'b983bdcf-e6d5-4b8e-a76f-0a2eb3887772'], '33c3d60c-e33a-4a22-9e33-b0560d5a0254': ['7b48da8a-91f6-456a-888e-c992872acb6d', '5681de7f-a051-4f1c-9ae0-49b2cfe44d5d', 'd0e4eaa4-8b3b-483c-a732-91ef89553870']})\n"
     ]
    },
    {
     "ename": "DoesNotExist",
     "evalue": "TeamUser matching query does not exist.",
     "output_type": "error",
     "traceback": [
      "\u001b[0;31m---------------------------------------------------------------------------\u001b[0m",
      "\u001b[0;31mDoesNotExist\u001b[0m                              Traceback (most recent call last)",
      "\u001b[0;32m<ipython-input-8-4e7e1aacc877>\u001b[0m in \u001b[0;36m<module>\u001b[0;34m\u001b[0m\n\u001b[0;32m----> 1\u001b[0;31m \u001b[0mpm_and_users\u001b[0m\u001b[0;34m.\u001b[0m\u001b[0madd_pm_and_sub_users\u001b[0m\u001b[0;34m(\u001b[0m\u001b[0mspread_sheet_name\u001b[0m\u001b[0;34m=\u001b[0m\u001b[0mspread_sheet_name\u001b[0m\u001b[0;34m,\u001b[0m \u001b[0msub_sheet_name\u001b[0m\u001b[0;34m=\u001b[0m\u001b[0msub_sheet_name\u001b[0m\u001b[0;34m)\u001b[0m\u001b[0;34m\u001b[0m\u001b[0;34m\u001b[0m\u001b[0m\n\u001b[0m",
      "\u001b[0;32m/usr/lib/python3.8/contextlib.py\u001b[0m in \u001b[0;36minner\u001b[0;34m(*args, **kwds)\u001b[0m\n\u001b[1;32m     73\u001b[0m         \u001b[0;32mdef\u001b[0m \u001b[0minner\u001b[0m\u001b[0;34m(\u001b[0m\u001b[0;34m*\u001b[0m\u001b[0margs\u001b[0m\u001b[0;34m,\u001b[0m \u001b[0;34m**\u001b[0m\u001b[0mkwds\u001b[0m\u001b[0;34m)\u001b[0m\u001b[0;34m:\u001b[0m\u001b[0;34m\u001b[0m\u001b[0;34m\u001b[0m\u001b[0m\n\u001b[1;32m     74\u001b[0m             \u001b[0;32mwith\u001b[0m \u001b[0mself\u001b[0m\u001b[0;34m.\u001b[0m\u001b[0m_recreate_cm\u001b[0m\u001b[0;34m(\u001b[0m\u001b[0;34m)\u001b[0m\u001b[0;34m:\u001b[0m\u001b[0;34m\u001b[0m\u001b[0;34m\u001b[0m\u001b[0m\n\u001b[0;32m---> 75\u001b[0;31m                 \u001b[0;32mreturn\u001b[0m \u001b[0mfunc\u001b[0m\u001b[0;34m(\u001b[0m\u001b[0;34m*\u001b[0m\u001b[0margs\u001b[0m\u001b[0;34m,\u001b[0m \u001b[0;34m**\u001b[0m\u001b[0mkwds\u001b[0m\u001b[0;34m)\u001b[0m\u001b[0;34m\u001b[0m\u001b[0;34m\u001b[0m\u001b[0m\n\u001b[0m\u001b[1;32m     76\u001b[0m         \u001b[0;32mreturn\u001b[0m \u001b[0minner\u001b[0m\u001b[0;34m\u001b[0m\u001b[0;34m\u001b[0m\u001b[0m\n\u001b[1;32m     77\u001b[0m \u001b[0;34m\u001b[0m\u001b[0m\n",
      "\u001b[0;32m~/PycharmProjects/ib-workflows-backend/ib_iam/populate/add_pm_and_sub_users.py\u001b[0m in \u001b[0;36madd_pm_and_sub_users\u001b[0;34m(self, spread_sheet_name, sub_sheet_name)\u001b[0m\n\u001b[1;32m     43\u001b[0m             \u001b[0mteam_member_level_storage\u001b[0m\u001b[0;34m=\u001b[0m\u001b[0mteam_member_level_storage\u001b[0m\u001b[0;34m\u001b[0m\u001b[0;34m\u001b[0m\u001b[0m\n\u001b[1;32m     44\u001b[0m         )\n\u001b[0;32m---> 45\u001b[0;31m         interactor.add_pm_and_sub_users(\n\u001b[0m\u001b[1;32m     46\u001b[0m             \u001b[0mpm_and_sub_user_dtos\u001b[0m\u001b[0;34m=\u001b[0m\u001b[0mpm_and_sub_user_dtos\u001b[0m\u001b[0;34m\u001b[0m\u001b[0;34m\u001b[0m\u001b[0m\n\u001b[1;32m     47\u001b[0m         )\n",
      "\u001b[0;32m~/PycharmProjects/ib-workflows-backend/ib_iam/interactors/users/add_pm_and_sub_users_interactor.py\u001b[0m in \u001b[0;36madd_pm_and_sub_users\u001b[0;34m(self, pm_and_sub_user_dtos)\u001b[0m\n\u001b[1;32m     61\u001b[0m                 \u001b[0mpm_id_and_sub_user_ids\u001b[0m\u001b[0;34m=\u001b[0m\u001b[0mpm_id_and_sub_user_ids\u001b[0m\u001b[0;34m,\u001b[0m \u001b[0mteam_id\u001b[0m\u001b[0;34m=\u001b[0m\u001b[0mteam_id\u001b[0m\u001b[0;34m\u001b[0m\u001b[0;34m\u001b[0m\u001b[0m\n\u001b[1;32m     62\u001b[0m             )\n\u001b[0;32m---> 63\u001b[0;31m             self.add_pm_and_sub_users_as_superior_and_members(\n\u001b[0m\u001b[1;32m     64\u001b[0m                 \u001b[0mpm_id_and_sub_user_ids\u001b[0m\u001b[0;34m=\u001b[0m\u001b[0mpm_id_and_sub_user_ids\u001b[0m\u001b[0;34m,\u001b[0m \u001b[0mteam_id\u001b[0m\u001b[0;34m=\u001b[0m\u001b[0mteam_id\u001b[0m\u001b[0;34m\u001b[0m\u001b[0;34m\u001b[0m\u001b[0m\n\u001b[1;32m     65\u001b[0m             )\n",
      "\u001b[0;32m~/PycharmProjects/ib-workflows-backend/ib_iam/interactors/users/add_pm_and_sub_users_interactor.py\u001b[0m in \u001b[0;36madd_pm_and_sub_users_as_superior_and_members\u001b[0;34m(self, pm_id_and_sub_user_ids, team_id)\u001b[0m\n\u001b[1;32m     90\u001b[0m         ]\n\u001b[1;32m     91\u001b[0m \u001b[0;34m\u001b[0m\u001b[0m\n\u001b[0;32m---> 92\u001b[0;31m         self.team_member_level_storage.add_members_to_superiors(\n\u001b[0m\u001b[1;32m     93\u001b[0m             \u001b[0mteam_id\u001b[0m\u001b[0;34m=\u001b[0m\u001b[0mteam_id\u001b[0m\u001b[0;34m,\u001b[0m \u001b[0mmember_level_hierarchy\u001b[0m\u001b[0;34m=\u001b[0m\u001b[0mmember_level_hierarchy\u001b[0m\u001b[0;34m,\u001b[0m\u001b[0;34m\u001b[0m\u001b[0;34m\u001b[0m\u001b[0m\n\u001b[1;32m     94\u001b[0m             \u001b[0mimmediate_superior_user_id_with_member_ids_dtos\u001b[0m\u001b[0;34m=\u001b[0m\u001b[0;34m\u001b[0m\u001b[0;34m\u001b[0m\u001b[0m\n",
      "\u001b[0;32m~/PycharmProjects/ib-workflows-backend/ib_iam/storages/team_member_level_storage_implementation.py\u001b[0m in \u001b[0;36madd_members_to_superiors\u001b[0;34m(self, team_id, member_level_hierarchy, immediate_superior_user_id_with_member_ids_dtos)\u001b[0m\n\u001b[1;32m    113\u001b[0m \u001b[0;34m\u001b[0m\u001b[0m\n\u001b[1;32m    114\u001b[0m         \u001b[0;32mfor\u001b[0m \u001b[0mimmediate_superior_user_id_with_member_ids_dto\u001b[0m \u001b[0;32min\u001b[0m \u001b[0mimmediate_superior_user_id_with_member_ids_dtos\u001b[0m\u001b[0;34m:\u001b[0m\u001b[0;34m\u001b[0m\u001b[0;34m\u001b[0m\u001b[0m\n\u001b[0;32m--> 115\u001b[0;31m             self._add_members_to_superior(\n\u001b[0m\u001b[1;32m    116\u001b[0m                 \u001b[0mimmediate_superior_user_id_with_member_ids_dto\u001b[0m\u001b[0;34m=\u001b[0m\u001b[0mimmediate_superior_user_id_with_member_ids_dto\u001b[0m\u001b[0;34m,\u001b[0m\u001b[0;34m\u001b[0m\u001b[0;34m\u001b[0m\u001b[0m\n\u001b[1;32m    117\u001b[0m                 \u001b[0mmember_level_hierarchy\u001b[0m\u001b[0;34m=\u001b[0m\u001b[0mmember_level_hierarchy\u001b[0m\u001b[0;34m,\u001b[0m\u001b[0;34m\u001b[0m\u001b[0;34m\u001b[0m\u001b[0m\n",
      "\u001b[0;32m~/PycharmProjects/ib-workflows-backend/ib_iam/storages/team_member_level_storage_implementation.py\u001b[0m in \u001b[0;36m_add_members_to_superior\u001b[0;34m(immediate_superior_user_id_with_member_ids_dto, member_level_hierarchy, team_id)\u001b[0m\n\u001b[1;32m    141\u001b[0m             \u001b[0mimmediate_superior_user_id_with_member_ids_dto\u001b[0m\u001b[0;34m.\u001b[0m\u001b[0mimmediate_superior_user_id\u001b[0m\u001b[0;34m\u001b[0m\u001b[0;34m\u001b[0m\u001b[0m\n\u001b[1;32m    142\u001b[0m         \u001b[0;32mfrom\u001b[0m \u001b[0mib_iam\u001b[0m\u001b[0;34m.\u001b[0m\u001b[0mmodels\u001b[0m \u001b[0;32mimport\u001b[0m \u001b[0mTeamUser\u001b[0m\u001b[0;34m\u001b[0m\u001b[0;34m\u001b[0m\u001b[0m\n\u001b[0;32m--> 143\u001b[0;31m         user_team_object = TeamUser.objects.get(\n\u001b[0m\u001b[1;32m    144\u001b[0m             user_id=immediate_superior_user_id, team_id=team_id)\n\u001b[1;32m    145\u001b[0m         TeamUser.objects.filter(\n",
      "\u001b[0;32m~/PycharmProjects/ib-workflows-backend/venv/lib/python3.8/site-packages/django/db/models/manager.py\u001b[0m in \u001b[0;36mmanager_method\u001b[0;34m(self, *args, **kwargs)\u001b[0m\n\u001b[1;32m     80\u001b[0m         \u001b[0;32mdef\u001b[0m \u001b[0mcreate_method\u001b[0m\u001b[0;34m(\u001b[0m\u001b[0mname\u001b[0m\u001b[0;34m,\u001b[0m \u001b[0mmethod\u001b[0m\u001b[0;34m)\u001b[0m\u001b[0;34m:\u001b[0m\u001b[0;34m\u001b[0m\u001b[0;34m\u001b[0m\u001b[0m\n\u001b[1;32m     81\u001b[0m             \u001b[0;32mdef\u001b[0m \u001b[0mmanager_method\u001b[0m\u001b[0;34m(\u001b[0m\u001b[0mself\u001b[0m\u001b[0;34m,\u001b[0m \u001b[0;34m*\u001b[0m\u001b[0margs\u001b[0m\u001b[0;34m,\u001b[0m \u001b[0;34m**\u001b[0m\u001b[0mkwargs\u001b[0m\u001b[0;34m)\u001b[0m\u001b[0;34m:\u001b[0m\u001b[0;34m\u001b[0m\u001b[0;34m\u001b[0m\u001b[0m\n\u001b[0;32m---> 82\u001b[0;31m                 \u001b[0;32mreturn\u001b[0m \u001b[0mgetattr\u001b[0m\u001b[0;34m(\u001b[0m\u001b[0mself\u001b[0m\u001b[0;34m.\u001b[0m\u001b[0mget_queryset\u001b[0m\u001b[0;34m(\u001b[0m\u001b[0;34m)\u001b[0m\u001b[0;34m,\u001b[0m \u001b[0mname\u001b[0m\u001b[0;34m)\u001b[0m\u001b[0;34m(\u001b[0m\u001b[0;34m*\u001b[0m\u001b[0margs\u001b[0m\u001b[0;34m,\u001b[0m \u001b[0;34m**\u001b[0m\u001b[0mkwargs\u001b[0m\u001b[0;34m)\u001b[0m\u001b[0;34m\u001b[0m\u001b[0;34m\u001b[0m\u001b[0m\n\u001b[0m\u001b[1;32m     83\u001b[0m             \u001b[0mmanager_method\u001b[0m\u001b[0;34m.\u001b[0m\u001b[0m__name__\u001b[0m \u001b[0;34m=\u001b[0m \u001b[0mmethod\u001b[0m\u001b[0;34m.\u001b[0m\u001b[0m__name__\u001b[0m\u001b[0;34m\u001b[0m\u001b[0;34m\u001b[0m\u001b[0m\n\u001b[1;32m     84\u001b[0m             \u001b[0mmanager_method\u001b[0m\u001b[0;34m.\u001b[0m\u001b[0m__doc__\u001b[0m \u001b[0;34m=\u001b[0m \u001b[0mmethod\u001b[0m\u001b[0;34m.\u001b[0m\u001b[0m__doc__\u001b[0m\u001b[0;34m\u001b[0m\u001b[0;34m\u001b[0m\u001b[0m\n",
      "\u001b[0;32m~/PycharmProjects/ib-workflows-backend/venv/lib/python3.8/site-packages/django/db/models/query.py\u001b[0m in \u001b[0;36mget\u001b[0;34m(self, *args, **kwargs)\u001b[0m\n\u001b[1;32m    404\u001b[0m             \u001b[0;32mreturn\u001b[0m \u001b[0mclone\u001b[0m\u001b[0;34m.\u001b[0m\u001b[0m_result_cache\u001b[0m\u001b[0;34m[\u001b[0m\u001b[0;36m0\u001b[0m\u001b[0;34m]\u001b[0m\u001b[0;34m\u001b[0m\u001b[0;34m\u001b[0m\u001b[0m\n\u001b[1;32m    405\u001b[0m         \u001b[0;32mif\u001b[0m \u001b[0;32mnot\u001b[0m \u001b[0mnum\u001b[0m\u001b[0;34m:\u001b[0m\u001b[0;34m\u001b[0m\u001b[0;34m\u001b[0m\u001b[0m\n\u001b[0;32m--> 406\u001b[0;31m             raise self.model.DoesNotExist(\n\u001b[0m\u001b[1;32m    407\u001b[0m                 \u001b[0;34m\"%s matching query does not exist.\"\u001b[0m \u001b[0;34m%\u001b[0m\u001b[0;34m\u001b[0m\u001b[0;34m\u001b[0m\u001b[0m\n\u001b[1;32m    408\u001b[0m                 \u001b[0mself\u001b[0m\u001b[0;34m.\u001b[0m\u001b[0mmodel\u001b[0m\u001b[0;34m.\u001b[0m\u001b[0m_meta\u001b[0m\u001b[0;34m.\u001b[0m\u001b[0mobject_name\u001b[0m\u001b[0;34m\u001b[0m\u001b[0;34m\u001b[0m\u001b[0m\n",
      "\u001b[0;31mDoesNotExist\u001b[0m: TeamUser matching query does not exist."
     ]
    }
   ],
   "source": [
    "pm_and_users.add_pm_and_sub_users(spread_sheet_name=spread_sheet_name, sub_sheet_name=sub_sheet_name)"
   ]
  },
  {
   "cell_type": "code",
   "execution_count": null,
   "metadata": {},
   "outputs": [],
   "source": []
  },
  {
   "cell_type": "code",
   "execution_count": null,
   "metadata": {},
   "outputs": [],
   "source": []
  }
 ],
 "metadata": {
  "kernelspec": {
   "display_name": "Python 3",
   "language": "python",
   "name": "python3"
  },
  "language_info": {
   "codemirror_mode": {
    "name": "ipython",
    "version": 3
   },
   "file_extension": ".py",
   "mimetype": "text/x-python",
   "name": "python",
   "nbconvert_exporter": "python",
   "pygments_lexer": "ipython3",
   "version": "3.8.2"
  }
 },
 "nbformat": 4,
 "nbformat_minor": 4
}
