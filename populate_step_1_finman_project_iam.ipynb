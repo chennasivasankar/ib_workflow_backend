{
 "cells": [
  {
   "cell_type": "code",
   "execution_count": 1,
   "metadata": {},
   "outputs": [
    {
     "name": "stdout",
     "output_type": "stream",
     "text": [
      "{\n",
      "  \"shell_port\": 46845,\n",
      "  \"iopub_port\": 47181,\n",
      "  \"stdin_port\": 49237,\n",
      "  \"control_port\": 59141,\n",
      "  \"hb_port\": 55615,\n",
      "  \"ip\": \"127.0.0.1\",\n",
      "  \"key\": \"5c450be8-7bcff07e8fea644d38a23b7f\",\n",
      "  \"transport\": \"tcp\",\n",
      "  \"signature_scheme\": \"hmac-sha256\",\n",
      "  \"kernel_name\": \"\"\n",
      "}\n",
      "\n",
      "Paste the above JSON into a file, and connect with:\n",
      "    $> jupyter <app> --existing <file>\n",
      "or, if you are local, you can connect with just:\n",
      "    $> jupyter <app> --existing kernel-83d18dcc-21de-497e-8354-42cbb6fe7b70.json\n",
      "or even just:\n",
      "    $> jupyter <app> --existing\n",
      "if this is the most recent Jupyter kernel you have started.\n"
     ]
    }
   ],
   "source": [
    "%load_ext autoreload\n",
    "%autoreload 2\n",
    "\n",
    "%connect_info"
   ]
  },
  {
   "cell_type": "code",
   "execution_count": 2,
   "metadata": {},
   "outputs": [],
   "source": [
    "import django"
   ]
  },
  {
   "cell_type": "code",
   "execution_count": 3,
   "metadata": {},
   "outputs": [
    {
     "name": "stdout",
     "output_type": "stream",
     "text": [
      "LE: \n",
      "\n",
      "It appears the LOGENTRIES_TOKEN parameter you entered is incorrect!\n",
      "\n",
      "\n"
     ]
    }
   ],
   "source": [
    "django.setup()"
   ]
  },
  {
   "cell_type": "code",
   "execution_count": 4,
   "metadata": {},
   "outputs": [],
   "source": [
    "\"\"\"\n",
    "Project Configuration Sheets\n",
    "\"\"\"\n",
    "\n",
    "FIN_MAN_PROJECT_SHEET_NAME = \"Finman Project Configuration\"\n",
    "FIN_MAN_CONFIGURATION_SHEET_NAME=\"FinMan Configuration_v4 Dev Loading\"\n",
    "VENDOR_CONFIGURATION_SHEET_NAME = \"Vendor Configuration_v1 - Test\""
   ]
  },
  {
   "cell_type": "code",
   "execution_count": 5,
   "metadata": {},
   "outputs": [],
   "source": [
    "\"\"\"\n",
    "Populate project and project roles\n",
    "\"\"\"\n",
    "\n",
    "from django.db import transaction\n",
    "\n",
    "@transaction.atomic()\n",
    "def populate_project_and_roles():\n",
    "    from ib_iam.populate.populate_utils import populate_projects\n",
    "    populate_projects(spread_sheet_name=FIN_MAN_PROJECT_SHEET_NAME)\n",
    "\n",
    "    from ib_tasks.populate.population_utils import populate_project_roles\n",
    "    populate_project_roles(FIN_MAN_CONFIGURATION_SHEET_NAME)"
   ]
  },
  {
   "cell_type": "code",
   "execution_count": 10,
   "metadata": {},
   "outputs": [],
   "source": [
    "\"\"\"\n",
    "Populate tasks related data\n",
    "\"\"\"\n",
    "\n",
    "from django.db import transaction\n",
    "\n",
    "@transaction.atomic()\n",
    "def populate_task_and_boards_related_data():\n",
    "    \n",
    "    configuration_sheets = [\n",
    "        FIN_MAN_CONFIGURATION_SHEET_NAME\n",
    "    ]\n",
    "\n",
    "    for configuration_sheet in configuration_sheets:\n",
    "\n",
    "        from ib_tasks.populate.population_utils import populate_data\n",
    "        populate_data(configuration_sheet)\n",
    "        \n",
    "        from ib_boards.populate.get_data_from_sheet_for_boards_and_columns import GetBoardsAndColumnsDataFromSheet\n",
    "        loader = GetBoardsAndColumnsDataFromSheet()\n",
    "        loader.get_data_from_sheet(configuration_sheet)\n",
    "        loader.create_boards_and_columns(configuration_sheet)"
   ]
  },
  {
   "cell_type": "code",
   "execution_count": 11,
   "metadata": {},
   "outputs": [],
   "source": [
    "\"\"\"\n",
    "Populate project related data\n",
    "\"\"\"\n",
    "from django.db import transaction\n",
    "\n",
    "@transaction.atomic()\n",
    "def populate_project_related_data():\n",
    "\n",
    "    from ib_tasks.populate.population_utils import populate_projects_for_task_templates\n",
    "    populate_projects_for_task_templates(FIN_MAN_PROJECT_SHEET_NAME)\n",
    "    \n",
    "    from ib_boards.populate.get_data_from_sheet_for_project_boards import GetSheetDataForProjectBoards\n",
    "    loader = GetSheetDataForProjectBoards()\n",
    "    loader.get_data_from_project_boards_sub_sheet(FIN_MAN_PROJECT_SHEET_NAME)"
   ]
  },
  {
   "cell_type": "code",
   "execution_count": 12,
   "metadata": {},
   "outputs": [
    {
     "name": "stdout",
     "output_type": "stream",
     "text": [
      "[BoardDTO(board_id='FINB_PAYMENT_REQUESTS', name='Payment Requests'), BoardDTO(board_id='FINB_ACCOUNTS_L1_VERIFICATION_PRE_PAYMENT', name='Pre Payment Accounting L1 Verification'), BoardDTO(board_id='FINB_ACCOUNTS_L2_VERIFICATION_PRE_PAYMENT', name='Pre Payment Accounting L2 Verification'), BoardDTO(board_id='FINB_ACCOUNTS_L3_VERIFICATION_PRE_PAYMENT', name='Pre Payment Accounting L3 Verification'), BoardDTO(board_id='FINB_ACCOUNTS_L4_VERIFICATION_PRE_PAYMENT', name='Pre Payment Accounting L4 Verification'), BoardDTO(board_id='FINB_ACCOUNTS_VERIFICATION_PRE_PAYMENT', name='Pre Payment Accounting Verification Completed'), BoardDTO(board_id='FINB_PAYMENTS_L1_VERIFICATION_PRE_PAYMENT', name='Payment Requests L1 Verification'), BoardDTO(board_id='FINB_PAYMENTS_L2_VERIFICATION_PRE_PAYMENT', name='Payment Requests L2 Verification'), BoardDTO(board_id='FINB_PAYMENTS_L3_VERIFICATION_PRE_PAYMENT', name='Payment Requests L3 Verification'), BoardDTO(board_id='FINB_PAYMENTS_L5_VERIFICATION_PRE_PAYMENT', name='Payment Requests Payments RP Verification'), BoardDTO(board_id='FINB_PAYMENTS_VERIFICATION_PRE_PAYMENT', name='Pre Payment Verification Completed'), BoardDTO(board_id='FINB_PAYMENTS_OVERALL_PRE_PAYMENT', name='Payment Requests Finance RP Verification'), BoardDTO(board_id='FINB_PAYMENTS_PROCESSING', name='Payments Processing'), BoardDTO(board_id='FINB_POST_PAYMENTS_ACCOUNTS_L1_VERFICATION', name='Post Payments Accounts L1 Verification'), BoardDTO(board_id='FINB_POST_PAYMENTS_ACCOUNTS_L2_VERFICATION', name='Post Payments Accounts L2 Verification'), BoardDTO(board_id='FINB_POST_PAYMENTS_ACCOUNTS_L3_VERFICATION', name='Post Payments Accounts L3 Verification'), BoardDTO(board_id='FINB_POST_PAYMENTS_ACCOUNTS_L4_VERFICATION', name='Post Payments Accounts L4 Verification'), BoardDTO(board_id='FINB_POST_PAYMENTS_ACCOUNTS_L5_VERFICATION', name='Post Payments Accounts L5 Verification'), BoardDTO(board_id='FINB_POST_PAYMENTS_ACCOUNTING', name='Post Payments Accounting'), BoardDTO(board_id='FINB_INVOICE_VERIFICATION', name='Invoice Verification')] [ColumnDTO(column_id='FINC_PAYMENT_REQUESTS_DRAFTS', name='Payment Requests Drafts', display_order=1, task_template_stages=[TaskTemplateStagesDTO(task_template_id='FIN_PR', stages=['PR_PAYMENT_REQUEST_DRAFTS'])], user_role_ids=['ALL_ROLES'], column_summary='ColumnSummary1', column_actions='ColumnSummary3', list_view_fields=[TaskSummaryFieldsDTO(task_id='ravi', summary_fields='ravi')], kanban_view_fields=[TaskSummaryFieldsDTO(task_id='ravi', summary_fields='ravi')], board_id='FINB_PAYMENT_REQUESTS'), ColumnDTO(column_id='FINC_PR_PENDING_RP_APPROVAL', name='Pending RP Approval', display_order=2, task_template_stages=[TaskTemplateStagesDTO(task_template_id='FIN_PR', stages=['PR_PENDING_RP_APPROVAL'])], user_role_ids=['FIN_PAYMENT_REQUESTER', 'FIN_PAYMENT_APPROVER'], column_summary='ColumnSummary1', column_actions='ColumnSummary3', list_view_fields=[TaskSummaryFieldsDTO(task_id='ravi', summary_fields='ravi')], kanban_view_fields=[TaskSummaryFieldsDTO(task_id='ravi', summary_fields='ravi')], board_id='FINB_PAYMENT_REQUESTS'), ColumnDTO(column_id='FINC_NEED_CLARIFICATION', name='Need Clarification', display_order=3, task_template_stages=[TaskTemplateStagesDTO(task_template_id='FIN_PR', stages=['PR_NEED_CLARIFICATION'])], user_role_ids=['FIN_PAYMENT_REQUESTER', 'FIN_PAYMENT_APPROVER'], column_summary='ColumnSummary1', column_actions='ColumnSummary3', list_view_fields=[TaskSummaryFieldsDTO(task_id='ravi', summary_fields='ravi')], kanban_view_fields=[TaskSummaryFieldsDTO(task_id='ravi', summary_fields='ravi')], board_id='FINB_PAYMENT_REQUESTS'), ColumnDTO(column_id='FINC_PR_ACCOUNTS_PAYMENTS_APPROVED', name='Finance/Accounts Approved', display_order=4, task_template_stages=[TaskTemplateStagesDTO(task_template_id='FIN_PR', stages=['PR_PENDING_PAYMENTS_PROCESSING'])], user_role_ids=['FIN_PAYMENT_REQUESTER', 'FIN_PAYMENT_APPROVER'], column_summary='ColumnSummary1', column_actions='ColumnSummary3', list_view_fields=[TaskSummaryFieldsDTO(task_id='ravi', summary_fields='ravi')], kanban_view_fields=[TaskSummaryFieldsDTO(task_id='ravi', summary_fields='ravi')], board_id='FINB_PAYMENT_REQUESTS'), ColumnDTO(column_id='FINC_PAYMENT_COMPLETED', name='Payment Completed', display_order=5, task_template_stages=[TaskTemplateStagesDTO(task_template_id='FIN_PR', stages=['PR_COMPLETED'])], user_role_ids=['ALL_ROLES'], column_summary='ColumnSummary1', column_actions='ColumnSummary3', list_view_fields=[TaskSummaryFieldsDTO(task_id='ravi', summary_fields='ravi')], kanban_view_fields=[TaskSummaryFieldsDTO(task_id='ravi', summary_fields='ravi')], board_id='FINB_PAYMENT_REQUESTS'), ColumnDTO(column_id='FINC_PAYMENT_REJECTED', name='Rejected', display_order=6, task_template_stages=[TaskTemplateStagesDTO(task_template_id='FIN_PR', stages=['PR_REJECTION_LIST'])], user_role_ids=['FIN_PAYMENT_REQUESTER', 'FIN_PAYMENT_APPROVER'], column_summary='ColumnSummary1', column_actions='ColumnSummary3', list_view_fields=[TaskSummaryFieldsDTO(task_id='ravi', summary_fields='ravi')], kanban_view_fields=[TaskSummaryFieldsDTO(task_id='ravi', summary_fields='ravi')], board_id='FINB_PAYMENT_REQUESTS'), ColumnDTO(column_id='FINC_PR_PENDING_ACCOUNTS_LEVEL1_VERIFICATION', name='Pending Account Leve1 - Verification', display_order=1, task_template_stages=[TaskTemplateStagesDTO(task_template_id='FIN_PR', stages=['PR_PENDING_ACCOUNTS_LEVEL1_VERIFICATION'])], user_role_ids=['FIN_ACCOUNTS_LEVEL1_VERIFIER'], column_summary='ColumnSummary1', column_actions='ColumnSummary3', list_view_fields=[TaskSummaryFieldsDTO(task_id='ravi', summary_fields='ravi')], kanban_view_fields=[TaskSummaryFieldsDTO(task_id='ravi', summary_fields='ravi')], board_id='FINB_ACCOUNTS_L1_VERIFICATION_PRE_PAYMENT'), ColumnDTO(column_id='FINC_PR_ACCOUNTS_LEVEL1_VERIFICATION_COMPLETED', name='Account Leve1 - Verification Completed', display_order=2, task_template_stages=[TaskTemplateStagesDTO(task_template_id='FIN_PR', stages=['ACCOUNTS_LEVEL1_VERIFICATION_COMPLETED'])], user_role_ids=['FIN_ACCOUNTS_LEVEL1_VERIFIER'], column_summary='ColumnSummary1', column_actions='ColumnSummary3', list_view_fields=[TaskSummaryFieldsDTO(task_id='ravi', summary_fields='ravi')], kanban_view_fields=[TaskSummaryFieldsDTO(task_id='ravi', summary_fields='ravi')], board_id='FINB_ACCOUNTS_L1_VERIFICATION_PRE_PAYMENT'), ColumnDTO(column_id='FINC_PR_PENDING_ACCOUNTS_LEVEL2_VERIFICATION', name='Pending Account Level2 Verification', display_order=1, task_template_stages=[TaskTemplateStagesDTO(task_template_id='FIN_PR', stages=['PR_PENDING_ACCOUNTS_LEVEL2_VERIFICATION'])], user_role_ids=['FIN_ACCOUNTS_LEVEL2_VERIFIER'], column_summary='ColumnSummary1', column_actions='ColumnSummary3', list_view_fields=[TaskSummaryFieldsDTO(task_id='ravi', summary_fields='ravi')], kanban_view_fields=[TaskSummaryFieldsDTO(task_id='ravi', summary_fields='ravi')], board_id='FINB_ACCOUNTS_L2_VERIFICATION_PRE_PAYMENT'), ColumnDTO(column_id='FINC_PR_ACCOUNTS_LEVEL2_VERIFICATION_COMPLETED', name='Account Level2 Verification Completed', display_order=2, task_template_stages=[TaskTemplateStagesDTO(task_template_id='FIN_PR', stages=['ACCOUNTS_LEVEL2_VERIFICATION_COMPLETED'])], user_role_ids=['FIN_ACCOUNTS_LEVEL2_VERIFIER'], column_summary='ColumnSummary1', column_actions='ColumnSummary3', list_view_fields=[TaskSummaryFieldsDTO(task_id='ravi', summary_fields='ravi')], kanban_view_fields=[TaskSummaryFieldsDTO(task_id='ravi', summary_fields='ravi')], board_id='FINB_ACCOUNTS_L2_VERIFICATION_PRE_PAYMENT'), ColumnDTO(column_id='FINC_PR_PENDING_ACCOUNTS_LEVEL3_VERIFICATION', name='Pending Account Level3 Verification', display_order=1, task_template_stages=[TaskTemplateStagesDTO(task_template_id='FIN_PR', stages=['PR_PENDING_ACCOUNTS_LEVEL3_VERIFICATION'])], user_role_ids=['FIN_ACCOUNTS_LEVEL3_VERIFIER'], column_summary='ColumnSummary1', column_actions='ColumnSummary3', list_view_fields=[TaskSummaryFieldsDTO(task_id='ravi', summary_fields='ravi')], kanban_view_fields=[TaskSummaryFieldsDTO(task_id='ravi', summary_fields='ravi')], board_id='FINB_ACCOUNTS_L3_VERIFICATION_PRE_PAYMENT'), ColumnDTO(column_id='FINC_PR_ACCOUNTS_LEVEL3_VERIFICATION_COMPLETED', name='Account Level3 Verification Completed', display_order=2, task_template_stages=[TaskTemplateStagesDTO(task_template_id='FIN_PR', stages=['PR_ACCOUNTS_LEVEL3_VERIFICATION_DONE'])], user_role_ids=['FIN_ACCOUNTS_LEVEL3_VERIFIER'], column_summary='ColumnSummary1', column_actions='ColumnSummary3', list_view_fields=[TaskSummaryFieldsDTO(task_id='ravi', summary_fields='ravi')], kanban_view_fields=[TaskSummaryFieldsDTO(task_id='ravi', summary_fields='ravi')], board_id='FINB_ACCOUNTS_L3_VERIFICATION_PRE_PAYMENT'), ColumnDTO(column_id='FINC_PR_PENDING_ACCOUNTS_LEVEL4_VERIFICATION', name='Pending Account Level4 Verification', display_order=1, task_template_stages=[TaskTemplateStagesDTO(task_template_id='FIN_PR', stages=['PR_PENDING_ACCOUNTS_LEVEL4_VERIFICATION'])], user_role_ids=['FIN_ACCOUNTS_LEVEL4_VERIFIER'], column_summary='ColumnSummary1', column_actions='ColumnSummary3', list_view_fields=[TaskSummaryFieldsDTO(task_id='ravi', summary_fields='ravi')], kanban_view_fields=[TaskSummaryFieldsDTO(task_id='ravi', summary_fields='ravi')], board_id='FINB_ACCOUNTS_L4_VERIFICATION_PRE_PAYMENT'), ColumnDTO(column_id='FINC_PR_ACCOUNTS_LEVEL4_VERIFICATION_COMPLETED', name='Account Level4 Verification Completed', display_order=2, task_template_stages=[TaskTemplateStagesDTO(task_template_id='FIN_PR', stages=['PR_ACCOUNTS_LEVEL4_VERIFICATION_DONE'])], user_role_ids=['FIN_ACCOUNTS_LEVEL4_VERIFIER'], column_summary='ColumnSummary1', column_actions='ColumnSummary3', list_view_fields=[TaskSummaryFieldsDTO(task_id='ravi', summary_fields='ravi')], kanban_view_fields=[TaskSummaryFieldsDTO(task_id='ravi', summary_fields='ravi')], board_id='FINB_ACCOUNTS_L4_VERIFICATION_PRE_PAYMENT'), ColumnDTO(column_id='FINC_PR_ACCOUNTS_VERIFICATION_COMPLETED', name='Accounts Verification Completed', display_order=1, task_template_stages=[TaskTemplateStagesDTO(task_template_id='FIN_PR', stages=['PR_ACCOUNTS_VERIFICATION_COMPLETED'])], user_role_ids=['FIN_ACCOUNTS_LEVEL1_VERIFIER', 'FIN_ACCOUNTS_LEVEL2_VERIFIER', 'FIN_ACCOUNTS_LEVEL3_VERIFIER', 'FIN_ACCOUNTS_LEVEL4_VERIFIER'], column_summary='ColumnSummary1', column_actions='ColumnSummary3', list_view_fields=[TaskSummaryFieldsDTO(task_id='ravi', summary_fields='ravi')], kanban_view_fields=[TaskSummaryFieldsDTO(task_id='ravi', summary_fields='ravi')], board_id='FINB_ACCOUNTS_VERIFICATION_PRE_PAYMENT'), ColumnDTO(column_id='FINC_PR_PENDING_PAYMENTS_LEVEL1_VERIFICATION', name='Pending Payments Level-1 Verification\\n\\n', display_order=1, task_template_stages=[TaskTemplateStagesDTO(task_template_id='FIN_PR', stages=['PR_PENDING_PAYMENTS_LEVEL1_VERIFICATION'])], user_role_ids=['FIN_PAYMENTS_LEVEL1_VERIFIER'], column_summary='ColumnSummary1', column_actions='ColumnSummary3', list_view_fields=[TaskSummaryFieldsDTO(task_id='ravi', summary_fields='ravi')], kanban_view_fields=[TaskSummaryFieldsDTO(task_id='ravi', summary_fields='ravi')], board_id='FINB_PAYMENTS_L1_VERIFICATION_PRE_PAYMENT'), ColumnDTO(column_id='FINC_PR_PAYMENTS_LEVEL1_VERIFICATION_COMPLETED', name='Payments Level-1 Verification Completed\\n\\n', display_order=2, task_template_stages=[TaskTemplateStagesDTO(task_template_id='FIN_PR', stages=['PR_PAYMENTS_LEVEL1_VERIFICATION_DONE'])], user_role_ids=['FIN_PAYMENTS_LEVEL1_VERIFIER'], column_summary='ColumnSummary1', column_actions='ColumnSummary3', list_view_fields=[TaskSummaryFieldsDTO(task_id='ravi', summary_fields='ravi')], kanban_view_fields=[TaskSummaryFieldsDTO(task_id='ravi', summary_fields='ravi')], board_id='FINB_PAYMENTS_L1_VERIFICATION_PRE_PAYMENT'), ColumnDTO(column_id='FINC_PR_PENDING_PAYMENTS_LEVEL2_VERIFICATION', name='Pending Payments Level-2 Verification\\n\\n', display_order=1, task_template_stages=[TaskTemplateStagesDTO(task_template_id='FIN_PR', stages=['PR_PENDING_PAYMENTS_LEVEL2_VERIFICATION'])], user_role_ids=['FIN_PAYMENTS_LEVEL2_VERIFIER'], column_summary='ColumnSummary1', column_actions='ColumnSummary3', list_view_fields=[TaskSummaryFieldsDTO(task_id='ravi', summary_fields='ravi')], kanban_view_fields=[TaskSummaryFieldsDTO(task_id='ravi', summary_fields='ravi')], board_id='FINB_PAYMENTS_L2_VERIFICATION_PRE_PAYMENT'), ColumnDTO(column_id='FINC_PR_PAYMENTS_LEVEL2_VERIFICATION_COMPLETED', name='Payments Level-2 Verification Completed\\n\\n', display_order=2, task_template_stages=[TaskTemplateStagesDTO(task_template_id='FIN_PR', stages=['PR_PAYMENTS_LEVEL2_VERIFICATION_DONE'])], user_role_ids=['FIN_PAYMENTS_LEVEL2_VERIFIER'], column_summary='ColumnSummary1', column_actions='ColumnSummary3', list_view_fields=[TaskSummaryFieldsDTO(task_id='ravi', summary_fields='ravi')], kanban_view_fields=[TaskSummaryFieldsDTO(task_id='ravi', summary_fields='ravi')], board_id='FINB_PAYMENTS_L2_VERIFICATION_PRE_PAYMENT'), ColumnDTO(column_id='FINC_PR_PENDING_PAYMENTS_LEVEL3_VERIFICATION', name='Pending Payments Level-3 Verification\\n\\n', display_order=1, task_template_stages=[TaskTemplateStagesDTO(task_template_id='FIN_PR', stages=['PR_PENDING_PAYMENTS_LEVEL3_VERIFICATION'])], user_role_ids=['FIN_PAYMENTS_LEVEL3_VERIFIER'], column_summary='ColumnSummary1', column_actions='ColumnSummary3', list_view_fields=[TaskSummaryFieldsDTO(task_id='ravi', summary_fields='ravi')], kanban_view_fields=[TaskSummaryFieldsDTO(task_id='ravi', summary_fields='ravi')], board_id='FINB_PAYMENTS_L3_VERIFICATION_PRE_PAYMENT'), ColumnDTO(column_id='FINC_PR_PAYMENTS_LEVEL3_VERIFICATION_COMPLETED', name='Payments Level-3 Verification Completed\\n\\n', display_order=2, task_template_stages=[TaskTemplateStagesDTO(task_template_id='FIN_PR', stages=['PR_PAYMENTS_LEVEL3_VERIFICATION_DONE'])], user_role_ids=['FIN_PAYMENTS_LEVEL3_VERIFIER'], column_summary='ColumnSummary1', column_actions='ColumnSummary3', list_view_fields=[TaskSummaryFieldsDTO(task_id='ravi', summary_fields='ravi')], kanban_view_fields=[TaskSummaryFieldsDTO(task_id='ravi', summary_fields='ravi')], board_id='FINB_PAYMENTS_L3_VERIFICATION_PRE_PAYMENT'), ColumnDTO(column_id='FINC_PR_PENDING_PAYMENTS_LEVEL5_VERIFICATION', name='Pending Payments RP Verification\\n\\n', display_order=1, task_template_stages=[TaskTemplateStagesDTO(task_template_id='FIN_PR', stages=['PR_PENDING_PAYMENTS_LEVEL5_APPROVAL'])], user_role_ids=['FIN_FINANCE_RP'], column_summary='ColumnSummary1', column_actions='ColumnSummary3', list_view_fields=[TaskSummaryFieldsDTO(task_id='ravi', summary_fields='ravi')], kanban_view_fields=[TaskSummaryFieldsDTO(task_id='ravi', summary_fields='ravi')], board_id='FINB_PAYMENTS_L5_VERIFICATION_PRE_PAYMENT'), ColumnDTO(column_id='FINC_PR_PAYMENTS_LEVEL5_VERIFICATION_COMPLETED', name='Payments RP Verification Completed\\n\\n', display_order=2, task_template_stages=[TaskTemplateStagesDTO(task_template_id='FIN_PR', stages=['PR_PAYMENTS_LEVEL5_APPROVAL_DONE'])], user_role_ids=['FIN_FINANCE_RP'], column_summary='ColumnSummary1', column_actions='ColumnSummary3', list_view_fields=[TaskSummaryFieldsDTO(task_id='ravi', summary_fields='ravi')], kanban_view_fields=[TaskSummaryFieldsDTO(task_id='ravi', summary_fields='ravi')], board_id='FINB_PAYMENTS_L5_VERIFICATION_PRE_PAYMENT'), ColumnDTO(column_id='FINC_PR_PAYMENTS_VERIFICATION_COMPLETED', name='PrePayment Payments Verification Completed', display_order=1, task_template_stages=[TaskTemplateStagesDTO(task_template_id='FIN_PR', stages=['PR_PAYMENTS_VERIFICATION_COMPLETED'])], user_role_ids=['FIN_PAYMENTS_LEVEL1_VERIFIER', 'FIN_PAYMENTS_LEVEL2_VERIFIER', 'FIN_PAYMENTS_LEVEL3_VERIFIER', 'FIN_PAYMENTS_RP', 'FIN_FINANCE_RP'], column_summary='ColumnSummary1', column_actions='ColumnSummary3', list_view_fields=[TaskSummaryFieldsDTO(task_id='ravi', summary_fields='ravi')], kanban_view_fields=[TaskSummaryFieldsDTO(task_id='ravi', summary_fields='ravi')], board_id='FINB_PAYMENTS_VERIFICATION_PRE_PAYMENT'), ColumnDTO(column_id='FINC_PR_PENDING_PAYMENTS_OVERALL_RP_VERIFICATION', name='Pending Finance RP Verification', display_order=1, task_template_stages=[TaskTemplateStagesDTO(task_template_id='FIN_PR', stages=['PR_PENDING_OVERALL_FINANCE_RP_APPROVAL'])], user_role_ids=['FIN_FINANCE_RP'], column_summary='ColumnSummary1', column_actions='ColumnSummary3', list_view_fields=[TaskSummaryFieldsDTO(task_id='ravi', summary_fields='ravi')], kanban_view_fields=[TaskSummaryFieldsDTO(task_id='ravi', summary_fields='ravi')], board_id='FINB_PAYMENTS_OVERALL_PRE_PAYMENT'), ColumnDTO(column_id='FINC_PR_PAYMENTS_OVERALL_RP_VERIFICATION_COMPLETED', name='Finance RP Verification Completed', display_order=2, task_template_stages=[TaskTemplateStagesDTO(task_template_id='FIN_PR', stages=['PR_PENDING_PAYMENTS_PROCESSING'])], user_role_ids=['FIN_PAYMENTS_LEVEL1_VERIFIER', 'FIN_PAYMENTS_LEVEL2_VERIFIER', 'FIN_PAYMENTS_LEVEL3_VERIFIER', 'FIN_PAYMENTS_RP', 'FIN_FINANCE_RP'], column_summary='ColumnSummary1', column_actions='ColumnSummary3', list_view_fields=[TaskSummaryFieldsDTO(task_id='ravi', summary_fields='ravi')], kanban_view_fields=[TaskSummaryFieldsDTO(task_id='ravi', summary_fields='ravi')], board_id='FINB_PAYMENTS_OVERALL_PRE_PAYMENT'), ColumnDTO(column_id='FINC_PR_PAYMENTS_UPDATE_INITIATION_STATUS', name='Update Initiation Status', display_order=1, task_template_stages=[TaskTemplateStagesDTO(task_template_id='FIN_PR', stages=['PR_UPDATE_INITIATION_STATUS'])], user_role_ids=['FIN_PAYMENTS_LEVEL3_VERIFIER'], column_summary='ColumnSummary1', column_actions='ColumnSummary3', list_view_fields=[TaskSummaryFieldsDTO(task_id='ravi', summary_fields='ravi')], kanban_view_fields=[TaskSummaryFieldsDTO(task_id='ravi', summary_fields='ravi')], board_id='FINB_PAYMENTS_PROCESSING'), ColumnDTO(column_id='FINC_PR_PAYMENTS_UPLOAD_INVOICES', name='Upload Invoices and Status', display_order=2, task_template_stages=[TaskTemplateStagesDTO(task_template_id='FIN_PR', stages=['PR_UPLOAD_INVOICES_AND_STATUS'])], user_role_ids=['FIN_PAYMENTS_LEVEL1_VERIFIER'], column_summary='ColumnSummary1', column_actions='ColumnSummary3', list_view_fields=[TaskSummaryFieldsDTO(task_id='ravi', summary_fields='ravi')], kanban_view_fields=[TaskSummaryFieldsDTO(task_id='ravi', summary_fields='ravi')], board_id='FINB_PAYMENTS_PROCESSING'), ColumnDTO(column_id='FINC_PR_PAYMENTS_UPDATE_AUTH_STATUS', name='Update Authorization Status', display_order=3, task_template_stages=[TaskTemplateStagesDTO(task_template_id='FIN_PR', stages=['PR_UPDATE_AUTHORIZATION_STATUS'])], user_role_ids=['FIN_PAYMENTS_RP'], column_summary='ColumnSummary1', column_actions='ColumnSummary3', list_view_fields=[TaskSummaryFieldsDTO(task_id='ravi', summary_fields='ravi')], kanban_view_fields=[TaskSummaryFieldsDTO(task_id='ravi', summary_fields='ravi')], board_id='FINB_PAYMENTS_PROCESSING'), ColumnDTO(column_id='FINC_PR_PAYMENTS_UPLOAD_BANK_STATEMENT', name='Upload Bank And CMS Statement', display_order=4, task_template_stages=[TaskTemplateStagesDTO(task_template_id='FIN_PR', stages=['PR_UPLOAD_BANK_AND_CMS_STATEMENT'])], user_role_ids=['FIN_PAYMENTS_LEVEL3_VERIFIER'], column_summary='ColumnSummary1', column_actions='ColumnSummary3', list_view_fields=[TaskSummaryFieldsDTO(task_id='ravi', summary_fields='ravi')], kanban_view_fields=[TaskSummaryFieldsDTO(task_id='ravi', summary_fields='ravi')], board_id='FINB_PAYMENTS_PROCESSING'), ColumnDTO(column_id='FINC_PR_PP_ACCOUNTS_LEVEL1_VERIFICATION', name='Pending Post Payments Accounts Level1 Verification', display_order=1, task_template_stages=[TaskTemplateStagesDTO(task_template_id='FIN_PR', stages=['PR_PENDING_POST_PAYMENTS_ACCOUNTS_LEVEL1_VERIFICATION'])], user_role_ids=['FIN_ACCOUNTS_LEVEL1_VERIFIER'], column_summary='ColumnSummary1', column_actions='ColumnSummary3', list_view_fields=[TaskSummaryFieldsDTO(task_id='ravi', summary_fields='ravi')], kanban_view_fields=[TaskSummaryFieldsDTO(task_id='ravi', summary_fields='ravi')], board_id='FINB_POST_PAYMENTS_ACCOUNTS_L1_VERFICATION'), ColumnDTO(column_id='FINC_PR_PP_ACCOUNTS_LEVEL1_VERIFICATION_DONE', name='Pending Post Payments Accounts Level1 Verification Done', display_order=2, task_template_stages=[TaskTemplateStagesDTO(task_template_id='FIN_PR', stages=['PR_PENDING_POST_PAYMENTS_ACCOUNTS_LEVEL2_VERIFICATION'])], user_role_ids=['FIN_ACCOUNTS_LEVEL1_VERIFIER'], column_summary='ColumnSummary1', column_actions='ColumnSummary3', list_view_fields=[TaskSummaryFieldsDTO(task_id='ravi', summary_fields='ravi')], kanban_view_fields=[TaskSummaryFieldsDTO(task_id='ravi', summary_fields='ravi')], board_id='FINB_POST_PAYMENTS_ACCOUNTS_L1_VERFICATION'), ColumnDTO(column_id='FINC_PR_PP_ACCOUNTS_LEVEL2_VERIFICATION', name='Pending Post Payments Accounts Level2 Verification', display_order=1, task_template_stages=[TaskTemplateStagesDTO(task_template_id='FIN_PR', stages=['PR_PENDING_POST_PAYMENTS_ACCOUNTS_LEVEL2_VERIFICATION'])], user_role_ids=['FIN_ACCOUNTS_LEVEL2_VERIFIER'], column_summary='ColumnSummary1', column_actions='ColumnSummary3', list_view_fields=[TaskSummaryFieldsDTO(task_id='ravi', summary_fields='ravi')], kanban_view_fields=[TaskSummaryFieldsDTO(task_id='ravi', summary_fields='ravi')], board_id='FINB_POST_PAYMENTS_ACCOUNTS_L2_VERFICATION'), ColumnDTO(column_id='FINC_PR_PP_ACCOUNTS_LEVEL2_VERIFICATION_DONE', name='Pending Post Payments Accounts Level2 Verification Done', display_order=2, task_template_stages=[TaskTemplateStagesDTO(task_template_id='FIN_PR', stages=['PR_PENDING_POST_PAYMENTS_ACCOUNTS_LEVEL3_VERIFICATION', 'PR_PENDING_POST_PAYMENTS_ACCOUNTS_LEVEL4_VERIFICATION'])], user_role_ids=['FIN_ACCOUNTS_LEVEL2_VERIFIER'], column_summary='ColumnSummary1', column_actions='ColumnSummary3', list_view_fields=[TaskSummaryFieldsDTO(task_id='ravi', summary_fields='ravi')], kanban_view_fields=[TaskSummaryFieldsDTO(task_id='ravi', summary_fields='ravi')], board_id='FINB_POST_PAYMENTS_ACCOUNTS_L2_VERFICATION'), ColumnDTO(column_id='FINC_PR_PP_ACCOUNTS_LEVEL3_VERIFICATION', name='Pending Post Payments Accounts Level3 Verification', display_order=1, task_template_stages=[TaskTemplateStagesDTO(task_template_id='FIN_PR', stages=['PR_PENDING_POST_PAYMENTS_ACCOUNTS_LEVEL3_VERIFICATION'])], user_role_ids=['FIN_ACCOUNTS_LEVEL3_VERIFIER'], column_summary='ColumnSummary1', column_actions='ColumnSummary3', list_view_fields=[TaskSummaryFieldsDTO(task_id='ravi', summary_fields='ravi')], kanban_view_fields=[TaskSummaryFieldsDTO(task_id='ravi', summary_fields='ravi')], board_id='FINB_POST_PAYMENTS_ACCOUNTS_L3_VERFICATION'), ColumnDTO(column_id='FINC_PR_PP_ACCOUNTS_LEVEL3_VERIFICATION_DONE', name='Pending Post Payments Accounts Level3 Verification Done', display_order=2, task_template_stages=[TaskTemplateStagesDTO(task_template_id='FIN_PR', stages=['PR_POST_PAYMENTS_ACCOUNTS_LEVEL3_VERIFICATION_DONE'])], user_role_ids=['FIN_ACCOUNTS_LEVEL3_VERIFIER'], column_summary='ColumnSummary1', column_actions='ColumnSummary3', list_view_fields=[TaskSummaryFieldsDTO(task_id='ravi', summary_fields='ravi')], kanban_view_fields=[TaskSummaryFieldsDTO(task_id='ravi', summary_fields='ravi')], board_id='FINB_POST_PAYMENTS_ACCOUNTS_L3_VERFICATION'), ColumnDTO(column_id='FINC_PR_PP_ACCOUNTS_LEVEL4_VERIFICATION', name='Pending Post Payments Accounts Level4 Verification', display_order=1, task_template_stages=[TaskTemplateStagesDTO(task_template_id='FIN_PR', stages=['PR_PENDING_POST_PAYMENTS_ACCOUNTS_LEVEL4_VERIFICATION'])], user_role_ids=['FIN_ACCOUNTS_LEVEL4_VERIFIER'], column_summary='ColumnSummary1', column_actions='ColumnSummary3', list_view_fields=[TaskSummaryFieldsDTO(task_id='ravi', summary_fields='ravi')], kanban_view_fields=[TaskSummaryFieldsDTO(task_id='ravi', summary_fields='ravi')], board_id='FINB_POST_PAYMENTS_ACCOUNTS_L4_VERFICATION'), ColumnDTO(column_id='FINC_PR_PP_ACCOUNTS_LEVEL4_VERIFICATION_DONE', name='Pending Post Payments Accounts Level4 Verification Done', display_order=2, task_template_stages=[TaskTemplateStagesDTO(task_template_id='FIN_PR', stages=['PR_POST_PAYMENTS_ACCOUNTS_LEVEL4_VERIFICATION_DONE'])], user_role_ids=['FIN_ACCOUNTS_LEVEL4_VERIFIER'], column_summary='ColumnSummary1', column_actions='ColumnSummary3', list_view_fields=[TaskSummaryFieldsDTO(task_id='ravi', summary_fields='ravi')], kanban_view_fields=[TaskSummaryFieldsDTO(task_id='ravi', summary_fields='ravi')], board_id='FINB_POST_PAYMENTS_ACCOUNTS_L4_VERFICATION'), ColumnDTO(column_id='FINC_PR_PP_ACCOUNTS_LEVEL5_VERIFICATION', name='Pending Post Payments Accounts Level5 Verification', display_order=1, task_template_stages=[TaskTemplateStagesDTO(task_template_id='FIN_PR', stages=['PR_PENDING_POST_PAYMENTS_ACCOUNTS_LEVEL5_VERIFICATION'])], user_role_ids=['FIN_ACCOUNTS_LEVEL5_VERIFIER'], column_summary='ColumnSummary1', column_actions='ColumnSummary3', list_view_fields=[TaskSummaryFieldsDTO(task_id='ravi', summary_fields='ravi')], kanban_view_fields=[TaskSummaryFieldsDTO(task_id='ravi', summary_fields='ravi')], board_id='FINB_POST_PAYMENTS_ACCOUNTS_L5_VERFICATION'), ColumnDTO(column_id='FINC_PR_PP_ACCOUNTS_LEVEL5_VERIFICATION_DONE', name='Pending Post Payments Accounts Level5 Verification Done', display_order=2, task_template_stages=[TaskTemplateStagesDTO(task_template_id='FIN_PR', stages=['PR_PENDING_EXPORTING_FINAL_ACCOUNTS'])], user_role_ids=['FIN_ACCOUNTS_LEVEL5_VERIFIER'], column_summary='ColumnSummary1', column_actions='ColumnSummary3', list_view_fields=[TaskSummaryFieldsDTO(task_id='ravi', summary_fields='ravi')], kanban_view_fields=[TaskSummaryFieldsDTO(task_id='ravi', summary_fields='ravi')], board_id='FINB_POST_PAYMENTS_ACCOUNTS_L5_VERFICATION'), ColumnDTO(column_id='FINC_PR_PENDING_EXPORTING_FINAL_ACCOUNTS', name='Pending Exporting Final Accounts', display_order=1, task_template_stages=[TaskTemplateStagesDTO(task_template_id='FIN_PR', stages=['PR_PENDING_EXPORTING_FINAL_ACCOUNTS'])], user_role_ids=['FIN_ACCOUNTS_LEVEL2_VERIFIER'], column_summary='ColumnSummary1', column_actions='ColumnSummary3', list_view_fields=[TaskSummaryFieldsDTO(task_id='ravi', summary_fields='ravi')], kanban_view_fields=[TaskSummaryFieldsDTO(task_id='ravi', summary_fields='ravi')], board_id='FINB_POST_PAYMENTS_ACCOUNTING'), ColumnDTO(column_id='FINC_PR_UPDATE_ACCOUNTING_STATUS', name='Pending Update Accounting Status', display_order=2, task_template_stages=[TaskTemplateStagesDTO(task_template_id='FIN_PR', stages=['PR_UPDATE_ACCOUNTING_STATUS'])], user_role_ids=['FIN_ACCOUNTS_LEVEL1_VERIFIER'], column_summary='ColumnSummary1', column_actions='ColumnSummary3', list_view_fields=[TaskSummaryFieldsDTO(task_id='ravi', summary_fields='ravi')], kanban_view_fields=[TaskSummaryFieldsDTO(task_id='ravi', summary_fields='ravi')], board_id='FINB_POST_PAYMENTS_ACCOUNTING'), ColumnDTO(column_id='FINC_PR_PENDING_FINAL_ACCOUNTS_VERIFICATION', name='Pending Final Accounts Verification', display_order=3, task_template_stages=[TaskTemplateStagesDTO(task_template_id='FIN_PR', stages=['PR_PENDING_FINAL_ACCOUNTS_VERIFICATION'])], user_role_ids=['FIN_ACCOUNTS_LEVEL3_VERIFIER', 'FIN_ACCOUNTS_LEVEL4_VERIFIER'], column_summary='ColumnSummary1', column_actions='ColumnSummary3', list_view_fields=[TaskSummaryFieldsDTO(task_id='ravi', summary_fields='ravi')], kanban_view_fields=[TaskSummaryFieldsDTO(task_id='ravi', summary_fields='ravi')], board_id='FINB_POST_PAYMENTS_ACCOUNTING'), ColumnDTO(column_id='FINC_PR_FINAL_ACCOUNTS_VERIFICATION_DONE', name='Final Accounts Verfication Done', display_order=4, task_template_stages=[TaskTemplateStagesDTO(task_template_id='FIN_PR', stages=['PR_FINAL_ACCOUNTS_VERIFICATION_DONE'])], user_role_ids=['FIN_ACCOUNTS_LEVEL1_VERIFIER', 'FIN_ACCOUNTS_LEVEL2_VERIFIER', 'FIN_ACCOUNTS_LEVEL3_VERIFIER', 'FIN_ACCOUNTS_LEVEL4_VERIFIER', 'FIN_ACCOUNTS_LEVEL5_VERIFIER'], column_summary='ColumnSummary1', column_actions='ColumnSummary3', list_view_fields=[TaskSummaryFieldsDTO(task_id='ravi', summary_fields='ravi')], kanban_view_fields=[TaskSummaryFieldsDTO(task_id='ravi', summary_fields='ravi')], board_id='FINB_POST_PAYMENTS_ACCOUNTING'), ColumnDTO(column_id='FINC_PR_PENDING_INVOICES_VERIFICATION', name='Pending Invoices Verification', display_order=1, task_template_stages=[TaskTemplateStagesDTO(task_template_id='FIN_PR', stages=['PR_PENDING_INVOICES_VERIFICATION'])], user_role_ids=['FIN_INVOICE_VERIFIER'], column_summary='ColumnSummary1', column_actions='ColumnSummary3', list_view_fields=[TaskSummaryFieldsDTO(task_id='ravi', summary_fields='ravi')], kanban_view_fields=[TaskSummaryFieldsDTO(task_id='ravi', summary_fields='ravi')], board_id='FINB_INVOICE_VERIFICATION'), ColumnDTO(column_id='FINC_PR_PENDING_ACCOUNTS_LEVEL2_INVOICES_VERIFICATION', name='Pending Accounts Level2 Invoices verification', display_order=2, task_template_stages=[TaskTemplateStagesDTO(task_template_id='FIN_PR', stages=['PR_PENDING_ACCOUNTS_LEVEL2_INVOICES_VERIFICATION'])], user_role_ids=['FIN_ACCOUNTS_LEVEL2_VERIFIER'], column_summary='ColumnSummary1', column_actions='ColumnSummary3', list_view_fields=[TaskSummaryFieldsDTO(task_id='ravi', summary_fields='ravi')], kanban_view_fields=[TaskSummaryFieldsDTO(task_id='ravi', summary_fields='ravi')], board_id='FINB_INVOICE_VERIFICATION'), ColumnDTO(column_id='FINC_PR_PENDING_FILING_OF_INVOICES', name='Pending Filing of Invoices', display_order=3, task_template_stages=[TaskTemplateStagesDTO(task_template_id='FIN_PR', stages=['PR_PENDING_FILING_OF_INVOICES'])], user_role_ids=['FIN_INVOICE_VERIFIER'], column_summary='ColumnSummary1', column_actions='ColumnSummary3', list_view_fields=[TaskSummaryFieldsDTO(task_id='ravi', summary_fields='ravi')], kanban_view_fields=[TaskSummaryFieldsDTO(task_id='ravi', summary_fields='ravi')], board_id='FINB_INVOICE_VERIFICATION'), ColumnDTO(column_id='FINC_PR_PENDING_FINAL_FILING_VERIFICATION', name='Pending Final Filing Verification', display_order=4, task_template_stages=[TaskTemplateStagesDTO(task_template_id='FIN_PR', stages=['PR_PENDING_FINAL_FILING_VERIFICATION'])], user_role_ids=['FIN_INVOICE_APPROVER'], column_summary='ColumnSummary1', column_actions='ColumnSummary3', list_view_fields=[TaskSummaryFieldsDTO(task_id='ravi', summary_fields='ravi')], kanban_view_fields=[TaskSummaryFieldsDTO(task_id='ravi', summary_fields='ravi')], board_id='FINB_INVOICE_VERIFICATION'), ColumnDTO(column_id='FINC_PR_FINAL_FILING_VERIFICATION_DONE', name='Final Filing Verification Done', display_order=5, task_template_stages=[TaskTemplateStagesDTO(task_template_id='FIN_PR', stages=['PR_FINAL_FILING_VERIFICATION_DONE'])], user_role_ids=['FIN_INVOICE_APPROVER'], column_summary='ColumnSummary1', column_actions='ColumnSummary3', list_view_fields=[TaskSummaryFieldsDTO(task_id='ravi', summary_fields='ravi')], kanban_view_fields=[TaskSummaryFieldsDTO(task_id='ravi', summary_fields='ravi')], board_id='FINB_INVOICE_VERIFICATION')]\n"
     ]
    }
   ],
   "source": [
    "populate_project_and_roles()\n",
    "populate_task_and_boards_related_data()\n",
    "populate_project_related_data()"
   ]
  },
  {
   "cell_type": "code",
   "execution_count": 13,
   "metadata": {},
   "outputs": [
    {
     "name": "stderr",
     "output_type": "stream",
     "text": [
      "[none] [ib_workflows_backend - beta] INFO     [11:14:38]  [/usr/lib/python3.8/lib2to3/pgen2/driver.py] [driver.py][load_grammar] [120]: Generating grammar tables from /usr/lib/python3.8/lib2to3/Grammar.txt\n",
      "[none] [ib_workflows_backend - beta] INFO     [11:14:38]  [/usr/lib/python3.8/lib2to3/pgen2/driver.py] [driver.py][load_grammar] [120]: Generating grammar tables from /usr/lib/python3.8/lib2to3/PatternGrammar.txt\n"
     ]
    }
   ],
   "source": [
    "from ib_tasks.populate.write_stage_actions import writing_data_to_stage_actions_logic\n",
    "writing_data_to_stage_actions_logic()"
   ]
  },
  {
   "cell_type": "code",
   "execution_count": 14,
   "metadata": {},
   "outputs": [
    {
     "name": "stderr",
     "output_type": "stream",
     "text": [
      "[none] [ib_workflows_backend - beta] INFO     [11:14:42]  [/home/ubuntu/ib-workflows-backend/venv/lib/python3.8/site-packages/elasticsearch/connection/base.py] [base.py][log_request_success] [227]: POST https://search-ib-workflows-dev-nck6c5mhnwbsg2ajsnmyobophm.ap-south-1.es.amazonaws.com:443/user-beta/_doc [status:201 request:0.047s]\n",
      "[none] [ib_workflows_backend - beta] INFO     [11:14:42]  [/home/ubuntu/ib-workflows-backend/venv/lib/python3.8/site-packages/elasticsearch/connection/base.py] [base.py][log_request_success] [227]: POST https://search-ib-workflows-dev-nck6c5mhnwbsg2ajsnmyobophm.ap-south-1.es.amazonaws.com:443/user-beta/_doc [status:201 request:0.019s]\n",
      "[none] [ib_workflows_backend - beta] INFO     [11:14:42]  [/home/ubuntu/ib-workflows-backend/venv/lib/python3.8/site-packages/elasticsearch/connection/base.py] [base.py][log_request_success] [227]: POST https://search-ib-workflows-dev-nck6c5mhnwbsg2ajsnmyobophm.ap-south-1.es.amazonaws.com:443/user-beta/_doc [status:201 request:0.019s]\n"
     ]
    },
    {
     "name": "stdout",
     "output_type": "stream",
     "text": [
      "\n",
      "Hi \n",
      "Verify your email by using below link,\n",
      "<br>\n",
      "<a href=\"https://ib-workflows-web-alpha.apigateway.in/verify-email?token=pDi17sQrw02rAqD7O6lOpdMUEMfgwW\">Verify Your Email</a><br>\n",
      "<br>\n",
      "Thank you\n",
      " asd\n",
      "template_:  \n",
      "Hi \n",
      "Verify your email by using below link,\n",
      "<br>\n",
      "<a href=\"https://ib-workflows-web-alpha.apigateway.in/verify-email?token=pDi17sQrw02rAqD7O6lOpdMUEMfgwW\">Verify Your Email</a><br>\n",
      "<br>\n",
      "Thank you\n",
      "\n",
      "serializer_template:  <django.template.base.Template object at 0x7fd449bd6520>\n",
      "data:  {}\n",
      "html_content:  \n",
      "Hi \n",
      "Verify your email by using below link,\n",
      "<br>\n",
      "<a href=\"https://ib-workflows-web-alpha.apigateway.in/verify-email?token=pDi17sQrw02rAqD7O6lOpdMUEMfgwW\">Verify Your Email</a><br>\n",
      "<br>\n",
      "Thank you\n",
      "\n"
     ]
    },
    {
     "name": "stderr",
     "output_type": "stream",
     "text": [
      "[none] [ib_workflows_backend - beta] INFO     [11:14:44]  [/home/ubuntu/ib-workflows-backend/venv/lib/python3.8/site-packages/elasticsearch/connection/base.py] [base.py][log_request_success] [227]: POST https://search-ib-workflows-dev-nck6c5mhnwbsg2ajsnmyobophm.ap-south-1.es.amazonaws.com:443/user-beta/_doc [status:201 request:0.020s]\n"
     ]
    },
    {
     "name": "stdout",
     "output_type": "stream",
     "text": [
      "\n",
      "Hi \n",
      "Verify your email by using below link,\n",
      "<br>\n",
      "<a href=\"https://ib-workflows-web-alpha.apigateway.in/verify-email?token=avkTfPjuphfsHOmHqp7oit8OjaEE4j\">Verify Your Email</a><br>\n",
      "<br>\n",
      "Thank you\n",
      " asd\n",
      "template_:  \n",
      "Hi \n",
      "Verify your email by using below link,\n",
      "<br>\n",
      "<a href=\"https://ib-workflows-web-alpha.apigateway.in/verify-email?token=avkTfPjuphfsHOmHqp7oit8OjaEE4j\">Verify Your Email</a><br>\n",
      "<br>\n",
      "Thank you\n",
      "\n",
      "serializer_template:  <django.template.base.Template object at 0x7fd449dc8ca0>\n",
      "data:  {}\n",
      "html_content:  \n",
      "Hi \n",
      "Verify your email by using below link,\n",
      "<br>\n",
      "<a href=\"https://ib-workflows-web-alpha.apigateway.in/verify-email?token=avkTfPjuphfsHOmHqp7oit8OjaEE4j\">Verify Your Email</a><br>\n",
      "<br>\n",
      "Thank you\n",
      "\n"
     ]
    },
    {
     "name": "stderr",
     "output_type": "stream",
     "text": [
      "[none] [ib_workflows_backend - beta] INFO     [11:14:47]  [/home/ubuntu/ib-workflows-backend/venv/lib/python3.8/site-packages/elasticsearch/connection/base.py] [base.py][log_request_success] [227]: POST https://search-ib-workflows-dev-nck6c5mhnwbsg2ajsnmyobophm.ap-south-1.es.amazonaws.com:443/user-beta/_doc [status:201 request:0.019s]\n"
     ]
    },
    {
     "name": "stdout",
     "output_type": "stream",
     "text": [
      "\n",
      "Hi \n",
      "Verify your email by using below link,\n",
      "<br>\n",
      "<a href=\"https://ib-workflows-web-alpha.apigateway.in/verify-email?token=RN90wxrEGhFW5G8xbfhHgakXGTV5xM\">Verify Your Email</a><br>\n",
      "<br>\n",
      "Thank you\n",
      " asd\n",
      "template_:  \n",
      "Hi \n",
      "Verify your email by using below link,\n",
      "<br>\n",
      "<a href=\"https://ib-workflows-web-alpha.apigateway.in/verify-email?token=RN90wxrEGhFW5G8xbfhHgakXGTV5xM\">Verify Your Email</a><br>\n",
      "<br>\n",
      "Thank you\n",
      "\n",
      "serializer_template:  <django.template.base.Template object at 0x7fd449da90d0>\n",
      "data:  {}\n",
      "html_content:  \n",
      "Hi \n",
      "Verify your email by using below link,\n",
      "<br>\n",
      "<a href=\"https://ib-workflows-web-alpha.apigateway.in/verify-email?token=RN90wxrEGhFW5G8xbfhHgakXGTV5xM\">Verify Your Email</a><br>\n",
      "<br>\n",
      "Thank you\n",
      "\n"
     ]
    },
    {
     "name": "stderr",
     "output_type": "stream",
     "text": [
      "[none] [ib_workflows_backend - beta] INFO     [11:14:49]  [/home/ubuntu/ib-workflows-backend/venv/lib/python3.8/site-packages/elasticsearch/connection/base.py] [base.py][log_request_success] [227]: POST https://search-ib-workflows-dev-nck6c5mhnwbsg2ajsnmyobophm.ap-south-1.es.amazonaws.com:443/user-beta/_doc [status:201 request:0.024s]\n"
     ]
    },
    {
     "name": "stdout",
     "output_type": "stream",
     "text": [
      "\n",
      "Hi \n",
      "Verify your email by using below link,\n",
      "<br>\n",
      "<a href=\"https://ib-workflows-web-alpha.apigateway.in/verify-email?token=7miGTidHkFG1vbqrC8OqwVo9kQveYj\">Verify Your Email</a><br>\n",
      "<br>\n",
      "Thank you\n",
      " asd\n",
      "template_:  \n",
      "Hi \n",
      "Verify your email by using below link,\n",
      "<br>\n",
      "<a href=\"https://ib-workflows-web-alpha.apigateway.in/verify-email?token=7miGTidHkFG1vbqrC8OqwVo9kQveYj\">Verify Your Email</a><br>\n",
      "<br>\n",
      "Thank you\n",
      "\n",
      "serializer_template:  <django.template.base.Template object at 0x7fd449e23820>\n",
      "data:  {}\n",
      "html_content:  \n",
      "Hi \n",
      "Verify your email by using below link,\n",
      "<br>\n",
      "<a href=\"https://ib-workflows-web-alpha.apigateway.in/verify-email?token=7miGTidHkFG1vbqrC8OqwVo9kQveYj\">Verify Your Email</a><br>\n",
      "<br>\n",
      "Thank you\n",
      "\n"
     ]
    },
    {
     "name": "stderr",
     "output_type": "stream",
     "text": [
      "[none] [ib_workflows_backend - beta] INFO     [11:14:51]  [/home/ubuntu/ib-workflows-backend/venv/lib/python3.8/site-packages/elasticsearch/connection/base.py] [base.py][log_request_success] [227]: POST https://search-ib-workflows-dev-nck6c5mhnwbsg2ajsnmyobophm.ap-south-1.es.amazonaws.com:443/user-beta/_doc [status:201 request:0.018s]\n"
     ]
    },
    {
     "name": "stdout",
     "output_type": "stream",
     "text": [
      "\n",
      "Hi \n",
      "Verify your email by using below link,\n",
      "<br>\n",
      "<a href=\"https://ib-workflows-web-alpha.apigateway.in/verify-email?token=jAmNQtdBhxqW3sdAx42O46FnzX8G9n\">Verify Your Email</a><br>\n",
      "<br>\n",
      "Thank you\n",
      " asd\n",
      "template_:  \n",
      "Hi \n",
      "Verify your email by using below link,\n",
      "<br>\n",
      "<a href=\"https://ib-workflows-web-alpha.apigateway.in/verify-email?token=jAmNQtdBhxqW3sdAx42O46FnzX8G9n\">Verify Your Email</a><br>\n",
      "<br>\n",
      "Thank you\n",
      "\n",
      "serializer_template:  <django.template.base.Template object at 0x7fd449dd73d0>\n",
      "data:  {}\n",
      "html_content:  \n",
      "Hi \n",
      "Verify your email by using below link,\n",
      "<br>\n",
      "<a href=\"https://ib-workflows-web-alpha.apigateway.in/verify-email?token=jAmNQtdBhxqW3sdAx42O46FnzX8G9n\">Verify Your Email</a><br>\n",
      "<br>\n",
      "Thank you\n",
      "\n"
     ]
    },
    {
     "name": "stderr",
     "output_type": "stream",
     "text": [
      "[none] [ib_workflows_backend - beta] INFO     [11:14:54]  [/home/ubuntu/ib-workflows-backend/venv/lib/python3.8/site-packages/elasticsearch/connection/base.py] [base.py][log_request_success] [227]: POST https://search-ib-workflows-dev-nck6c5mhnwbsg2ajsnmyobophm.ap-south-1.es.amazonaws.com:443/user-beta/_doc [status:201 request:0.019s]\n"
     ]
    },
    {
     "name": "stdout",
     "output_type": "stream",
     "text": [
      "\n",
      "Hi \n",
      "Verify your email by using below link,\n",
      "<br>\n",
      "<a href=\"https://ib-workflows-web-alpha.apigateway.in/verify-email?token=K52EbHsMrAWJR27UPQbpnq1J5d1k5F\">Verify Your Email</a><br>\n",
      "<br>\n",
      "Thank you\n",
      " asd\n",
      "template_:  \n",
      "Hi \n",
      "Verify your email by using below link,\n",
      "<br>\n",
      "<a href=\"https://ib-workflows-web-alpha.apigateway.in/verify-email?token=K52EbHsMrAWJR27UPQbpnq1J5d1k5F\">Verify Your Email</a><br>\n",
      "<br>\n",
      "Thank you\n",
      "\n",
      "serializer_template:  <django.template.base.Template object at 0x7fd449078fd0>\n",
      "data:  {}\n",
      "html_content:  \n",
      "Hi \n",
      "Verify your email by using below link,\n",
      "<br>\n",
      "<a href=\"https://ib-workflows-web-alpha.apigateway.in/verify-email?token=K52EbHsMrAWJR27UPQbpnq1J5d1k5F\">Verify Your Email</a><br>\n",
      "<br>\n",
      "Thank you\n",
      "\n"
     ]
    },
    {
     "name": "stderr",
     "output_type": "stream",
     "text": [
      "[none] [ib_workflows_backend - beta] INFO     [11:14:57]  [/home/ubuntu/ib-workflows-backend/venv/lib/python3.8/site-packages/elasticsearch/connection/base.py] [base.py][log_request_success] [227]: POST https://search-ib-workflows-dev-nck6c5mhnwbsg2ajsnmyobophm.ap-south-1.es.amazonaws.com:443/user-beta/_doc [status:201 request:0.026s]\n"
     ]
    },
    {
     "name": "stdout",
     "output_type": "stream",
     "text": [
      "\n",
      "Hi \n",
      "Verify your email by using below link,\n",
      "<br>\n",
      "<a href=\"https://ib-workflows-web-alpha.apigateway.in/verify-email?token=2FaWh1tvUvGxmmMGtaXZrjdAxMecpb\">Verify Your Email</a><br>\n",
      "<br>\n",
      "Thank you\n",
      " asd\n",
      "template_:  \n",
      "Hi \n",
      "Verify your email by using below link,\n",
      "<br>\n",
      "<a href=\"https://ib-workflows-web-alpha.apigateway.in/verify-email?token=2FaWh1tvUvGxmmMGtaXZrjdAxMecpb\">Verify Your Email</a><br>\n",
      "<br>\n",
      "Thank you\n",
      "\n",
      "serializer_template:  <django.template.base.Template object at 0x7fd4490825e0>\n",
      "data:  {}\n",
      "html_content:  \n",
      "Hi \n",
      "Verify your email by using below link,\n",
      "<br>\n",
      "<a href=\"https://ib-workflows-web-alpha.apigateway.in/verify-email?token=2FaWh1tvUvGxmmMGtaXZrjdAxMecpb\">Verify Your Email</a><br>\n",
      "<br>\n",
      "Thank you\n",
      "\n"
     ]
    },
    {
     "name": "stderr",
     "output_type": "stream",
     "text": [
      "[none] [ib_workflows_backend - beta] INFO     [11:14:59]  [/home/ubuntu/ib-workflows-backend/venv/lib/python3.8/site-packages/elasticsearch/connection/base.py] [base.py][log_request_success] [227]: POST https://search-ib-workflows-dev-nck6c5mhnwbsg2ajsnmyobophm.ap-south-1.es.amazonaws.com:443/user-beta/_doc [status:201 request:0.020s]\n"
     ]
    },
    {
     "name": "stdout",
     "output_type": "stream",
     "text": [
      "\n",
      "Hi \n",
      "Verify your email by using below link,\n",
      "<br>\n",
      "<a href=\"https://ib-workflows-web-alpha.apigateway.in/verify-email?token=jHPVYUYGhewZzI8jHRV9F8IBJYaDXI\">Verify Your Email</a><br>\n",
      "<br>\n",
      "Thank you\n",
      " asd\n",
      "template_:  \n",
      "Hi \n",
      "Verify your email by using below link,\n",
      "<br>\n",
      "<a href=\"https://ib-workflows-web-alpha.apigateway.in/verify-email?token=jHPVYUYGhewZzI8jHRV9F8IBJYaDXI\">Verify Your Email</a><br>\n",
      "<br>\n",
      "Thank you\n",
      "\n",
      "serializer_template:  <django.template.base.Template object at 0x7fd449083d00>\n",
      "data:  {}\n",
      "html_content:  \n",
      "Hi \n",
      "Verify your email by using below link,\n",
      "<br>\n",
      "<a href=\"https://ib-workflows-web-alpha.apigateway.in/verify-email?token=jHPVYUYGhewZzI8jHRV9F8IBJYaDXI\">Verify Your Email</a><br>\n",
      "<br>\n",
      "Thank you\n",
      "\n"
     ]
    },
    {
     "name": "stderr",
     "output_type": "stream",
     "text": [
      "[none] [ib_workflows_backend - beta] INFO     [11:15:01]  [/home/ubuntu/ib-workflows-backend/venv/lib/python3.8/site-packages/elasticsearch/connection/base.py] [base.py][log_request_success] [227]: POST https://search-ib-workflows-dev-nck6c5mhnwbsg2ajsnmyobophm.ap-south-1.es.amazonaws.com:443/user-beta/_doc [status:201 request:0.022s]\n"
     ]
    },
    {
     "name": "stdout",
     "output_type": "stream",
     "text": [
      "\n",
      "Hi \n",
      "Verify your email by using below link,\n",
      "<br>\n",
      "<a href=\"https://ib-workflows-web-alpha.apigateway.in/verify-email?token=dsAymEh4rvNJsiCcmdltkEsPRtSRyy\">Verify Your Email</a><br>\n",
      "<br>\n",
      "Thank you\n",
      " asd\n",
      "template_:  \n",
      "Hi \n",
      "Verify your email by using below link,\n",
      "<br>\n",
      "<a href=\"https://ib-workflows-web-alpha.apigateway.in/verify-email?token=dsAymEh4rvNJsiCcmdltkEsPRtSRyy\">Verify Your Email</a><br>\n",
      "<br>\n",
      "Thank you\n",
      "\n",
      "serializer_template:  <django.template.base.Template object at 0x7fd44908f880>\n",
      "data:  {}\n",
      "html_content:  \n",
      "Hi \n",
      "Verify your email by using below link,\n",
      "<br>\n",
      "<a href=\"https://ib-workflows-web-alpha.apigateway.in/verify-email?token=dsAymEh4rvNJsiCcmdltkEsPRtSRyy\">Verify Your Email</a><br>\n",
      "<br>\n",
      "Thank you\n",
      "\n"
     ]
    },
    {
     "name": "stderr",
     "output_type": "stream",
     "text": [
      "[none] [ib_workflows_backend - beta] INFO     [11:15:03]  [/home/ubuntu/ib-workflows-backend/venv/lib/python3.8/site-packages/elasticsearch/connection/base.py] [base.py][log_request_success] [227]: POST https://search-ib-workflows-dev-nck6c5mhnwbsg2ajsnmyobophm.ap-south-1.es.amazonaws.com:443/user-beta/_doc [status:201 request:0.019s]\n"
     ]
    },
    {
     "name": "stdout",
     "output_type": "stream",
     "text": [
      "\n",
      "Hi \n",
      "Verify your email by using below link,\n",
      "<br>\n",
      "<a href=\"https://ib-workflows-web-alpha.apigateway.in/verify-email?token=2AVHmT3Pk0DFMKa75cxnituEn9pPTy\">Verify Your Email</a><br>\n",
      "<br>\n",
      "Thank you\n",
      " asd\n",
      "template_:  \n",
      "Hi \n",
      "Verify your email by using below link,\n",
      "<br>\n",
      "<a href=\"https://ib-workflows-web-alpha.apigateway.in/verify-email?token=2AVHmT3Pk0DFMKa75cxnituEn9pPTy\">Verify Your Email</a><br>\n",
      "<br>\n",
      "Thank you\n",
      "\n",
      "serializer_template:  <django.template.base.Template object at 0x7fd449092d90>\n",
      "data:  {}\n",
      "html_content:  \n",
      "Hi \n",
      "Verify your email by using below link,\n",
      "<br>\n",
      "<a href=\"https://ib-workflows-web-alpha.apigateway.in/verify-email?token=2AVHmT3Pk0DFMKa75cxnituEn9pPTy\">Verify Your Email</a><br>\n",
      "<br>\n",
      "Thank you\n",
      "\n"
     ]
    },
    {
     "name": "stderr",
     "output_type": "stream",
     "text": [
      "[none] [ib_workflows_backend - beta] INFO     [11:15:05]  [/home/ubuntu/ib-workflows-backend/venv/lib/python3.8/site-packages/elasticsearch/connection/base.py] [base.py][log_request_success] [227]: POST https://search-ib-workflows-dev-nck6c5mhnwbsg2ajsnmyobophm.ap-south-1.es.amazonaws.com:443/user-beta/_doc [status:201 request:0.019s]\n"
     ]
    },
    {
     "name": "stdout",
     "output_type": "stream",
     "text": [
      "\n",
      "Hi \n",
      "Verify your email by using below link,\n",
      "<br>\n",
      "<a href=\"https://ib-workflows-web-alpha.apigateway.in/verify-email?token=VNXDM0zd1R6TwCo7cxfvdBMy5UQOKO\">Verify Your Email</a><br>\n",
      "<br>\n",
      "Thank you\n",
      " asd\n",
      "template_:  \n",
      "Hi \n",
      "Verify your email by using below link,\n",
      "<br>\n",
      "<a href=\"https://ib-workflows-web-alpha.apigateway.in/verify-email?token=VNXDM0zd1R6TwCo7cxfvdBMy5UQOKO\">Verify Your Email</a><br>\n",
      "<br>\n",
      "Thank you\n",
      "\n",
      "serializer_template:  <django.template.base.Template object at 0x7fd44909aa30>\n",
      "data:  {}\n",
      "html_content:  \n",
      "Hi \n",
      "Verify your email by using below link,\n",
      "<br>\n",
      "<a href=\"https://ib-workflows-web-alpha.apigateway.in/verify-email?token=VNXDM0zd1R6TwCo7cxfvdBMy5UQOKO\">Verify Your Email</a><br>\n",
      "<br>\n",
      "Thank you\n",
      "\n"
     ]
    },
    {
     "name": "stderr",
     "output_type": "stream",
     "text": [
      "[none] [ib_workflows_backend - beta] INFO     [11:15:08]  [/home/ubuntu/ib-workflows-backend/venv/lib/python3.8/site-packages/elasticsearch/connection/base.py] [base.py][log_request_success] [227]: POST https://search-ib-workflows-dev-nck6c5mhnwbsg2ajsnmyobophm.ap-south-1.es.amazonaws.com:443/user-beta/_doc [status:201 request:0.019s]\n"
     ]
    },
    {
     "name": "stdout",
     "output_type": "stream",
     "text": [
      "\n",
      "Hi \n",
      "Verify your email by using below link,\n",
      "<br>\n",
      "<a href=\"https://ib-workflows-web-alpha.apigateway.in/verify-email?token=EaTtNIUqxrqczpznJ8dGSkXOGGZ6sT\">Verify Your Email</a><br>\n",
      "<br>\n",
      "Thank you\n",
      " asd\n",
      "template_:  \n",
      "Hi \n",
      "Verify your email by using below link,\n",
      "<br>\n",
      "<a href=\"https://ib-workflows-web-alpha.apigateway.in/verify-email?token=EaTtNIUqxrqczpznJ8dGSkXOGGZ6sT\">Verify Your Email</a><br>\n",
      "<br>\n",
      "Thank you\n",
      "\n",
      "serializer_template:  <django.template.base.Template object at 0x7fd44909ce20>\n",
      "data:  {}\n",
      "html_content:  \n",
      "Hi \n",
      "Verify your email by using below link,\n",
      "<br>\n",
      "<a href=\"https://ib-workflows-web-alpha.apigateway.in/verify-email?token=EaTtNIUqxrqczpznJ8dGSkXOGGZ6sT\">Verify Your Email</a><br>\n",
      "<br>\n",
      "Thank you\n",
      "\n"
     ]
    },
    {
     "data": {
      "text/plain": [
       "<UserAccount: d8d70dc8-1c7c-4ec4-a99c-0841e8c57c45>"
      ]
     },
     "execution_count": 14,
     "metadata": {},
     "output_type": "execute_result"
    }
   ],
   "source": [
    "\"\"\"\n",
    "Populate Ib IAM Related Data For FinMan Project Configuration\n",
    "\n",
    "Note:- While Running the this below script need to Run the ELASTIC SEARCH SERVER\n",
    "\"\"\"\n",
    "from ib_iam.populate.populate_utils import populate\n",
    "populate(FIN_MAN_CONFIGURATION_SHEET_NAME)\n",
    "\n",
    "from ib_users.models import *\n",
    "UserAccount.objects.create_superuser(username='admin', password='admin@123', email='admin@example.com')\n",
    "UserAccount.objects.create_superuser(username='fduser', password='fduser@123', email='fduser@example.com')"
   ]
  },
  {
   "cell_type": "code",
   "execution_count": 15,
   "metadata": {},
   "outputs": [
    {
     "name": "stderr",
     "output_type": "stream",
     "text": [
      "[none] [ib_workflows_backend - beta] INFO     [11:15:17]  [/home/ubuntu/ib-workflows-backend/venv/lib/python3.8/site-packages/elasticsearch/connection/base.py] [base.py][log_request_success] [227]: POST https://search-ib-workflows-dev-nck6c5mhnwbsg2ajsnmyobophm.ap-south-1.es.amazonaws.com:443/country-beta/_doc [status:201 request:0.020s]\n",
      "[none] [ib_workflows_backend - beta] INFO     [11:15:17]  [/home/ubuntu/ib-workflows-backend/venv/lib/python3.8/site-packages/elasticsearch/connection/base.py] [base.py][log_request_success] [227]: POST https://search-ib-workflows-dev-nck6c5mhnwbsg2ajsnmyobophm.ap-south-1.es.amazonaws.com:443/country-beta/_doc [status:201 request:0.019s]\n",
      "[none] [ib_workflows_backend - beta] INFO     [11:15:17]  [/home/ubuntu/ib-workflows-backend/venv/lib/python3.8/site-packages/elasticsearch/connection/base.py] [base.py][log_request_success] [227]: POST https://search-ib-workflows-dev-nck6c5mhnwbsg2ajsnmyobophm.ap-south-1.es.amazonaws.com:443/country-beta/_doc [status:201 request:0.021s]\n",
      "[none] [ib_workflows_backend - beta] INFO     [11:15:17]  [/home/ubuntu/ib-workflows-backend/venv/lib/python3.8/site-packages/elasticsearch/connection/base.py] [base.py][log_request_success] [227]: POST https://search-ib-workflows-dev-nck6c5mhnwbsg2ajsnmyobophm.ap-south-1.es.amazonaws.com:443/country-beta/_doc [status:201 request:0.021s]\n",
      "[none] [ib_workflows_backend - beta] INFO     [11:15:17]  [/home/ubuntu/ib-workflows-backend/venv/lib/python3.8/site-packages/elasticsearch/connection/base.py] [base.py][log_request_success] [227]: POST https://search-ib-workflows-dev-nck6c5mhnwbsg2ajsnmyobophm.ap-south-1.es.amazonaws.com:443/country-beta/_doc [status:201 request:0.019s]\n",
      "[none] [ib_workflows_backend - beta] INFO     [11:15:17]  [/home/ubuntu/ib-workflows-backend/venv/lib/python3.8/site-packages/elasticsearch/connection/base.py] [base.py][log_request_success] [227]: POST https://search-ib-workflows-dev-nck6c5mhnwbsg2ajsnmyobophm.ap-south-1.es.amazonaws.com:443/country-beta/_doc [status:201 request:0.019s]\n",
      "[none] [ib_workflows_backend - beta] INFO     [11:15:17]  [/home/ubuntu/ib-workflows-backend/venv/lib/python3.8/site-packages/elasticsearch/connection/base.py] [base.py][log_request_success] [227]: POST https://search-ib-workflows-dev-nck6c5mhnwbsg2ajsnmyobophm.ap-south-1.es.amazonaws.com:443/country-beta/_doc [status:201 request:0.018s]\n",
      "[none] [ib_workflows_backend - beta] INFO     [11:15:17]  [/home/ubuntu/ib-workflows-backend/venv/lib/python3.8/site-packages/elasticsearch/connection/base.py] [base.py][log_request_success] [227]: POST https://search-ib-workflows-dev-nck6c5mhnwbsg2ajsnmyobophm.ap-south-1.es.amazonaws.com:443/country-beta/_doc [status:201 request:0.018s]\n",
      "[none] [ib_workflows_backend - beta] INFO     [11:15:17]  [/home/ubuntu/ib-workflows-backend/venv/lib/python3.8/site-packages/elasticsearch/connection/base.py] [base.py][log_request_success] [227]: POST https://search-ib-workflows-dev-nck6c5mhnwbsg2ajsnmyobophm.ap-south-1.es.amazonaws.com:443/state-beta/_doc [status:201 request:0.019s]\n",
      "[none] [ib_workflows_backend - beta] INFO     [11:15:17]  [/home/ubuntu/ib-workflows-backend/venv/lib/python3.8/site-packages/elasticsearch/connection/base.py] [base.py][log_request_success] [227]: POST https://search-ib-workflows-dev-nck6c5mhnwbsg2ajsnmyobophm.ap-south-1.es.amazonaws.com:443/state-beta/_doc [status:201 request:0.020s]\n",
      "[none] [ib_workflows_backend - beta] INFO     [11:15:17]  [/home/ubuntu/ib-workflows-backend/venv/lib/python3.8/site-packages/elasticsearch/connection/base.py] [base.py][log_request_success] [227]: POST https://search-ib-workflows-dev-nck6c5mhnwbsg2ajsnmyobophm.ap-south-1.es.amazonaws.com:443/state-beta/_doc [status:201 request:0.023s]\n",
      "[none] [ib_workflows_backend - beta] INFO     [11:15:17]  [/home/ubuntu/ib-workflows-backend/venv/lib/python3.8/site-packages/elasticsearch/connection/base.py] [base.py][log_request_success] [227]: POST https://search-ib-workflows-dev-nck6c5mhnwbsg2ajsnmyobophm.ap-south-1.es.amazonaws.com:443/state-beta/_doc [status:201 request:0.018s]\n",
      "[none] [ib_workflows_backend - beta] INFO     [11:15:17]  [/home/ubuntu/ib-workflows-backend/venv/lib/python3.8/site-packages/elasticsearch/connection/base.py] [base.py][log_request_success] [227]: POST https://search-ib-workflows-dev-nck6c5mhnwbsg2ajsnmyobophm.ap-south-1.es.amazonaws.com:443/state-beta/_doc [status:201 request:0.018s]\n",
      "[none] [ib_workflows_backend - beta] INFO     [11:15:17]  [/home/ubuntu/ib-workflows-backend/venv/lib/python3.8/site-packages/elasticsearch/connection/base.py] [base.py][log_request_success] [227]: POST https://search-ib-workflows-dev-nck6c5mhnwbsg2ajsnmyobophm.ap-south-1.es.amazonaws.com:443/state-beta/_doc [status:201 request:0.018s]\n",
      "[none] [ib_workflows_backend - beta] INFO     [11:15:17]  [/home/ubuntu/ib-workflows-backend/venv/lib/python3.8/site-packages/elasticsearch/connection/base.py] [base.py][log_request_success] [227]: POST https://search-ib-workflows-dev-nck6c5mhnwbsg2ajsnmyobophm.ap-south-1.es.amazonaws.com:443/state-beta/_doc [status:201 request:0.020s]\n",
      "[none] [ib_workflows_backend - beta] INFO     [11:15:17]  [/home/ubuntu/ib-workflows-backend/venv/lib/python3.8/site-packages/elasticsearch/connection/base.py] [base.py][log_request_success] [227]: POST https://search-ib-workflows-dev-nck6c5mhnwbsg2ajsnmyobophm.ap-south-1.es.amazonaws.com:443/city-beta/_doc [status:201 request:0.024s]\n",
      "[none] [ib_workflows_backend - beta] INFO     [11:15:17]  [/home/ubuntu/ib-workflows-backend/venv/lib/python3.8/site-packages/elasticsearch/connection/base.py] [base.py][log_request_success] [227]: POST https://search-ib-workflows-dev-nck6c5mhnwbsg2ajsnmyobophm.ap-south-1.es.amazonaws.com:443/city-beta/_doc [status:201 request:0.017s]\n",
      "[none] [ib_workflows_backend - beta] INFO     [11:15:17]  [/home/ubuntu/ib-workflows-backend/venv/lib/python3.8/site-packages/elasticsearch/connection/base.py] [base.py][log_request_success] [227]: POST https://search-ib-workflows-dev-nck6c5mhnwbsg2ajsnmyobophm.ap-south-1.es.amazonaws.com:443/city-beta/_doc [status:201 request:0.023s]\n",
      "[none] [ib_workflows_backend - beta] INFO     [11:15:17]  [/home/ubuntu/ib-workflows-backend/venv/lib/python3.8/site-packages/elasticsearch/connection/base.py] [base.py][log_request_success] [227]: POST https://search-ib-workflows-dev-nck6c5mhnwbsg2ajsnmyobophm.ap-south-1.es.amazonaws.com:443/city-beta/_doc [status:201 request:0.023s]\n",
      "[none] [ib_workflows_backend - beta] INFO     [11:15:17]  [/home/ubuntu/ib-workflows-backend/venv/lib/python3.8/site-packages/elasticsearch/connection/base.py] [base.py][log_request_success] [227]: POST https://search-ib-workflows-dev-nck6c5mhnwbsg2ajsnmyobophm.ap-south-1.es.amazonaws.com:443/city-beta/_doc [status:201 request:0.018s]\n",
      "[none] [ib_workflows_backend - beta] INFO     [11:15:17]  [/home/ubuntu/ib-workflows-backend/venv/lib/python3.8/site-packages/elasticsearch/connection/base.py] [base.py][log_request_success] [227]: POST https://search-ib-workflows-dev-nck6c5mhnwbsg2ajsnmyobophm.ap-south-1.es.amazonaws.com:443/city-beta/_doc [status:201 request:0.018s]\n",
      "[none] [ib_workflows_backend - beta] INFO     [11:15:17]  [/home/ubuntu/ib-workflows-backend/venv/lib/python3.8/site-packages/elasticsearch/connection/base.py] [base.py][log_request_success] [227]: POST https://search-ib-workflows-dev-nck6c5mhnwbsg2ajsnmyobophm.ap-south-1.es.amazonaws.com:443/city-beta/_doc [status:201 request:0.018s]\n"
     ]
    }
   ],
   "source": [
    "\"\"\"\n",
    "Populate Elastic Search Data For Cities\n",
    "\n",
    "\"\"\"\n",
    "from ib_iam.populate.populate_elastic_search_data import populate_data\n",
    "populate_data()"
   ]
  },
  {
   "cell_type": "code",
   "execution_count": 16,
   "metadata": {},
   "outputs": [],
   "source": [
    "from elasticsearch_dsl import connections\n",
    "from django.conf import settings\n",
    "es = connections.create_connection(\n",
    "hosts=[settings.ELASTICSEARCH_ENDPOINT], timeout=20)"
   ]
  },
  {
   "cell_type": "code",
   "execution_count": 9,
   "metadata": {},
   "outputs": [
    {
     "name": "stderr",
     "output_type": "stream",
     "text": [
      "[none] [ib_workflows_backend - beta] WARNING  [11:13:54]  [/home/ubuntu/ib-workflows-backend/venv/lib/python3.8/site-packages/elasticsearch/connection/base.py] [base.py][log_request_fail] [250]: DELETE https://search-ib-workflows-dev-nck6c5mhnwbsg2ajsnmyobophm.ap-south-1.es.amazonaws.com:443/task-beta [status:404 request:0.053s]\n"
     ]
    },
    {
     "name": "stdout",
     "output_type": "stream",
     "text": [
      "LE: Starting Logentries Asynchronous Socket Appender\n"
     ]
    },
    {
     "ename": "NotFoundError",
     "evalue": "NotFoundError(404, 'index_not_found_exception', 'no such index [task-beta]', task-beta, index_or_alias)",
     "output_type": "error",
     "traceback": [
      "\u001b[0;31m---------------------------------------------------------------------------\u001b[0m",
      "\u001b[0;31mNotFoundError\u001b[0m                             Traceback (most recent call last)",
      "\u001b[0;32m<ipython-input-9-7eebaea1b525>\u001b[0m in \u001b[0;36m<module>\u001b[0;34m\u001b[0m\n\u001b[1;32m      1\u001b[0m \u001b[0;32mfrom\u001b[0m \u001b[0mib_tasks\u001b[0m\u001b[0;34m.\u001b[0m\u001b[0mdocuments\u001b[0m\u001b[0;34m.\u001b[0m\u001b[0melastic_task\u001b[0m \u001b[0;32mimport\u001b[0m \u001b[0mTASK_INDEX_NAME\u001b[0m\u001b[0;34m\u001b[0m\u001b[0;34m\u001b[0m\u001b[0m\n\u001b[0;32m----> 2\u001b[0;31m \u001b[0mes\u001b[0m\u001b[0;34m.\u001b[0m\u001b[0mindices\u001b[0m\u001b[0;34m.\u001b[0m\u001b[0mdelete\u001b[0m\u001b[0;34m(\u001b[0m\u001b[0mindex\u001b[0m \u001b[0;34m=\u001b[0m \u001b[0mTASK_INDEX_NAME\u001b[0m\u001b[0;34m)\u001b[0m\u001b[0;34m\u001b[0m\u001b[0;34m\u001b[0m\u001b[0m\n\u001b[0m",
      "\u001b[0;32m~/ib-workflows-backend/venv/lib/python3.8/site-packages/elasticsearch/client/utils.py\u001b[0m in \u001b[0;36m_wrapped\u001b[0;34m(*args, **kwargs)\u001b[0m\n\u001b[1;32m    137\u001b[0m                 \u001b[0;32mif\u001b[0m \u001b[0mp\u001b[0m \u001b[0;32min\u001b[0m \u001b[0mkwargs\u001b[0m\u001b[0;34m:\u001b[0m\u001b[0;34m\u001b[0m\u001b[0;34m\u001b[0m\u001b[0m\n\u001b[1;32m    138\u001b[0m                     \u001b[0mparams\u001b[0m\u001b[0;34m[\u001b[0m\u001b[0mp\u001b[0m\u001b[0;34m]\u001b[0m \u001b[0;34m=\u001b[0m \u001b[0mkwargs\u001b[0m\u001b[0;34m.\u001b[0m\u001b[0mpop\u001b[0m\u001b[0;34m(\u001b[0m\u001b[0mp\u001b[0m\u001b[0;34m)\u001b[0m\u001b[0;34m\u001b[0m\u001b[0;34m\u001b[0m\u001b[0m\n\u001b[0;32m--> 139\u001b[0;31m             \u001b[0;32mreturn\u001b[0m \u001b[0mfunc\u001b[0m\u001b[0;34m(\u001b[0m\u001b[0;34m*\u001b[0m\u001b[0margs\u001b[0m\u001b[0;34m,\u001b[0m \u001b[0mparams\u001b[0m\u001b[0;34m=\u001b[0m\u001b[0mparams\u001b[0m\u001b[0;34m,\u001b[0m \u001b[0mheaders\u001b[0m\u001b[0;34m=\u001b[0m\u001b[0mheaders\u001b[0m\u001b[0;34m,\u001b[0m \u001b[0;34m**\u001b[0m\u001b[0mkwargs\u001b[0m\u001b[0;34m)\u001b[0m\u001b[0;34m\u001b[0m\u001b[0;34m\u001b[0m\u001b[0m\n\u001b[0m\u001b[1;32m    140\u001b[0m \u001b[0;34m\u001b[0m\u001b[0m\n\u001b[1;32m    141\u001b[0m         \u001b[0;32mreturn\u001b[0m \u001b[0m_wrapped\u001b[0m\u001b[0;34m\u001b[0m\u001b[0;34m\u001b[0m\u001b[0m\n",
      "\u001b[0;32m~/ib-workflows-backend/venv/lib/python3.8/site-packages/elasticsearch/client/indices.py\u001b[0m in \u001b[0;36mdelete\u001b[0;34m(self, index, params, headers)\u001b[0m\n\u001b[1;32m    270\u001b[0m             \u001b[0;32mraise\u001b[0m \u001b[0mValueError\u001b[0m\u001b[0;34m(\u001b[0m\u001b[0;34m\"Empty value passed for a required argument 'index'.\"\u001b[0m\u001b[0;34m)\u001b[0m\u001b[0;34m\u001b[0m\u001b[0;34m\u001b[0m\u001b[0m\n\u001b[1;32m    271\u001b[0m \u001b[0;34m\u001b[0m\u001b[0m\n\u001b[0;32m--> 272\u001b[0;31m         return self.transport.perform_request(\n\u001b[0m\u001b[1;32m    273\u001b[0m             \u001b[0;34m\"DELETE\"\u001b[0m\u001b[0;34m,\u001b[0m \u001b[0m_make_path\u001b[0m\u001b[0;34m(\u001b[0m\u001b[0mindex\u001b[0m\u001b[0;34m)\u001b[0m\u001b[0;34m,\u001b[0m \u001b[0mparams\u001b[0m\u001b[0;34m=\u001b[0m\u001b[0mparams\u001b[0m\u001b[0;34m,\u001b[0m \u001b[0mheaders\u001b[0m\u001b[0;34m=\u001b[0m\u001b[0mheaders\u001b[0m\u001b[0;34m\u001b[0m\u001b[0;34m\u001b[0m\u001b[0m\n\u001b[1;32m    274\u001b[0m         )\n",
      "\u001b[0;32m~/ib-workflows-backend/venv/lib/python3.8/site-packages/elasticsearch/transport.py\u001b[0m in \u001b[0;36mperform_request\u001b[0;34m(self, method, url, headers, params, body)\u001b[0m\n\u001b[1;32m    343\u001b[0m \u001b[0;34m\u001b[0m\u001b[0m\n\u001b[1;32m    344\u001b[0m             \u001b[0;32mtry\u001b[0m\u001b[0;34m:\u001b[0m\u001b[0;34m\u001b[0m\u001b[0;34m\u001b[0m\u001b[0m\n\u001b[0;32m--> 345\u001b[0;31m                 status, headers_response, data = connection.perform_request(\n\u001b[0m\u001b[1;32m    346\u001b[0m                     \u001b[0mmethod\u001b[0m\u001b[0;34m,\u001b[0m\u001b[0;34m\u001b[0m\u001b[0;34m\u001b[0m\u001b[0m\n\u001b[1;32m    347\u001b[0m                     \u001b[0murl\u001b[0m\u001b[0;34m,\u001b[0m\u001b[0;34m\u001b[0m\u001b[0;34m\u001b[0m\u001b[0m\n",
      "\u001b[0;32m~/ib-workflows-backend/venv/lib/python3.8/site-packages/elasticsearch/connection/http_urllib3.py\u001b[0m in \u001b[0;36mperform_request\u001b[0;34m(self, method, url, params, body, timeout, ignore, headers)\u001b[0m\n\u001b[1;32m    254\u001b[0m                 \u001b[0mmethod\u001b[0m\u001b[0;34m,\u001b[0m \u001b[0mfull_url\u001b[0m\u001b[0;34m,\u001b[0m \u001b[0murl\u001b[0m\u001b[0;34m,\u001b[0m \u001b[0morig_body\u001b[0m\u001b[0;34m,\u001b[0m \u001b[0mduration\u001b[0m\u001b[0;34m,\u001b[0m \u001b[0mresponse\u001b[0m\u001b[0;34m.\u001b[0m\u001b[0mstatus\u001b[0m\u001b[0;34m,\u001b[0m \u001b[0mraw_data\u001b[0m\u001b[0;34m\u001b[0m\u001b[0;34m\u001b[0m\u001b[0m\n\u001b[1;32m    255\u001b[0m             )\n\u001b[0;32m--> 256\u001b[0;31m             \u001b[0mself\u001b[0m\u001b[0;34m.\u001b[0m\u001b[0m_raise_error\u001b[0m\u001b[0;34m(\u001b[0m\u001b[0mresponse\u001b[0m\u001b[0;34m.\u001b[0m\u001b[0mstatus\u001b[0m\u001b[0;34m,\u001b[0m \u001b[0mraw_data\u001b[0m\u001b[0;34m)\u001b[0m\u001b[0;34m\u001b[0m\u001b[0;34m\u001b[0m\u001b[0m\n\u001b[0m\u001b[1;32m    257\u001b[0m \u001b[0;34m\u001b[0m\u001b[0m\n\u001b[1;32m    258\u001b[0m         self.log_request_success(\n",
      "\u001b[0;32m~/ib-workflows-backend/venv/lib/python3.8/site-packages/elasticsearch/connection/base.py\u001b[0m in \u001b[0;36m_raise_error\u001b[0;34m(self, status_code, raw_data)\u001b[0m\n\u001b[1;32m    285\u001b[0m             \u001b[0mlogger\u001b[0m\u001b[0;34m.\u001b[0m\u001b[0mwarning\u001b[0m\u001b[0;34m(\u001b[0m\u001b[0;34m\"Undecodable raw error response from server: %s\"\u001b[0m\u001b[0;34m,\u001b[0m \u001b[0merr\u001b[0m\u001b[0;34m)\u001b[0m\u001b[0;34m\u001b[0m\u001b[0;34m\u001b[0m\u001b[0m\n\u001b[1;32m    286\u001b[0m \u001b[0;34m\u001b[0m\u001b[0m\n\u001b[0;32m--> 287\u001b[0;31m         raise HTTP_EXCEPTIONS.get(status_code, TransportError)(\n\u001b[0m\u001b[1;32m    288\u001b[0m             \u001b[0mstatus_code\u001b[0m\u001b[0;34m,\u001b[0m \u001b[0merror_message\u001b[0m\u001b[0;34m,\u001b[0m \u001b[0madditional_info\u001b[0m\u001b[0;34m\u001b[0m\u001b[0;34m\u001b[0m\u001b[0m\n\u001b[1;32m    289\u001b[0m         )\n",
      "\u001b[0;31mNotFoundError\u001b[0m: NotFoundError(404, 'index_not_found_exception', 'no such index [task-beta]', task-beta, index_or_alias)"
     ]
    }
   ],
   "source": [
    "from ib_tasks.documents.elastic_task import TASK_INDEX_NAME\n",
    "es.indices.creat(index = TASK_INDEX_NAME)"
   ]
  },
  {
   "cell_type": "code",
   "execution_count": 15,
   "metadata": {},
   "outputs": [],
   "source": [
    "\"\"\"\n",
    "Populate Users with company and roles and teams\n",
    "\n",
    "\"\"\"\n",
    "\n",
    "\n",
    "from ib_iam.populate.populate_complete_user_details_bulk import populate_complete_user_details_bulk, USERS\n",
    "\n",
    "populate_complete_user_details_bulk(users=USERS)"
   ]
  },
  {
   "cell_type": "code",
   "execution_count": null,
   "metadata": {},
   "outputs": [],
   "source": []
  }
 ],
 "metadata": {
  "kernelspec": {
   "display_name": "Python 3",
   "language": "python",
   "name": "python3"
  },
  "language_info": {
   "codemirror_mode": {
    "name": "ipython",
    "version": 3
   },
   "file_extension": ".py",
   "mimetype": "text/x-python",
   "name": "python",
   "nbconvert_exporter": "python",
   "pygments_lexer": "ipython3",
   "version": "3.7.7"
  }
 },
 "nbformat": 4,
 "nbformat_minor": 4
}
