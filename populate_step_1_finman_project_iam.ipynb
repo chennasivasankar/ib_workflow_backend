{
 "cells": [
  {
   "cell_type": "code",
   "execution_count": null,
   "metadata": {},
<<<<<<< Updated upstream
   "outputs": [],
=======
   "outputs": [
    {
     "name": "stdout",
     "output_type": "stream",
     "text": [
      "{\n",
      "  \"shell_port\": 45595,\n",
      "  \"iopub_port\": 47513,\n",
      "  \"stdin_port\": 44217,\n",
      "  \"control_port\": 54655,\n",
      "  \"hb_port\": 54315,\n",
      "  \"ip\": \"127.0.0.1\",\n",
      "  \"key\": \"4cff2a60-b79ae044f313076114f155bd\",\n",
      "  \"transport\": \"tcp\",\n",
      "  \"signature_scheme\": \"hmac-sha256\",\n",
      "  \"kernel_name\": \"\"\n",
      "}\n",
      "\n",
      "Paste the above JSON into a file, and connect with:\n",
      "    $> jupyter <app> --existing <file>\n",
      "or, if you are local, you can connect with just:\n",
      "    $> jupyter <app> --existing kernel-650180bd-72dd-4421-814b-d8a51a98f5c5.json\n",
      "or even just:\n",
      "    $> jupyter <app> --existing\n",
      "if this is the most recent Jupyter kernel you have started.\n"
     ]
    }
   ],
>>>>>>> Stashed changes
   "source": [
    "%load_ext autoreload\n",
    "%autoreload 2\n",
    "\n",
    "%connect_info"
   ]
  },
  {
   "cell_type": "code",
   "execution_count": null,
   "metadata": {},
   "outputs": [],
   "source": [
    "import django"
   ]
  },
  {
   "cell_type": "code",
   "execution_count": null,
   "metadata": {},
   "outputs": [],
   "source": [
    "django.setup()"
   ]
  },
  {
   "cell_type": "code",
   "execution_count": null,
   "metadata": {},
   "outputs": [],
   "source": [
    "\"\"\"\n",
    "Project Configuration Sheets\n",
    "\"\"\"\n",
    "\n",
    "FIN_MAN_PROJECT_SHEET_NAME = \"Finman Project Configuration\"\n",
    "FIN_MAN_CONFIGURATION_SHEET_NAME=\"FinMan Configuration_v4 Dev Loading\"\n",
    "VENDOR_CONFIGURATION_SHEET_NAME = \"Vendor Configuration_v1 - Test\""
   ]
  },
  {
   "cell_type": "code",
   "execution_count": null,
   "metadata": {},
   "outputs": [],
   "source": [
    "\"\"\"\n",
    "Populate project and project roles\n",
    "\"\"\"\n",
    "\n",
    "from django.db import transaction\n",
    "\n",
    "@transaction.atomic()\n",
    "def populate_project_and_roles():\n",
    "    from ib_iam.populate.populate_utils import populate_projects\n",
    "    populate_projects(spread_sheet_name=FIN_MAN_PROJECT_SHEET_NAME)\n",
    "\n",
    "    from ib_tasks.populate.population_utils import populate_project_roles\n",
    "    populate_project_roles(FIN_MAN_CONFIGURATION_SHEET_NAME)"
   ]
  },
  {
   "cell_type": "code",
<<<<<<< Updated upstream
   "execution_count": null,
=======
   "execution_count": 6,
>>>>>>> Stashed changes
   "metadata": {},
   "outputs": [],
   "source": [
    "\"\"\"\n",
    "Populate tasks related data\n",
    "\"\"\"\n",
    "\n",
    "from django.db import transaction\n",
    "\n",
    "@transaction.atomic()\n",
    "def populate_task_and_boards_related_data():\n",
    "    \n",
    "    configuration_sheets = [\n",
    "        FIN_MAN_CONFIGURATION_SHEET_NAME\n",
    "    ]\n",
    "\n",
    "    for configuration_sheet in configuration_sheets:\n",
    "\n",
    "        from ib_tasks.populate.population_utils import populate_data\n",
    "        populate_data(configuration_sheet)\n",
    "        \n",
    "        from ib_boards.populate.get_data_from_sheet_for_boards_and_columns import GetBoardsAndColumnsDataFromSheet\n",
    "        loader = GetBoardsAndColumnsDataFromSheet()\n",
    "        loader.get_data_from_sheet(configuration_sheet)\n",
    "        loader.create_boards_and_columns(configuration_sheet)"
   ]
  },
  {
   "cell_type": "code",
<<<<<<< Updated upstream
   "execution_count": null,
=======
   "execution_count": 7,
>>>>>>> Stashed changes
   "metadata": {},
   "outputs": [],
   "source": [
    "\"\"\"\n",
    "Populate project related data\n",
    "\"\"\"\n",
    "from django.db import transaction\n",
    "\n",
    "@transaction.atomic()\n",
    "def populate_project_related_data():\n",
    "\n",
    "    from ib_tasks.populate.population_utils import populate_projects_for_task_templates\n",
    "    populate_projects_for_task_templates(FIN_MAN_PROJECT_SHEET_NAME)\n",
    "    \n",
    "    from ib_boards.populate.get_data_from_sheet_for_project_boards import GetSheetDataForProjectBoards\n",
    "    loader = GetSheetDataForProjectBoards()\n",
    "    loader.get_data_from_project_boards_sub_sheet(FIN_MAN_PROJECT_SHEET_NAME)"
   ]
  },
  {
   "cell_type": "code",
<<<<<<< Updated upstream
   "execution_count": null,
   "metadata": {},
   "outputs": [],
=======
   "execution_count": 8,
   "metadata": {},
   "outputs": [
    {
     "name": "stdout",
     "output_type": "stream",
     "text": [
      "[BoardDTO(board_id='FINB_PAYMENT_REQUESTS', name='Payment Requests'), BoardDTO(board_id='FINB_ACCOUNTS_L1_VERIFICATION_PRE_PAYMENT', name='Pre Payment Accounting L1 Verification'), BoardDTO(board_id='FINB_ACCOUNTS_L2_VERIFICATION_PRE_PAYMENT', name='Pre Payment Accounting L2 Verification'), BoardDTO(board_id='FINB_ACCOUNTS_L3_VERIFICATION_PRE_PAYMENT', name='Pre Payment Accounting L3 Verification'), BoardDTO(board_id='FINB_ACCOUNTS_L4_VERIFICATION_PRE_PAYMENT', name='Pre Payment Accounting L4 Verification'), BoardDTO(board_id='FINB_ACCOUNTS_VERIFICATION_PRE_PAYMENT', name='Pre Payment Accounting Verification Completed'), BoardDTO(board_id='FINB_PAYMENTS_L1_VERIFICATION_PRE_PAYMENT', name='Payment Requests L1 Verification'), BoardDTO(board_id='FINB_PAYMENTS_L2_VERIFICATION_PRE_PAYMENT', name='Payment Requests L2 Verification'), BoardDTO(board_id='FINB_PAYMENTS_L3_VERIFICATION_PRE_PAYMENT', name='Payment Requests L3 Verification'), BoardDTO(board_id='FINB_PAYMENTS_L5_VERIFICATION_PRE_PAYMENT', name='Payment Requests Payments RP Verification'), BoardDTO(board_id='FINB_PAYMENTS_VERIFICATION_PRE_PAYMENT', name='Pre Payment Verification Completed'), BoardDTO(board_id='FINB_PAYMENTS_OVERALL_PRE_PAYMENT', name='Payment Requests Finance RP Verification'), BoardDTO(board_id='FINB_PAYMENTS_PROCESSING', name='Payments Processing'), BoardDTO(board_id='FINB_POST_PAYMENTS_ACCOUNTS_L1_VERFICATION', name='Post Payments Accounts L1 Verification'), BoardDTO(board_id='FINB_POST_PAYMENTS_ACCOUNTS_L2_VERFICATION', name='Post Payments Accounts L2 Verification'), BoardDTO(board_id='FINB_POST_PAYMENTS_ACCOUNTS_L3_VERFICATION', name='Post Payments Accounts L3 Verification'), BoardDTO(board_id='FINB_POST_PAYMENTS_ACCOUNTS_L4_VERFICATION', name='Post Payments Accounts L4 Verification'), BoardDTO(board_id='FINB_POST_PAYMENTS_ACCOUNTS_L5_VERFICATION', name='Post Payments Accounts L5 Verification'), BoardDTO(board_id='FINB_POST_PAYMENTS_ACCOUNTING', name='Post Payments Accounting'), BoardDTO(board_id='FINB_INVOICE_VERIFICATION', name='Invoice Verification')] [ColumnDTO(column_id='FINC_PAYMENT_REQUESTS_DRAFTS', name='Payment Requests Drafts', display_order=1, task_template_stages=[TaskTemplateStagesDTO(task_template_id='FIN_PR', stages=['PR_PAYMENT_REQUEST_DRAFTS'])], user_role_ids=['ALL_ROLES'], column_summary='ColumnSummary1', column_actions='ColumnSummary3', list_view_fields=[TaskSummaryFieldsDTO(task_id='ravi', summary_fields='ravi')], kanban_view_fields=[TaskSummaryFieldsDTO(task_id='ravi', summary_fields='ravi')], board_id='FINB_PAYMENT_REQUESTS'), ColumnDTO(column_id='FINC_PR_PENDING_RP_APPROVAL', name='Pending RP Approval', display_order=2, task_template_stages=[TaskTemplateStagesDTO(task_template_id='FIN_PR', stages=['PR_PENDING_RP_APPROVAL'])], user_role_ids=['FIN_PAYMENT_REQUESTER', 'FIN_PAYMENT_APPROVER', 'FIN_PAYMENT_POC'], column_summary='ColumnSummary1', column_actions='ColumnSummary3', list_view_fields=[TaskSummaryFieldsDTO(task_id='ravi', summary_fields='ravi')], kanban_view_fields=[TaskSummaryFieldsDTO(task_id='ravi', summary_fields='ravi')], board_id='FINB_PAYMENT_REQUESTS'), ColumnDTO(column_id='FINC_NEED_CLARIFICATION', name='Need Clarification', display_order=3, task_template_stages=[TaskTemplateStagesDTO(task_template_id='FIN_PR', stages=['PR_NEED_CLARIFICATION'])], user_role_ids=['FIN_PAYMENT_REQUESTER', 'FIN_PAYMENT_APPROVER', 'FIN_PAYMENT_POC'], column_summary='ColumnSummary1', column_actions='ColumnSummary3', list_view_fields=[TaskSummaryFieldsDTO(task_id='ravi', summary_fields='ravi')], kanban_view_fields=[TaskSummaryFieldsDTO(task_id='ravi', summary_fields='ravi')], board_id='FINB_PAYMENT_REQUESTS'), ColumnDTO(column_id='FINC_ACCOUNTS_PAYMENTS_PENDING_VERIFICATION', name='Finance/Accounts Pending Verification', display_order=4, task_template_stages=[TaskTemplateStagesDTO(task_template_id='FIN_PR', stages=['PR_PENDING_ACCOUNTS_LEVEL1_VERIFICATION', 'PR_PENDING_ACCOUNTS_LEVEL2_VERIFICATION', 'PR_PENDING_ACCOUNTS_LEVEL3_VERIFICATION', 'PR_PENDING_ACCOUNTS_LEVEL4_VERIFICATION', 'PR_PENDING_PAYMENTS_LEVEL1_VERIFICATION', 'PR_PENDING_PAYMENTS_LEVEL2_VERIFICATION', 'PR_PENDING_PAYMENTS_LEVEL3_VERIFICATION', 'PR_PENDING_PAYMENTS_LEVEL5_APPROVAL', 'PR_PENDING_OVERALL_FINANCE_RP_APPROVAL'])], user_role_ids=['FIN_PAYMENT_REQUESTER', 'FIN_PAYMENT_APPROVER', 'FIN_PAYMENT_POC'], column_summary='ColumnSummary1', column_actions='ColumnSummary3', list_view_fields=[TaskSummaryFieldsDTO(task_id='ravi', summary_fields='ravi')], kanban_view_fields=[TaskSummaryFieldsDTO(task_id='ravi', summary_fields='ravi')], board_id='FINB_PAYMENT_REQUESTS'), ColumnDTO(column_id='FINC_PR_ACCOUNTS_PAYMENTS_APPROVED', name='Finance/Accounts Approved', display_order=5, task_template_stages=[TaskTemplateStagesDTO(task_template_id='FIN_PR', stages=['PR_PENDING_PAYMENTS_PROCESSING'])], user_role_ids=['FIN_PAYMENT_REQUESTER', 'FIN_PAYMENT_APPROVER', 'FIN_PAYMENT_POC'], column_summary='ColumnSummary1', column_actions='ColumnSummary3', list_view_fields=[TaskSummaryFieldsDTO(task_id='ravi', summary_fields='ravi')], kanban_view_fields=[TaskSummaryFieldsDTO(task_id='ravi', summary_fields='ravi')], board_id='FINB_PAYMENT_REQUESTS'), ColumnDTO(column_id='FINC_PAYMENT_COMPLETED', name='Payment Completed', display_order=6, task_template_stages=[TaskTemplateStagesDTO(task_template_id='FIN_PR', stages=['PR_COMPLETED'])], user_role_ids=['ALL_ROLES'], column_summary='ColumnSummary1', column_actions='ColumnSummary3', list_view_fields=[TaskSummaryFieldsDTO(task_id='ravi', summary_fields='ravi')], kanban_view_fields=[TaskSummaryFieldsDTO(task_id='ravi', summary_fields='ravi')], board_id='FINB_PAYMENT_REQUESTS'), ColumnDTO(column_id='FINC_PAYMENT_REJECTED', name='Rejected', display_order=7, task_template_stages=[TaskTemplateStagesDTO(task_template_id='FIN_PR', stages=['PR_REJECTION_LIST'])], user_role_ids=['ALL_ROLES'], column_summary='ColumnSummary1', column_actions='ColumnSummary3', list_view_fields=[TaskSummaryFieldsDTO(task_id='ravi', summary_fields='ravi')], kanban_view_fields=[TaskSummaryFieldsDTO(task_id='ravi', summary_fields='ravi')], board_id='FINB_PAYMENT_REQUESTS'), ColumnDTO(column_id='FINC_PR_PENDING_ACCOUNTS_LEVEL1_VERIFICATION', name='Pending Account Leve1 - Verification', display_order=1, task_template_stages=[TaskTemplateStagesDTO(task_template_id='FIN_PR', stages=['PR_PENDING_ACCOUNTS_LEVEL1_VERIFICATION'])], user_role_ids=['FIN_ACCOUNTS_LEVEL1_VERIFIER'], column_summary='ColumnSummary1', column_actions='ColumnSummary3', list_view_fields=[TaskSummaryFieldsDTO(task_id='ravi', summary_fields='ravi')], kanban_view_fields=[TaskSummaryFieldsDTO(task_id='ravi', summary_fields='ravi')], board_id='FINB_ACCOUNTS_L1_VERIFICATION_PRE_PAYMENT'), ColumnDTO(column_id='FINC_PR_ACCOUNTS_LEVEL1_VERIFICATION_COMPLETED', name='Account Leve1 - Verification Completed', display_order=2, task_template_stages=[TaskTemplateStagesDTO(task_template_id='FIN_PR', stages=['ACCOUNTS_LEVEL1_VERIFICATION_COMPLETED'])], user_role_ids=['FIN_ACCOUNTS_LEVEL1_VERIFIER'], column_summary='ColumnSummary1', column_actions='ColumnSummary3', list_view_fields=[TaskSummaryFieldsDTO(task_id='ravi', summary_fields='ravi')], kanban_view_fields=[TaskSummaryFieldsDTO(task_id='ravi', summary_fields='ravi')], board_id='FINB_ACCOUNTS_L1_VERIFICATION_PRE_PAYMENT'), ColumnDTO(column_id='FINC_PR_PENDING_ACCOUNTS_LEVEL2_VERIFICATION', name='Pending Account Level2 Verification', display_order=1, task_template_stages=[TaskTemplateStagesDTO(task_template_id='FIN_PR', stages=['PR_PENDING_ACCOUNTS_LEVEL2_VERIFICATION'])], user_role_ids=['FIN_ACCOUNTS_LEVEL2_VERIFIER'], column_summary='ColumnSummary1', column_actions='ColumnSummary3', list_view_fields=[TaskSummaryFieldsDTO(task_id='ravi', summary_fields='ravi')], kanban_view_fields=[TaskSummaryFieldsDTO(task_id='ravi', summary_fields='ravi')], board_id='FINB_ACCOUNTS_L2_VERIFICATION_PRE_PAYMENT'), ColumnDTO(column_id='FINC_PR_ACCOUNTS_LEVEL2_VERIFICATION_COMPLETED', name='Account Level2 Verification Completed', display_order=2, task_template_stages=[TaskTemplateStagesDTO(task_template_id='FIN_PR', stages=['ACCOUNTS_LEVEL2_VERIFICATION_COMPLETED'])], user_role_ids=['FIN_ACCOUNTS_LEVEL2_VERIFIER'], column_summary='ColumnSummary1', column_actions='ColumnSummary3', list_view_fields=[TaskSummaryFieldsDTO(task_id='ravi', summary_fields='ravi')], kanban_view_fields=[TaskSummaryFieldsDTO(task_id='ravi', summary_fields='ravi')], board_id='FINB_ACCOUNTS_L2_VERIFICATION_PRE_PAYMENT'), ColumnDTO(column_id='FINC_PR_PENDING_ACCOUNTS_LEVEL3_VERIFICATION', name='Pending Account Level3 Verification', display_order=1, task_template_stages=[TaskTemplateStagesDTO(task_template_id='FIN_PR', stages=['PR_PENDING_ACCOUNTS_LEVEL3_VERIFICATION'])], user_role_ids=['FIN_ACCOUNTS_LEVEL3_VERIFIER'], column_summary='ColumnSummary1', column_actions='ColumnSummary3', list_view_fields=[TaskSummaryFieldsDTO(task_id='ravi', summary_fields='ravi')], kanban_view_fields=[TaskSummaryFieldsDTO(task_id='ravi', summary_fields='ravi')], board_id='FINB_ACCOUNTS_L3_VERIFICATION_PRE_PAYMENT'), ColumnDTO(column_id='FINC_PR_ACCOUNTS_LEVEL3_VERIFICATION_COMPLETED', name='Account Level3 Verification Completed', display_order=2, task_template_stages=[TaskTemplateStagesDTO(task_template_id='FIN_PR', stages=['PR_ACCOUNTS_LEVEL3_VERIFICATION_DONE'])], user_role_ids=['FIN_ACCOUNTS_LEVEL3_VERIFIER'], column_summary='ColumnSummary1', column_actions='ColumnSummary3', list_view_fields=[TaskSummaryFieldsDTO(task_id='ravi', summary_fields='ravi')], kanban_view_fields=[TaskSummaryFieldsDTO(task_id='ravi', summary_fields='ravi')], board_id='FINB_ACCOUNTS_L3_VERIFICATION_PRE_PAYMENT'), ColumnDTO(column_id='FINC_PR_PENDING_ACCOUNTS_LEVEL4_VERIFICATION', name='Pending Account Level4 Verification', display_order=1, task_template_stages=[TaskTemplateStagesDTO(task_template_id='FIN_PR', stages=['PR_PENDING_ACCOUNTS_LEVEL4_VERIFICATION'])], user_role_ids=['FIN_ACCOUNTS_LEVEL4_VERIFIER'], column_summary='ColumnSummary1', column_actions='ColumnSummary3', list_view_fields=[TaskSummaryFieldsDTO(task_id='ravi', summary_fields='ravi')], kanban_view_fields=[TaskSummaryFieldsDTO(task_id='ravi', summary_fields='ravi')], board_id='FINB_ACCOUNTS_L4_VERIFICATION_PRE_PAYMENT'), ColumnDTO(column_id='FINC_PR_ACCOUNTS_LEVEL4_VERIFICATION_COMPLETED', name='Account Level4 Verification Completed', display_order=2, task_template_stages=[TaskTemplateStagesDTO(task_template_id='FIN_PR', stages=['PR_ACCOUNTS_LEVEL4_VERIFICATION_DONE'])], user_role_ids=['FIN_ACCOUNTS_LEVEL4_VERIFIER'], column_summary='ColumnSummary1', column_actions='ColumnSummary3', list_view_fields=[TaskSummaryFieldsDTO(task_id='ravi', summary_fields='ravi')], kanban_view_fields=[TaskSummaryFieldsDTO(task_id='ravi', summary_fields='ravi')], board_id='FINB_ACCOUNTS_L4_VERIFICATION_PRE_PAYMENT'), ColumnDTO(column_id='FINC_PR_ACCOUNTS_VERIFICATION_COMPLETED', name='Accounts Verification Completed', display_order=1, task_template_stages=[TaskTemplateStagesDTO(task_template_id='FIN_PR', stages=['PR_ACCOUNTS_VERIFICATION_COMPLETED'])], user_role_ids=['FIN_ACCOUNTS_LEVEL1_VERIFIER', 'FIN_ACCOUNTS_LEVEL2_VERIFIER', 'FIN_ACCOUNTS_LEVEL3_VERIFIER', 'FIN_ACCOUNTS_LEVEL4_VERIFIER'], column_summary='ColumnSummary1', column_actions='ColumnSummary3', list_view_fields=[TaskSummaryFieldsDTO(task_id='ravi', summary_fields='ravi')], kanban_view_fields=[TaskSummaryFieldsDTO(task_id='ravi', summary_fields='ravi')], board_id='FINB_ACCOUNTS_VERIFICATION_PRE_PAYMENT'), ColumnDTO(column_id='FINC_PR_PENDING_PAYMENTS_LEVEL1_VERIFICATION', name='Pending Payments Level-1 Verification\\n\\n', display_order=1, task_template_stages=[TaskTemplateStagesDTO(task_template_id='FIN_PR', stages=['PR_PENDING_PAYMENTS_LEVEL1_VERIFICATION'])], user_role_ids=['FIN_PAYMENTS_LEVEL1_VERIFIER'], column_summary='ColumnSummary1', column_actions='ColumnSummary3', list_view_fields=[TaskSummaryFieldsDTO(task_id='ravi', summary_fields='ravi')], kanban_view_fields=[TaskSummaryFieldsDTO(task_id='ravi', summary_fields='ravi')], board_id='FINB_PAYMENTS_L1_VERIFICATION_PRE_PAYMENT'), ColumnDTO(column_id='FINC_PR_PAYMENTS_LEVEL1_VERIFICATION_COMPLETED', name='Payments Level-1 Verification Completed\\n\\n', display_order=2, task_template_stages=[TaskTemplateStagesDTO(task_template_id='FIN_PR', stages=['PR_PAYMENTS_LEVEL1_VERIFICATION_DONE'])], user_role_ids=['FIN_PAYMENTS_LEVEL1_VERIFIER'], column_summary='ColumnSummary1', column_actions='ColumnSummary3', list_view_fields=[TaskSummaryFieldsDTO(task_id='ravi', summary_fields='ravi')], kanban_view_fields=[TaskSummaryFieldsDTO(task_id='ravi', summary_fields='ravi')], board_id='FINB_PAYMENTS_L1_VERIFICATION_PRE_PAYMENT'), ColumnDTO(column_id='FINC_PR_PENDING_PAYMENTS_LEVEL2_VERIFICATION', name='Pending Payments Level-2 Verification\\n\\n', display_order=1, task_template_stages=[TaskTemplateStagesDTO(task_template_id='FIN_PR', stages=['PR_PENDING_PAYMENTS_LEVEL2_VERIFICATION'])], user_role_ids=['FIN_PAYMENTS_LEVEL2_VERIFIER'], column_summary='ColumnSummary1', column_actions='ColumnSummary3', list_view_fields=[TaskSummaryFieldsDTO(task_id='ravi', summary_fields='ravi')], kanban_view_fields=[TaskSummaryFieldsDTO(task_id='ravi', summary_fields='ravi')], board_id='FINB_PAYMENTS_L2_VERIFICATION_PRE_PAYMENT'), ColumnDTO(column_id='FINC_PR_PAYMENTS_LEVEL2_VERIFICATION_COMPLETED', name='Payments Level-2 Verification Completed\\n\\n', display_order=2, task_template_stages=[TaskTemplateStagesDTO(task_template_id='FIN_PR', stages=['PR_PAYMENTS_LEVEL2_VERIFICATION_DONE'])], user_role_ids=['FIN_PAYMENTS_LEVEL2_VERIFIER'], column_summary='ColumnSummary1', column_actions='ColumnSummary3', list_view_fields=[TaskSummaryFieldsDTO(task_id='ravi', summary_fields='ravi')], kanban_view_fields=[TaskSummaryFieldsDTO(task_id='ravi', summary_fields='ravi')], board_id='FINB_PAYMENTS_L2_VERIFICATION_PRE_PAYMENT'), ColumnDTO(column_id='FINC_PR_PENDING_PAYMENTS_LEVEL3_VERIFICATION', name='Pending Payments Level-3 Verification\\n\\n', display_order=1, task_template_stages=[TaskTemplateStagesDTO(task_template_id='FIN_PR', stages=['PR_PENDING_PAYMENTS_LEVEL3_VERIFICATION'])], user_role_ids=['FIN_PAYMENTS_LEVEL3_VERIFIER'], column_summary='ColumnSummary1', column_actions='ColumnSummary3', list_view_fields=[TaskSummaryFieldsDTO(task_id='ravi', summary_fields='ravi')], kanban_view_fields=[TaskSummaryFieldsDTO(task_id='ravi', summary_fields='ravi')], board_id='FINB_PAYMENTS_L3_VERIFICATION_PRE_PAYMENT'), ColumnDTO(column_id='FINC_PR_PAYMENTS_LEVEL3_VERIFICATION_COMPLETED', name='Payments Level-3 Verification Completed\\n\\n', display_order=2, task_template_stages=[TaskTemplateStagesDTO(task_template_id='FIN_PR', stages=['PR_PAYMENTS_LEVEL3_VERIFICATION_DONE'])], user_role_ids=['FIN_PAYMENTS_LEVEL3_VERIFIER'], column_summary='ColumnSummary1', column_actions='ColumnSummary3', list_view_fields=[TaskSummaryFieldsDTO(task_id='ravi', summary_fields='ravi')], kanban_view_fields=[TaskSummaryFieldsDTO(task_id='ravi', summary_fields='ravi')], board_id='FINB_PAYMENTS_L3_VERIFICATION_PRE_PAYMENT'), ColumnDTO(column_id='FINC_PR_PENDING_PAYMENTS_LEVEL5_VERIFICATION', name='Pending Payments RP Verification\\n\\n', display_order=1, task_template_stages=[TaskTemplateStagesDTO(task_template_id='FIN_PR', stages=['PR_PENDING_PAYMENTS_LEVEL5_APPROVAL'])], user_role_ids=['FIN_FINANCE_RP'], column_summary='ColumnSummary1', column_actions='ColumnSummary3', list_view_fields=[TaskSummaryFieldsDTO(task_id='ravi', summary_fields='ravi')], kanban_view_fields=[TaskSummaryFieldsDTO(task_id='ravi', summary_fields='ravi')], board_id='FINB_PAYMENTS_L5_VERIFICATION_PRE_PAYMENT'), ColumnDTO(column_id='FINC_PR_PAYMENTS_LEVEL5_VERIFICATION_COMPLETED', name='Payments RP Verification Completed\\n\\n', display_order=2, task_template_stages=[TaskTemplateStagesDTO(task_template_id='FIN_PR', stages=['PR_PAYMENTS_LEVEL5_APPROVAL_DONE'])], user_role_ids=['FIN_FINANCE_RP'], column_summary='ColumnSummary1', column_actions='ColumnSummary3', list_view_fields=[TaskSummaryFieldsDTO(task_id='ravi', summary_fields='ravi')], kanban_view_fields=[TaskSummaryFieldsDTO(task_id='ravi', summary_fields='ravi')], board_id='FINB_PAYMENTS_L5_VERIFICATION_PRE_PAYMENT'), ColumnDTO(column_id='FINC_PR_PAYMENTS_VERIFICATION_COMPLETED', name='PrePayment Payments Verification Completed', display_order=1, task_template_stages=[TaskTemplateStagesDTO(task_template_id='FIN_PR', stages=['PR_PAYMENTS_VERIFICATION_COMPLETED'])], user_role_ids=['FIN_PAYMENTS_LEVEL1_VERIFIER', 'FIN_PAYMENTS_LEVEL2_VERIFIER', 'FIN_PAYMENTS_LEVEL3_VERIFIER', 'FIN_PAYMENTS_RP', 'FIN_FINANCE_RP'], column_summary='ColumnSummary1', column_actions='ColumnSummary3', list_view_fields=[TaskSummaryFieldsDTO(task_id='ravi', summary_fields='ravi')], kanban_view_fields=[TaskSummaryFieldsDTO(task_id='ravi', summary_fields='ravi')], board_id='FINB_PAYMENTS_VERIFICATION_PRE_PAYMENT'), ColumnDTO(column_id='FINC_PR_PENDING_PAYMENTS_OVERALL_RP_VERIFICATION', name='Pending Finance RP Verification', display_order=1, task_template_stages=[TaskTemplateStagesDTO(task_template_id='FIN_PR', stages=['PR_PENDING_OVERALL_FINANCE_RP_APPROVAL'])], user_role_ids=['FIN_FINANCE_RP'], column_summary='ColumnSummary1', column_actions='ColumnSummary3', list_view_fields=[TaskSummaryFieldsDTO(task_id='ravi', summary_fields='ravi')], kanban_view_fields=[TaskSummaryFieldsDTO(task_id='ravi', summary_fields='ravi')], board_id='FINB_PAYMENTS_OVERALL_PRE_PAYMENT'), ColumnDTO(column_id='FINC_PR_PAYMENTS_OVERALL_RP_VERIFICATION_COMPLETED', name='Finance RP Verification Completed', display_order=2, task_template_stages=[TaskTemplateStagesDTO(task_template_id='FIN_PR', stages=['PR_PENDING_PAYMENTS_PROCESSING'])], user_role_ids=['FIN_PAYMENTS_LEVEL1_VERIFIER', 'FIN_PAYMENTS_LEVEL2_VERIFIER', 'FIN_PAYMENTS_LEVEL3_VERIFIER', 'FIN_PAYMENTS_RP', 'FIN_FINANCE_RP'], column_summary='ColumnSummary1', column_actions='ColumnSummary3', list_view_fields=[TaskSummaryFieldsDTO(task_id='ravi', summary_fields='ravi')], kanban_view_fields=[TaskSummaryFieldsDTO(task_id='ravi', summary_fields='ravi')], board_id='FINB_PAYMENTS_OVERALL_PRE_PAYMENT'), ColumnDTO(column_id='FINC_PR_PAYMENTS_UPDATE_INITIATION_STATUS', name='Update Initiation Status', display_order=1, task_template_stages=[TaskTemplateStagesDTO(task_template_id='FIN_PR', stages=['PR_UPDATE_INITIATION_STATUS'])], user_role_ids=['FIN_PAYMENTS_LEVEL3_VERIFIER'], column_summary='ColumnSummary1', column_actions='ColumnSummary3', list_view_fields=[TaskSummaryFieldsDTO(task_id='ravi', summary_fields='ravi')], kanban_view_fields=[TaskSummaryFieldsDTO(task_id='ravi', summary_fields='ravi')], board_id='FINB_PAYMENTS_PROCESSING'), ColumnDTO(column_id='FINC_PR_PAYMENTS_UPLOAD_INVOICES', name='Upload Invoices and Status', display_order=2, task_template_stages=[TaskTemplateStagesDTO(task_template_id='FIN_PR', stages=['PR_UPLOAD_INVOICES_AND_STATUS'])], user_role_ids=['FIN_PAYMENTS_LEVEL1_VERIFIER'], column_summary='ColumnSummary1', column_actions='ColumnSummary3', list_view_fields=[TaskSummaryFieldsDTO(task_id='ravi', summary_fields='ravi')], kanban_view_fields=[TaskSummaryFieldsDTO(task_id='ravi', summary_fields='ravi')], board_id='FINB_PAYMENTS_PROCESSING'), ColumnDTO(column_id='FINC_PR_PAYMENTS_UPDATE_AUTH_STATUS', name='Update Authorization Status', display_order=3, task_template_stages=[TaskTemplateStagesDTO(task_template_id='FIN_PR', stages=['PR_UPDATE_AUTHORIZATION_STATUS'])], user_role_ids=['FIN_PAYMENTS_RP'], column_summary='ColumnSummary1', column_actions='ColumnSummary3', list_view_fields=[TaskSummaryFieldsDTO(task_id='ravi', summary_fields='ravi')], kanban_view_fields=[TaskSummaryFieldsDTO(task_id='ravi', summary_fields='ravi')], board_id='FINB_PAYMENTS_PROCESSING'), ColumnDTO(column_id='FINC_PR_PAYMENTS_UPLOAD_BANK_STATEMENT', name='Upload Bank And CMS Statement', display_order=4, task_template_stages=[TaskTemplateStagesDTO(task_template_id='FIN_PR', stages=['PR_UPLOAD_BANK_AND_CMS_STATEMENT'])], user_role_ids=['FIN_PAYMENTS_LEVEL3_VERIFIER'], column_summary='ColumnSummary1', column_actions='ColumnSummary3', list_view_fields=[TaskSummaryFieldsDTO(task_id='ravi', summary_fields='ravi')], kanban_view_fields=[TaskSummaryFieldsDTO(task_id='ravi', summary_fields='ravi')], board_id='FINB_PAYMENTS_PROCESSING'), ColumnDTO(column_id='FINC_PR_PP_ACCOUNTS_LEVEL1_VERIFICATION', name='Pending Post Payments Accounts Level1 Verification', display_order=1, task_template_stages=[TaskTemplateStagesDTO(task_template_id='FIN_PR', stages=['PR_PENDING_POST_PAYMENTS_ACCOUNTS_LEVEL1_VERIFICATION'])], user_role_ids=['FIN_ACCOUNTS_LEVEL1_VERIFIER'], column_summary='ColumnSummary1', column_actions='ColumnSummary3', list_view_fields=[TaskSummaryFieldsDTO(task_id='ravi', summary_fields='ravi')], kanban_view_fields=[TaskSummaryFieldsDTO(task_id='ravi', summary_fields='ravi')], board_id='FINB_POST_PAYMENTS_ACCOUNTS_L1_VERFICATION'), ColumnDTO(column_id='FINC_PR_PP_ACCOUNTS_LEVEL1_VERIFICATION_DONE', name='Pending Post Payments Accounts Level1 Verification Done', display_order=2, task_template_stages=[TaskTemplateStagesDTO(task_template_id='FIN_PR', stages=['PR_POST_PAYMENTS_ACCOUNTS_LEVEL1_VERIFICATION_DONE'])], user_role_ids=['FIN_ACCOUNTS_LEVEL1_VERIFIER'], column_summary='ColumnSummary1', column_actions='ColumnSummary3', list_view_fields=[TaskSummaryFieldsDTO(task_id='ravi', summary_fields='ravi')], kanban_view_fields=[TaskSummaryFieldsDTO(task_id='ravi', summary_fields='ravi')], board_id='FINB_POST_PAYMENTS_ACCOUNTS_L1_VERFICATION'), ColumnDTO(column_id='FINC_PR_PP_ACCOUNTS_LEVEL2_VERIFICATION', name='Pending Post Payments Accounts Level2 Verification', display_order=1, task_template_stages=[TaskTemplateStagesDTO(task_template_id='FIN_PR', stages=['PR_PENDING_POST_PAYMENTS_ACCOUNTS_LEVEL2_VERIFICATION'])], user_role_ids=['FIN_ACCOUNTS_LEVEL2_VERIFIER'], column_summary='ColumnSummary1', column_actions='ColumnSummary3', list_view_fields=[TaskSummaryFieldsDTO(task_id='ravi', summary_fields='ravi')], kanban_view_fields=[TaskSummaryFieldsDTO(task_id='ravi', summary_fields='ravi')], board_id='FINB_POST_PAYMENTS_ACCOUNTS_L2_VERFICATION'), ColumnDTO(column_id='FINC_PR_PP_ACCOUNTS_LEVEL2_VERIFICATION_DONE', name='Pending Post Payments Accounts Level2 Verification Done', display_order=2, task_template_stages=[TaskTemplateStagesDTO(task_template_id='FIN_PR', stages=['PR_POST_PAYMENTS_ACCOUNTS_LEVEL2_VERIFICATION_DONE'])], user_role_ids=['FIN_ACCOUNTS_LEVEL2_VERIFIER'], column_summary='ColumnSummary1', column_actions='ColumnSummary3', list_view_fields=[TaskSummaryFieldsDTO(task_id='ravi', summary_fields='ravi')], kanban_view_fields=[TaskSummaryFieldsDTO(task_id='ravi', summary_fields='ravi')], board_id='FINB_POST_PAYMENTS_ACCOUNTS_L2_VERFICATION'), ColumnDTO(column_id='FINC_PR_PP_ACCOUNTS_LEVEL3_VERIFICATION', name='Pending Post Payments Accounts Level3 Verification', display_order=1, task_template_stages=[TaskTemplateStagesDTO(task_template_id='FIN_PR', stages=['PR_PENDING_POST_PAYMENTS_ACCOUNTS_LEVEL3_VERIFICATION'])], user_role_ids=['FIN_ACCOUNTS_LEVEL3_VERIFIER'], column_summary='ColumnSummary1', column_actions='ColumnSummary3', list_view_fields=[TaskSummaryFieldsDTO(task_id='ravi', summary_fields='ravi')], kanban_view_fields=[TaskSummaryFieldsDTO(task_id='ravi', summary_fields='ravi')], board_id='FINB_POST_PAYMENTS_ACCOUNTS_L3_VERFICATION'), ColumnDTO(column_id='FINC_PR_PP_ACCOUNTS_LEVEL3_VERIFICATION_DONE', name='Pending Post Payments Accounts Level3 Verification Done', display_order=2, task_template_stages=[TaskTemplateStagesDTO(task_template_id='FIN_PR', stages=['PR_POST_PAYMENTS_ACCOUNTS_LEVEL3_VERIFICATION_DONE'])], user_role_ids=['FIN_ACCOUNTS_LEVEL3_VERIFIER'], column_summary='ColumnSummary1', column_actions='ColumnSummary3', list_view_fields=[TaskSummaryFieldsDTO(task_id='ravi', summary_fields='ravi')], kanban_view_fields=[TaskSummaryFieldsDTO(task_id='ravi', summary_fields='ravi')], board_id='FINB_POST_PAYMENTS_ACCOUNTS_L3_VERFICATION'), ColumnDTO(column_id='FINC_PR_PP_ACCOUNTS_LEVEL4_VERIFICATION', name='Pending Post Payments Accounts Level4 Verification', display_order=1, task_template_stages=[TaskTemplateStagesDTO(task_template_id='FIN_PR', stages=['PR_PENDING_POST_PAYMENTS_ACCOUNTS_LEVEL4_VERIFICATION'])], user_role_ids=['FIN_ACCOUNTS_LEVEL4_VERIFIER'], column_summary='ColumnSummary1', column_actions='ColumnSummary3', list_view_fields=[TaskSummaryFieldsDTO(task_id='ravi', summary_fields='ravi')], kanban_view_fields=[TaskSummaryFieldsDTO(task_id='ravi', summary_fields='ravi')], board_id='FINB_POST_PAYMENTS_ACCOUNTS_L4_VERFICATION'), ColumnDTO(column_id='FINC_PR_PP_ACCOUNTS_LEVEL4_VERIFICATION_DONE', name='Pending Post Payments Accounts Level4 Verification Done', display_order=2, task_template_stages=[TaskTemplateStagesDTO(task_template_id='FIN_PR', stages=['PR_POST_PAYMENTS_ACCOUNTS_LEVEL4_VERIFICATION_DONE'])], user_role_ids=['FIN_ACCOUNTS_LEVEL4_VERIFIER'], column_summary='ColumnSummary1', column_actions='ColumnSummary3', list_view_fields=[TaskSummaryFieldsDTO(task_id='ravi', summary_fields='ravi')], kanban_view_fields=[TaskSummaryFieldsDTO(task_id='ravi', summary_fields='ravi')], board_id='FINB_POST_PAYMENTS_ACCOUNTS_L4_VERFICATION'), ColumnDTO(column_id='FINC_PR_PP_ACCOUNTS_LEVEL5_VERIFICATION', name='Pending Post Payments Accounts Level5 Verification', display_order=1, task_template_stages=[TaskTemplateStagesDTO(task_template_id='FIN_PR', stages=['PR_PENDING_POST_PAYMENTS_ACCOUNTS_LEVEL5_VERIFICATION'])], user_role_ids=['FIN_ACCOUNTS_LEVEL5_VERIFIER'], column_summary='ColumnSummary1', column_actions='ColumnSummary3', list_view_fields=[TaskSummaryFieldsDTO(task_id='ravi', summary_fields='ravi')], kanban_view_fields=[TaskSummaryFieldsDTO(task_id='ravi', summary_fields='ravi')], board_id='FINB_POST_PAYMENTS_ACCOUNTS_L5_VERFICATION'), ColumnDTO(column_id='FINC_PR_PP_ACCOUNTS_LEVEL5_VERIFICATION_DONE', name='Pending Post Payments Accounts Level5 Verification Done', display_order=2, task_template_stages=[TaskTemplateStagesDTO(task_template_id='FIN_PR', stages=['PR_PENDING_EXPORTING_FINAL_ACCOUNTS'])], user_role_ids=['FIN_ACCOUNTS_LEVEL5_VERIFIER'], column_summary='ColumnSummary1', column_actions='ColumnSummary3', list_view_fields=[TaskSummaryFieldsDTO(task_id='ravi', summary_fields='ravi')], kanban_view_fields=[TaskSummaryFieldsDTO(task_id='ravi', summary_fields='ravi')], board_id='FINB_POST_PAYMENTS_ACCOUNTS_L5_VERFICATION'), ColumnDTO(column_id='FINC_PR_PENDING_EXPORTING_FINAL_ACCOUNTS', name='Pending Exporting Final Accounts', display_order=1, task_template_stages=[TaskTemplateStagesDTO(task_template_id='FIN_PR', stages=['PR_PENDING_EXPORTING_FINAL_ACCOUNTS'])], user_role_ids=['FIN_ACCOUNTS_LEVEL2_VERIFIER'], column_summary='ColumnSummary1', column_actions='ColumnSummary3', list_view_fields=[TaskSummaryFieldsDTO(task_id='ravi', summary_fields='ravi')], kanban_view_fields=[TaskSummaryFieldsDTO(task_id='ravi', summary_fields='ravi')], board_id='FINB_POST_PAYMENTS_ACCOUNTING'), ColumnDTO(column_id='FINC_PR_UPDATE_ACCOUNTING_STATUS', name='Pending Update Accounting Status', display_order=2, task_template_stages=[TaskTemplateStagesDTO(task_template_id='FIN_PR', stages=['PR_UPDATE_ACCOUNTING_STATUS'])], user_role_ids=['FIN_ACCOUNTS_LEVEL1_VERIFIER'], column_summary='ColumnSummary1', column_actions='ColumnSummary3', list_view_fields=[TaskSummaryFieldsDTO(task_id='ravi', summary_fields='ravi')], kanban_view_fields=[TaskSummaryFieldsDTO(task_id='ravi', summary_fields='ravi')], board_id='FINB_POST_PAYMENTS_ACCOUNTING'), ColumnDTO(column_id='FINC_PR_PENDING_FINAL_ACCOUNTS_VERIFICATION', name='Pending Final Accounts Verification', display_order=3, task_template_stages=[TaskTemplateStagesDTO(task_template_id='FIN_PR', stages=['PR_PENDING_FINAL_ACCOUNTS_VERIFICATION'])], user_role_ids=['FIN_ACCOUNTS_LEVEL3_VERIFIER', 'FIN_ACCOUNTS_LEVEL4_VERIFIER'], column_summary='ColumnSummary1', column_actions='ColumnSummary3', list_view_fields=[TaskSummaryFieldsDTO(task_id='ravi', summary_fields='ravi')], kanban_view_fields=[TaskSummaryFieldsDTO(task_id='ravi', summary_fields='ravi')], board_id='FINB_POST_PAYMENTS_ACCOUNTING'), ColumnDTO(column_id='FINC_PR_FINAL_ACCOUNTS_VERIFICATION_DONE', name='Final Accounts Verfication Done', display_order=4, task_template_stages=[TaskTemplateStagesDTO(task_template_id='FIN_PR', stages=['PR_FINAL_ACCOUNTS_VERIFICATION_DONE'])], user_role_ids=['FIN_ACCOUNTS_LEVEL1_VERIFIER', 'FIN_ACCOUNTS_LEVEL2_VERIFIER', 'FIN_ACCOUNTS_LEVEL3_VERIFIER', 'FIN_ACCOUNTS_LEVEL4_VERIFIER', 'FIN_ACCOUNTS_LEVEL5_VERIFIER'], column_summary='ColumnSummary1', column_actions='ColumnSummary3', list_view_fields=[TaskSummaryFieldsDTO(task_id='ravi', summary_fields='ravi')], kanban_view_fields=[TaskSummaryFieldsDTO(task_id='ravi', summary_fields='ravi')], board_id='FINB_POST_PAYMENTS_ACCOUNTING'), ColumnDTO(column_id='FINC_PR_PENDING_INVOICES_VERIFICATION', name='Pending Invoices Verification', display_order=1, task_template_stages=[TaskTemplateStagesDTO(task_template_id='FIN_PR', stages=['PR_PENDING_INVOICES_VERIFICATION'])], user_role_ids=['FIN_INVOICE_VERIFIER'], column_summary='ColumnSummary1', column_actions='ColumnSummary3', list_view_fields=[TaskSummaryFieldsDTO(task_id='ravi', summary_fields='ravi')], kanban_view_fields=[TaskSummaryFieldsDTO(task_id='ravi', summary_fields='ravi')], board_id='FINB_INVOICE_VERIFICATION'), ColumnDTO(column_id='FINC_PR_PENDING_ACCOUNTS_LEVEL2_INVOICES_VERIFICATION', name='Pending Accounts Level2 Invoices verification', display_order=2, task_template_stages=[TaskTemplateStagesDTO(task_template_id='FIN_PR', stages=['PR_PENDING_ACCOUNTS_LEVEL2_INVOICES_VERIFICATION'])], user_role_ids=['FIN_ACCOUNTS_LEVEL2_VERIFIER'], column_summary='ColumnSummary1', column_actions='ColumnSummary3', list_view_fields=[TaskSummaryFieldsDTO(task_id='ravi', summary_fields='ravi')], kanban_view_fields=[TaskSummaryFieldsDTO(task_id='ravi', summary_fields='ravi')], board_id='FINB_INVOICE_VERIFICATION'), ColumnDTO(column_id='FINC_PR_PENDING_FILING_OF_INVOICES', name='Pending Filing of Invoices', display_order=3, task_template_stages=[TaskTemplateStagesDTO(task_template_id='FIN_PR', stages=['PR_PENDING_FILING_OF_INVOICES'])], user_role_ids=['FIN_INVOICE_VERIFIER'], column_summary='ColumnSummary1', column_actions='ColumnSummary3', list_view_fields=[TaskSummaryFieldsDTO(task_id='ravi', summary_fields='ravi')], kanban_view_fields=[TaskSummaryFieldsDTO(task_id='ravi', summary_fields='ravi')], board_id='FINB_INVOICE_VERIFICATION'), ColumnDTO(column_id='FINC_PR_PENDING_FINAL_FILING_VERIFICATION', name='Pending Final Filing Verification', display_order=4, task_template_stages=[TaskTemplateStagesDTO(task_template_id='FIN_PR', stages=['PR_PENDING_FINAL_FILING_VERIFICATION'])], user_role_ids=['FIN_INVOICE_APPROVER'], column_summary='ColumnSummary1', column_actions='ColumnSummary3', list_view_fields=[TaskSummaryFieldsDTO(task_id='ravi', summary_fields='ravi')], kanban_view_fields=[TaskSummaryFieldsDTO(task_id='ravi', summary_fields='ravi')], board_id='FINB_INVOICE_VERIFICATION'), ColumnDTO(column_id='FINC_PR_FINAL_FILING_VERIFICATION_DONE', name='Final Filing Verification Done', display_order=5, task_template_stages=[TaskTemplateStagesDTO(task_template_id='FIN_PR', stages=['PR_FINAL_FILING_VERIFICATION_DONE'])], user_role_ids=['FIN_INVOICE_APPROVER'], column_summary='ColumnSummary1', column_actions='ColumnSummary3', list_view_fields=[TaskSummaryFieldsDTO(task_id='ravi', summary_fields='ravi')], kanban_view_fields=[TaskSummaryFieldsDTO(task_id='ravi', summary_fields='ravi')], board_id='FINB_INVOICE_VERIFICATION')]\n"
     ]
    }
   ],
>>>>>>> Stashed changes
   "source": [
    "populate_project_and_roles()\n",
    "populate_task_and_boards_related_data()\n",
    "populate_project_related_data()"
   ]
  },
  {
   "cell_type": "code",
<<<<<<< Updated upstream
   "execution_count": null,
   "metadata": {},
   "outputs": [],
   "source": []
  },
  {
   "cell_type": "code",
   "execution_count": null,
   "metadata": {},
   "outputs": [],
=======
   "execution_count": 9,
   "metadata": {},
   "outputs": [
    {
     "name": "stderr",
     "output_type": "stream",
     "text": [
      "[none] [ib_workflows_backend - local] INFO     [10:02:38]  [/usr/lib/python3.8/lib2to3/pgen2/driver.py] [driver.py][load_grammar] [120]: Generating grammar tables from /usr/lib/python3.8/lib2to3/Grammar.txt\n",
      "[none] [ib_workflows_backend - local] INFO     [10:02:38]  [/usr/lib/python3.8/lib2to3/pgen2/driver.py] [driver.py][load_grammar] [120]: Generating grammar tables from /usr/lib/python3.8/lib2to3/PatternGrammar.txt\n"
     ]
    }
   ],
   "source": [
    "from ib_tasks.populate.write_stage_actions import writing_data_to_stage_actions_logic\n",
    "writing_data_to_stage_actions_logic()"
   ]
  },
  {
   "cell_type": "code",
   "execution_count": 10,
   "metadata": {},
   "outputs": [
    {
     "name": "stderr",
     "output_type": "stream",
     "text": [
      "[none] [ib_workflows_backend - local] INFO     [10:02:39]  [/home/ib-developer/Desktop/work/ib-workflows-backend/venv/lib/python3.8/site-packages/elasticsearch/connection/base.py] [base.py][log_request_success] [227]: POST http://localhost:9200/user-local/_doc [status:201 request:0.012s]\n",
      "[none] [ib_workflows_backend - local] INFO     [10:02:40]  [/home/ib-developer/Desktop/work/ib-workflows-backend/venv/lib/python3.8/site-packages/elasticsearch/connection/base.py] [base.py][log_request_success] [227]: POST http://localhost:9200/user-local/_doc [status:201 request:0.011s]\n",
      "[none] [ib_workflows_backend - local] INFO     [10:02:40]  [/home/ib-developer/Desktop/work/ib-workflows-backend/venv/lib/python3.8/site-packages/elasticsearch/connection/base.py] [base.py][log_request_success] [227]: POST http://localhost:9200/user-local/_doc [status:201 request:0.013s]\n",
      "[none] [ib_workflows_backend - local] INFO     [10:02:40]  [/home/ib-developer/Desktop/work/ib-workflows-backend/venv/lib/python3.8/site-packages/elasticsearch/connection/base.py] [base.py][log_request_success] [227]: POST http://localhost:9200/user-local/_doc [status:201 request:0.011s]\n",
      "[none] [ib_workflows_backend - local] INFO     [10:02:40]  [/home/ib-developer/Desktop/work/ib-workflows-backend/venv/lib/python3.8/site-packages/elasticsearch/connection/base.py] [base.py][log_request_success] [227]: POST http://localhost:9200/user-local/_doc [status:201 request:0.011s]\n",
      "[none] [ib_workflows_backend - local] INFO     [10:02:40]  [/home/ib-developer/Desktop/work/ib-workflows-backend/venv/lib/python3.8/site-packages/elasticsearch/connection/base.py] [base.py][log_request_success] [227]: POST http://localhost:9200/user-local/_doc [status:201 request:0.011s]\n",
      "[none] [ib_workflows_backend - local] INFO     [10:02:40]  [/home/ib-developer/Desktop/work/ib-workflows-backend/venv/lib/python3.8/site-packages/elasticsearch/connection/base.py] [base.py][log_request_success] [227]: POST http://localhost:9200/user-local/_doc [status:201 request:0.011s]\n",
      "[none] [ib_workflows_backend - local] INFO     [10:02:40]  [/home/ib-developer/Desktop/work/ib-workflows-backend/venv/lib/python3.8/site-packages/elasticsearch/connection/base.py] [base.py][log_request_success] [227]: POST http://localhost:9200/user-local/_doc [status:201 request:0.011s]\n",
      "[none] [ib_workflows_backend - local] INFO     [10:02:40]  [/home/ib-developer/Desktop/work/ib-workflows-backend/venv/lib/python3.8/site-packages/elasticsearch/connection/base.py] [base.py][log_request_success] [227]: POST http://localhost:9200/user-local/_doc [status:201 request:0.012s]\n",
      "[none] [ib_workflows_backend - local] INFO     [10:02:40]  [/home/ib-developer/Desktop/work/ib-workflows-backend/venv/lib/python3.8/site-packages/elasticsearch/connection/base.py] [base.py][log_request_success] [227]: POST http://localhost:9200/user-local/_doc [status:201 request:0.010s]\n",
      "[none] [ib_workflows_backend - local] INFO     [10:02:41]  [/home/ib-developer/Desktop/work/ib-workflows-backend/venv/lib/python3.8/site-packages/elasticsearch/connection/base.py] [base.py][log_request_success] [227]: POST http://localhost:9200/user-local/_doc [status:201 request:0.016s]\n",
      "[none] [ib_workflows_backend - local] INFO     [10:02:41]  [/home/ib-developer/Desktop/work/ib-workflows-backend/venv/lib/python3.8/site-packages/elasticsearch/connection/base.py] [base.py][log_request_success] [227]: POST http://localhost:9200/user-local/_doc [status:201 request:0.012s]\n",
      "[none] [ib_workflows_backend - local] INFO     [10:02:41]  [/home/ib-developer/Desktop/work/ib-workflows-backend/venv/lib/python3.8/site-packages/elasticsearch/connection/base.py] [base.py][log_request_success] [227]: POST http://localhost:9200/user-local/_doc [status:201 request:0.011s]\n",
      "[none] [ib_workflows_backend - local] INFO     [10:02:41]  [/home/ib-developer/Desktop/work/ib-workflows-backend/venv/lib/python3.8/site-packages/elasticsearch/connection/base.py] [base.py][log_request_success] [227]: POST http://localhost:9200/user-local/_doc [status:201 request:0.010s]\n"
     ]
    },
    {
     "data": {
      "text/plain": [
       "<UserAccount: b75066ab-76c4-4f95-839c-86feb8fe597b>"
      ]
     },
     "execution_count": 10,
     "metadata": {},
     "output_type": "execute_result"
    }
   ],
>>>>>>> Stashed changes
   "source": [
    "\"\"\"\n",
    "Populate Ib IAM Related Data For FinMan Project Configuration\n",
    "\n",
    "Note:- While Running the this below script need to Run the ELASTIC SEARCH SERVER\n",
    "\"\"\"\n",
    "from ib_iam.populate.populate_utils import (\n",
    "    INITIAL_USERS, COMPANIES, TEAMS, TEAM_USERS_LEVELS, LEVELS_WISE_USERS, SUPERIOR_WITH_SUBORDINATE_USERS\n",
    ")\n",
    "\n",
    "from ib_iam.populate.populate_utils import (\n",
    "    populate_companies_and_teams, populate_initial_users, populate_levels\n",
    ")\n",
    "populate_companies_and_teams(companies=COMPANIES, teams=TEAMS)\n",
    "populate_initial_users(users=INITIAL_USERS)\n",
    "team_name = \"Tech Team\"\n",
    "populate_levels(\n",
    "    team_name=team_name, team_user_levels=TEAM_USERS_LEVELS,levels_wise_users=LEVELS_WISE_USERS,\n",
    "    superior_with_subordinate_users=SUPERIOR_WITH_SUBORDINATE_USERS\n",
    ")\n",
    "\n",
    "from ib_users.models import *\n",
    "UserAccount.objects.create_superuser(username='admin', password='admin@123', email='admin@example.com')\n",
    "UserAccount.objects.create_superuser(username='fduser', password='fduser@123', email='fduser@example.com')"
   ]
  },
  {
   "cell_type": "code",
   "execution_count": null,
   "metadata": {},
   "outputs": [],
   "source": [
    "\"\"\"\n",
    "Populate Elastic Search Data For Cities\n",
    "\n",
    "\"\"\"\n",
    "from ib_iam.populate.populate_elastic_search_data import populate_data\n",
    "populate_data()"
   ]
  },
  {
   "cell_type": "code",
   "execution_count": null,
   "metadata": {},
   "outputs": [],
   "source": [
    "from elasticsearch_dsl import connections\n",
    "from django.conf import settings\n",
    "es = connections.create_connection(\n",
    "hosts=[settings.ELASTICSEARCH_ENDPOINT], timeout=20)"
   ]
  },
  {
   "cell_type": "code",
   "execution_count": null,
   "metadata": {},
   "outputs": [],
   "source": [
    "from ib_tasks.documents.elastic_task import TASK_INDEX_NAME\n",
    "es.indices.create(index=TASK_INDEX_NAME)"
   ]
  },
  {
   "cell_type": "code",
   "execution_count": null,
   "metadata": {},
   "outputs": [],
   "source": [
    "\"\"\"\n",
    "Populate Users with company and roles and teams\n",
    "\n",
    "\"\"\"\n",
    "\n",
    "\n",
    "from ib_iam.populate.populate_complete_user_details_bulk import populate_complete_user_details_bulk, USERS\n",
    "\n",
    "populate_complete_user_details_bulk(users=USERS)"
   ]
  },
  {
   "cell_type": "code",
   "execution_count": null,
   "metadata": {},
   "outputs": [],
   "source": []
  },
  {
   "cell_type": "code",
   "execution_count": null,
   "metadata": {},
   "outputs": [],
   "source": []
  }
 ],
 "metadata": {
  "kernelspec": {
   "display_name": "Python 3",
   "language": "python",
   "name": "python3"
  },
  "language_info": {
   "codemirror_mode": {
    "name": "ipython",
    "version": 3
   },
   "file_extension": ".py",
   "mimetype": "text/x-python",
   "name": "python",
   "nbconvert_exporter": "python",
   "pygments_lexer": "ipython3",
   "version": "3.7.7"
  }
 },
 "nbformat": 4,
 "nbformat_minor": 4
}
