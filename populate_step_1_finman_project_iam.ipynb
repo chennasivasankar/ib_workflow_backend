{
 "cells": [
  {
   "cell_type": "code",
   "execution_count": 1,
   "metadata": {},
   "outputs": [
    {
     "name": "stdout",
     "output_type": "stream",
     "text": [
      "{\n",
      "  \"shell_port\": 43095,\n",
      "  \"iopub_port\": 36343,\n",
      "  \"stdin_port\": 59907,\n",
      "  \"control_port\": 46375,\n",
      "  \"hb_port\": 48417,\n",
      "  \"ip\": \"127.0.0.1\",\n",
      "  \"key\": \"6a394b27-fb346cbe4508ad5987194d5d\",\n",
      "  \"transport\": \"tcp\",\n",
      "  \"signature_scheme\": \"hmac-sha256\",\n",
      "  \"kernel_name\": \"\"\n",
      "}\n",
      "\n",
      "Paste the above JSON into a file, and connect with:\n",
      "    $> jupyter <app> --existing <file>\n",
      "or, if you are local, you can connect with just:\n",
      "    $> jupyter <app> --existing kernel-616ab64a-d877-4f1f-9726-1767a15111d9.json\n",
      "or even just:\n",
      "    $> jupyter <app> --existing\n",
      "if this is the most recent Jupyter kernel you have started.\n"
     ]
    }
   ],
   "source": [
    "%load_ext autoreload\n",
    "%autoreload 2\n",
    "\n",
    "%connect_info"
   ]
  },
  {
   "cell_type": "code",
   "execution_count": 2,
   "metadata": {},
   "outputs": [],
   "source": [
    "import django"
   ]
  },
  {
   "cell_type": "code",
   "execution_count": 3,
   "metadata": {},
   "outputs": [],
   "source": [
    "django.setup()"
   ]
  },
  {
   "cell_type": "code",
   "execution_count": 4,
   "metadata": {},
   "outputs": [],
   "source": [
    "\"\"\"\n",
    "Project Configuration Sheets\n",
    "\"\"\"\n",
    "FIN_MAN = \"FIN_MAN\"\n",
    "FIN_MAN_PROJECT_SHEET_NAME = \"Finman Project Configuration\"\n",
    "FIN_MAN_CONFIGURATION_SHEET_NAME=\"FinMan Configuration_v4 Dev Loading\"\n",
    "VENDOR_CONFIGURATION_SHEET_NAME = \"Vendor Configuration_v1 - Test\""
   ]
  },
  {
   "cell_type": "code",
   "execution_count": 5,
   "metadata": {},
   "outputs": [],
   "source": [
    "\"\"\"\n",
    "Populate project and project roles\n",
    "\"\"\"\n",
    "\n",
    "from django.db import transaction\n",
    "\n",
    "@transaction.atomic()\n",
    "def populate_project_and_roles():\n",
    "    from ib_iam.populate.populate_utils import populate_projects\n",
    "    populate_projects(spread_sheet_name=FIN_MAN_PROJECT_SHEET_NAME)\n",
    "\n",
    "    from ib_tasks.populate.population_utils import populate_project_roles\n",
    "    populate_project_roles(FIN_MAN_CONFIGURATION_SHEET_NAME)"
   ]
  },
  {
   "cell_type": "code",
   "execution_count": 6,
   "metadata": {},
   "outputs": [],
   "source": [
    "\"\"\"\n",
    "Populate tasks related data\n",
    "\"\"\"\n",
    "\n",
    "from django.db import transaction\n",
    "\n",
    "\n",
    "@transaction.atomic()\n",
    "def populate_task_and_boards_related_data():\n",
    "    \n",
    "    project_configuration_sheets = [\n",
    "        FIN_MAN_CONFIGURATION_SHEET_NAME\n",
    "    ]\n",
    "\n",
    "    for project_configuration_sheet in project_configuration_sheets:\n",
    "        configuration_sheet, project_id = project_configuration_sheet\n",
    "        from ib_tasks.populate.population_utils import populate_data\n",
    "        populate_data(project_id, configuration_sheet)\n",
    "        \n",
    "        from ib_boards.populate.get_data_from_sheet_for_boards_and_columns import GetBoardsAndColumnsDataFromSheet\n",
    "        loader = GetBoardsAndColumnsDataFromSheet()\n",
    "        loader.get_data_from_sheet(configuration_sheet)\n",
    "        loader.create_boards_and_columns(configuration_sheet)"
   ]
  },
  {
   "cell_type": "code",
   "execution_count": 7,
   "metadata": {},
   "outputs": [],
   "source": [
    "\"\"\"\n",
    "Populate project related data\n",
    "\"\"\"\n",
    "from django.db import transaction\n",
    "\n",
    "@transaction.atomic()\n",
    "def populate_project_related_data():\n",
    "\n",
    "    from ib_tasks.populate.population_utils import populate_projects_for_task_templates\n",
    "    populate_projects_for_task_templates(FIN_MAN_PROJECT_SHEET_NAME)\n",
    "    \n",
    "    from ib_boards.populate.get_data_from_sheet_for_project_boards import GetSheetDataForProjectBoards\n",
    "    loader = GetSheetDataForProjectBoards()\n",
    "    loader.get_data_from_project_boards_sub_sheet(FIN_MAN_PROJECT_SHEET_NAME)"
   ]
  },
  {
   "cell_type": "code",
   "execution_count": null,
   "metadata": {},
   "outputs": [],
   "source": [
    "populate_project_and_roles()\n",
    "populate_task_and_boards_related_data()\n",
    "populate_project_related_data()"
   ]
  },
  {
   "cell_type": "code",
   "execution_count": null,
   "metadata": {},
   "outputs": [],
   "source": [
    "from ib_tasks.populate.write_stage_actions import writing_data_to_stage_actions_logic\n",
    "writing_data_to_stage_actions_logic()"
   ]
  },
  {
   "cell_type": "code",
   "execution_count": null,
   "metadata": {},
   "outputs": [],
   "source": [
    "\"\"\"\n",
    "Populate Ib IAM Related Data For FinMan Project Configuration\n",
    "\n",
    "Note:- While Running the this below script need to Run the ELASTIC SEARCH SERVER\n",
    "\"\"\"\n",
    "from ib_iam.populate.populate_utils import populate\n",
    "populate(FIN_MAN_CONFIGURATION_SHEET_NAME)\n",
    "\n",
    "from ib_users.models import *\n",
    "UserAccount.objects.create_superuser(username='admin', password='admin@123', email='admin@example.com')\n",
    "UserAccount.objects.create_superuser(username='fduser', password='fduser@123', email='fduser@example.com')"
   ]
  },
  {
   "cell_type": "code",
   "execution_count": null,
   "metadata": {},
   "outputs": [],
   "source": [
    "\"\"\"\n",
    "Populate Elastic Search Data For Cities\n",
    "\n",
    "\"\"\"\n",
    "from ib_iam.populate.populate_elastic_search_data import populate_data\n",
    "populate_data()"
   ]
  },
  {
   "cell_type": "code",
   "execution_count": null,
   "metadata": {},
   "outputs": [],
   "source": [
    "from elasticsearch_dsl import connections\n",
    "from django.conf import settings\n",
    "es = connections.create_connection(\n",
    "hosts=[settings.ELASTICSEARCH_ENDPOINT], timeout=20)"
   ]
  },
  {
   "cell_type": "code",
   "execution_count": null,
   "metadata": {},
   "outputs": [],
   "source": [
    "from ib_tasks.documents.elastic_task import TASK_INDEX_NAME\n",
    "es.indices.create(index = TASK_INDEX_NAME)"
   ]
  },
  {
   "cell_type": "code",
   "execution_count": null,
   "metadata": {},
   "outputs": [],
   "source": []
  }
 ],
 "metadata": {
  "kernelspec": {
   "display_name": "Python 3",
   "language": "python",
   "name": "python3"
  },
  "language_info": {
   "codemirror_mode": {
    "name": "ipython",
    "version": 3
   },
   "file_extension": ".py",
   "mimetype": "text/x-python",
   "name": "python",
   "nbconvert_exporter": "python",
   "pygments_lexer": "ipython3",
   "version": "3.8.2"
  }
 },
 "nbformat": 4,
 "nbformat_minor": 4
}
