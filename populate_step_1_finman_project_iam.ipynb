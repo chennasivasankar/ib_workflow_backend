{
 "cells": [
  {
   "cell_type": "code",
   "execution_count": 1,
   "metadata": {},
   "outputs": [
    {
     "name": "stdout",
     "output_type": "stream",
     "text": [
      "{\n",
      "  \"shell_port\": 33943,\n",
      "  \"iopub_port\": 59575,\n",
      "  \"stdin_port\": 34245,\n",
      "  \"control_port\": 49695,\n",
      "  \"hb_port\": 34185,\n",
      "  \"ip\": \"127.0.0.1\",\n",
      "  \"key\": \"729750d7-44ad008a02b71d62c62fed5f\",\n",
      "  \"transport\": \"tcp\",\n",
      "  \"signature_scheme\": \"hmac-sha256\",\n",
      "  \"kernel_name\": \"\"\n",
      "}\n",
      "\n",
      "Paste the above JSON into a file, and connect with:\n",
      "    $> jupyter <app> --existing <file>\n",
      "or, if you are local, you can connect with just:\n",
      "    $> jupyter <app> --existing kernel-293b9907-f497-48c9-9c65-7ba91bb8319f.json\n",
      "or even just:\n",
      "    $> jupyter <app> --existing\n",
      "if this is the most recent Jupyter kernel you have started.\n"
     ]
    }
   ],
   "source": [
    "%load_ext autoreload\n",
    "%autoreload 2\n",
    "\n",
    "%connect_info"
   ]
  },
  {
   "cell_type": "code",
   "execution_count": 2,
   "metadata": {},
   "outputs": [],
   "source": [
    "import django"
   ]
  },
  {
   "cell_type": "code",
   "execution_count": 3,
   "metadata": {},
   "outputs": [
    {
     "name": "stdout",
     "output_type": "stream",
     "text": [
      "No module named 's3_uploader.conf'\n"
     ]
    }
   ],
   "source": [
    "django.setup()"
   ]
  },
  {
   "cell_type": "code",
   "execution_count": 4,
   "metadata": {},
   "outputs": [],
   "source": [
    "\"\"\"\n",
    "Project Configuration Sheets\n",
    "\"\"\"\n",
    "FIN_MAN = \"FIN_MAN\"\n",
    "FIN_MAN_PROJECT_SHEET_NAME = \"Finman Project Configuration\"\n",
    "FIN_MAN_CONFIGURATION_SHEET_NAME=\"FinMan Configuration_v4 (Payment Request Complete Config)\"\n",
    "VENDOR_CONFIGURATION_SHEET_NAME = \"Vendor Configuration_v1 - Test\""
   ]
  },
  {
   "cell_type": "code",
   "execution_count": 5,
   "metadata": {},
   "outputs": [],
   "source": [
    "\"\"\"\n",
    "Populate project and project roles\n",
    "\"\"\"\n",
    "\n",
    "from django.db import transaction\n",
    "\n",
    "@transaction.atomic()\n",
    "def populate_project_and_roles():\n",
    "    from ib_iam.populate.populate_utils import populate_projects\n",
    "    populate_projects(spread_sheet_name=FIN_MAN_PROJECT_SHEET_NAME)\n",
    "\n",
    "    from ib_tasks.populate.population_utils import populate_project_roles\n",
    "    populate_project_roles(FIN_MAN_CONFIGURATION_SHEET_NAME)"
   ]
  },
  {
   "cell_type": "code",
   "execution_count": 6,
   "metadata": {},
   "outputs": [],
   "source": [
    "\"\"\"\n",
    "Populate tasks related data\n",
    "\"\"\"\n",
    "\n",
    "from django.db import transaction\n",
    "\n",
    "\n",
    "@transaction.atomic()\n",
    "def populate_task_and_boards_related_data():\n",
    "    \n",
    "    project_configuration_sheets = [\n",
    "        (FIN_MAN_CONFIGURATION_SHEET_NAME, FIN_MAN)\n",
    "    ]\n",
    "\n",
    "    for project_configuration_sheet in project_configuration_sheets:\n",
    "        configuration_sheet, project_id = project_configuration_sheet\n",
    "        from ib_tasks.populate.population_utils import populate_data\n",
    "        populate_data(project_id, configuration_sheet)\n",
    "        \n",
    "        from ib_boards.populate.get_data_from_sheet_for_boards_and_columns import GetBoardsAndColumnsDataFromSheet\n",
    "        loader = GetBoardsAndColumnsDataFromSheet()\n",
    "        loader.get_data_from_sheet(configuration_sheet)\n",
    "        loader.create_boards_and_columns(configuration_sheet)"
   ]
  },
  {
   "cell_type": "code",
   "execution_count": 7,
   "metadata": {},
   "outputs": [],
   "source": [
    "\"\"\"\n",
    "Populate project related data\n",
    "\"\"\"\n",
    "from django.db import transaction\n",
    "\n",
    "@transaction.atomic()\n",
    "def populate_project_related_data():\n",
    "\n",
    "    from ib_tasks.populate.population_utils import populate_projects_for_task_templates\n",
    "    populate_projects_for_task_templates(FIN_MAN_PROJECT_SHEET_NAME)\n",
    "    \n",
    "    from ib_boards.populate.get_data_from_sheet_for_project_boards import GetSheetDataForProjectBoards\n",
    "    loader = GetSheetDataForProjectBoards()\n",
    "    loader.get_data_from_project_boards_sub_sheet(FIN_MAN_PROJECT_SHEET_NAME)"
   ]
  },
  {
   "cell_type": "code",
   "execution_count": 8,
   "metadata": {},
   "outputs": [
    {
     "ename": "SpreadsheetNotFound",
     "evalue": "",
     "output_type": "error",
     "traceback": [
      "\u001b[0;31m---------------------------------------------------------------------------\u001b[0m",
      "\u001b[0;31mStopIteration\u001b[0m                             Traceback (most recent call last)",
      "\u001b[0;32m~/Desktop/Backend_Projects/ib-workflows-backend/venv/lib/python3.8/site-packages/gspread/client.py\u001b[0m in \u001b[0;36mopen\u001b[0;34m(self, title)\u001b[0m\n\u001b[1;32m    116\u001b[0m         \u001b[0;32mtry\u001b[0m\u001b[0;34m:\u001b[0m\u001b[0;34m\u001b[0m\u001b[0;34m\u001b[0m\u001b[0m\n\u001b[0;32m--> 117\u001b[0;31m             properties = finditem(\n\u001b[0m\u001b[1;32m    118\u001b[0m                 \u001b[0;32mlambda\u001b[0m \u001b[0mx\u001b[0m\u001b[0;34m:\u001b[0m \u001b[0mx\u001b[0m\u001b[0;34m[\u001b[0m\u001b[0;34m'name'\u001b[0m\u001b[0;34m]\u001b[0m \u001b[0;34m==\u001b[0m \u001b[0mtitle\u001b[0m\u001b[0;34m,\u001b[0m\u001b[0;34m\u001b[0m\u001b[0;34m\u001b[0m\u001b[0m\n",
      "\u001b[0;32m~/Desktop/Backend_Projects/ib-workflows-backend/venv/lib/python3.8/site-packages/gspread/utils.py\u001b[0m in \u001b[0;36mfinditem\u001b[0;34m(func, seq)\u001b[0m\n\u001b[1;32m     96\u001b[0m     \"\"\"\n\u001b[0;32m---> 97\u001b[0;31m     \u001b[0;32mreturn\u001b[0m \u001b[0mnext\u001b[0m\u001b[0;34m(\u001b[0m\u001b[0;34m(\u001b[0m\u001b[0mitem\u001b[0m \u001b[0;32mfor\u001b[0m \u001b[0mitem\u001b[0m \u001b[0;32min\u001b[0m \u001b[0mseq\u001b[0m \u001b[0;32mif\u001b[0m \u001b[0mfunc\u001b[0m\u001b[0;34m(\u001b[0m\u001b[0mitem\u001b[0m\u001b[0;34m)\u001b[0m\u001b[0;34m)\u001b[0m\u001b[0;34m)\u001b[0m\u001b[0;34m\u001b[0m\u001b[0;34m\u001b[0m\u001b[0m\n\u001b[0m\u001b[1;32m     98\u001b[0m \u001b[0;34m\u001b[0m\u001b[0m\n",
      "\u001b[0;31mStopIteration\u001b[0m: ",
      "\nDuring handling of the above exception, another exception occurred:\n",
      "\u001b[0;31mSpreadsheetNotFound\u001b[0m                       Traceback (most recent call last)",
      "\u001b[0;32m<ipython-input-8-198365ba3335>\u001b[0m in \u001b[0;36m<module>\u001b[0;34m\u001b[0m\n\u001b[0;32m----> 1\u001b[0;31m \u001b[0mpopulate_project_and_roles\u001b[0m\u001b[0;34m(\u001b[0m\u001b[0;34m)\u001b[0m\u001b[0;34m\u001b[0m\u001b[0;34m\u001b[0m\u001b[0m\n\u001b[0m\u001b[1;32m      2\u001b[0m \u001b[0mpopulate_task_and_boards_related_data\u001b[0m\u001b[0;34m(\u001b[0m\u001b[0;34m)\u001b[0m\u001b[0;34m\u001b[0m\u001b[0;34m\u001b[0m\u001b[0m\n\u001b[1;32m      3\u001b[0m \u001b[0mpopulate_project_related_data\u001b[0m\u001b[0;34m(\u001b[0m\u001b[0;34m)\u001b[0m\u001b[0;34m\u001b[0m\u001b[0;34m\u001b[0m\u001b[0m\n",
      "\u001b[0;32m/usr/lib/python3.8/contextlib.py\u001b[0m in \u001b[0;36minner\u001b[0;34m(*args, **kwds)\u001b[0m\n\u001b[1;32m     73\u001b[0m         \u001b[0;32mdef\u001b[0m \u001b[0minner\u001b[0m\u001b[0;34m(\u001b[0m\u001b[0;34m*\u001b[0m\u001b[0margs\u001b[0m\u001b[0;34m,\u001b[0m \u001b[0;34m**\u001b[0m\u001b[0mkwds\u001b[0m\u001b[0;34m)\u001b[0m\u001b[0;34m:\u001b[0m\u001b[0;34m\u001b[0m\u001b[0;34m\u001b[0m\u001b[0m\n\u001b[1;32m     74\u001b[0m             \u001b[0;32mwith\u001b[0m \u001b[0mself\u001b[0m\u001b[0;34m.\u001b[0m\u001b[0m_recreate_cm\u001b[0m\u001b[0;34m(\u001b[0m\u001b[0;34m)\u001b[0m\u001b[0;34m:\u001b[0m\u001b[0;34m\u001b[0m\u001b[0;34m\u001b[0m\u001b[0m\n\u001b[0;32m---> 75\u001b[0;31m                 \u001b[0;32mreturn\u001b[0m \u001b[0mfunc\u001b[0m\u001b[0;34m(\u001b[0m\u001b[0;34m*\u001b[0m\u001b[0margs\u001b[0m\u001b[0;34m,\u001b[0m \u001b[0;34m**\u001b[0m\u001b[0mkwds\u001b[0m\u001b[0;34m)\u001b[0m\u001b[0;34m\u001b[0m\u001b[0;34m\u001b[0m\u001b[0m\n\u001b[0m\u001b[1;32m     76\u001b[0m         \u001b[0;32mreturn\u001b[0m \u001b[0minner\u001b[0m\u001b[0;34m\u001b[0m\u001b[0;34m\u001b[0m\u001b[0m\n\u001b[1;32m     77\u001b[0m \u001b[0;34m\u001b[0m\u001b[0m\n",
      "\u001b[0;32m<ipython-input-5-54d8242380a0>\u001b[0m in \u001b[0;36mpopulate_project_and_roles\u001b[0;34m()\u001b[0m\n\u001b[1;32m     11\u001b[0m \u001b[0;34m\u001b[0m\u001b[0m\n\u001b[1;32m     12\u001b[0m     \u001b[0;32mfrom\u001b[0m \u001b[0mib_tasks\u001b[0m\u001b[0;34m.\u001b[0m\u001b[0mpopulate\u001b[0m\u001b[0;34m.\u001b[0m\u001b[0mpopulation_utils\u001b[0m \u001b[0;32mimport\u001b[0m \u001b[0mpopulate_project_roles\u001b[0m\u001b[0;34m\u001b[0m\u001b[0;34m\u001b[0m\u001b[0m\n\u001b[0;32m---> 13\u001b[0;31m     \u001b[0mpopulate_project_roles\u001b[0m\u001b[0;34m(\u001b[0m\u001b[0mFIN_MAN_CONFIGURATION_SHEET_NAME\u001b[0m\u001b[0;34m)\u001b[0m\u001b[0;34m\u001b[0m\u001b[0;34m\u001b[0m\u001b[0m\n\u001b[0m",
      "\u001b[0;32m/usr/lib/python3.8/contextlib.py\u001b[0m in \u001b[0;36minner\u001b[0;34m(*args, **kwds)\u001b[0m\n\u001b[1;32m     73\u001b[0m         \u001b[0;32mdef\u001b[0m \u001b[0minner\u001b[0m\u001b[0;34m(\u001b[0m\u001b[0;34m*\u001b[0m\u001b[0margs\u001b[0m\u001b[0;34m,\u001b[0m \u001b[0;34m**\u001b[0m\u001b[0mkwds\u001b[0m\u001b[0;34m)\u001b[0m\u001b[0;34m:\u001b[0m\u001b[0;34m\u001b[0m\u001b[0;34m\u001b[0m\u001b[0m\n\u001b[1;32m     74\u001b[0m             \u001b[0;32mwith\u001b[0m \u001b[0mself\u001b[0m\u001b[0;34m.\u001b[0m\u001b[0m_recreate_cm\u001b[0m\u001b[0;34m(\u001b[0m\u001b[0;34m)\u001b[0m\u001b[0;34m:\u001b[0m\u001b[0;34m\u001b[0m\u001b[0;34m\u001b[0m\u001b[0m\n\u001b[0;32m---> 75\u001b[0;31m                 \u001b[0;32mreturn\u001b[0m \u001b[0mfunc\u001b[0m\u001b[0;34m(\u001b[0m\u001b[0;34m*\u001b[0m\u001b[0margs\u001b[0m\u001b[0;34m,\u001b[0m \u001b[0;34m**\u001b[0m\u001b[0mkwds\u001b[0m\u001b[0;34m)\u001b[0m\u001b[0;34m\u001b[0m\u001b[0;34m\u001b[0m\u001b[0m\n\u001b[0m\u001b[1;32m     76\u001b[0m         \u001b[0;32mreturn\u001b[0m \u001b[0minner\u001b[0m\u001b[0;34m\u001b[0m\u001b[0;34m\u001b[0m\u001b[0m\n\u001b[1;32m     77\u001b[0m \u001b[0;34m\u001b[0m\u001b[0m\n",
      "\u001b[0;32m~/Desktop/Backend_Projects/ib-workflows-backend/ib_tasks/populate/population_utils.py\u001b[0m in \u001b[0;36mpopulate_project_roles\u001b[0;34m(spread_sheet_name)\u001b[0m\n\u001b[1;32m     38\u001b[0m \u001b[0;32mdef\u001b[0m \u001b[0mpopulate_project_roles\u001b[0m\u001b[0;34m(\u001b[0m\u001b[0mspread_sheet_name\u001b[0m\u001b[0;34m:\u001b[0m \u001b[0mstr\u001b[0m\u001b[0;34m)\u001b[0m\u001b[0;34m:\u001b[0m\u001b[0;34m\u001b[0m\u001b[0;34m\u001b[0m\u001b[0m\n\u001b[1;32m     39\u001b[0m     \u001b[0mproject_roles\u001b[0m \u001b[0;34m=\u001b[0m \u001b[0mProjectRoleDetails\u001b[0m\u001b[0;34m(\u001b[0m\u001b[0;34m)\u001b[0m\u001b[0;34m\u001b[0m\u001b[0;34m\u001b[0m\u001b[0m\n\u001b[0;32m---> 40\u001b[0;31m     project_roles.add_project_roles_details_to_database(\n\u001b[0m\u001b[1;32m     41\u001b[0m         spread_sheet_name=spread_sheet_name, sub_sheet_name=ROLES_SUB_SHEET)\n\u001b[1;32m     42\u001b[0m \u001b[0;34m\u001b[0m\u001b[0m\n",
      "\u001b[0;32m~/Desktop/Backend_Projects/ib-workflows-backend/ib_iam/populate/add_project_roles_details.py\u001b[0m in \u001b[0;36madd_project_roles_details_to_database\u001b[0;34m(self, spread_sheet_name, sub_sheet_name)\u001b[0m\n\u001b[1;32m      5\u001b[0m         \u001b[0;32mfrom\u001b[0m \u001b[0mib_iam\u001b[0m\u001b[0;34m.\u001b[0m\u001b[0mpopulate\u001b[0m\u001b[0;34m.\u001b[0m\u001b[0mspreedsheet_utils\u001b[0m \u001b[0;32mimport\u001b[0m \u001b[0mSpreadSheetUtil\u001b[0m\u001b[0;34m\u001b[0m\u001b[0;34m\u001b[0m\u001b[0m\n\u001b[1;32m      6\u001b[0m         \u001b[0mspreadsheet_utils\u001b[0m \u001b[0;34m=\u001b[0m \u001b[0mSpreadSheetUtil\u001b[0m\u001b[0;34m(\u001b[0m\u001b[0;34m)\u001b[0m\u001b[0;34m\u001b[0m\u001b[0;34m\u001b[0m\u001b[0m\n\u001b[0;32m----> 7\u001b[0;31m         \u001b[0mroles_details\u001b[0m \u001b[0;34m=\u001b[0m \u001b[0mspreadsheet_utils\u001b[0m\u001b[0;34m.\u001b[0m\u001b[0;31m \u001b[0m\u001b[0;31m\\\u001b[0m\u001b[0;34m\u001b[0m\u001b[0;34m\u001b[0m\u001b[0m\n\u001b[0m\u001b[1;32m      8\u001b[0m             read_spread_sheet_data_and_get_row_wise_dicts(\n\u001b[1;32m      9\u001b[0m                 \u001b[0mspread_sheet_name\u001b[0m\u001b[0;34m=\u001b[0m\u001b[0mspread_sheet_name\u001b[0m\u001b[0;34m,\u001b[0m\u001b[0;34m\u001b[0m\u001b[0;34m\u001b[0m\u001b[0m\n",
      "\u001b[0;32m~/Desktop/Backend_Projects/ib-workflows-backend/ib_iam/populate/spreedsheet_utils.py\u001b[0m in \u001b[0;36mread_spread_sheet_data_and_get_row_wise_dicts\u001b[0;34m(self, spread_sheet_name, sub_sheet_name)\u001b[0m\n\u001b[1;32m     18\u001b[0m     def read_spread_sheet_data_and_get_row_wise_dicts(\n\u001b[1;32m     19\u001b[0m             self, spread_sheet_name, sub_sheet_name):\n\u001b[0;32m---> 20\u001b[0;31m         \u001b[0mwks\u001b[0m \u001b[0;34m=\u001b[0m \u001b[0mself\u001b[0m\u001b[0;34m.\u001b[0m\u001b[0mgc\u001b[0m\u001b[0;34m.\u001b[0m\u001b[0mopen\u001b[0m\u001b[0;34m(\u001b[0m\u001b[0mspread_sheet_name\u001b[0m\u001b[0;34m)\u001b[0m\u001b[0;34m.\u001b[0m\u001b[0mworksheet\u001b[0m\u001b[0;34m(\u001b[0m\u001b[0msub_sheet_name\u001b[0m\u001b[0;34m)\u001b[0m\u001b[0;34m\u001b[0m\u001b[0;34m\u001b[0m\u001b[0m\n\u001b[0m\u001b[1;32m     21\u001b[0m         \u001b[0mspread_sheet_data\u001b[0m \u001b[0;34m=\u001b[0m \u001b[0mwks\u001b[0m\u001b[0;34m.\u001b[0m\u001b[0mget_all_values\u001b[0m\u001b[0;34m(\u001b[0m\u001b[0;34m)\u001b[0m\u001b[0;34m\u001b[0m\u001b[0;34m\u001b[0m\u001b[0m\n\u001b[1;32m     22\u001b[0m \u001b[0;34m\u001b[0m\u001b[0m\n",
      "\u001b[0;32m~/Desktop/Backend_Projects/ib-workflows-backend/venv/lib/python3.8/site-packages/gspread/client.py\u001b[0m in \u001b[0;36mopen\u001b[0;34m(self, title)\u001b[0m\n\u001b[1;32m    125\u001b[0m             \u001b[0;32mreturn\u001b[0m \u001b[0mSpreadsheet\u001b[0m\u001b[0;34m(\u001b[0m\u001b[0mself\u001b[0m\u001b[0;34m,\u001b[0m \u001b[0mproperties\u001b[0m\u001b[0;34m)\u001b[0m\u001b[0;34m\u001b[0m\u001b[0;34m\u001b[0m\u001b[0m\n\u001b[1;32m    126\u001b[0m         \u001b[0;32mexcept\u001b[0m \u001b[0mStopIteration\u001b[0m\u001b[0;34m:\u001b[0m\u001b[0;34m\u001b[0m\u001b[0;34m\u001b[0m\u001b[0m\n\u001b[0;32m--> 127\u001b[0;31m             \u001b[0;32mraise\u001b[0m \u001b[0mSpreadsheetNotFound\u001b[0m\u001b[0;34m\u001b[0m\u001b[0;34m\u001b[0m\u001b[0m\n\u001b[0m\u001b[1;32m    128\u001b[0m \u001b[0;34m\u001b[0m\u001b[0m\n\u001b[1;32m    129\u001b[0m     \u001b[0;32mdef\u001b[0m \u001b[0mopen_by_key\u001b[0m\u001b[0;34m(\u001b[0m\u001b[0mself\u001b[0m\u001b[0;34m,\u001b[0m \u001b[0mkey\u001b[0m\u001b[0;34m)\u001b[0m\u001b[0;34m:\u001b[0m\u001b[0;34m\u001b[0m\u001b[0;34m\u001b[0m\u001b[0m\n",
      "\u001b[0;31mSpreadsheetNotFound\u001b[0m: "
     ]
    }
   ],
   "source": [
    "populate_project_and_roles()\n",
    "populate_task_and_boards_related_data()\n",
    "populate_project_related_data()"
   ]
  },
  {
   "cell_type": "code",
   "execution_count": 10,
   "metadata": {},
   "outputs": [
    {
     "name": "stderr",
     "output_type": "stream",
     "text": [
      "[none] [ib_workflows_backend - beta] INFO     [12:07:54]  [/usr/lib/python3.8/lib2to3/pgen2/driver.py] [driver.py][load_grammar] [120]: Generating grammar tables from /usr/lib/python3.8/lib2to3/Grammar.txt\n",
      "[none] [ib_workflows_backend - beta] INFO     [12:07:54]  [/usr/lib/python3.8/lib2to3/pgen2/driver.py] [driver.py][load_grammar] [120]: Generating grammar tables from /usr/lib/python3.8/lib2to3/PatternGrammar.txt\n"
     ]
    },
    {
     "name": "stdout",
     "output_type": "stream",
     "text": [
      "LE: Starting Logentries Asynchronous Socket Appender\n"
     ]
    }
   ],
   "source": [
    "from ib_tasks.populate.write_stage_actions import writing_data_to_stage_actions_logic\n",
    "writing_data_to_stage_actions_logic()"
   ]
  },
  {
   "cell_type": "code",
   "execution_count": 11,
   "metadata": {},
   "outputs": [
    {
     "name": "stderr",
     "output_type": "stream",
     "text": [
      "[none] [ib_workflows_backend - beta] INFO     [12:07:58]  [/home/ubuntu/ib-workflows-backend/venv/lib/python3.8/site-packages/elasticsearch/connection/base.py] [base.py][log_request_success] [227]: POST https://search-ib-workflows-dev-nck6c5mhnwbsg2ajsnmyobophm.ap-south-1.es.amazonaws.com:443/user-beta/_doc [status:201 request:0.038s]\n",
      "[none] [ib_workflows_backend - beta] INFO     [12:07:58]  [/home/ubuntu/ib-workflows-backend/venv/lib/python3.8/site-packages/elasticsearch/connection/base.py] [base.py][log_request_success] [227]: POST https://search-ib-workflows-dev-nck6c5mhnwbsg2ajsnmyobophm.ap-south-1.es.amazonaws.com:443/user-beta/_doc [status:201 request:0.027s]\n",
      "[none] [ib_workflows_backend - beta] INFO     [12:07:59]  [/home/ubuntu/ib-workflows-backend/venv/lib/python3.8/site-packages/elasticsearch/connection/base.py] [base.py][log_request_success] [227]: POST https://search-ib-workflows-dev-nck6c5mhnwbsg2ajsnmyobophm.ap-south-1.es.amazonaws.com:443/user-beta/_doc [status:201 request:0.020s]\n"
     ]
    },
    {
     "name": "stdout",
     "output_type": "stream",
     "text": [
      "\n",
      "Hi \n",
      "Verify your email by using below link,\n",
      "<br>\n",
      "<a href=\"https://ib-workflows-web-alpha.apigateway.in/verify-email?token=xL91DbPg9YdVtnjgsDhT2v4Xxzylv4\">Verify Your Email</a><br>\n",
      "<br>\n",
      "Thank you\n",
      " asd\n",
      "template_:  \n",
      "Hi \n",
      "Verify your email by using below link,\n",
      "<br>\n",
      "<a href=\"https://ib-workflows-web-alpha.apigateway.in/verify-email?token=xL91DbPg9YdVtnjgsDhT2v4Xxzylv4\">Verify Your Email</a><br>\n",
      "<br>\n",
      "Thank you\n",
      "\n",
      "serializer_template:  <django.template.base.Template object at 0x7f408996d3a0>\n",
      "data:  {}\n",
      "html_content:  \n",
      "Hi \n",
      "Verify your email by using below link,\n",
      "<br>\n",
      "<a href=\"https://ib-workflows-web-alpha.apigateway.in/verify-email?token=xL91DbPg9YdVtnjgsDhT2v4Xxzylv4\">Verify Your Email</a><br>\n",
      "<br>\n",
      "Thank you\n",
      "\n"
     ]
    },
    {
     "name": "stderr",
     "output_type": "stream",
     "text": [
      "[none] [ib_workflows_backend - beta] INFO     [12:08:01]  [/home/ubuntu/ib-workflows-backend/venv/lib/python3.8/site-packages/elasticsearch/connection/base.py] [base.py][log_request_success] [227]: POST https://search-ib-workflows-dev-nck6c5mhnwbsg2ajsnmyobophm.ap-south-1.es.amazonaws.com:443/user-beta/_doc [status:201 request:0.021s]\n"
     ]
    },
    {
     "name": "stdout",
     "output_type": "stream",
     "text": [
      "\n",
      "Hi \n",
      "Verify your email by using below link,\n",
      "<br>\n",
      "<a href=\"https://ib-workflows-web-alpha.apigateway.in/verify-email?token=FxJg4oAxRAZYhJEgTCwWYCVxFvvlOw\">Verify Your Email</a><br>\n",
      "<br>\n",
      "Thank you\n",
      " asd\n",
      "template_:  \n",
      "Hi \n",
      "Verify your email by using below link,\n",
      "<br>\n",
      "<a href=\"https://ib-workflows-web-alpha.apigateway.in/verify-email?token=FxJg4oAxRAZYhJEgTCwWYCVxFvvlOw\">Verify Your Email</a><br>\n",
      "<br>\n",
      "Thank you\n",
      "\n",
      "serializer_template:  <django.template.base.Template object at 0x7f40897a0790>\n",
      "data:  {}\n",
      "html_content:  \n",
      "Hi \n",
      "Verify your email by using below link,\n",
      "<br>\n",
      "<a href=\"https://ib-workflows-web-alpha.apigateway.in/verify-email?token=FxJg4oAxRAZYhJEgTCwWYCVxFvvlOw\">Verify Your Email</a><br>\n",
      "<br>\n",
      "Thank you\n",
      "\n"
     ]
    },
    {
     "name": "stderr",
     "output_type": "stream",
     "text": [
      "[none] [ib_workflows_backend - beta] INFO     [12:08:03]  [/home/ubuntu/ib-workflows-backend/venv/lib/python3.8/site-packages/elasticsearch/connection/base.py] [base.py][log_request_success] [227]: POST https://search-ib-workflows-dev-nck6c5mhnwbsg2ajsnmyobophm.ap-south-1.es.amazonaws.com:443/user-beta/_doc [status:201 request:0.022s]\n"
     ]
    },
    {
     "name": "stdout",
     "output_type": "stream",
     "text": [
      "\n",
      "Hi \n",
      "Verify your email by using below link,\n",
      "<br>\n",
      "<a href=\"https://ib-workflows-web-alpha.apigateway.in/verify-email?token=74XtMQrQwnqInoVMTy0s59askzkjpu\">Verify Your Email</a><br>\n",
      "<br>\n",
      "Thank you\n",
      " asd\n",
      "template_:  \n",
      "Hi \n",
      "Verify your email by using below link,\n",
      "<br>\n",
      "<a href=\"https://ib-workflows-web-alpha.apigateway.in/verify-email?token=74XtMQrQwnqInoVMTy0s59askzkjpu\">Verify Your Email</a><br>\n",
      "<br>\n",
      "Thank you\n",
      "\n",
      "serializer_template:  <django.template.base.Template object at 0x7f40897a5d00>\n",
      "data:  {}\n",
      "html_content:  \n",
      "Hi \n",
      "Verify your email by using below link,\n",
      "<br>\n",
      "<a href=\"https://ib-workflows-web-alpha.apigateway.in/verify-email?token=74XtMQrQwnqInoVMTy0s59askzkjpu\">Verify Your Email</a><br>\n",
      "<br>\n",
      "Thank you\n",
      "\n"
     ]
    },
    {
     "name": "stderr",
     "output_type": "stream",
     "text": [
      "[none] [ib_workflows_backend - beta] INFO     [12:08:06]  [/home/ubuntu/ib-workflows-backend/venv/lib/python3.8/site-packages/elasticsearch/connection/base.py] [base.py][log_request_success] [227]: POST https://search-ib-workflows-dev-nck6c5mhnwbsg2ajsnmyobophm.ap-south-1.es.amazonaws.com:443/user-beta/_doc [status:201 request:0.019s]\n"
     ]
    },
    {
     "name": "stdout",
     "output_type": "stream",
     "text": [
      "\n",
      "Hi \n",
      "Verify your email by using below link,\n",
      "<br>\n",
      "<a href=\"https://ib-workflows-web-alpha.apigateway.in/verify-email?token=FJdwiYAxHeiopK8hGB7q8EvK1ivCEN\">Verify Your Email</a><br>\n",
      "<br>\n",
      "Thank you\n",
      " asd\n",
      "template_:  \n",
      "Hi \n",
      "Verify your email by using below link,\n",
      "<br>\n",
      "<a href=\"https://ib-workflows-web-alpha.apigateway.in/verify-email?token=FJdwiYAxHeiopK8hGB7q8EvK1ivCEN\">Verify Your Email</a><br>\n",
      "<br>\n",
      "Thank you\n",
      "\n",
      "serializer_template:  <django.template.base.Template object at 0x7f4089956160>\n",
      "data:  {}\n",
      "html_content:  \n",
      "Hi \n",
      "Verify your email by using below link,\n",
      "<br>\n",
      "<a href=\"https://ib-workflows-web-alpha.apigateway.in/verify-email?token=FJdwiYAxHeiopK8hGB7q8EvK1ivCEN\">Verify Your Email</a><br>\n",
      "<br>\n",
      "Thank you\n",
      "\n"
     ]
    },
    {
     "name": "stderr",
     "output_type": "stream",
     "text": [
      "[none] [ib_workflows_backend - beta] INFO     [12:08:08]  [/home/ubuntu/ib-workflows-backend/venv/lib/python3.8/site-packages/elasticsearch/connection/base.py] [base.py][log_request_success] [227]: POST https://search-ib-workflows-dev-nck6c5mhnwbsg2ajsnmyobophm.ap-south-1.es.amazonaws.com:443/user-beta/_doc [status:201 request:0.020s]\n"
     ]
    },
    {
     "name": "stdout",
     "output_type": "stream",
     "text": [
      "\n",
      "Hi \n",
      "Verify your email by using below link,\n",
      "<br>\n",
      "<a href=\"https://ib-workflows-web-alpha.apigateway.in/verify-email?token=zgkAgTjvyikzIyXLPdtyQrG3VKVDck\">Verify Your Email</a><br>\n",
      "<br>\n",
      "Thank you\n",
      " asd\n",
      "template_:  \n",
      "Hi \n",
      "Verify your email by using below link,\n",
      "<br>\n",
      "<a href=\"https://ib-workflows-web-alpha.apigateway.in/verify-email?token=zgkAgTjvyikzIyXLPdtyQrG3VKVDck\">Verify Your Email</a><br>\n",
      "<br>\n",
      "Thank you\n",
      "\n",
      "serializer_template:  <django.template.base.Template object at 0x7f40897a5460>\n",
      "data:  {}\n",
      "html_content:  \n",
      "Hi \n",
      "Verify your email by using below link,\n",
      "<br>\n",
      "<a href=\"https://ib-workflows-web-alpha.apigateway.in/verify-email?token=zgkAgTjvyikzIyXLPdtyQrG3VKVDck\">Verify Your Email</a><br>\n",
      "<br>\n",
      "Thank you\n",
      "\n"
     ]
    },
    {
     "name": "stderr",
     "output_type": "stream",
     "text": [
      "[none] [ib_workflows_backend - beta] INFO     [12:08:11]  [/home/ubuntu/ib-workflows-backend/venv/lib/python3.8/site-packages/elasticsearch/connection/base.py] [base.py][log_request_success] [227]: POST https://search-ib-workflows-dev-nck6c5mhnwbsg2ajsnmyobophm.ap-south-1.es.amazonaws.com:443/user-beta/_doc [status:201 request:0.019s]\n"
     ]
    },
    {
     "name": "stdout",
     "output_type": "stream",
     "text": [
      "\n",
      "Hi \n",
      "Verify your email by using below link,\n",
      "<br>\n",
      "<a href=\"https://ib-workflows-web-alpha.apigateway.in/verify-email?token=wzHZD5oSrUsCBa4MgMG65HTLOG0Qr2\">Verify Your Email</a><br>\n",
      "<br>\n",
      "Thank you\n",
      " asd\n",
      "template_:  \n",
      "Hi \n",
      "Verify your email by using below link,\n",
      "<br>\n",
      "<a href=\"https://ib-workflows-web-alpha.apigateway.in/verify-email?token=wzHZD5oSrUsCBa4MgMG65HTLOG0Qr2\">Verify Your Email</a><br>\n",
      "<br>\n",
      "Thank you\n",
      "\n",
      "serializer_template:  <django.template.base.Template object at 0x7f40897a3ca0>\n",
      "data:  {}\n",
      "html_content:  \n",
      "Hi \n",
      "Verify your email by using below link,\n",
      "<br>\n",
      "<a href=\"https://ib-workflows-web-alpha.apigateway.in/verify-email?token=wzHZD5oSrUsCBa4MgMG65HTLOG0Qr2\">Verify Your Email</a><br>\n",
      "<br>\n",
      "Thank you\n",
      "\n"
     ]
    },
    {
     "name": "stderr",
     "output_type": "stream",
     "text": [
      "[none] [ib_workflows_backend - beta] INFO     [12:08:13]  [/home/ubuntu/ib-workflows-backend/venv/lib/python3.8/site-packages/elasticsearch/connection/base.py] [base.py][log_request_success] [227]: POST https://search-ib-workflows-dev-nck6c5mhnwbsg2ajsnmyobophm.ap-south-1.es.amazonaws.com:443/user-beta/_doc [status:201 request:0.023s]\n"
     ]
    },
    {
     "name": "stdout",
     "output_type": "stream",
     "text": [
      "\n",
      "Hi \n",
      "Verify your email by using below link,\n",
      "<br>\n",
      "<a href=\"https://ib-workflows-web-alpha.apigateway.in/verify-email?token=NZmKT3YO7IHqNtN4Il7mYhiw3rcG7x\">Verify Your Email</a><br>\n",
      "<br>\n",
      "Thank you\n",
      " asd\n",
      "template_:  \n",
      "Hi \n",
      "Verify your email by using below link,\n",
      "<br>\n",
      "<a href=\"https://ib-workflows-web-alpha.apigateway.in/verify-email?token=NZmKT3YO7IHqNtN4Il7mYhiw3rcG7x\">Verify Your Email</a><br>\n",
      "<br>\n",
      "Thank you\n",
      "\n",
      "serializer_template:  <django.template.base.Template object at 0x7f40897a0b20>\n",
      "data:  {}\n",
      "html_content:  \n",
      "Hi \n",
      "Verify your email by using below link,\n",
      "<br>\n",
      "<a href=\"https://ib-workflows-web-alpha.apigateway.in/verify-email?token=NZmKT3YO7IHqNtN4Il7mYhiw3rcG7x\">Verify Your Email</a><br>\n",
      "<br>\n",
      "Thank you\n",
      "\n"
     ]
    },
    {
     "name": "stderr",
     "output_type": "stream",
     "text": [
      "[none] [ib_workflows_backend - beta] INFO     [12:08:15]  [/home/ubuntu/ib-workflows-backend/venv/lib/python3.8/site-packages/elasticsearch/connection/base.py] [base.py][log_request_success] [227]: POST https://search-ib-workflows-dev-nck6c5mhnwbsg2ajsnmyobophm.ap-south-1.es.amazonaws.com:443/user-beta/_doc [status:201 request:0.021s]\n"
     ]
    },
    {
     "name": "stdout",
     "output_type": "stream",
     "text": [
      "\n",
      "Hi \n",
      "Verify your email by using below link,\n",
      "<br>\n",
      "<a href=\"https://ib-workflows-web-alpha.apigateway.in/verify-email?token=WidWkO2cjwUUr4E2nB1Nbx9hd01i11\">Verify Your Email</a><br>\n",
      "<br>\n",
      "Thank you\n",
      " asd\n",
      "template_:  \n",
      "Hi \n",
      "Verify your email by using below link,\n",
      "<br>\n",
      "<a href=\"https://ib-workflows-web-alpha.apigateway.in/verify-email?token=WidWkO2cjwUUr4E2nB1Nbx9hd01i11\">Verify Your Email</a><br>\n",
      "<br>\n",
      "Thank you\n",
      "\n",
      "serializer_template:  <django.template.base.Template object at 0x7f4089750c70>\n",
      "data:  {}\n",
      "html_content:  \n",
      "Hi \n",
      "Verify your email by using below link,\n",
      "<br>\n",
      "<a href=\"https://ib-workflows-web-alpha.apigateway.in/verify-email?token=WidWkO2cjwUUr4E2nB1Nbx9hd01i11\">Verify Your Email</a><br>\n",
      "<br>\n",
      "Thank you\n",
      "\n"
     ]
    },
    {
     "name": "stderr",
     "output_type": "stream",
     "text": [
      "[none] [ib_workflows_backend - beta] INFO     [12:08:18]  [/home/ubuntu/ib-workflows-backend/venv/lib/python3.8/site-packages/elasticsearch/connection/base.py] [base.py][log_request_success] [227]: POST https://search-ib-workflows-dev-nck6c5mhnwbsg2ajsnmyobophm.ap-south-1.es.amazonaws.com:443/user-beta/_doc [status:201 request:0.021s]\n"
     ]
    },
    {
     "name": "stdout",
     "output_type": "stream",
     "text": [
      "\n",
      "Hi \n",
      "Verify your email by using below link,\n",
      "<br>\n",
      "<a href=\"https://ib-workflows-web-alpha.apigateway.in/verify-email?token=uYFUA9J7Z3DzCNkntmqVAPXH6U2Z4j\">Verify Your Email</a><br>\n",
      "<br>\n",
      "Thank you\n",
      " asd\n",
      "template_:  \n",
      "Hi \n",
      "Verify your email by using below link,\n",
      "<br>\n",
      "<a href=\"https://ib-workflows-web-alpha.apigateway.in/verify-email?token=uYFUA9J7Z3DzCNkntmqVAPXH6U2Z4j\">Verify Your Email</a><br>\n",
      "<br>\n",
      "Thank you\n",
      "\n",
      "serializer_template:  <django.template.base.Template object at 0x7f4089739190>\n",
      "data:  {}\n",
      "html_content:  \n",
      "Hi \n",
      "Verify your email by using below link,\n",
      "<br>\n",
      "<a href=\"https://ib-workflows-web-alpha.apigateway.in/verify-email?token=uYFUA9J7Z3DzCNkntmqVAPXH6U2Z4j\">Verify Your Email</a><br>\n",
      "<br>\n",
      "Thank you\n",
      "\n"
     ]
    },
    {
     "name": "stderr",
     "output_type": "stream",
     "text": [
      "[none] [ib_workflows_backend - beta] INFO     [12:08:20]  [/home/ubuntu/ib-workflows-backend/venv/lib/python3.8/site-packages/elasticsearch/connection/base.py] [base.py][log_request_success] [227]: POST https://search-ib-workflows-dev-nck6c5mhnwbsg2ajsnmyobophm.ap-south-1.es.amazonaws.com:443/user-beta/_doc [status:201 request:0.019s]\n"
     ]
    },
    {
     "name": "stdout",
     "output_type": "stream",
     "text": [
      "\n",
      "Hi \n",
      "Verify your email by using below link,\n",
      "<br>\n",
      "<a href=\"https://ib-workflows-web-alpha.apigateway.in/verify-email?token=SqmWHcXG5jgAf2hZCWnPI4fytC92jK\">Verify Your Email</a><br>\n",
      "<br>\n",
      "Thank you\n",
      " asd\n",
      "template_:  \n",
      "Hi \n",
      "Verify your email by using below link,\n",
      "<br>\n",
      "<a href=\"https://ib-workflows-web-alpha.apigateway.in/verify-email?token=SqmWHcXG5jgAf2hZCWnPI4fytC92jK\">Verify Your Email</a><br>\n",
      "<br>\n",
      "Thank you\n",
      "\n",
      "serializer_template:  <django.template.base.Template object at 0x7f4089781d90>\n",
      "data:  {}\n",
      "html_content:  \n",
      "Hi \n",
      "Verify your email by using below link,\n",
      "<br>\n",
      "<a href=\"https://ib-workflows-web-alpha.apigateway.in/verify-email?token=SqmWHcXG5jgAf2hZCWnPI4fytC92jK\">Verify Your Email</a><br>\n",
      "<br>\n",
      "Thank you\n",
      "\n"
     ]
    },
    {
     "name": "stderr",
     "output_type": "stream",
     "text": [
      "[none] [ib_workflows_backend - beta] INFO     [12:08:23]  [/home/ubuntu/ib-workflows-backend/venv/lib/python3.8/site-packages/elasticsearch/connection/base.py] [base.py][log_request_success] [227]: POST https://search-ib-workflows-dev-nck6c5mhnwbsg2ajsnmyobophm.ap-south-1.es.amazonaws.com:443/user-beta/_doc [status:201 request:0.020s]\n"
     ]
    },
    {
     "name": "stdout",
     "output_type": "stream",
     "text": [
      "\n",
      "Hi \n",
      "Verify your email by using below link,\n",
      "<br>\n",
      "<a href=\"https://ib-workflows-web-alpha.apigateway.in/verify-email?token=ek3s4QzX2yXeyEDRsgC8jd1isY4uTt\">Verify Your Email</a><br>\n",
      "<br>\n",
      "Thank you\n",
      " asd\n",
      "template_:  \n",
      "Hi \n",
      "Verify your email by using below link,\n",
      "<br>\n",
      "<a href=\"https://ib-workflows-web-alpha.apigateway.in/verify-email?token=ek3s4QzX2yXeyEDRsgC8jd1isY4uTt\">Verify Your Email</a><br>\n",
      "<br>\n",
      "Thank you\n",
      "\n",
      "serializer_template:  <django.template.base.Template object at 0x7f4089747610>\n",
      "data:  {}\n",
      "html_content:  \n",
      "Hi \n",
      "Verify your email by using below link,\n",
      "<br>\n",
      "<a href=\"https://ib-workflows-web-alpha.apigateway.in/verify-email?token=ek3s4QzX2yXeyEDRsgC8jd1isY4uTt\">Verify Your Email</a><br>\n",
      "<br>\n",
      "Thank you\n",
      "\n"
     ]
    },
    {
     "name": "stderr",
     "output_type": "stream",
     "text": [
      "[none] [ib_workflows_backend - beta] INFO     [12:08:25]  [/home/ubuntu/ib-workflows-backend/venv/lib/python3.8/site-packages/elasticsearch/connection/base.py] [base.py][log_request_success] [227]: POST https://search-ib-workflows-dev-nck6c5mhnwbsg2ajsnmyobophm.ap-south-1.es.amazonaws.com:443/user-beta/_doc [status:201 request:0.019s]\n"
     ]
    },
    {
     "name": "stdout",
     "output_type": "stream",
     "text": [
      "\n",
      "Hi \n",
      "Verify your email by using below link,\n",
      "<br>\n",
      "<a href=\"https://ib-workflows-web-alpha.apigateway.in/verify-email?token=slcMA2oxUDuJ5BkSGxCIk6MdO3cm4e\">Verify Your Email</a><br>\n",
      "<br>\n",
      "Thank you\n",
      " asd\n",
      "template_:  \n",
      "Hi \n",
      "Verify your email by using below link,\n",
      "<br>\n",
      "<a href=\"https://ib-workflows-web-alpha.apigateway.in/verify-email?token=slcMA2oxUDuJ5BkSGxCIk6MdO3cm4e\">Verify Your Email</a><br>\n",
      "<br>\n",
      "Thank you\n",
      "\n",
      "serializer_template:  <django.template.base.Template object at 0x7f4089756af0>\n",
      "data:  {}\n",
      "html_content:  \n",
      "Hi \n",
      "Verify your email by using below link,\n",
      "<br>\n",
      "<a href=\"https://ib-workflows-web-alpha.apigateway.in/verify-email?token=slcMA2oxUDuJ5BkSGxCIk6MdO3cm4e\">Verify Your Email</a><br>\n",
      "<br>\n",
      "Thank you\n",
      "\n"
     ]
    },
    {
     "data": {
      "text/plain": [
       "<UserAccount: e2897075-efb4-4d94-8bdd-1d646798a852>"
      ]
     },
     "execution_count": 11,
     "metadata": {},
     "output_type": "execute_result"
    }
   ],
   "source": [
    "\"\"\"\n",
    "Populate Ib IAM Related Data For FinMan Project Configuration\n",
    "\n",
    "Note:- While Running the this below script need to Run the ELASTIC SEARCH SERVER\n",
    "\"\"\"\n",
    "from ib_iam.populate.populate_utils import populate\n",
    "populate(FIN_MAN_CONFIGURATION_SHEET_NAME)\n",
    "\n",
    "from ib_users.models import *\n",
    "UserAccount.objects.create_superuser(username='admin', password='admin@123', email='admin@example.com')\n",
    "UserAccount.objects.create_superuser(username='fduser', password='fduser@123', email='fduser@example.com')"
   ]
  },
  {
   "cell_type": "code",
   "execution_count": 12,
   "metadata": {},
   "outputs": [
    {
     "name": "stderr",
     "output_type": "stream",
     "text": [
      "[none] [ib_workflows_backend - beta] INFO     [12:08:28]  [/home/ubuntu/ib-workflows-backend/venv/lib/python3.8/site-packages/elasticsearch/connection/base.py] [base.py][log_request_success] [227]: POST https://search-ib-workflows-dev-nck6c5mhnwbsg2ajsnmyobophm.ap-south-1.es.amazonaws.com:443/country-beta/_doc [status:201 request:0.022s]\n",
      "[none] [ib_workflows_backend - beta] INFO     [12:08:28]  [/home/ubuntu/ib-workflows-backend/venv/lib/python3.8/site-packages/elasticsearch/connection/base.py] [base.py][log_request_success] [227]: POST https://search-ib-workflows-dev-nck6c5mhnwbsg2ajsnmyobophm.ap-south-1.es.amazonaws.com:443/country-beta/_doc [status:201 request:0.024s]\n",
      "[none] [ib_workflows_backend - beta] INFO     [12:08:28]  [/home/ubuntu/ib-workflows-backend/venv/lib/python3.8/site-packages/elasticsearch/connection/base.py] [base.py][log_request_success] [227]: POST https://search-ib-workflows-dev-nck6c5mhnwbsg2ajsnmyobophm.ap-south-1.es.amazonaws.com:443/country-beta/_doc [status:201 request:0.024s]\n",
      "[none] [ib_workflows_backend - beta] INFO     [12:08:28]  [/home/ubuntu/ib-workflows-backend/venv/lib/python3.8/site-packages/elasticsearch/connection/base.py] [base.py][log_request_success] [227]: POST https://search-ib-workflows-dev-nck6c5mhnwbsg2ajsnmyobophm.ap-south-1.es.amazonaws.com:443/country-beta/_doc [status:201 request:0.020s]\n",
      "[none] [ib_workflows_backend - beta] INFO     [12:08:28]  [/home/ubuntu/ib-workflows-backend/venv/lib/python3.8/site-packages/elasticsearch/connection/base.py] [base.py][log_request_success] [227]: POST https://search-ib-workflows-dev-nck6c5mhnwbsg2ajsnmyobophm.ap-south-1.es.amazonaws.com:443/country-beta/_doc [status:201 request:0.019s]\n",
      "[none] [ib_workflows_backend - beta] INFO     [12:08:28]  [/home/ubuntu/ib-workflows-backend/venv/lib/python3.8/site-packages/elasticsearch/connection/base.py] [base.py][log_request_success] [227]: POST https://search-ib-workflows-dev-nck6c5mhnwbsg2ajsnmyobophm.ap-south-1.es.amazonaws.com:443/country-beta/_doc [status:201 request:0.021s]\n",
      "[none] [ib_workflows_backend - beta] INFO     [12:08:28]  [/home/ubuntu/ib-workflows-backend/venv/lib/python3.8/site-packages/elasticsearch/connection/base.py] [base.py][log_request_success] [227]: POST https://search-ib-workflows-dev-nck6c5mhnwbsg2ajsnmyobophm.ap-south-1.es.amazonaws.com:443/country-beta/_doc [status:201 request:0.020s]\n",
      "[none] [ib_workflows_backend - beta] INFO     [12:08:28]  [/home/ubuntu/ib-workflows-backend/venv/lib/python3.8/site-packages/elasticsearch/connection/base.py] [base.py][log_request_success] [227]: POST https://search-ib-workflows-dev-nck6c5mhnwbsg2ajsnmyobophm.ap-south-1.es.amazonaws.com:443/country-beta/_doc [status:201 request:0.020s]\n",
      "[none] [ib_workflows_backend - beta] INFO     [12:08:28]  [/home/ubuntu/ib-workflows-backend/venv/lib/python3.8/site-packages/elasticsearch/connection/base.py] [base.py][log_request_success] [227]: POST https://search-ib-workflows-dev-nck6c5mhnwbsg2ajsnmyobophm.ap-south-1.es.amazonaws.com:443/state-beta/_doc [status:201 request:0.021s]\n",
      "[none] [ib_workflows_backend - beta] INFO     [12:08:28]  [/home/ubuntu/ib-workflows-backend/venv/lib/python3.8/site-packages/elasticsearch/connection/base.py] [base.py][log_request_success] [227]: POST https://search-ib-workflows-dev-nck6c5mhnwbsg2ajsnmyobophm.ap-south-1.es.amazonaws.com:443/state-beta/_doc [status:201 request:0.032s]\n",
      "[none] [ib_workflows_backend - beta] INFO     [12:08:28]  [/home/ubuntu/ib-workflows-backend/venv/lib/python3.8/site-packages/elasticsearch/connection/base.py] [base.py][log_request_success] [227]: POST https://search-ib-workflows-dev-nck6c5mhnwbsg2ajsnmyobophm.ap-south-1.es.amazonaws.com:443/state-beta/_doc [status:201 request:0.021s]\n",
      "[none] [ib_workflows_backend - beta] INFO     [12:08:28]  [/home/ubuntu/ib-workflows-backend/venv/lib/python3.8/site-packages/elasticsearch/connection/base.py] [base.py][log_request_success] [227]: POST https://search-ib-workflows-dev-nck6c5mhnwbsg2ajsnmyobophm.ap-south-1.es.amazonaws.com:443/state-beta/_doc [status:201 request:0.021s]\n",
      "[none] [ib_workflows_backend - beta] INFO     [12:08:28]  [/home/ubuntu/ib-workflows-backend/venv/lib/python3.8/site-packages/elasticsearch/connection/base.py] [base.py][log_request_success] [227]: POST https://search-ib-workflows-dev-nck6c5mhnwbsg2ajsnmyobophm.ap-south-1.es.amazonaws.com:443/state-beta/_doc [status:201 request:0.018s]\n",
      "[none] [ib_workflows_backend - beta] INFO     [12:08:28]  [/home/ubuntu/ib-workflows-backend/venv/lib/python3.8/site-packages/elasticsearch/connection/base.py] [base.py][log_request_success] [227]: POST https://search-ib-workflows-dev-nck6c5mhnwbsg2ajsnmyobophm.ap-south-1.es.amazonaws.com:443/state-beta/_doc [status:201 request:0.021s]\n",
      "[none] [ib_workflows_backend - beta] INFO     [12:08:28]  [/home/ubuntu/ib-workflows-backend/venv/lib/python3.8/site-packages/elasticsearch/connection/base.py] [base.py][log_request_success] [227]: POST https://search-ib-workflows-dev-nck6c5mhnwbsg2ajsnmyobophm.ap-south-1.es.amazonaws.com:443/state-beta/_doc [status:201 request:0.021s]\n",
      "[none] [ib_workflows_backend - beta] INFO     [12:08:28]  [/home/ubuntu/ib-workflows-backend/venv/lib/python3.8/site-packages/elasticsearch/connection/base.py] [base.py][log_request_success] [227]: POST https://search-ib-workflows-dev-nck6c5mhnwbsg2ajsnmyobophm.ap-south-1.es.amazonaws.com:443/city-beta/_doc [status:201 request:0.023s]\n",
      "[none] [ib_workflows_backend - beta] INFO     [12:08:28]  [/home/ubuntu/ib-workflows-backend/venv/lib/python3.8/site-packages/elasticsearch/connection/base.py] [base.py][log_request_success] [227]: POST https://search-ib-workflows-dev-nck6c5mhnwbsg2ajsnmyobophm.ap-south-1.es.amazonaws.com:443/city-beta/_doc [status:201 request:0.027s]\n",
      "[none] [ib_workflows_backend - beta] INFO     [12:08:28]  [/home/ubuntu/ib-workflows-backend/venv/lib/python3.8/site-packages/elasticsearch/connection/base.py] [base.py][log_request_success] [227]: POST https://search-ib-workflows-dev-nck6c5mhnwbsg2ajsnmyobophm.ap-south-1.es.amazonaws.com:443/city-beta/_doc [status:201 request:0.022s]\n",
      "[none] [ib_workflows_backend - beta] INFO     [12:08:28]  [/home/ubuntu/ib-workflows-backend/venv/lib/python3.8/site-packages/elasticsearch/connection/base.py] [base.py][log_request_success] [227]: POST https://search-ib-workflows-dev-nck6c5mhnwbsg2ajsnmyobophm.ap-south-1.es.amazonaws.com:443/city-beta/_doc [status:201 request:0.021s]\n",
      "[none] [ib_workflows_backend - beta] INFO     [12:08:28]  [/home/ubuntu/ib-workflows-backend/venv/lib/python3.8/site-packages/elasticsearch/connection/base.py] [base.py][log_request_success] [227]: POST https://search-ib-workflows-dev-nck6c5mhnwbsg2ajsnmyobophm.ap-south-1.es.amazonaws.com:443/city-beta/_doc [status:201 request:0.019s]\n",
      "[none] [ib_workflows_backend - beta] INFO     [12:08:28]  [/home/ubuntu/ib-workflows-backend/venv/lib/python3.8/site-packages/elasticsearch/connection/base.py] [base.py][log_request_success] [227]: POST https://search-ib-workflows-dev-nck6c5mhnwbsg2ajsnmyobophm.ap-south-1.es.amazonaws.com:443/city-beta/_doc [status:201 request:0.018s]\n",
      "[none] [ib_workflows_backend - beta] INFO     [12:08:28]  [/home/ubuntu/ib-workflows-backend/venv/lib/python3.8/site-packages/elasticsearch/connection/base.py] [base.py][log_request_success] [227]: POST https://search-ib-workflows-dev-nck6c5mhnwbsg2ajsnmyobophm.ap-south-1.es.amazonaws.com:443/city-beta/_doc [status:201 request:0.025s]\n"
     ]
    }
   ],
   "source": [
    "\"\"\"\n",
    "Populate Elastic Search Data For Cities\n",
    "\n",
    "\"\"\"\n",
    "from ib_iam.populate.populate_elastic_search_data import populate_data\n",
    "populate_data()"
   ]
  },
  {
   "cell_type": "code",
   "execution_count": 3,
   "metadata": {},
   "outputs": [],
   "source": [
    "from elasticsearch_dsl import connections\n",
    "from django.conf import settings\n",
    "es = connections.create_connection(\n",
    "hosts=[settings.ELASTICSEARCH_ENDPOINT], timeout=20)"
   ]
  },
  {
   "cell_type": "code",
   "execution_count": 4,
   "metadata": {},
   "outputs": [
    {
     "data": {
      "text/plain": [
       "{'acknowledged': True, 'shards_acknowledged': True, 'index': 'task-beta'}"
      ]
     },
     "execution_count": 4,
     "metadata": {},
     "output_type": "execute_result"
    }
   ],
   "source": [
    "from ib_tasks.documents.elastic_task import TASK_INDEX_NAME\n",
    "es.indices.create(index = TASK_INDEX_NAME)"
   ]
  },
  {
   "cell_type": "code",
   "execution_count": null,
   "metadata": {},
   "outputs": [],
   "source": []
  }
 ],
 "metadata": {
  "kernelspec": {
   "display_name": "Python 3",
   "language": "python",
   "name": "python3"
  },
  "language_info": {
   "codemirror_mode": {
    "name": "ipython",
    "version": 3
   },
   "file_extension": ".py",
   "mimetype": "text/x-python",
   "name": "python",
   "nbconvert_exporter": "python",
   "pygments_lexer": "ipython3",
   "version": "3.8.2"
  }
 },
 "nbformat": 4,
 "nbformat_minor": 4
}
