{
 "cells": [
  {
   "cell_type": "code",
   "execution_count": 4,
   "metadata": {},
   "outputs": [],
   "source": [
    "import django"
   ]
  },
  {
   "cell_type": "code",
   "execution_count": 5,
   "metadata": {},
   "outputs": [
    {
     "name": "stdout",
     "output_type": "stream",
     "text": [
      "LE: \n",
      "\n",
      "It appears the LOGENTRIES_TOKEN parameter you entered is incorrect!\n",
      "\n",
      "\n"
     ]
    }
   ],
   "source": [
    "django.setup()"
   ]
  },
  {
   "cell_type": "code",
   "execution_count": 6,
   "metadata": {},
   "outputs": [],
   "source": [
    "from ib_iam.models import *"
   ]
  },
  {
   "cell_type": "code",
   "execution_count": 17,
   "metadata": {},
   "outputs": [],
   "source": [
    "users = ElasticUserIntermediary.objects.all().values_list('user_id', flat=True)\n"
   ]
  },
  {
   "cell_type": "code",
   "execution_count": 11,
   "metadata": {},
   "outputs": [
    {
     "ename": "NameError",
     "evalue": "name 'UserProfiles' is not defined",
     "output_type": "error",
     "traceback": [
      "\u001b[0;31m---------------------------------------------------------------------------\u001b[0m",
      "\u001b[0;31mNameError\u001b[0m                                 Traceback (most recent call last)",
      "\u001b[0;32m<ipython-input-11-e32788e9e249>\u001b[0m in \u001b[0;36m<module>\u001b[0;34m\u001b[0m\n\u001b[0;32m----> 1\u001b[0;31m \u001b[0mUserProfiles\u001b[0m\u001b[0;34m.\u001b[0m\u001b[0mobjects\u001b[0m\u001b[0;34m.\u001b[0m\u001b[0mall\u001b[0m\u001b[0;34m(\u001b[0m\u001b[0;34m)\u001b[0m\u001b[0;34m.\u001b[0m\u001b[0mcount\u001b[0m\u001b[0;34m(\u001b[0m\u001b[0;34m)\u001b[0m\u001b[0;34m\u001b[0m\u001b[0;34m\u001b[0m\u001b[0m\n\u001b[0m",
      "\u001b[0;31mNameError\u001b[0m: name 'UserProfiles' is not defined"
     ]
    }
   ],
   "source": [
    "UserProfiles.objects.all().count()"
   ]
  },
  {
   "cell_type": "code",
   "execution_count": 10,
   "metadata": {},
   "outputs": [],
   "source": [
    "from ib_users.models import *"
   ]
  },
  {
   "cell_type": "code",
   "execution_count": 12,
   "metadata": {},
   "outputs": [
    {
     "ename": "NameError",
     "evalue": "name 'UserProfiles' is not defined",
     "output_type": "error",
     "traceback": [
      "\u001b[0;31m---------------------------------------------------------------------------\u001b[0m",
      "\u001b[0;31mNameError\u001b[0m                                 Traceback (most recent call last)",
      "\u001b[0;32m<ipython-input-12-e32788e9e249>\u001b[0m in \u001b[0;36m<module>\u001b[0;34m\u001b[0m\n\u001b[0;32m----> 1\u001b[0;31m \u001b[0mUserProfiles\u001b[0m\u001b[0;34m.\u001b[0m\u001b[0mobjects\u001b[0m\u001b[0;34m.\u001b[0m\u001b[0mall\u001b[0m\u001b[0;34m(\u001b[0m\u001b[0;34m)\u001b[0m\u001b[0;34m.\u001b[0m\u001b[0mcount\u001b[0m\u001b[0;34m(\u001b[0m\u001b[0;34m)\u001b[0m\u001b[0;34m\u001b[0m\u001b[0;34m\u001b[0m\u001b[0m\n\u001b[0m",
      "\u001b[0;31mNameError\u001b[0m: name 'UserProfiles' is not defined"
     ]
    }
   ],
   "source": [
    "UserProfiles.objects.all().count()"
   ]
  },
  {
   "cell_type": "code",
   "execution_count": 13,
   "metadata": {},
   "outputs": [
    {
     "data": {
      "text/plain": [
       "69"
      ]
     },
     "execution_count": 13,
     "metadata": {},
     "output_type": "execute_result"
    }
   ],
   "source": [
    "UserProfile.objects.all().count()"
   ]
  },
  {
   "cell_type": "code",
   "execution_count": 16,
   "metadata": {},
   "outputs": [
    {
     "data": {
      "text/plain": [
       "{'id': 17,\n",
       " 'user_id': '02bcdc4b-19ce-4860-b976-9b8b4fa78f71',\n",
       " 'elastic_user_id': 'sMLya3QBDpmDgJdbX2zY'}"
      ]
     },
     "execution_count": 16,
     "metadata": {},
     "output_type": "execute_result"
    }
   ],
   "source": [
    "users[0]"
   ]
  },
  {
   "cell_type": "code",
   "execution_count": 18,
   "metadata": {},
   "outputs": [
    {
     "data": {
      "text/plain": [
       "<QuerySet ['02bcdc4b-19ce-4860-b976-9b8b4fa78f71', '0310f800-4dc3-43d6-bd71-4f8d3890a2aa', '052cd3b0-8668-4864-bfff-823b5834eff4', '05db8187-b8ff-4134-80bc-389f7965dc71', '095d82ab-f92b-4e3b-8f7f-9c9717354acb', '0f8933bd-147e-4ca4-b879-80257782fbce', '10f59bd9-da1c-4f04-9a03-0e500537584f', '17d64a7b-3daa-44ad-8723-62d3014c9113', '2669a305-80b6-4584-9fdd-2e9079ab5ff1', '2672edbf-41a8-4304-8429-bc705350281c', '293daec0-f18f-42fa-8ef2-54b742adee20', '2dc51e3b-514b-4279-ac3e-a5a224d817c5', '35c5cf33-7b80-4604-acb8-9f7d8afdd14d', '366f22f1-bfbd-4557-93a2-034e4ee157cb', '42d0680b-58e1-4c5c-a3c4-949a0a21e653', '430ad7d8-151e-451b-ac9b-449bef637069', '472c3a44-2bdd-4291-9ce2-557e42cb38f7', '48a6b5af-84b0-43d0-9c24-3f5037dd50c6', '50ce772b-72cf-40ec-8bf5-808f68eeea61', '5286e113-b123-4103-a9f9-f883d35112e2', '...(remaining elements truncated)...']>"
      ]
     },
     "execution_count": 18,
     "metadata": {},
     "output_type": "execute_result"
    }
   ],
   "source": [
    "users\n"
   ]
  },
  {
   "cell_type": "code",
   "execution_count": 28,
   "metadata": {},
   "outputs": [],
   "source": [
    "a=UserProfile.objects.filter(account_id__in=users)"
   ]
  },
  {
   "cell_type": "code",
   "execution_count": 20,
   "metadata": {},
   "outputs": [
    {
     "name": "stdout",
     "output_type": "stream",
     "text": [
      "\u001b[H\u001b[2J"
     ]
    }
   ],
   "source": [
    "clear"
   ]
  },
  {
   "cell_type": "code",
   "execution_count": 22,
   "metadata": {},
   "outputs": [
    {
     "data": {
      "text/plain": [
       "{'id': 2,\n",
       " 'creation_datetime': datetime.datetime(2020, 9, 7, 15, 23, 3, 546093),\n",
       " 'last_update_datetime': datetime.datetime(2020, 9, 8, 21, 3, 21, 939043),\n",
       " 'name': 'Lavanya',\n",
       " 'gender': None,\n",
       " 'dob': None,\n",
       " 'profile_pic_url': '',\n",
       " 'phone_number': None,\n",
       " 'is_phone_number_verified': None,\n",
       " 'country_code': None,\n",
       " 'email': 'cybereyeadmin@ibhubs.co',\n",
       " 'is_email_verified': True,\n",
       " 'language_preference': None,\n",
       " 'account_id': UUID('7da592d9-50c2-408f-beac-c4489c4ab1e0')}"
      ]
     },
     "execution_count": 22,
     "metadata": {},
     "output_type": "execute_result"
    }
   ],
   "source": [
    "a[0]"
   ]
  },
  {
   "cell_type": "code",
   "execution_count": 24,
   "metadata": {},
   "outputs": [
    {
     "data": {
      "text/plain": [
       "<CommonCustomQuerySet []>"
      ]
     },
     "execution_count": 24,
     "metadata": {},
     "output_type": "execute_result"
    }
   ],
   "source": [
    "a"
   ]
  },
  {
   "cell_type": "code",
   "execution_count": 27,
   "metadata": {},
   "outputs": [
    {
     "data": {
      "text/plain": [
       "<QuerySet ['02bcdc4b-19ce-4860-b976-9b8b4fa78f71', '0310f800-4dc3-43d6-bd71-4f8d3890a2aa', '052cd3b0-8668-4864-bfff-823b5834eff4', '05db8187-b8ff-4134-80bc-389f7965dc71', '095d82ab-f92b-4e3b-8f7f-9c9717354acb', '0f8933bd-147e-4ca4-b879-80257782fbce', '10f59bd9-da1c-4f04-9a03-0e500537584f', '17d64a7b-3daa-44ad-8723-62d3014c9113', '2669a305-80b6-4584-9fdd-2e9079ab5ff1', '2672edbf-41a8-4304-8429-bc705350281c', '293daec0-f18f-42fa-8ef2-54b742adee20', '2dc51e3b-514b-4279-ac3e-a5a224d817c5', '35c5cf33-7b80-4604-acb8-9f7d8afdd14d', '366f22f1-bfbd-4557-93a2-034e4ee157cb', '42d0680b-58e1-4c5c-a3c4-949a0a21e653', '430ad7d8-151e-451b-ac9b-449bef637069', '472c3a44-2bdd-4291-9ce2-557e42cb38f7', '48a6b5af-84b0-43d0-9c24-3f5037dd50c6', '50ce772b-72cf-40ec-8bf5-808f68eeea61', '5286e113-b123-4103-a9f9-f883d35112e2', '...(remaining elements truncated)...']>"
      ]
     },
     "execution_count": 27,
     "metadata": {},
     "output_type": "execute_result"
    }
   ],
   "source": [
    "users"
   ]
  },
  {
   "cell_type": "code",
   "execution_count": 29,
   "metadata": {},
   "outputs": [
    {
     "data": {
      "text/plain": [
       "<Elasticsearch([{'host': 'search-ib-workflows-dev-nck6c5mhnwbsg2ajsnmyobophm.ap-south-1.es.amazonaws.com', 'port': 443, 'use_ssl': True}])>"
      ]
     },
     "execution_count": 29,
     "metadata": {},
     "output_type": "execute_result"
    }
   ],
   "source": [
    "from elasticsearch_dsl import connections\n",
    "from django.conf import settings\n",
    "connections.create_connection(\n",
    "            hosts=[settings.ELASTICSEARCH_ENDPOINT], timeout=20\n",
    "        )"
   ]
  },
  {
   "cell_type": "code",
   "execution_count": 228,
   "metadata": {},
   "outputs": [],
   "source": [
    "USER_INDEX_NAME = 'user-{}'.format('STAGE')"
   ]
  },
  {
   "cell_type": "code",
   "execution_count": 229,
   "metadata": {},
   "outputs": [],
   "source": [
    "search = Search(index=USER_INDEX_NAME)"
   ]
  },
  {
   "cell_type": "code",
   "execution_count": 232,
   "metadata": {},
   "outputs": [],
   "source": [
    "from elasticsearch_dsl import Q, Search"
   ]
  },
  {
   "cell_type": "code",
   "execution_count": 233,
   "metadata": {},
   "outputs": [],
   "source": [
    "search = Search(index=USER_INDEX_NAME)"
   ]
  },
  {
   "cell_type": "code",
   "execution_count": 234,
   "metadata": {},
   "outputs": [
    {
     "name": "stderr",
     "output_type": "stream",
     "text": [
      "[none] [ib_workflows_backend - alpha] WARNING  [20:39:43]  [/home/ubuntu/ib-workflows-backend/venv/lib/python3.8/site-packages/elasticsearch/connection/base.py] [base.py][log_request_fail] [250]: POST https://search-ib-workflows-dev-nck6c5mhnwbsg2ajsnmyobophm.ap-south-1.es.amazonaws.com:443/user-STAGE/_search [status:404 request:0.006s]\n"
     ]
    },
    {
     "ename": "NotFoundError",
     "evalue": "NotFoundError(404, 'index_not_found_exception', 'no such index [user-STAGE]', user-STAGE, index_or_alias)",
     "output_type": "error",
     "traceback": [
      "\u001b[0;31m---------------------------------------------------------------------------\u001b[0m",
      "\u001b[0;31mNotFoundError\u001b[0m                             Traceback (most recent call last)",
      "\u001b[0;32m<ipython-input-234-38206d827d59>\u001b[0m in \u001b[0;36m<module>\u001b[0;34m\u001b[0m\n\u001b[0;32m----> 1\u001b[0;31m \u001b[0;32mfor\u001b[0m \u001b[0mhit\u001b[0m \u001b[0;32min\u001b[0m \u001b[0msearch\u001b[0m\u001b[0;34m[\u001b[0m\u001b[0;36m0\u001b[0m\u001b[0;34m:\u001b[0m\u001b[0;36m10\u001b[0m\u001b[0;34m]\u001b[0m\u001b[0;34m:\u001b[0m\u001b[0;34m\u001b[0m\u001b[0;34m\u001b[0m\u001b[0m\n\u001b[0m\u001b[1;32m      2\u001b[0m     \u001b[0mprint\u001b[0m\u001b[0;34m(\u001b[0m\u001b[0mhit\u001b[0m\u001b[0;34m.\u001b[0m\u001b[0muser_id\u001b[0m\u001b[0;34m)\u001b[0m\u001b[0;34m\u001b[0m\u001b[0;34m\u001b[0m\u001b[0m\n",
      "\u001b[0;32m~/ib-workflows-backend/venv/lib/python3.8/site-packages/elasticsearch_dsl/search.py\u001b[0m in \u001b[0;36m__iter__\u001b[0;34m(self)\u001b[0m\n\u001b[1;32m    321\u001b[0m         \u001b[0mIterate\u001b[0m \u001b[0mover\u001b[0m \u001b[0mthe\u001b[0m \u001b[0mhits\u001b[0m\u001b[0;34m.\u001b[0m\u001b[0;34m\u001b[0m\u001b[0;34m\u001b[0m\u001b[0m\n\u001b[1;32m    322\u001b[0m         \"\"\"\n\u001b[0;32m--> 323\u001b[0;31m         \u001b[0;32mreturn\u001b[0m \u001b[0miter\u001b[0m\u001b[0;34m(\u001b[0m\u001b[0mself\u001b[0m\u001b[0;34m.\u001b[0m\u001b[0mexecute\u001b[0m\u001b[0;34m(\u001b[0m\u001b[0;34m)\u001b[0m\u001b[0;34m)\u001b[0m\u001b[0;34m\u001b[0m\u001b[0;34m\u001b[0m\u001b[0m\n\u001b[0m\u001b[1;32m    324\u001b[0m \u001b[0;34m\u001b[0m\u001b[0m\n\u001b[1;32m    325\u001b[0m     \u001b[0;32mdef\u001b[0m \u001b[0m__getitem__\u001b[0m\u001b[0;34m(\u001b[0m\u001b[0mself\u001b[0m\u001b[0;34m,\u001b[0m \u001b[0mn\u001b[0m\u001b[0;34m)\u001b[0m\u001b[0;34m:\u001b[0m\u001b[0;34m\u001b[0m\u001b[0;34m\u001b[0m\u001b[0m\n",
      "\u001b[0;32m~/ib-workflows-backend/venv/lib/python3.8/site-packages/elasticsearch_dsl/search.py\u001b[0m in \u001b[0;36mexecute\u001b[0;34m(self, ignore_cache)\u001b[0m\n\u001b[1;32m    693\u001b[0m             self._response = self._response_class(\n\u001b[1;32m    694\u001b[0m                 \u001b[0mself\u001b[0m\u001b[0;34m,\u001b[0m\u001b[0;34m\u001b[0m\u001b[0;34m\u001b[0m\u001b[0m\n\u001b[0;32m--> 695\u001b[0;31m                 es.search(\n\u001b[0m\u001b[1;32m    696\u001b[0m                     \u001b[0mindex\u001b[0m\u001b[0;34m=\u001b[0m\u001b[0mself\u001b[0m\u001b[0;34m.\u001b[0m\u001b[0m_index\u001b[0m\u001b[0;34m,\u001b[0m\u001b[0;34m\u001b[0m\u001b[0;34m\u001b[0m\u001b[0m\n\u001b[1;32m    697\u001b[0m                     \u001b[0mbody\u001b[0m\u001b[0;34m=\u001b[0m\u001b[0mself\u001b[0m\u001b[0;34m.\u001b[0m\u001b[0mto_dict\u001b[0m\u001b[0;34m(\u001b[0m\u001b[0;34m)\u001b[0m\u001b[0;34m,\u001b[0m\u001b[0;34m\u001b[0m\u001b[0;34m\u001b[0m\u001b[0m\n",
      "\u001b[0;32m~/ib-workflows-backend/venv/lib/python3.8/site-packages/elasticsearch/client/utils.py\u001b[0m in \u001b[0;36m_wrapped\u001b[0;34m(*args, **kwargs)\u001b[0m\n\u001b[1;32m    137\u001b[0m                 \u001b[0;32mif\u001b[0m \u001b[0mp\u001b[0m \u001b[0;32min\u001b[0m \u001b[0mkwargs\u001b[0m\u001b[0;34m:\u001b[0m\u001b[0;34m\u001b[0m\u001b[0;34m\u001b[0m\u001b[0m\n\u001b[1;32m    138\u001b[0m                     \u001b[0mparams\u001b[0m\u001b[0;34m[\u001b[0m\u001b[0mp\u001b[0m\u001b[0;34m]\u001b[0m \u001b[0;34m=\u001b[0m \u001b[0mkwargs\u001b[0m\u001b[0;34m.\u001b[0m\u001b[0mpop\u001b[0m\u001b[0;34m(\u001b[0m\u001b[0mp\u001b[0m\u001b[0;34m)\u001b[0m\u001b[0;34m\u001b[0m\u001b[0;34m\u001b[0m\u001b[0m\n\u001b[0;32m--> 139\u001b[0;31m             \u001b[0;32mreturn\u001b[0m \u001b[0mfunc\u001b[0m\u001b[0;34m(\u001b[0m\u001b[0;34m*\u001b[0m\u001b[0margs\u001b[0m\u001b[0;34m,\u001b[0m \u001b[0mparams\u001b[0m\u001b[0;34m=\u001b[0m\u001b[0mparams\u001b[0m\u001b[0;34m,\u001b[0m \u001b[0mheaders\u001b[0m\u001b[0;34m=\u001b[0m\u001b[0mheaders\u001b[0m\u001b[0;34m,\u001b[0m \u001b[0;34m**\u001b[0m\u001b[0mkwargs\u001b[0m\u001b[0;34m)\u001b[0m\u001b[0;34m\u001b[0m\u001b[0;34m\u001b[0m\u001b[0m\n\u001b[0m\u001b[1;32m    140\u001b[0m \u001b[0;34m\u001b[0m\u001b[0m\n\u001b[1;32m    141\u001b[0m         \u001b[0;32mreturn\u001b[0m \u001b[0m_wrapped\u001b[0m\u001b[0;34m\u001b[0m\u001b[0;34m\u001b[0m\u001b[0m\n",
      "\u001b[0;32m~/ib-workflows-backend/venv/lib/python3.8/site-packages/elasticsearch/client/__init__.py\u001b[0m in \u001b[0;36msearch\u001b[0;34m(self, body, index, doc_type, params, headers)\u001b[0m\n\u001b[1;32m   1477\u001b[0m             \u001b[0mparams\u001b[0m\u001b[0;34m[\u001b[0m\u001b[0;34m\"from\"\u001b[0m\u001b[0;34m]\u001b[0m \u001b[0;34m=\u001b[0m \u001b[0mparams\u001b[0m\u001b[0;34m.\u001b[0m\u001b[0mpop\u001b[0m\u001b[0;34m(\u001b[0m\u001b[0;34m\"from_\"\u001b[0m\u001b[0;34m)\u001b[0m\u001b[0;34m\u001b[0m\u001b[0;34m\u001b[0m\u001b[0m\n\u001b[1;32m   1478\u001b[0m \u001b[0;34m\u001b[0m\u001b[0m\n\u001b[0;32m-> 1479\u001b[0;31m         return self.transport.perform_request(\n\u001b[0m\u001b[1;32m   1480\u001b[0m             \u001b[0;34m\"POST\"\u001b[0m\u001b[0;34m,\u001b[0m\u001b[0;34m\u001b[0m\u001b[0;34m\u001b[0m\u001b[0m\n\u001b[1;32m   1481\u001b[0m             \u001b[0m_make_path\u001b[0m\u001b[0;34m(\u001b[0m\u001b[0mindex\u001b[0m\u001b[0;34m,\u001b[0m \u001b[0mdoc_type\u001b[0m\u001b[0;34m,\u001b[0m \u001b[0;34m\"_search\"\u001b[0m\u001b[0;34m)\u001b[0m\u001b[0;34m,\u001b[0m\u001b[0;34m\u001b[0m\u001b[0;34m\u001b[0m\u001b[0m\n",
      "\u001b[0;32m~/ib-workflows-backend/venv/lib/python3.8/site-packages/elasticsearch/transport.py\u001b[0m in \u001b[0;36mperform_request\u001b[0;34m(self, method, url, headers, params, body)\u001b[0m\n\u001b[1;32m    343\u001b[0m \u001b[0;34m\u001b[0m\u001b[0m\n\u001b[1;32m    344\u001b[0m             \u001b[0;32mtry\u001b[0m\u001b[0;34m:\u001b[0m\u001b[0;34m\u001b[0m\u001b[0;34m\u001b[0m\u001b[0m\n\u001b[0;32m--> 345\u001b[0;31m                 status, headers_response, data = connection.perform_request(\n\u001b[0m\u001b[1;32m    346\u001b[0m                     \u001b[0mmethod\u001b[0m\u001b[0;34m,\u001b[0m\u001b[0;34m\u001b[0m\u001b[0;34m\u001b[0m\u001b[0m\n\u001b[1;32m    347\u001b[0m                     \u001b[0murl\u001b[0m\u001b[0;34m,\u001b[0m\u001b[0;34m\u001b[0m\u001b[0;34m\u001b[0m\u001b[0m\n",
      "\u001b[0;32m~/ib-workflows-backend/venv/lib/python3.8/site-packages/elasticsearch/connection/http_urllib3.py\u001b[0m in \u001b[0;36mperform_request\u001b[0;34m(self, method, url, params, body, timeout, ignore, headers)\u001b[0m\n\u001b[1;32m    254\u001b[0m                 \u001b[0mmethod\u001b[0m\u001b[0;34m,\u001b[0m \u001b[0mfull_url\u001b[0m\u001b[0;34m,\u001b[0m \u001b[0murl\u001b[0m\u001b[0;34m,\u001b[0m \u001b[0morig_body\u001b[0m\u001b[0;34m,\u001b[0m \u001b[0mduration\u001b[0m\u001b[0;34m,\u001b[0m \u001b[0mresponse\u001b[0m\u001b[0;34m.\u001b[0m\u001b[0mstatus\u001b[0m\u001b[0;34m,\u001b[0m \u001b[0mraw_data\u001b[0m\u001b[0;34m\u001b[0m\u001b[0;34m\u001b[0m\u001b[0m\n\u001b[1;32m    255\u001b[0m             )\n\u001b[0;32m--> 256\u001b[0;31m             \u001b[0mself\u001b[0m\u001b[0;34m.\u001b[0m\u001b[0m_raise_error\u001b[0m\u001b[0;34m(\u001b[0m\u001b[0mresponse\u001b[0m\u001b[0;34m.\u001b[0m\u001b[0mstatus\u001b[0m\u001b[0;34m,\u001b[0m \u001b[0mraw_data\u001b[0m\u001b[0;34m)\u001b[0m\u001b[0;34m\u001b[0m\u001b[0;34m\u001b[0m\u001b[0m\n\u001b[0m\u001b[1;32m    257\u001b[0m \u001b[0;34m\u001b[0m\u001b[0m\n\u001b[1;32m    258\u001b[0m         self.log_request_success(\n",
      "\u001b[0;32m~/ib-workflows-backend/venv/lib/python3.8/site-packages/elasticsearch/connection/base.py\u001b[0m in \u001b[0;36m_raise_error\u001b[0;34m(self, status_code, raw_data)\u001b[0m\n\u001b[1;32m    285\u001b[0m             \u001b[0mlogger\u001b[0m\u001b[0;34m.\u001b[0m\u001b[0mwarning\u001b[0m\u001b[0;34m(\u001b[0m\u001b[0;34m\"Undecodable raw error response from server: %s\"\u001b[0m\u001b[0;34m,\u001b[0m \u001b[0merr\u001b[0m\u001b[0;34m)\u001b[0m\u001b[0;34m\u001b[0m\u001b[0;34m\u001b[0m\u001b[0m\n\u001b[1;32m    286\u001b[0m \u001b[0;34m\u001b[0m\u001b[0m\n\u001b[0;32m--> 287\u001b[0;31m         raise HTTP_EXCEPTIONS.get(status_code, TransportError)(\n\u001b[0m\u001b[1;32m    288\u001b[0m             \u001b[0mstatus_code\u001b[0m\u001b[0;34m,\u001b[0m \u001b[0merror_message\u001b[0m\u001b[0;34m,\u001b[0m \u001b[0madditional_info\u001b[0m\u001b[0;34m\u001b[0m\u001b[0;34m\u001b[0m\u001b[0m\n\u001b[1;32m    289\u001b[0m         )\n",
      "\u001b[0;31mNotFoundError\u001b[0m: NotFoundError(404, 'index_not_found_exception', 'no such index [user-STAGE]', user-STAGE, index_or_alias)"
     ]
    }
   ],
   "source": [
    "for hit in search[0:10]:\n",
    "    print(hit.user_id)"
   ]
  },
  {
   "cell_type": "code",
   "execution_count": 36,
   "metadata": {},
   "outputs": [],
   "source": [
    "from django.conf import settings"
   ]
  },
  {
   "cell_type": "code",
   "execution_count": 235,
   "metadata": {},
   "outputs": [],
   "source": [
    "USER_INDEX_NAME = 'user-{}'.format(settings.STAGE)"
   ]
  },
  {
   "cell_type": "code",
   "execution_count": 236,
   "metadata": {},
   "outputs": [
    {
     "data": {
      "text/plain": [
       "<elasticsearch_dsl.search.Search at 0x7fee999f1550>"
      ]
     },
     "execution_count": 236,
     "metadata": {},
     "output_type": "execute_result"
    }
   ],
   "source": [
    "search"
   ]
  },
  {
   "cell_type": "code",
   "execution_count": 237,
   "metadata": {},
   "outputs": [
    {
     "name": "stderr",
     "output_type": "stream",
     "text": [
      "[none] [ib_workflows_backend - alpha] WARNING  [20:39:52]  [/home/ubuntu/ib-workflows-backend/venv/lib/python3.8/site-packages/elasticsearch/connection/base.py] [base.py][log_request_fail] [250]: POST https://search-ib-workflows-dev-nck6c5mhnwbsg2ajsnmyobophm.ap-south-1.es.amazonaws.com:443/user-STAGE/_search [status:404 request:0.004s]\n"
     ]
    },
    {
     "ename": "NotFoundError",
     "evalue": "NotFoundError(404, 'index_not_found_exception', 'no such index [user-STAGE]', user-STAGE, index_or_alias)",
     "output_type": "error",
     "traceback": [
      "\u001b[0;31m---------------------------------------------------------------------------\u001b[0m",
      "\u001b[0;31mNotFoundError\u001b[0m                             Traceback (most recent call last)",
      "\u001b[0;32m<ipython-input-237-6bbb168468f3>\u001b[0m in \u001b[0;36m<module>\u001b[0;34m\u001b[0m\n\u001b[0;32m----> 1\u001b[0;31m \u001b[0;32mfor\u001b[0m \u001b[0mhit\u001b[0m \u001b[0;32min\u001b[0m \u001b[0msearch\u001b[0m\u001b[0;34m:\u001b[0m\u001b[0;34m\u001b[0m\u001b[0;34m\u001b[0m\u001b[0m\n\u001b[0m\u001b[1;32m      2\u001b[0m     \u001b[0mprint\u001b[0m\u001b[0;34m(\u001b[0m\u001b[0mhit\u001b[0m\u001b[0;34m.\u001b[0m\u001b[0muser_id\u001b[0m\u001b[0;34m)\u001b[0m\u001b[0;34m\u001b[0m\u001b[0;34m\u001b[0m\u001b[0m\n",
      "\u001b[0;32m~/ib-workflows-backend/venv/lib/python3.8/site-packages/elasticsearch_dsl/search.py\u001b[0m in \u001b[0;36m__iter__\u001b[0;34m(self)\u001b[0m\n\u001b[1;32m    321\u001b[0m         \u001b[0mIterate\u001b[0m \u001b[0mover\u001b[0m \u001b[0mthe\u001b[0m \u001b[0mhits\u001b[0m\u001b[0;34m.\u001b[0m\u001b[0;34m\u001b[0m\u001b[0;34m\u001b[0m\u001b[0m\n\u001b[1;32m    322\u001b[0m         \"\"\"\n\u001b[0;32m--> 323\u001b[0;31m         \u001b[0;32mreturn\u001b[0m \u001b[0miter\u001b[0m\u001b[0;34m(\u001b[0m\u001b[0mself\u001b[0m\u001b[0;34m.\u001b[0m\u001b[0mexecute\u001b[0m\u001b[0;34m(\u001b[0m\u001b[0;34m)\u001b[0m\u001b[0;34m)\u001b[0m\u001b[0;34m\u001b[0m\u001b[0;34m\u001b[0m\u001b[0m\n\u001b[0m\u001b[1;32m    324\u001b[0m \u001b[0;34m\u001b[0m\u001b[0m\n\u001b[1;32m    325\u001b[0m     \u001b[0;32mdef\u001b[0m \u001b[0m__getitem__\u001b[0m\u001b[0;34m(\u001b[0m\u001b[0mself\u001b[0m\u001b[0;34m,\u001b[0m \u001b[0mn\u001b[0m\u001b[0;34m)\u001b[0m\u001b[0;34m:\u001b[0m\u001b[0;34m\u001b[0m\u001b[0;34m\u001b[0m\u001b[0m\n",
      "\u001b[0;32m~/ib-workflows-backend/venv/lib/python3.8/site-packages/elasticsearch_dsl/search.py\u001b[0m in \u001b[0;36mexecute\u001b[0;34m(self, ignore_cache)\u001b[0m\n\u001b[1;32m    693\u001b[0m             self._response = self._response_class(\n\u001b[1;32m    694\u001b[0m                 \u001b[0mself\u001b[0m\u001b[0;34m,\u001b[0m\u001b[0;34m\u001b[0m\u001b[0;34m\u001b[0m\u001b[0m\n\u001b[0;32m--> 695\u001b[0;31m                 es.search(\n\u001b[0m\u001b[1;32m    696\u001b[0m                     \u001b[0mindex\u001b[0m\u001b[0;34m=\u001b[0m\u001b[0mself\u001b[0m\u001b[0;34m.\u001b[0m\u001b[0m_index\u001b[0m\u001b[0;34m,\u001b[0m\u001b[0;34m\u001b[0m\u001b[0;34m\u001b[0m\u001b[0m\n\u001b[1;32m    697\u001b[0m                     \u001b[0mbody\u001b[0m\u001b[0;34m=\u001b[0m\u001b[0mself\u001b[0m\u001b[0;34m.\u001b[0m\u001b[0mto_dict\u001b[0m\u001b[0;34m(\u001b[0m\u001b[0;34m)\u001b[0m\u001b[0;34m,\u001b[0m\u001b[0;34m\u001b[0m\u001b[0;34m\u001b[0m\u001b[0m\n",
      "\u001b[0;32m~/ib-workflows-backend/venv/lib/python3.8/site-packages/elasticsearch/client/utils.py\u001b[0m in \u001b[0;36m_wrapped\u001b[0;34m(*args, **kwargs)\u001b[0m\n\u001b[1;32m    137\u001b[0m                 \u001b[0;32mif\u001b[0m \u001b[0mp\u001b[0m \u001b[0;32min\u001b[0m \u001b[0mkwargs\u001b[0m\u001b[0;34m:\u001b[0m\u001b[0;34m\u001b[0m\u001b[0;34m\u001b[0m\u001b[0m\n\u001b[1;32m    138\u001b[0m                     \u001b[0mparams\u001b[0m\u001b[0;34m[\u001b[0m\u001b[0mp\u001b[0m\u001b[0;34m]\u001b[0m \u001b[0;34m=\u001b[0m \u001b[0mkwargs\u001b[0m\u001b[0;34m.\u001b[0m\u001b[0mpop\u001b[0m\u001b[0;34m(\u001b[0m\u001b[0mp\u001b[0m\u001b[0;34m)\u001b[0m\u001b[0;34m\u001b[0m\u001b[0;34m\u001b[0m\u001b[0m\n\u001b[0;32m--> 139\u001b[0;31m             \u001b[0;32mreturn\u001b[0m \u001b[0mfunc\u001b[0m\u001b[0;34m(\u001b[0m\u001b[0;34m*\u001b[0m\u001b[0margs\u001b[0m\u001b[0;34m,\u001b[0m \u001b[0mparams\u001b[0m\u001b[0;34m=\u001b[0m\u001b[0mparams\u001b[0m\u001b[0;34m,\u001b[0m \u001b[0mheaders\u001b[0m\u001b[0;34m=\u001b[0m\u001b[0mheaders\u001b[0m\u001b[0;34m,\u001b[0m \u001b[0;34m**\u001b[0m\u001b[0mkwargs\u001b[0m\u001b[0;34m)\u001b[0m\u001b[0;34m\u001b[0m\u001b[0;34m\u001b[0m\u001b[0m\n\u001b[0m\u001b[1;32m    140\u001b[0m \u001b[0;34m\u001b[0m\u001b[0m\n\u001b[1;32m    141\u001b[0m         \u001b[0;32mreturn\u001b[0m \u001b[0m_wrapped\u001b[0m\u001b[0;34m\u001b[0m\u001b[0;34m\u001b[0m\u001b[0m\n",
      "\u001b[0;32m~/ib-workflows-backend/venv/lib/python3.8/site-packages/elasticsearch/client/__init__.py\u001b[0m in \u001b[0;36msearch\u001b[0;34m(self, body, index, doc_type, params, headers)\u001b[0m\n\u001b[1;32m   1477\u001b[0m             \u001b[0mparams\u001b[0m\u001b[0;34m[\u001b[0m\u001b[0;34m\"from\"\u001b[0m\u001b[0;34m]\u001b[0m \u001b[0;34m=\u001b[0m \u001b[0mparams\u001b[0m\u001b[0;34m.\u001b[0m\u001b[0mpop\u001b[0m\u001b[0;34m(\u001b[0m\u001b[0;34m\"from_\"\u001b[0m\u001b[0;34m)\u001b[0m\u001b[0;34m\u001b[0m\u001b[0;34m\u001b[0m\u001b[0m\n\u001b[1;32m   1478\u001b[0m \u001b[0;34m\u001b[0m\u001b[0m\n\u001b[0;32m-> 1479\u001b[0;31m         return self.transport.perform_request(\n\u001b[0m\u001b[1;32m   1480\u001b[0m             \u001b[0;34m\"POST\"\u001b[0m\u001b[0;34m,\u001b[0m\u001b[0;34m\u001b[0m\u001b[0;34m\u001b[0m\u001b[0m\n\u001b[1;32m   1481\u001b[0m             \u001b[0m_make_path\u001b[0m\u001b[0;34m(\u001b[0m\u001b[0mindex\u001b[0m\u001b[0;34m,\u001b[0m \u001b[0mdoc_type\u001b[0m\u001b[0;34m,\u001b[0m \u001b[0;34m\"_search\"\u001b[0m\u001b[0;34m)\u001b[0m\u001b[0;34m,\u001b[0m\u001b[0;34m\u001b[0m\u001b[0;34m\u001b[0m\u001b[0m\n",
      "\u001b[0;32m~/ib-workflows-backend/venv/lib/python3.8/site-packages/elasticsearch/transport.py\u001b[0m in \u001b[0;36mperform_request\u001b[0;34m(self, method, url, headers, params, body)\u001b[0m\n\u001b[1;32m    343\u001b[0m \u001b[0;34m\u001b[0m\u001b[0m\n\u001b[1;32m    344\u001b[0m             \u001b[0;32mtry\u001b[0m\u001b[0;34m:\u001b[0m\u001b[0;34m\u001b[0m\u001b[0;34m\u001b[0m\u001b[0m\n\u001b[0;32m--> 345\u001b[0;31m                 status, headers_response, data = connection.perform_request(\n\u001b[0m\u001b[1;32m    346\u001b[0m                     \u001b[0mmethod\u001b[0m\u001b[0;34m,\u001b[0m\u001b[0;34m\u001b[0m\u001b[0;34m\u001b[0m\u001b[0m\n\u001b[1;32m    347\u001b[0m                     \u001b[0murl\u001b[0m\u001b[0;34m,\u001b[0m\u001b[0;34m\u001b[0m\u001b[0;34m\u001b[0m\u001b[0m\n",
      "\u001b[0;32m~/ib-workflows-backend/venv/lib/python3.8/site-packages/elasticsearch/connection/http_urllib3.py\u001b[0m in \u001b[0;36mperform_request\u001b[0;34m(self, method, url, params, body, timeout, ignore, headers)\u001b[0m\n\u001b[1;32m    254\u001b[0m                 \u001b[0mmethod\u001b[0m\u001b[0;34m,\u001b[0m \u001b[0mfull_url\u001b[0m\u001b[0;34m,\u001b[0m \u001b[0murl\u001b[0m\u001b[0;34m,\u001b[0m \u001b[0morig_body\u001b[0m\u001b[0;34m,\u001b[0m \u001b[0mduration\u001b[0m\u001b[0;34m,\u001b[0m \u001b[0mresponse\u001b[0m\u001b[0;34m.\u001b[0m\u001b[0mstatus\u001b[0m\u001b[0;34m,\u001b[0m \u001b[0mraw_data\u001b[0m\u001b[0;34m\u001b[0m\u001b[0;34m\u001b[0m\u001b[0m\n\u001b[1;32m    255\u001b[0m             )\n\u001b[0;32m--> 256\u001b[0;31m             \u001b[0mself\u001b[0m\u001b[0;34m.\u001b[0m\u001b[0m_raise_error\u001b[0m\u001b[0;34m(\u001b[0m\u001b[0mresponse\u001b[0m\u001b[0;34m.\u001b[0m\u001b[0mstatus\u001b[0m\u001b[0;34m,\u001b[0m \u001b[0mraw_data\u001b[0m\u001b[0;34m)\u001b[0m\u001b[0;34m\u001b[0m\u001b[0;34m\u001b[0m\u001b[0m\n\u001b[0m\u001b[1;32m    257\u001b[0m \u001b[0;34m\u001b[0m\u001b[0m\n\u001b[1;32m    258\u001b[0m         self.log_request_success(\n",
      "\u001b[0;32m~/ib-workflows-backend/venv/lib/python3.8/site-packages/elasticsearch/connection/base.py\u001b[0m in \u001b[0;36m_raise_error\u001b[0;34m(self, status_code, raw_data)\u001b[0m\n\u001b[1;32m    285\u001b[0m             \u001b[0mlogger\u001b[0m\u001b[0;34m.\u001b[0m\u001b[0mwarning\u001b[0m\u001b[0;34m(\u001b[0m\u001b[0;34m\"Undecodable raw error response from server: %s\"\u001b[0m\u001b[0;34m,\u001b[0m \u001b[0merr\u001b[0m\u001b[0;34m)\u001b[0m\u001b[0;34m\u001b[0m\u001b[0;34m\u001b[0m\u001b[0m\n\u001b[1;32m    286\u001b[0m \u001b[0;34m\u001b[0m\u001b[0m\n\u001b[0;32m--> 287\u001b[0;31m         raise HTTP_EXCEPTIONS.get(status_code, TransportError)(\n\u001b[0m\u001b[1;32m    288\u001b[0m             \u001b[0mstatus_code\u001b[0m\u001b[0;34m,\u001b[0m \u001b[0merror_message\u001b[0m\u001b[0;34m,\u001b[0m \u001b[0madditional_info\u001b[0m\u001b[0;34m\u001b[0m\u001b[0;34m\u001b[0m\u001b[0m\n\u001b[1;32m    289\u001b[0m         )\n",
      "\u001b[0;31mNotFoundError\u001b[0m: NotFoundError(404, 'index_not_found_exception', 'no such index [user-STAGE]', user-STAGE, index_or_alias)"
     ]
    }
   ],
   "source": [
    "for hit in search:\n",
    "    print(hit.user_id)"
   ]
  },
  {
   "cell_type": "code",
   "execution_count": 41,
   "metadata": {},
   "outputs": [
    {
     "ename": "NameError",
     "evalue": "name 'offset' is not defined",
     "output_type": "error",
     "traceback": [
      "\u001b[0;31m---------------------------------------------------------------------------\u001b[0m",
      "\u001b[0;31mNameError\u001b[0m                                 Traceback (most recent call last)",
      "\u001b[0;32m<ipython-input-41-a2af76152832>\u001b[0m in \u001b[0;36m<module>\u001b[0;34m\u001b[0m\n\u001b[1;32m      1\u001b[0m user_ids = [\n\u001b[1;32m      2\u001b[0m             \u001b[0mhit\u001b[0m\u001b[0;34m.\u001b[0m\u001b[0muser_id\u001b[0m\u001b[0;34m\u001b[0m\u001b[0;34m\u001b[0m\u001b[0m\n\u001b[0;32m----> 3\u001b[0;31m             \u001b[0;32mfor\u001b[0m \u001b[0mhit\u001b[0m \u001b[0;32min\u001b[0m \u001b[0msearch\u001b[0m\u001b[0;34m[\u001b[0m\u001b[0moffset\u001b[0m\u001b[0;34m:\u001b[0m \u001b[0moffset\u001b[0m \u001b[0;34m+\u001b[0m \u001b[0mlimit\u001b[0m\u001b[0;34m]\u001b[0m\u001b[0;34m\u001b[0m\u001b[0;34m\u001b[0m\u001b[0m\n\u001b[0m\u001b[1;32m      4\u001b[0m         ]\n",
      "\u001b[0;31mNameError\u001b[0m: name 'offset' is not defined"
     ]
    }
   ],
   "source": [
    "user_ids = [\n",
    "            hit.user_id\n",
    "            for hit in search[offset: offset + limit]\n",
    "        ]"
   ]
  },
  {
   "cell_type": "code",
   "execution_count": 42,
   "metadata": {},
   "outputs": [],
   "source": [
    "user_ids = [\n",
    "            hit.user_id\n",
    "            for hit in search\n",
    "]"
   ]
  },
  {
   "cell_type": "code",
   "execution_count": 43,
   "metadata": {},
   "outputs": [
    {
     "data": {
      "text/plain": [
       "<CommonCustomQuerySet []>"
      ]
     },
     "execution_count": 43,
     "metadata": {},
     "output_type": "execute_result"
    }
   ],
   "source": [
    "UserProfile.objects.filter(id=1).values('account_id')"
   ]
  },
  {
   "cell_type": "code",
   "execution_count": 48,
   "metadata": {},
   "outputs": [],
   "source": [
    "users=UserProfile.objects.filter(account_id__in=user_ids).values_list('account_id', flat=True)"
   ]
  },
  {
   "cell_type": "code",
   "execution_count": 49,
   "metadata": {},
   "outputs": [],
   "source": [
    "invalid_user_ids = [\n",
    "    us\n",
    "    for us in users\n",
    "    if us not in user_ids\n",
    "]"
   ]
  },
  {
   "cell_type": "code",
   "execution_count": 50,
   "metadata": {},
   "outputs": [
    {
     "data": {
      "text/plain": [
       "[UUID('35c5cf33-7b80-4604-acb8-9f7d8afdd14d'),\n",
       " UUID('50ce772b-72cf-40ec-8bf5-808f68eeea61'),\n",
       " UUID('766f9366-8d1c-4e46-b2da-19c75b57103d'),\n",
       " UUID('a29cf936-47e8-4dc1-8144-9877285cae75'),\n",
       " UUID('e2bc07f3-d9e7-4c49-93a7-72ccb34f2332'),\n",
       " UUID('ee5bc10e-9393-475f-80b4-95b9781f5a3c')]"
      ]
     },
     "execution_count": 50,
     "metadata": {},
     "output_type": "execute_result"
    }
   ],
   "source": [
    "invalid_user_ids"
   ]
  },
  {
   "cell_type": "code",
   "execution_count": 51,
   "metadata": {},
   "outputs": [
    {
     "ename": "TypeError",
     "evalue": "count() takes exactly one argument (0 given)",
     "output_type": "error",
     "traceback": [
      "\u001b[0;31m---------------------------------------------------------------------------\u001b[0m",
      "\u001b[0;31mTypeError\u001b[0m                                 Traceback (most recent call last)",
      "\u001b[0;32m<ipython-input-51-82332afc01a7>\u001b[0m in \u001b[0;36m<module>\u001b[0;34m\u001b[0m\n\u001b[0;32m----> 1\u001b[0;31m \u001b[0muser_ids\u001b[0m\u001b[0;34m.\u001b[0m\u001b[0mcount\u001b[0m\u001b[0;34m(\u001b[0m\u001b[0;34m)\u001b[0m\u001b[0;34m\u001b[0m\u001b[0;34m\u001b[0m\u001b[0m\n\u001b[0m",
      "\u001b[0;31mTypeError\u001b[0m: count() takes exactly one argument (0 given)"
     ]
    }
   ],
   "source": [
    "user_ids.count()"
   ]
  },
  {
   "cell_type": "code",
   "execution_count": 56,
   "metadata": {},
   "outputs": [],
   "source": [
    "account_users = UserAccount.objects.filter(user_id__in=user_ids).values_list('user_id', flat=True)"
   ]
  },
  {
   "cell_type": "code",
   "execution_count": 57,
   "metadata": {},
   "outputs": [
    {
     "data": {
      "text/plain": [
       "<QuerySet [UUID('35c5cf33-7b80-4604-acb8-9f7d8afdd14d'), UUID('50ce772b-72cf-40ec-8bf5-808f68eeea61'), UUID('766f9366-8d1c-4e46-b2da-19c75b57103d'), UUID('a29cf936-47e8-4dc1-8144-9877285cae75'), UUID('e2bc07f3-d9e7-4c49-93a7-72ccb34f2332'), UUID('ee5bc10e-9393-475f-80b4-95b9781f5a3c')]>"
      ]
     },
     "execution_count": 57,
     "metadata": {},
     "output_type": "execute_result"
    }
   ],
   "source": [
    "account_users"
   ]
  },
  {
   "cell_type": "code",
   "execution_count": 58,
   "metadata": {},
   "outputs": [
    {
     "data": {
      "text/plain": [
       "['ee5bc10e-9393-475f-80b4-95b9781f5a3c',\n",
       " 'a29cf936-47e8-4dc1-8144-9877285cae75',\n",
       " 'e2bc07f3-d9e7-4c49-93a7-72ccb34f2332',\n",
       " '766f9366-8d1c-4e46-b2da-19c75b57103d',\n",
       " '50ce772b-72cf-40ec-8bf5-808f68eeea61',\n",
       " 'd126d974-8ec9-4a58-840d-f9e0162cfdd3',\n",
       " 'bedc36d4-3808-4cc1-a08d-d7c01a628315',\n",
       " 'fddba6e4-38ce-4fea-979f-ed42b237cdde',\n",
       " '35c5cf33-7b80-4604-acb8-9f7d8afdd14d',\n",
       " '4ec3e8c2-0076-4e5a-b38a-965884c7b184']"
      ]
     },
     "execution_count": 58,
     "metadata": {},
     "output_type": "execute_result"
    }
   ],
   "source": [
    "user_ids"
   ]
  },
  {
   "cell_type": "code",
   "execution_count": 60,
   "metadata": {},
   "outputs": [],
   "source": [
    "invalid_user_ids = [\n",
    "    us\n",
    "    for us in user_ids\n",
    "    if us not in users\n",
    "]"
   ]
  },
  {
   "cell_type": "code",
   "execution_count": 61,
   "metadata": {},
   "outputs": [
    {
     "data": {
      "text/plain": [
       "['ee5bc10e-9393-475f-80b4-95b9781f5a3c',\n",
       " 'a29cf936-47e8-4dc1-8144-9877285cae75',\n",
       " 'e2bc07f3-d9e7-4c49-93a7-72ccb34f2332',\n",
       " '766f9366-8d1c-4e46-b2da-19c75b57103d',\n",
       " '50ce772b-72cf-40ec-8bf5-808f68eeea61',\n",
       " 'd126d974-8ec9-4a58-840d-f9e0162cfdd3',\n",
       " 'bedc36d4-3808-4cc1-a08d-d7c01a628315',\n",
       " 'fddba6e4-38ce-4fea-979f-ed42b237cdde',\n",
       " '35c5cf33-7b80-4604-acb8-9f7d8afdd14d',\n",
       " '4ec3e8c2-0076-4e5a-b38a-965884c7b184']"
      ]
     },
     "execution_count": 61,
     "metadata": {},
     "output_type": "execute_result"
    }
   ],
   "source": [
    "invalid_user_ids"
   ]
  },
  {
   "cell_type": "code",
   "execution_count": 64,
   "metadata": {},
   "outputs": [],
   "source": [
    "invalid_users = []\n",
    "for us in user_ids:\n",
    "    if us not in users:\n",
    "        invalid_users.append(us)"
   ]
  },
  {
   "cell_type": "code",
   "execution_count": 65,
   "metadata": {},
   "outputs": [
    {
     "data": {
      "text/plain": [
       "['ee5bc10e-9393-475f-80b4-95b9781f5a3c',\n",
       " 'a29cf936-47e8-4dc1-8144-9877285cae75',\n",
       " 'e2bc07f3-d9e7-4c49-93a7-72ccb34f2332',\n",
       " '766f9366-8d1c-4e46-b2da-19c75b57103d',\n",
       " '50ce772b-72cf-40ec-8bf5-808f68eeea61',\n",
       " 'd126d974-8ec9-4a58-840d-f9e0162cfdd3',\n",
       " 'bedc36d4-3808-4cc1-a08d-d7c01a628315',\n",
       " 'fddba6e4-38ce-4fea-979f-ed42b237cdde',\n",
       " '35c5cf33-7b80-4604-acb8-9f7d8afdd14d',\n",
       " '4ec3e8c2-0076-4e5a-b38a-965884c7b184']"
      ]
     },
     "execution_count": 65,
     "metadata": {},
     "output_type": "execute_result"
    }
   ],
   "source": [
    "invalid_users"
   ]
  },
  {
   "cell_type": "code",
   "execution_count": 68,
   "metadata": {},
   "outputs": [
    {
     "data": {
      "text/plain": [
       "[UUID('35c5cf33-7b80-4604-acb8-9f7d8afdd14d'),\n",
       " UUID('50ce772b-72cf-40ec-8bf5-808f68eeea61'),\n",
       " UUID('766f9366-8d1c-4e46-b2da-19c75b57103d'),\n",
       " UUID('a29cf936-47e8-4dc1-8144-9877285cae75'),\n",
       " UUID('e2bc07f3-d9e7-4c49-93a7-72ccb34f2332'),\n",
       " UUID('ee5bc10e-9393-475f-80b4-95b9781f5a3c')]"
      ]
     },
     "execution_count": 68,
     "metadata": {},
     "output_type": "execute_result"
    }
   ],
   "source": [
    "list(users)\n"
   ]
  },
  {
   "cell_type": "code",
   "execution_count": 67,
   "metadata": {},
   "outputs": [
    {
     "data": {
      "text/plain": [
       "['ee5bc10e-9393-475f-80b4-95b9781f5a3c',\n",
       " 'a29cf936-47e8-4dc1-8144-9877285cae75',\n",
       " 'e2bc07f3-d9e7-4c49-93a7-72ccb34f2332',\n",
       " '766f9366-8d1c-4e46-b2da-19c75b57103d',\n",
       " '50ce772b-72cf-40ec-8bf5-808f68eeea61',\n",
       " 'd126d974-8ec9-4a58-840d-f9e0162cfdd3',\n",
       " 'bedc36d4-3808-4cc1-a08d-d7c01a628315',\n",
       " 'fddba6e4-38ce-4fea-979f-ed42b237cdde',\n",
       " '35c5cf33-7b80-4604-acb8-9f7d8afdd14d',\n",
       " '4ec3e8c2-0076-4e5a-b38a-965884c7b184']"
      ]
     },
     "execution_count": 67,
     "metadata": {},
     "output_type": "execute_result"
    }
   ],
   "source": [
    "user_ids"
   ]
  },
  {
   "cell_type": "code",
   "execution_count": 69,
   "metadata": {},
   "outputs": [
    {
     "ename": "TypeError",
     "evalue": "unsupported operand type(s) for -: 'list' and 'CommonCustomQuerySet'",
     "output_type": "error",
     "traceback": [
      "\u001b[0;31m---------------------------------------------------------------------------\u001b[0m",
      "\u001b[0;31mTypeError\u001b[0m                                 Traceback (most recent call last)",
      "\u001b[0;32m<ipython-input-69-6e0655c8e94f>\u001b[0m in \u001b[0;36m<module>\u001b[0;34m\u001b[0m\n\u001b[0;32m----> 1\u001b[0;31m \u001b[0muser_i\u001b[0m \u001b[0;34m=\u001b[0m \u001b[0muser_ids\u001b[0m \u001b[0;34m-\u001b[0m \u001b[0musers\u001b[0m\u001b[0;34m\u001b[0m\u001b[0;34m\u001b[0m\u001b[0m\n\u001b[0m",
      "\u001b[0;31mTypeError\u001b[0m: unsupported operand type(s) for -: 'list' and 'CommonCustomQuerySet'"
     ]
    }
   ],
   "source": [
    "user_i = user_ids - users"
   ]
  },
  {
   "cell_type": "code",
   "execution_count": 71,
   "metadata": {},
   "outputs": [
    {
     "name": "stdout",
     "output_type": "stream",
     "text": [
      "ee5bc10e-9393-475f-80b4-95b9781f5a3c\n",
      "a29cf936-47e8-4dc1-8144-9877285cae75\n",
      "e2bc07f3-d9e7-4c49-93a7-72ccb34f2332\n",
      "766f9366-8d1c-4e46-b2da-19c75b57103d\n",
      "50ce772b-72cf-40ec-8bf5-808f68eeea61\n",
      "d126d974-8ec9-4a58-840d-f9e0162cfdd3\n",
      "bedc36d4-3808-4cc1-a08d-d7c01a628315\n",
      "fddba6e4-38ce-4fea-979f-ed42b237cdde\n",
      "35c5cf33-7b80-4604-acb8-9f7d8afdd14d\n",
      "4ec3e8c2-0076-4e5a-b38a-965884c7b184\n"
     ]
    }
   ],
   "source": [
    "for user in user_ids:\n",
    "    if user not in users:\n",
    "        print(user)"
   ]
  },
  {
   "cell_type": "code",
   "execution_count": 72,
   "metadata": {},
   "outputs": [
    {
     "data": {
      "text/plain": [
       "<CommonCustomQuerySet [UUID('35c5cf33-7b80-4604-acb8-9f7d8afdd14d'), UUID('50ce772b-72cf-40ec-8bf5-808f68eeea61'), UUID('766f9366-8d1c-4e46-b2da-19c75b57103d'), UUID('a29cf936-47e8-4dc1-8144-9877285cae75'), UUID('e2bc07f3-d9e7-4c49-93a7-72ccb34f2332'), UUID('ee5bc10e-9393-475f-80b4-95b9781f5a3c')]>"
      ]
     },
     "execution_count": 72,
     "metadata": {},
     "output_type": "execute_result"
    }
   ],
   "source": []
  },
  {
   "cell_type": "code",
   "execution_count": 75,
   "metadata": {},
   "outputs": [
    {
     "name": "stdout",
     "output_type": "stream",
     "text": [
      "ee5bc10e-9393-475f-80b4-95b9781f5a3c M8QEcXQBDpmDgJdb4xN-\n",
      "a29cf936-47e8-4dc1-8144-9877285cae75 -8NJbXQBDpmDgJdbFlX6\n",
      "e2bc07f3-d9e7-4c49-93a7-72ccb34f2332 _MNJbXQBDpmDgJdbG1UF\n",
      "766f9366-8d1c-4e46-b2da-19c75b57103d fsL7Z3QBDpmDgJdb3DNd\n",
      "50ce772b-72cf-40ec-8bf5-808f68eeea61 g8L8Z3QBDpmDgJdbDDOx\n",
      "d126d974-8ec9-4a58-840d-f9e0162cfdd3 IptgXnQBRpVE7rBIKslO\n",
      "bedc36d4-3808-4cc1-a08d-d7c01a628315 JptgXnQBRpVE7rBILckO\n",
      "fddba6e4-38ce-4fea-979f-ed42b237cdde KZtgXnQBRpVE7rBIL8kB\n",
      "35c5cf33-7b80-4604-acb8-9f7d8afdd14d j8NFbnQBDpmDgJdbx-af\n",
      "4ec3e8c2-0076-4e5a-b38a-965884c7b184 -cLPXnQBDpmDgJdbcwRv\n"
     ]
    }
   ],
   "source": [
    "for hit in search:\n",
    "    print(hit.user_id, hit.meta.id)"
   ]
  },
  {
   "cell_type": "code",
   "execution_count": 77,
   "metadata": {},
   "outputs": [],
   "source": [
    "from elasticsearch_dsl import connections\n",
    "from django.conf import settings\n",
    "connections.create_connection(hosts=[settings.ELASTICSEARCH_ENDPOINT],\n",
    "                                      timeout=20)\n",
    "from elasticsearch_dsl import Q, Search"
   ]
  },
  {
   "cell_type": "code",
   "execution_count": 81,
   "metadata": {},
   "outputs": [
    {
     "name": "stdout",
     "output_type": "stream",
     "text": [
      "4 MZtgXnQBRpVE7rBIO8lG\n",
      "5 MptgXnQBRpVE7rBIO8le\n",
      "2 L5tgXnQBRpVE7rBIO8kY\n",
      "3 MJtgXnQBRpVE7rBIO8kw\n",
      "4 _ML9Z3QBDpmDgJdbHjNw\n",
      "5 _cL9Z3QBDpmDgJdbHjON\n",
      "6 _sL9Z3QBDpmDgJdbHjOj\n",
      "1 LptgXnQBRpVE7rBIOsn-\n",
      "6 M5tgXnQBRpVE7rBIO8l0\n",
      "8 NZtgXnQBRpVE7rBIO8mx\n"
     ]
    }
   ],
   "source": [
    "for hit in search:\n",
    "    print(hit.country_id, hit.meta.id)"
   ]
  },
  {
   "cell_type": "code",
   "execution_count": 83,
   "metadata": {},
   "outputs": [
    {
     "ename": "NameError",
     "evalue": "name 'ElasticUser' is not defined",
     "output_type": "error",
     "traceback": [
      "\u001b[0;31m---------------------------------------------------------------------------\u001b[0m",
      "\u001b[0;31mNameError\u001b[0m                                 Traceback (most recent call last)",
      "\u001b[0;32m<ipython-input-83-1eaf1018661d>\u001b[0m in \u001b[0;36m<module>\u001b[0;34m\u001b[0m\n\u001b[0;32m----> 1\u001b[0;31m \u001b[0mElasticUser\u001b[0m\u001b[0;34m(\u001b[0m\u001b[0mid\u001b[0m\u001b[0;34m=\u001b[0m\u001b[0;34m\"IptgXnQBRpVE7rBIKslO\"\u001b[0m\u001b[0;34m)\u001b[0m\u001b[0;34m\u001b[0m\u001b[0;34m\u001b[0m\u001b[0m\n\u001b[0m",
      "\u001b[0;31mNameError\u001b[0m: name 'ElasticUser' is not defined"
     ]
    }
   ],
   "source": [
    "ElasticUser(id=\"IptgXnQBRpVE7rBIKslO\")\n"
   ]
  },
  {
   "cell_type": "code",
   "execution_count": 84,
   "metadata": {},
   "outputs": [],
   "source": [
    "from ib_iam.documents.elastic_docs import *"
   ]
  },
  {
   "cell_type": "code",
   "execution_count": 88,
   "metadata": {},
   "outputs": [
    {
     "name": "stderr",
     "output_type": "stream",
     "text": [
      "[none] [ib_workflows_backend - alpha] WARNING  [16:36:27]  [/home/ubuntu/ib-workflows-backend/venv/lib/python3.8/site-packages/elasticsearch/connection/base.py] [base.py][log_request_fail] [250]: GET https://search-ib-workflows-dev-nck6c5mhnwbsg2ajsnmyobophm.ap-south-1.es.amazonaws.com:443/user-alpha/_doc/IptgXnQBRpVE7rBIKslO [status:404 request:0.004s]\n"
     ]
    },
    {
     "ename": "NotFoundError",
     "evalue": "NotFoundError(404, '{\"_index\":\"user-alpha\",\"_type\":\"_doc\",\"_id\":\"IptgXnQBRpVE7rBIKslO\",\"found\":false}')",
     "output_type": "error",
     "traceback": [
      "\u001b[0;31m---------------------------------------------------------------------------\u001b[0m",
      "\u001b[0;31mNotFoundError\u001b[0m                             Traceback (most recent call last)",
      "\u001b[0;32m<ipython-input-88-4541d1822a8e>\u001b[0m in \u001b[0;36m<module>\u001b[0;34m\u001b[0m\n\u001b[0;32m----> 1\u001b[0;31m \u001b[0mElasticUser\u001b[0m\u001b[0;34m.\u001b[0m\u001b[0mget\u001b[0m\u001b[0;34m(\u001b[0m\u001b[0mid\u001b[0m\u001b[0;34m=\u001b[0m\u001b[0;34m\"IptgXnQBRpVE7rBIKslO\"\u001b[0m\u001b[0;34m)\u001b[0m\u001b[0;34m\u001b[0m\u001b[0;34m\u001b[0m\u001b[0m\n\u001b[0m",
      "\u001b[0;32m~/ib-workflows-backend/venv/lib/python3.8/site-packages/elasticsearch_dsl/document.py\u001b[0m in \u001b[0;36mget\u001b[0;34m(cls, id, using, index, **kwargs)\u001b[0m\n\u001b[1;32m    182\u001b[0m         \"\"\"\n\u001b[1;32m    183\u001b[0m         \u001b[0mes\u001b[0m \u001b[0;34m=\u001b[0m \u001b[0mcls\u001b[0m\u001b[0;34m.\u001b[0m\u001b[0m_get_connection\u001b[0m\u001b[0;34m(\u001b[0m\u001b[0musing\u001b[0m\u001b[0;34m)\u001b[0m\u001b[0;34m\u001b[0m\u001b[0;34m\u001b[0m\u001b[0m\n\u001b[0;32m--> 184\u001b[0;31m         doc = es.get(\n\u001b[0m\u001b[1;32m    185\u001b[0m             \u001b[0mindex\u001b[0m\u001b[0;34m=\u001b[0m\u001b[0mcls\u001b[0m\u001b[0;34m.\u001b[0m\u001b[0m_default_index\u001b[0m\u001b[0;34m(\u001b[0m\u001b[0mindex\u001b[0m\u001b[0;34m)\u001b[0m\u001b[0;34m,\u001b[0m\u001b[0;34m\u001b[0m\u001b[0;34m\u001b[0m\u001b[0m\n\u001b[1;32m    186\u001b[0m             \u001b[0mid\u001b[0m\u001b[0;34m=\u001b[0m\u001b[0mid\u001b[0m\u001b[0;34m,\u001b[0m\u001b[0;34m\u001b[0m\u001b[0;34m\u001b[0m\u001b[0m\n",
      "\u001b[0;32m~/ib-workflows-backend/venv/lib/python3.8/site-packages/elasticsearch/client/utils.py\u001b[0m in \u001b[0;36m_wrapped\u001b[0;34m(*args, **kwargs)\u001b[0m\n\u001b[1;32m    137\u001b[0m                 \u001b[0;32mif\u001b[0m \u001b[0mp\u001b[0m \u001b[0;32min\u001b[0m \u001b[0mkwargs\u001b[0m\u001b[0;34m:\u001b[0m\u001b[0;34m\u001b[0m\u001b[0;34m\u001b[0m\u001b[0m\n\u001b[1;32m    138\u001b[0m                     \u001b[0mparams\u001b[0m\u001b[0;34m[\u001b[0m\u001b[0mp\u001b[0m\u001b[0;34m]\u001b[0m \u001b[0;34m=\u001b[0m \u001b[0mkwargs\u001b[0m\u001b[0;34m.\u001b[0m\u001b[0mpop\u001b[0m\u001b[0;34m(\u001b[0m\u001b[0mp\u001b[0m\u001b[0;34m)\u001b[0m\u001b[0;34m\u001b[0m\u001b[0;34m\u001b[0m\u001b[0m\n\u001b[0;32m--> 139\u001b[0;31m             \u001b[0;32mreturn\u001b[0m \u001b[0mfunc\u001b[0m\u001b[0;34m(\u001b[0m\u001b[0;34m*\u001b[0m\u001b[0margs\u001b[0m\u001b[0;34m,\u001b[0m \u001b[0mparams\u001b[0m\u001b[0;34m=\u001b[0m\u001b[0mparams\u001b[0m\u001b[0;34m,\u001b[0m \u001b[0mheaders\u001b[0m\u001b[0;34m=\u001b[0m\u001b[0mheaders\u001b[0m\u001b[0;34m,\u001b[0m \u001b[0;34m**\u001b[0m\u001b[0mkwargs\u001b[0m\u001b[0;34m)\u001b[0m\u001b[0;34m\u001b[0m\u001b[0;34m\u001b[0m\u001b[0m\n\u001b[0m\u001b[1;32m    140\u001b[0m \u001b[0;34m\u001b[0m\u001b[0m\n\u001b[1;32m    141\u001b[0m         \u001b[0;32mreturn\u001b[0m \u001b[0m_wrapped\u001b[0m\u001b[0;34m\u001b[0m\u001b[0;34m\u001b[0m\u001b[0m\n",
      "\u001b[0;32m~/ib-workflows-backend/venv/lib/python3.8/site-packages/elasticsearch/client/__init__.py\u001b[0m in \u001b[0;36mget\u001b[0;34m(self, index, id, doc_type, params, headers)\u001b[0m\n\u001b[1;32m    972\u001b[0m             \u001b[0mdoc_type\u001b[0m \u001b[0;34m=\u001b[0m \u001b[0;34m\"_doc\"\u001b[0m\u001b[0;34m\u001b[0m\u001b[0;34m\u001b[0m\u001b[0m\n\u001b[1;32m    973\u001b[0m \u001b[0;34m\u001b[0m\u001b[0m\n\u001b[0;32m--> 974\u001b[0;31m         return self.transport.perform_request(\n\u001b[0m\u001b[1;32m    975\u001b[0m             \u001b[0;34m\"GET\"\u001b[0m\u001b[0;34m,\u001b[0m \u001b[0m_make_path\u001b[0m\u001b[0;34m(\u001b[0m\u001b[0mindex\u001b[0m\u001b[0;34m,\u001b[0m \u001b[0mdoc_type\u001b[0m\u001b[0;34m,\u001b[0m \u001b[0mid\u001b[0m\u001b[0;34m)\u001b[0m\u001b[0;34m,\u001b[0m \u001b[0mparams\u001b[0m\u001b[0;34m=\u001b[0m\u001b[0mparams\u001b[0m\u001b[0;34m,\u001b[0m \u001b[0mheaders\u001b[0m\u001b[0;34m=\u001b[0m\u001b[0mheaders\u001b[0m\u001b[0;34m\u001b[0m\u001b[0;34m\u001b[0m\u001b[0m\n\u001b[1;32m    976\u001b[0m         )\n",
      "\u001b[0;32m~/ib-workflows-backend/venv/lib/python3.8/site-packages/elasticsearch/transport.py\u001b[0m in \u001b[0;36mperform_request\u001b[0;34m(self, method, url, headers, params, body)\u001b[0m\n\u001b[1;32m    343\u001b[0m \u001b[0;34m\u001b[0m\u001b[0m\n\u001b[1;32m    344\u001b[0m             \u001b[0;32mtry\u001b[0m\u001b[0;34m:\u001b[0m\u001b[0;34m\u001b[0m\u001b[0;34m\u001b[0m\u001b[0m\n\u001b[0;32m--> 345\u001b[0;31m                 status, headers_response, data = connection.perform_request(\n\u001b[0m\u001b[1;32m    346\u001b[0m                     \u001b[0mmethod\u001b[0m\u001b[0;34m,\u001b[0m\u001b[0;34m\u001b[0m\u001b[0;34m\u001b[0m\u001b[0m\n\u001b[1;32m    347\u001b[0m                     \u001b[0murl\u001b[0m\u001b[0;34m,\u001b[0m\u001b[0;34m\u001b[0m\u001b[0;34m\u001b[0m\u001b[0m\n",
      "\u001b[0;32m~/ib-workflows-backend/venv/lib/python3.8/site-packages/elasticsearch/connection/http_urllib3.py\u001b[0m in \u001b[0;36mperform_request\u001b[0;34m(self, method, url, params, body, timeout, ignore, headers)\u001b[0m\n\u001b[1;32m    254\u001b[0m                 \u001b[0mmethod\u001b[0m\u001b[0;34m,\u001b[0m \u001b[0mfull_url\u001b[0m\u001b[0;34m,\u001b[0m \u001b[0murl\u001b[0m\u001b[0;34m,\u001b[0m \u001b[0morig_body\u001b[0m\u001b[0;34m,\u001b[0m \u001b[0mduration\u001b[0m\u001b[0;34m,\u001b[0m \u001b[0mresponse\u001b[0m\u001b[0;34m.\u001b[0m\u001b[0mstatus\u001b[0m\u001b[0;34m,\u001b[0m \u001b[0mraw_data\u001b[0m\u001b[0;34m\u001b[0m\u001b[0;34m\u001b[0m\u001b[0m\n\u001b[1;32m    255\u001b[0m             )\n\u001b[0;32m--> 256\u001b[0;31m             \u001b[0mself\u001b[0m\u001b[0;34m.\u001b[0m\u001b[0m_raise_error\u001b[0m\u001b[0;34m(\u001b[0m\u001b[0mresponse\u001b[0m\u001b[0;34m.\u001b[0m\u001b[0mstatus\u001b[0m\u001b[0;34m,\u001b[0m \u001b[0mraw_data\u001b[0m\u001b[0;34m)\u001b[0m\u001b[0;34m\u001b[0m\u001b[0;34m\u001b[0m\u001b[0m\n\u001b[0m\u001b[1;32m    257\u001b[0m \u001b[0;34m\u001b[0m\u001b[0m\n\u001b[1;32m    258\u001b[0m         self.log_request_success(\n",
      "\u001b[0;32m~/ib-workflows-backend/venv/lib/python3.8/site-packages/elasticsearch/connection/base.py\u001b[0m in \u001b[0;36m_raise_error\u001b[0;34m(self, status_code, raw_data)\u001b[0m\n\u001b[1;32m    285\u001b[0m             \u001b[0mlogger\u001b[0m\u001b[0;34m.\u001b[0m\u001b[0mwarning\u001b[0m\u001b[0;34m(\u001b[0m\u001b[0;34m\"Undecodable raw error response from server: %s\"\u001b[0m\u001b[0;34m,\u001b[0m \u001b[0merr\u001b[0m\u001b[0;34m)\u001b[0m\u001b[0;34m\u001b[0m\u001b[0;34m\u001b[0m\u001b[0m\n\u001b[1;32m    286\u001b[0m \u001b[0;34m\u001b[0m\u001b[0m\n\u001b[0;32m--> 287\u001b[0;31m         raise HTTP_EXCEPTIONS.get(status_code, TransportError)(\n\u001b[0m\u001b[1;32m    288\u001b[0m             \u001b[0mstatus_code\u001b[0m\u001b[0;34m,\u001b[0m \u001b[0merror_message\u001b[0m\u001b[0;34m,\u001b[0m \u001b[0madditional_info\u001b[0m\u001b[0;34m\u001b[0m\u001b[0;34m\u001b[0m\u001b[0m\n\u001b[1;32m    289\u001b[0m         )\n",
      "\u001b[0;31mNotFoundError\u001b[0m: NotFoundError(404, '{\"_index\":\"user-alpha\",\"_type\":\"_doc\",\"_id\":\"IptgXnQBRpVE7rBIKslO\",\"found\":false}')"
     ]
    }
   ],
   "source": [
    "ElasticUser.get(id=\"IptgXnQBRpVE7rBIKslO\")"
   ]
  },
  {
   "cell_type": "code",
   "execution_count": 91,
   "metadata": {},
   "outputs": [
    {
     "name": "stderr",
     "output_type": "stream",
     "text": [
      "[none] [ib_workflows_backend - alpha] INFO     [16:37:43]  [/home/ubuntu/ib-workflows-backend/venv/lib/python3.8/site-packages/elasticsearch/connection/base.py] [base.py][log_request_success] [227]: GET https://search-ib-workflows-dev-nck6c5mhnwbsg2ajsnmyobophm.ap-south-1.es.amazonaws.com:443/user-alpha/_doc/-cLPXnQBDpmDgJdbcwRv [status:200 request:0.007s]\n",
      "[none] [ib_workflows_backend - alpha] INFO     [16:37:43]  [/home/ubuntu/ib-workflows-backend/venv/lib/python3.8/site-packages/elasticsearch/connection/base.py] [base.py][log_request_success] [227]: DELETE https://search-ib-workflows-dev-nck6c5mhnwbsg2ajsnmyobophm.ap-south-1.es.amazonaws.com:443/user-alpha/_doc/-cLPXnQBDpmDgJdbcwRv?if_primary_term=2&if_seq_no=29 [status:200 request:0.008s]\n"
     ]
    }
   ],
   "source": [
    "ElasticUser.get(id=\"-cLPXnQBDpmDgJdbcwRv\").delete()"
   ]
  },
  {
   "cell_type": "code",
   "execution_count": 112,
   "metadata": {},
   "outputs": [
    {
     "name": "stderr",
     "output_type": "stream",
     "text": [
      "[none] [ib_workflows_backend - alpha] INFO     [16:48:07]  [/home/ubuntu/ib-workflows-backend/venv/lib/python3.8/site-packages/elasticsearch/connection/base.py] [base.py][log_request_success] [227]: GET https://search-ib-workflows-dev-nck6c5mhnwbsg2ajsnmyobophm.ap-south-1.es.amazonaws.com:443/country-alpha/_doc/-8L9Z3QBDpmDgJdbHjNa [status:200 request:0.004s]\n",
      "[none] [ib_workflows_backend - alpha] INFO     [16:48:07]  [/home/ubuntu/ib-workflows-backend/venv/lib/python3.8/site-packages/elasticsearch/connection/base.py] [base.py][log_request_success] [227]: DELETE https://search-ib-workflows-dev-nck6c5mhnwbsg2ajsnmyobophm.ap-south-1.es.amazonaws.com:443/country-alpha/_doc/-8L9Z3QBDpmDgJdbHjNa?if_primary_term=2&if_seq_no=11 [status:200 request:0.006s]\n"
     ]
    }
   ],
   "source": [
    "Country.get(id=\"-8L9Z3QBDpmDgJdbHjNa\").delete()"
   ]
  },
  {
   "cell_type": "code",
   "execution_count": 118,
   "metadata": {},
   "outputs": [],
   "source": [
    "COUNTRY_INDEX_NAME = 'country-{}'.format(settings.STAGE)\n",
    "search = Search(index=COUNTRY_INDEX_NAME)"
   ]
  },
  {
   "cell_type": "code",
   "execution_count": 119,
   "metadata": {},
   "outputs": [
    {
     "name": "stderr",
     "output_type": "stream",
     "text": [
      "[none] [ib_workflows_backend - alpha] INFO     [16:49:46]  [/home/ubuntu/ib-workflows-backend/venv/lib/python3.8/site-packages/elasticsearch/connection/base.py] [base.py][log_request_success] [227]: POST https://search-ib-workflows-dev-nck6c5mhnwbsg2ajsnmyobophm.ap-south-1.es.amazonaws.com:443/country-alpha/_search [status:200 request:0.004s]\n"
     ]
    },
    {
     "name": "stdout",
     "output_type": "stream",
     "text": [
      "2 L5tgXnQBRpVE7rBIO8kY\n",
      "3 MJtgXnQBRpVE7rBIO8kw\n",
      "4 _ML9Z3QBDpmDgJdbHjNw\n",
      "5 _cL9Z3QBDpmDgJdbHjON\n",
      "6 _sL9Z3QBDpmDgJdbHjOj\n",
      "8 NZtgXnQBRpVE7rBIO8mx\n",
      "1 -cL9Z3QBDpmDgJdbHjMV\n",
      "7 _8L9Z3QBDpmDgJdbHjO5\n"
     ]
    }
   ],
   "source": [
    "for hit in search:\n",
    "    print(hit.country_id, hit.meta.id)"
   ]
  },
  {
   "cell_type": "code",
   "execution_count": 140,
   "metadata": {
    "scrolled": true
   },
   "outputs": [
    {
     "name": "stderr",
     "output_type": "stream",
     "text": [
      "[none] [ib_workflows_backend - alpha] INFO     [16:56:09]  [/home/ubuntu/ib-workflows-backend/venv/lib/python3.8/site-packages/elasticsearch/connection/base.py] [base.py][log_request_success] [227]: GET https://search-ib-workflows-dev-nck6c5mhnwbsg2ajsnmyobophm.ap-south-1.es.amazonaws.com:443/city-alpha/_doc/DcL9Z3QBDpmDgJdbIDRY [status:200 request:0.004s]\n",
      "[none] [ib_workflows_backend - alpha] INFO     [16:56:09]  [/home/ubuntu/ib-workflows-backend/venv/lib/python3.8/site-packages/elasticsearch/connection/base.py] [base.py][log_request_success] [227]: DELETE https://search-ib-workflows-dev-nck6c5mhnwbsg2ajsnmyobophm.ap-south-1.es.amazonaws.com:443/city-alpha/_doc/DcL9Z3QBDpmDgJdbIDRY?if_primary_term=2&if_seq_no=27 [status:200 request:0.006s]\n"
     ]
    }
   ],
   "source": [
    "City.get(id=\"DcL9Z3QBDpmDgJdbIDRY\").delete()"
   ]
  },
  {
   "cell_type": "code",
   "execution_count": 143,
   "metadata": {},
   "outputs": [],
   "source": [
    "CITY_INDEX_NAME = 'city-{}'.format(settings.STAGE)\n",
    "search = Search(index=CITY_INDEX_NAME)"
   ]
  },
  {
   "cell_type": "code",
   "execution_count": 144,
   "metadata": {},
   "outputs": [
    {
     "name": "stderr",
     "output_type": "stream",
     "text": [
      "[none] [ib_workflows_backend - alpha] INFO     [16:56:18]  [/home/ubuntu/ib-workflows-backend/venv/lib/python3.8/site-packages/elasticsearch/connection/base.py] [base.py][log_request_success] [227]: POST https://search-ib-workflows-dev-nck6c5mhnwbsg2ajsnmyobophm.ap-south-1.es.amazonaws.com:443/city-alpha/_search [status:200 request:0.005s]\n"
     ]
    },
    {
     "name": "stdout",
     "output_type": "stream",
     "text": [
      "1 PZtgXnQBRpVE7rBIPMmw\n",
      "7 Q5tgXnQBRpVE7rBIPclJ\n",
      "6 QptgXnQBRpVE7rBIPckt\n",
      "4 QJtgXnQBRpVE7rBIPMn6\n",
      "2 CcL9Z3QBDpmDgJdbHzTv\n",
      "3 CsL9Z3QBDpmDgJdbIDQG\n",
      "5 DML9Z3QBDpmDgJdbIDQ8\n"
     ]
    }
   ],
   "source": [
    "for hit in search:\n",
    "    print(hit.city_id, hit.meta.id)"
   ]
  },
  {
   "cell_type": "code",
   "execution_count": 223,
   "metadata": {},
   "outputs": [],
   "source": [
    "search = Search(index=USER_INDEX_NAME)"
   ]
  },
  {
   "cell_type": "code",
   "execution_count": 225,
   "metadata": {},
   "outputs": [],
   "source": [
    "user_ids = [hit.user_id for hit in search]"
   ]
  },
  {
   "cell_type": "code",
   "execution_count": 147,
   "metadata": {},
   "outputs": [
    {
     "ename": "AttributeError",
     "evalue": "type object 'ElasticUser' has no attribute 'count'",
     "output_type": "error",
     "traceback": [
      "\u001b[0;31m---------------------------------------------------------------------------\u001b[0m",
      "\u001b[0;31mAttributeError\u001b[0m                            Traceback (most recent call last)",
      "\u001b[0;32m<ipython-input-147-c71f361b7779>\u001b[0m in \u001b[0;36m<module>\u001b[0;34m\u001b[0m\n\u001b[0;32m----> 1\u001b[0;31m \u001b[0mElasticUser\u001b[0m\u001b[0;34m.\u001b[0m\u001b[0mcount\u001b[0m\u001b[0;34m(\u001b[0m\u001b[0;34m)\u001b[0m\u001b[0;34m\u001b[0m\u001b[0;34m\u001b[0m\u001b[0m\n\u001b[0m",
      "\u001b[0;31mAttributeError\u001b[0m: type object 'ElasticUser' has no attribute 'count'"
     ]
    }
   ],
   "source": [
    "ElasticUser"
   ]
  },
  {
   "cell_type": "code",
   "execution_count": 149,
   "metadata": {},
   "outputs": [
    {
     "data": {
      "text/plain": [
       "76"
      ]
     },
     "execution_count": 149,
     "metadata": {},
     "output_type": "execute_result"
    }
   ],
   "source": [
    "search.count()"
   ]
  },
  {
   "cell_type": "code",
   "execution_count": 150,
   "metadata": {},
   "outputs": [
    {
     "data": {
      "text/plain": [
       "['ee5bc10e-9393-475f-80b4-95b9781f5a3c',\n",
       " 'a29cf936-47e8-4dc1-8144-9877285cae75',\n",
       " 'e2bc07f3-d9e7-4c49-93a7-72ccb34f2332',\n",
       " '766f9366-8d1c-4e46-b2da-19c75b57103d',\n",
       " '50ce772b-72cf-40ec-8bf5-808f68eeea61',\n",
       " '35c5cf33-7b80-4604-acb8-9f7d8afdd14d',\n",
       " 'd56149d3-ab1c-45d0-8dc8-580fc9e3e622',\n",
       " '02bcdc4b-19ce-4860-b976-9b8b4fa78f71',\n",
       " '96b055b2-29c2-4040-bfeb-e6447ec32878',\n",
       " '6d9051eb-c26d-46f9-8e37-2877fb2639a1']"
      ]
     },
     "execution_count": 150,
     "metadata": {},
     "output_type": "execute_result"
    }
   ],
   "source": [
    "user_ids"
   ]
  },
  {
   "cell_type": "code",
   "execution_count": 171,
   "metadata": {},
   "outputs": [
    {
     "ename": "SyntaxError",
     "evalue": "invalid syntax (<ipython-input-171-7c3ed725783f>, line 1)",
     "output_type": "error",
     "traceback": [
      "\u001b[0;36m  File \u001b[0;32m\"<ipython-input-171-7c3ed725783f>\"\u001b[0;36m, line \u001b[0;32m1\u001b[0m\n\u001b[0;31m    search=Search(index='task-alpha', body=\"query\": {\u001b[0m\n\u001b[0m                                                  ^\u001b[0m\n\u001b[0;31mSyntaxError\u001b[0m\u001b[0;31m:\u001b[0m invalid syntax\n"
     ]
    }
   ],
   "source": [
    "search=Search(index='task-alpha', body=\"query\": {\n",
    "        \"match_all\": {}\n",
    "    })"
   ]
  },
  {
   "cell_type": "code",
   "execution_count": 166,
   "metadata": {},
   "outputs": [
    {
     "data": {
      "text/plain": [
       "228"
      ]
     },
     "execution_count": 166,
     "metadata": {},
     "output_type": "execute_result"
    }
   ],
   "source": [
    "search.count()"
   ]
  },
  {
   "cell_type": "code",
   "execution_count": 158,
   "metadata": {},
   "outputs": [],
   "source": [
    "user_ids = [hit for hit in search]"
   ]
  },
  {
   "cell_type": "code",
   "execution_count": 159,
   "metadata": {},
   "outputs": [
    {
     "data": {
      "text/plain": [
       "[<Hit(task-alpha/D8NgbXQBDpmDgJdbhYPo): {'project_id': 'FIN_MAN', 'template_id': 'FIN_PR', 'task_id'...}>,\n",
       " <Hit(task-alpha/xMNHbXQBDpmDgJdbVlLF): {'project_id': 'FIN_MAN', 'template_id': 'FIN_VENDOR', 'task...}>,\n",
       " <Hit(task-alpha/NcNHbXQBDpmDgJdbpVTq): {'project_id': 'FIN_MAN', 'template_id': 'FIN_VENDOR', 'task...}>,\n",
       " <Hit(task-alpha/JsNGbXQBDpmDgJdbd1Kt): {'project_id': 'FIN_MAN', 'template_id': 'FIN_VENDOR', 'task...}>,\n",
       " <Hit(task-alpha/ZMNHbXQBDpmDgJdb_lQA): {'project_id': 'FIN_MAN', 'template_id': 'FIN_VENDOR', 'task...}>,\n",
       " <Hit(task-alpha/PMNHbXQBDpmDgJdbs1SL): {'project_id': 'FIN_MAN', 'template_id': 'FIN_VENDOR', 'task...}>,\n",
       " <Hit(task-alpha/YMNHbXQBDpmDgJdb51TJ): {'project_id': 'FIN_MAN', 'template_id': 'FIN_VENDOR', 'task...}>,\n",
       " <Hit(task-alpha/4MOPbXQBDpmDgJdbCbPq): {'project_id': 'FIN_MAN', 'template_id': 'FIN_PR', 'task_id'...}>,\n",
       " <Hit(task-alpha/PcNHbXQBDpmDgJdbulRq): {'project_id': 'FIN_MAN', 'template_id': 'FIN_VENDOR', 'task...}>,\n",
       " <Hit(task-alpha/H8OLbXQBDpmDgJdbdbAC): {'project_id': 'FIN_MAN', 'template_id': 'FIN_VENDOR', 'task...}>]"
      ]
     },
     "execution_count": 159,
     "metadata": {},
     "output_type": "execute_result"
    }
   ],
   "source": [
    "user_ids"
   ]
  },
  {
   "cell_type": "code",
   "execution_count": 160,
   "metadata": {},
   "outputs": [
    {
     "data": {
      "text/plain": [
       "65"
      ]
     },
     "execution_count": 160,
     "metadata": {},
     "output_type": "execute_result"
    }
   ],
   "source": [
    "ElasticUserIntermediary.objects.all().count()"
   ]
  },
  {
   "cell_type": "code",
   "execution_count": 176,
   "metadata": {},
   "outputs": [],
   "source": [
    "search=Search(index='user-alpha', body)"
   ]
  },
  {
   "cell_type": "code",
   "execution_count": 177,
   "metadata": {},
   "outputs": [
    {
     "name": "stderr",
     "output_type": "stream",
     "text": [
      "[none] [ib_workflows_backend - alpha] INFO     [17:31:21]  [/home/ubuntu/ib-workflows-backend/venv/lib/python3.8/site-packages/elasticsearch/connection/base.py] [base.py][log_request_success] [227]: POST https://search-ib-workflows-dev-nck6c5mhnwbsg2ajsnmyobophm.ap-south-1.es.amazonaws.com:443/user-alpha/_count [status:200 request:0.041s]\n"
     ]
    },
    {
     "data": {
      "text/plain": [
       "76"
      ]
     },
     "execution_count": 177,
     "metadata": {},
     "output_type": "execute_result"
    }
   ],
   "source": [
    "search.count()"
   ]
  },
  {
   "cell_type": "code",
   "execution_count": 182,
   "metadata": {},
   "outputs": [],
   "source": [
    "user_ids = [hit.user_id for hit in search]"
   ]
  },
  {
   "cell_type": "code",
   "execution_count": 183,
   "metadata": {},
   "outputs": [
    {
     "data": {
      "text/plain": [
       "['ee5bc10e-9393-475f-80b4-95b9781f5a3c',\n",
       " 'a29cf936-47e8-4dc1-8144-9877285cae75',\n",
       " 'e2bc07f3-d9e7-4c49-93a7-72ccb34f2332',\n",
       " '766f9366-8d1c-4e46-b2da-19c75b57103d',\n",
       " '50ce772b-72cf-40ec-8bf5-808f68eeea61',\n",
       " '35c5cf33-7b80-4604-acb8-9f7d8afdd14d',\n",
       " 'd56149d3-ab1c-45d0-8dc8-580fc9e3e622',\n",
       " '02bcdc4b-19ce-4860-b976-9b8b4fa78f71',\n",
       " '96b055b2-29c2-4040-bfeb-e6447ec32878',\n",
       " '6d9051eb-c26d-46f9-8e37-2877fb2639a1']"
      ]
     },
     "execution_count": 183,
     "metadata": {},
     "output_type": "execute_result"
    }
   ],
   "source": [
    "user_ids"
   ]
  },
  {
   "cell_type": "code",
   "execution_count": 192,
   "metadata": {},
   "outputs": [
    {
     "data": {
      "text/plain": [
       "59"
      ]
     },
     "execution_count": 192,
     "metadata": {},
     "output_type": "execute_result"
    }
   ],
   "source": [
    "UserProfile.objects.exclude(account_id__in=user_ids).count()"
   ]
  },
  {
   "cell_type": "code",
   "execution_count": 187,
   "metadata": {},
   "outputs": [],
   "source": [
    "from elasticsearch_dsl import connections\n",
    "from django.conf import settings\n",
    "es = connections.create_connection(hosts=[settings.ELASTICSEARCH_ENDPOINT], timeout=20)"
   ]
  },
  {
   "cell_type": "code",
   "execution_count": 221,
   "metadata": {},
   "outputs": [
    {
     "name": "stderr",
     "output_type": "stream",
     "text": [
      "[none] [ib_workflows_backend - alpha] INFO     [20:35:21]  [/home/ubuntu/ib-workflows-backend/venv/lib/python3.8/site-packages/elasticsearch/connection/base.py] [base.py][log_request_success] [227]: POST https://search-ib-workflows-dev-nck6c5mhnwbsg2ajsnmyobophm.ap-south-1.es.amazonaws.com:443/user-alpha/_search [status:200 request:0.005s]\n"
     ]
    }
   ],
   "source": [
    "res = es.search(index=\"user-alpha\", body={\"query\": {\"match_all\": {}}})"
   ]
  },
  {
   "cell_type": "code",
   "execution_count": 222,
   "metadata": {},
   "outputs": [
    {
     "data": {
      "text/plain": [
       "{'took': 1,\n",
       " 'timed_out': False,\n",
       " '_shards': {'total': 5, 'successful': 5, 'skipped': 0, 'failed': 0},\n",
       " 'hits': {'total': {'value': 77, 'relation': 'eq'},\n",
       "  'max_score': 1.0,\n",
       "  'hits': [{'_index': 'user-alpha',\n",
       "    '_type': '_doc',\n",
       "    '_id': 'M8QEcXQBDpmDgJdb4xN-',\n",
       "    '_score': 1.0,\n",
       "    '_source': {'user_id': 'ee5bc10e-9393-475f-80b4-95b9781f5a3c',\n",
       "     'name': 'mahendra finance rp'}},\n",
       "   {'_index': 'user-alpha',\n",
       "    '_type': '_doc',\n",
       "    '_id': '-8NJbXQBDpmDgJdbFlX6',\n",
       "    '_score': 1.0,\n",
       "    '_source': {'user_id': 'a29cf936-47e8-4dc1-8144-9877285cae75',\n",
       "     'name': 'mahendraleveloneverifier'}},\n",
       "   {'_index': 'user-alpha',\n",
       "    '_type': '_doc',\n",
       "    '_id': '_MNJbXQBDpmDgJdbG1UF',\n",
       "    '_score': 1.0,\n",
       "    '_source': {'user_id': 'e2bc07f3-d9e7-4c49-93a7-72ccb34f2332',\n",
       "     'name': 'MuneeraShaik'}},\n",
       "   {'_index': 'user-alpha',\n",
       "    '_type': '_doc',\n",
       "    '_id': 'fsL7Z3QBDpmDgJdb3DNd',\n",
       "    '_score': 1.0,\n",
       "    '_source': {'user_id': '766f9366-8d1c-4e46-b2da-19c75b57103d',\n",
       "     'name': 'Vedavidh'}},\n",
       "   {'_index': 'user-alpha',\n",
       "    '_type': '_doc',\n",
       "    '_id': 'g8L8Z3QBDpmDgJdbDDOx',\n",
       "    '_score': 1.0,\n",
       "    '_source': {'user_id': '50ce772b-72cf-40ec-8bf5-808f68eeea61',\n",
       "     'name': 'Anil Kumar'}},\n",
       "   {'_index': 'user-alpha',\n",
       "    '_type': '_doc',\n",
       "    '_id': 'j8NFbnQBDpmDgJdbx-af',\n",
       "    '_score': 1.0,\n",
       "    '_source': {'user_id': '35c5cf33-7b80-4604-acb8-9f7d8afdd14d',\n",
       "     'name': 'Pavankumar Pamuru'}},\n",
       "   {'_index': 'user-alpha',\n",
       "    '_type': '_doc',\n",
       "    '_id': '68IObHQBDpmDgJdbMHPK',\n",
       "    '_score': 1.0,\n",
       "    '_source': {'user_id': 'd56149d3-ab1c-45d0-8dc8-580fc9e3e622',\n",
       "     'name': 'pushpalathachenna'}},\n",
       "   {'_index': 'user-alpha',\n",
       "    '_type': '_doc',\n",
       "    '_id': 'sMLya3QBDpmDgJdbX2zY',\n",
       "    '_score': 1.0,\n",
       "    '_source': {'user_id': '02bcdc4b-19ce-4860-b976-9b8b4fa78f71',\n",
       "     'name': 'Ravi teja'}},\n",
       "   {'_index': 'user-alpha',\n",
       "    '_type': '_doc',\n",
       "    '_id': 'o8IabHQBDpmDgJdb4Iep',\n",
       "    '_score': 1.0,\n",
       "    '_source': {'user_id': '96b055b2-29c2-4040-bfeb-e6447ec32878',\n",
       "     'name': 'ganeshKosuri'}},\n",
       "   {'_index': 'user-alpha',\n",
       "    '_type': '_doc',\n",
       "    '_id': '2MNSbXQBDpmDgJdbbm83',\n",
       "    '_score': 1.0,\n",
       "    '_source': {'user_id': '6d9051eb-c26d-46f9-8e37-2877fb2639a1',\n",
       "     'name': 'Vinay'}}]}}"
      ]
     },
     "execution_count": 222,
     "metadata": {},
     "output_type": "execute_result"
    }
   ],
   "source": [
    "res"
   ]
  },
  {
   "cell_type": "code",
   "execution_count": 196,
   "metadata": {},
   "outputs": [
    {
     "ename": "SyntaxError",
     "evalue": "invalid syntax (<ipython-input-196-a1f08a2765da>, line 1)",
     "output_type": "error",
     "traceback": [
      "\u001b[0;36m  File \u001b[0;32m\"<ipython-input-196-a1f08a2765da>\"\u001b[0;36m, line \u001b[0;32m1\u001b[0m\n\u001b[0;31m    state_ids = [hit.state_id, hit.meta.id for hit in search]\u001b[0m\n\u001b[0m                                           ^\u001b[0m\n\u001b[0;31mSyntaxError\u001b[0m\u001b[0;31m:\u001b[0m invalid syntax\n"
     ]
    }
   ],
   "source": [
    "state_ids = [ for hit in search]"
   ]
  },
  {
   "cell_type": "code",
   "execution_count": 197,
   "metadata": {},
   "outputs": [
    {
     "data": {
      "text/plain": [
       "[3, 5, 3, 5, 7, 1, 2, 4, 6, 4]"
      ]
     },
     "execution_count": 197,
     "metadata": {},
     "output_type": "execute_result"
    }
   ],
   "source": [
    "state_ids"
   ]
  },
  {
   "cell_type": "code",
   "execution_count": 215,
   "metadata": {
    "scrolled": true
   },
   "outputs": [
    {
     "name": "stderr",
     "output_type": "stream",
     "text": [
      "[none] [ib_workflows_backend - alpha] INFO     [17:54:03]  [/home/ubuntu/ib-workflows-backend/venv/lib/python3.8/site-packages/elasticsearch/connection/base.py] [base.py][log_request_success] [227]: GET https://search-ib-workflows-dev-nck6c5mhnwbsg2ajsnmyobophm.ap-south-1.es.amazonaws.com:443/state-alpha/_doc/O5tgXnQBRpVE7rBIPMlw [status:200 request:0.006s]\n",
      "[none] [ib_workflows_backend - alpha] INFO     [17:54:03]  [/home/ubuntu/ib-workflows-backend/venv/lib/python3.8/site-packages/elasticsearch/connection/base.py] [base.py][log_request_success] [227]: DELETE https://search-ib-workflows-dev-nck6c5mhnwbsg2ajsnmyobophm.ap-south-1.es.amazonaws.com:443/state-alpha/_doc/O5tgXnQBRpVE7rBIPMlw?if_primary_term=1&if_seq_no=15 [status:200 request:0.007s]\n"
     ]
    }
   ],
   "source": [
    "State.get(id=\"O5tgXnQBRpVE7rBIPMlw\").delete()"
   ]
  },
  {
   "cell_type": "code",
   "execution_count": 216,
   "metadata": {},
   "outputs": [],
   "source": [
    "STATE_INDEX_NAME = 'state-{}'.format(settings.STAGE)\n",
    "search = Search(index=STATE_INDEX_NAME)"
   ]
  },
  {
   "cell_type": "code",
   "execution_count": 220,
   "metadata": {},
   "outputs": [
    {
     "name": "stderr",
     "output_type": "stream",
     "text": [
      "[none] [ib_workflows_backend - alpha] INFO     [20:33:32]  [/home/ubuntu/ib-workflows-backend/venv/lib/python3.8/site-packages/elasticsearch/connection/base.py] [base.py][log_request_success] [227]: POST https://search-ib-workflows-dev-nck6c5mhnwbsg2ajsnmyobophm.ap-south-1.es.amazonaws.com:443/state-alpha/_search [status:200 request:0.004s]\n"
     ]
    }
   ],
   "source": [
    "for hit in search[10: 15]:\n",
    "    print(hit.state_id, hit.meta.id)"
   ]
  },
  {
   "cell_type": "code",
   "execution_count": 227,
   "metadata": {},
   "outputs": [
    {
     "name": "stderr",
     "output_type": "stream",
     "text": [
      "[none] [ib_workflows_backend - alpha] INFO     [20:38:03]  [/home/ubuntu/ib-workflows-backend/venv/lib/python3.8/site-packages/elasticsearch/connection/base.py] [base.py][log_request_success] [227]: GET https://search-ib-workflows-dev-nck6c5mhnwbsg2ajsnmyobophm.ap-south-1.es.amazonaws.com:443/user-alpha/_doc/8sM0bXQBDpmDgJdb7UKz [status:200 request:0.005s]\n"
     ]
    },
    {
     "data": {
      "text/plain": [
       "'a36d1206-e2f6-4ed9-ae66-7e7b4911d916'"
      ]
     },
     "execution_count": 227,
     "metadata": {},
     "output_type": "execute_result"
    }
   ],
   "source": [
    "ElasticUser.get(id=\"8sM0bXQBDpmDgJdb7UKz\").user_id"
   ]
  },
  {
   "cell_type": "code",
   "execution_count": 238,
   "metadata": {},
   "outputs": [],
   "source": [
    "STATE_INDEX_NAME = 'user-{}'.format(settings.STAGE)\n",
    "search = Search(index=STATE_INDEX_NAME)"
   ]
  },
  {
   "cell_type": "code",
   "execution_count": 269,
   "metadata": {},
   "outputs": [
    {
     "name": "stderr",
     "output_type": "stream",
     "text": [
      "[none] [ib_workflows_backend - alpha] INFO     [21:00:12]  [/home/ubuntu/ib-workflows-backend/venv/lib/python3.8/site-packages/elasticsearch/connection/base.py] [base.py][log_request_success] [227]: POST https://search-ib-workflows-dev-nck6c5mhnwbsg2ajsnmyobophm.ap-south-1.es.amazonaws.com:443/user-alpha/_search [status:200 request:0.558s]\n"
     ]
    }
   ],
   "source": [
    "user_ids = [hit.user_id for hit in search[0:1000]]"
   ]
  },
  {
   "cell_type": "code",
   "execution_count": 270,
   "metadata": {},
   "outputs": [],
   "source": [
    "users=UserProfile.objects.all().values_list('account_id', flat=True)"
   ]
  },
  {
   "cell_type": "code",
   "execution_count": 271,
   "metadata": {},
   "outputs": [
    {
     "data": {
      "text/plain": [
       "<CommonCustomQuerySet [UUID('02bcdc4b-19ce-4860-b976-9b8b4fa78f71'), UUID('0310f800-4dc3-43d6-bd71-4f8d3890a2aa'), UUID('052cd3b0-8668-4864-bfff-823b5834eff4'), UUID('05db8187-b8ff-4134-80bc-389f7965dc71'), UUID('095d82ab-f92b-4e3b-8f7f-9c9717354acb'), UUID('0f8933bd-147e-4ca4-b879-80257782fbce'), UUID('10f59bd9-da1c-4f04-9a03-0e500537584f'), UUID('17d64a7b-3daa-44ad-8723-62d3014c9113'), UUID('24ee41e7-3b27-48d0-a72d-fe963b15da24'), UUID('2669a305-80b6-4584-9fdd-2e9079ab5ff1'), UUID('2672edbf-41a8-4304-8429-bc705350281c'), UUID('293daec0-f18f-42fa-8ef2-54b742adee20'), UUID('29612e9c-15b4-4558-8475-e6b1039d948e'), UUID('2dc51e3b-514b-4279-ac3e-a5a224d817c5'), UUID('32e7f29e-ea22-4ebb-a8c7-6cef016d6f19'), UUID('35c5cf33-7b80-4604-acb8-9f7d8afdd14d'), UUID('366f22f1-bfbd-4557-93a2-034e4ee157cb'), UUID('42d0680b-58e1-4c5c-a3c4-949a0a21e653'), UUID('430ad7d8-151e-451b-ac9b-449bef637069'), UUID('472c3a44-2bdd-4291-9ce2-557e42cb38f7'), '...(remaining elements truncated)...']>"
      ]
     },
     "execution_count": 271,
     "metadata": {},
     "output_type": "execute_result"
    }
   ],
   "source": [
    "users"
   ]
  },
  {
   "cell_type": "code",
   "execution_count": 277,
   "metadata": {},
   "outputs": [],
   "source": [
    "all = [str(user) for user in users]"
   ]
  },
  {
   "cell_type": "code",
   "execution_count": 278,
   "metadata": {},
   "outputs": [
    {
     "data": {
      "text/plain": [
       "['02bcdc4b-19ce-4860-b976-9b8b4fa78f71',\n",
       " '0310f800-4dc3-43d6-bd71-4f8d3890a2aa',\n",
       " '052cd3b0-8668-4864-bfff-823b5834eff4',\n",
       " '05db8187-b8ff-4134-80bc-389f7965dc71',\n",
       " '095d82ab-f92b-4e3b-8f7f-9c9717354acb',\n",
       " '0f8933bd-147e-4ca4-b879-80257782fbce',\n",
       " '10f59bd9-da1c-4f04-9a03-0e500537584f',\n",
       " '17d64a7b-3daa-44ad-8723-62d3014c9113',\n",
       " '24ee41e7-3b27-48d0-a72d-fe963b15da24',\n",
       " '2669a305-80b6-4584-9fdd-2e9079ab5ff1',\n",
       " '2672edbf-41a8-4304-8429-bc705350281c',\n",
       " '293daec0-f18f-42fa-8ef2-54b742adee20',\n",
       " '29612e9c-15b4-4558-8475-e6b1039d948e',\n",
       " '2dc51e3b-514b-4279-ac3e-a5a224d817c5',\n",
       " '32e7f29e-ea22-4ebb-a8c7-6cef016d6f19',\n",
       " '35c5cf33-7b80-4604-acb8-9f7d8afdd14d',\n",
       " '366f22f1-bfbd-4557-93a2-034e4ee157cb',\n",
       " '42d0680b-58e1-4c5c-a3c4-949a0a21e653',\n",
       " '430ad7d8-151e-451b-ac9b-449bef637069',\n",
       " '472c3a44-2bdd-4291-9ce2-557e42cb38f7',\n",
       " '48a64b52-e2e1-4762-9789-c09c43050ac4',\n",
       " '48a6b5af-84b0-43d0-9c24-3f5037dd50c6',\n",
       " '50ce772b-72cf-40ec-8bf5-808f68eeea61',\n",
       " '5286e113-b123-4103-a9f9-f883d35112e2',\n",
       " '52e84035-b5a6-4f63-8e0f-8c616ded8957',\n",
       " '624baf27-7733-4c4d-8f3d-d9244fe53cb5',\n",
       " '62f6d42b-f164-4e35-9d60-ca90bb219430',\n",
       " '692de6ec-bbcd-4486-8cdc-928da90b7bf9',\n",
       " '6aa5733c-e6f4-4a53-abd5-47c7ea9330f6',\n",
       " '6d9051eb-c26d-46f9-8e37-2877fb2639a1',\n",
       " '74122a48-db04-4e79-b7e6-d79deb43e064',\n",
       " '756f8057-b0c2-483d-a321-045255e7fc78',\n",
       " '760d5d09-cfd1-4389-a6ca-4bc955114d18',\n",
       " '766f9366-8d1c-4e46-b2da-19c75b57103d',\n",
       " '7a241b9d-82de-4115-9396-82cceb9dcf98',\n",
       " '7a6f65a4-07f3-4797-a77c-b6ac623fe839',\n",
       " '7aeef955-7757-481c-acfa-69c51c1cd2c2',\n",
       " '7da592d9-50c2-408f-beac-c4489c4ab1e0',\n",
       " '8569d406-c957-4ab7-8740-152119ad33cb',\n",
       " '8830c807-63b5-40be-8c2a-6f54dbb617f9',\n",
       " '96b055b2-29c2-4040-bfeb-e6447ec32878',\n",
       " '97261559-1d9c-469d-ac39-bcb05b254b19',\n",
       " 'a1c2eeea-2788-4d6c-9331-e95f30bda7ea',\n",
       " 'a29cf936-47e8-4dc1-8144-9877285cae75',\n",
       " 'a36d1206-e2f6-4ed9-ae66-7e7b4911d916',\n",
       " 'a4e1b138-a71c-479c-8093-d8457c6a536b',\n",
       " 'b940eabd-e609-4ff4-9a65-ae4f9aa2c835',\n",
       " 'be3a688d-2740-407f-8ba1-37afbcb5230b',\n",
       " 'bec2b7a0-91df-445d-bad0-d20580b2cb52',\n",
       " 'bfe8dba9-e910-4ae9-9e3b-aabec2193e8d',\n",
       " 'c6b412fc-49f3-4cd5-8d08-f3d967dae35d',\n",
       " 'c7fe2e62-2443-4e44-838f-6e5077e6331a',\n",
       " 'cc532cf1-bb4b-49cf-b12c-fdb9e02aaeae',\n",
       " 'd050fa4d-8d43-430d-b761-c5f6abc047a2',\n",
       " 'd08bd467-5232-4ae4-84cc-93bf9135dbf8',\n",
       " 'd4c78f35-5ccd-4d83-b68d-76795a6fdf49',\n",
       " 'd56149d3-ab1c-45d0-8dc8-580fc9e3e622',\n",
       " 'd79a3ab5-2f47-4d49-b7f1-e21d592eef36',\n",
       " 'da990703-b426-4c2a-bccd-a94a2d762bbc',\n",
       " 'daea11a0-617e-4593-a709-6a3c65b53235',\n",
       " 'e2bc07f3-d9e7-4c49-93a7-72ccb34f2332',\n",
       " 'e924787a-1982-4975-b6c1-1d254edd2ae9',\n",
       " 'ee5bc10e-9393-475f-80b4-95b9781f5a3c',\n",
       " 'ef33740e-0cb7-491a-b56f-cb63beead8fa',\n",
       " 'f0b96e80-d283-40f9-8099-6c9d3efec25b',\n",
       " 'f2ef5689-8ec0-48f1-8f12-547c524fee91',\n",
       " 'f2fb6e43-9daa-4b3c-893f-34289c431ac0',\n",
       " 'fa21a924-abc5-4d8d-a62f-3259a5354b53',\n",
       " 'fb82cb83-e781-4d07-887e-1202a340faba',\n",
       " 'ff5b9464-e0a9-4577-8429-668389459a0d']"
      ]
     },
     "execution_count": 278,
     "metadata": {},
     "output_type": "execute_result"
    }
   ],
   "source": [
    "all"
   ]
  },
  {
   "cell_type": "code",
   "execution_count": 279,
   "metadata": {},
   "outputs": [],
   "source": [
    "invalids = []\n",
    "for user in user_ids:\n",
    "    if user not in all:\n",
    "        invalids.append(user)"
   ]
  },
  {
   "cell_type": "code",
   "execution_count": 268,
   "metadata": {},
   "outputs": [
    {
     "name": "stderr",
     "output_type": "stream",
     "text": [
      "[none] [ib_workflows_backend - alpha] INFO     [20:57:09]  [/home/ubuntu/ib-workflows-backend/venv/lib/python3.8/site-packages/elasticsearch/connection/base.py] [base.py][log_request_success] [227]: POST https://search-ib-workflows-dev-nck6c5mhnwbsg2ajsnmyobophm.ap-south-1.es.amazonaws.com:443/user-alpha/_search [status:200 request:0.005s]\n"
     ]
    },
    {
     "name": "stdout",
     "output_type": "stream",
     "text": [
      "ee5bc10e-9393-475f-80b4-95b9781f5a3c M8QEcXQBDpmDgJdb4xN-\n",
      "a29cf936-47e8-4dc1-8144-9877285cae75 -8NJbXQBDpmDgJdbFlX6\n",
      "e2bc07f3-d9e7-4c49-93a7-72ccb34f2332 _MNJbXQBDpmDgJdbG1UF\n",
      "766f9366-8d1c-4e46-b2da-19c75b57103d fsL7Z3QBDpmDgJdb3DNd\n",
      "50ce772b-72cf-40ec-8bf5-808f68eeea61 g8L8Z3QBDpmDgJdbDDOx\n",
      "35c5cf33-7b80-4604-acb8-9f7d8afdd14d j8NFbnQBDpmDgJdbx-af\n",
      "d56149d3-ab1c-45d0-8dc8-580fc9e3e622 68IObHQBDpmDgJdbMHPK\n",
      "02bcdc4b-19ce-4860-b976-9b8b4fa78f71 sMLya3QBDpmDgJdbX2zY\n",
      "96b055b2-29c2-4040-bfeb-e6447ec32878 o8IabHQBDpmDgJdb4Iep\n",
      "6d9051eb-c26d-46f9-8e37-2877fb2639a1 2MNSbXQBDpmDgJdbbm83\n",
      "2dc51e3b-514b-4279-ac3e-a5a224d817c5 e8QLcnQBDpmDgJdbg0OW\n",
      "a4e1b138-a71c-479c-8093-d8457c6a536b q8QNcnQBDpmDgJdbOkNA\n",
      "ef33740e-0cb7-491a-b56f-cb63beead8fa jMSlcXQBDpmDgJdb2Dkr\n",
      "daea11a0-617e-4593-a709-6a3c65b53235 vcS_cXQBDpmDgJdbAT1Z\n",
      "d79a3ab5-2f47-4d49-b7f1-e21d592eef36 jcNQbXQBDpmDgJdb_mO7\n",
      "052cd3b0-8668-4864-bfff-823b5834eff4 esTFcXQBDpmDgJdb3j6a\n",
      "366f22f1-bfbd-4557-93a2-034e4ee157cb 6MNtbXQBDpmDgJdbxZHB\n",
      "c6b412fc-49f3-4cd5-8d08-f3d967dae35d _MSvcXQBDpmDgJdb5jrO\n",
      "e924787a-1982-4975-b6c1-1d254edd2ae9 PMIHbHQBDpmDgJdbc3E6\n",
      "bec2b7a0-91df-445d-bad0-d20580b2cb52 gMNubXQBDpmDgJdbn5I4\n",
      "be3a688d-2740-407f-8ba1-37afbcb5230b icM0bXQBDpmDgJdbQkJf\n",
      "24ee41e7-3b27-48d0-a72d-fe963b15da24 TGZ-eHQB7OvEVC8zRrUs\n",
      "17d64a7b-3daa-44ad-8723-62d3014c9113 PcQJcnQBDpmDgJdb8kOC\n",
      "ff5b9464-e0a9-4577-8429-668389459a0d ZsQKcnQBDpmDgJdb2UNM\n",
      "095d82ab-f92b-4e3b-8f7f-9c9717354acb h8QMcnQBDpmDgJdbrkOa\n",
      "bfe8dba9-e910-4ae9-9e3b-aabec2193e8d McTDcXQBDpmDgJdbjz7x\n",
      "10f59bd9-da1c-4f04-9a03-0e500537584f eML7Z3QBDpmDgJdbtTOq\n",
      "293daec0-f18f-42fa-8ef2-54b742adee20 esL7Z3QBDpmDgJdbtzMY\n",
      "42d0680b-58e1-4c5c-a3c4-949a0a21e653 fML7Z3QBDpmDgJdbyjM-\n",
      "7aeef955-7757-481c-acfa-69c51c1cd2c2 gML7Z3QBDpmDgJdb7zOe\n",
      "48a6b5af-84b0-43d0-9c24-3f5037dd50c6 gsL8Z3QBDpmDgJdbAzNh\n",
      "0c27994f-5b25-4dc5-a849-d5abb7511392 JZtgXnQBRpVE7rBILMlq\n",
      "d4c78f35-5ccd-4d83-b68d-76795a6fdf49 EsQdcXQBDpmDgJdbzxkx\n",
      "74122a48-db04-4e79-b7e6-d79deb43e064 dMM7bXQBDpmDgJdb8EeT\n",
      "d050fa4d-8d43-430d-b761-c5f6abc047a2 dMNRbXQBDpmDgJdbKGSJ\n",
      "760d5d09-cfd1-4389-a6ca-4bc955114d18 McIGbHQBDpmDgJdbC3H3\n",
      "a36d1206-e2f6-4ed9-ae66-7e7b4911d916 8sM0bXQBDpmDgJdb7UKz\n",
      "f2fb6e43-9daa-4b3c-893f-34289c431ac0 YcLXa3QBDpmDgJdbemn3\n",
      "fa21a924-abc5-4d8d-a62f-3259a5354b53 c8NpbXQBDpmDgJdbHIxs\n",
      "624baf27-7733-4c4d-8f3d-d9244fe53cb5 4cTIcXQBDpmDgJdbyD6s\n",
      "472c3a44-2bdd-4291-9ce2-557e42cb38f7 ysQOcnQBDpmDgJdbGENO\n",
      "52e84035-b5a6-4f63-8e0f-8c616ded8957 j2a5dnQB7OvEVC8zrDXu\n",
      "f2ef5689-8ec0-48f1-8f12-547c524fee91 4cTAcXQBDpmDgJdbdT0J\n",
      "da990703-b426-4c2a-bccd-a94a2d762bbc 8sTBcXQBDpmDgJdbEj2O\n",
      "5286e113-b123-4103-a9f9-f883d35112e2 zML9a3QBDpmDgJdb4W_c\n",
      "7da592d9-50c2-408f-beac-c4489c4ab1e0 ecL7Z3QBDpmDgJdbtjNW\n",
      "7a241b9d-82de-4115-9396-82cceb9dcf98 e8L7Z3QBDpmDgJdbwDN6\n",
      "05db8187-b8ff-4134-80bc-389f7965dc71 hML8Z3QBDpmDgJdbFTOg\n",
      "2669a305-80b6-4584-9fdd-2e9079ab5ff1 18NDbXQBDpmDgJdb4083\n",
      "2672edbf-41a8-4304-8429-bc705350281c XsNHbXQBDpmDgJdb4FS0\n",
      "756f8057-b0c2-483d-a321-045255e7fc78 A8SxcXQBDpmDgJdbDjuv\n",
      "97261559-1d9c-469d-ac39-bcb05b254b19 a8QTcXQBDpmDgJdbvRe1\n",
      "d08bd467-5232-4ae4-84cc-93bf9135dbf8 LMIObHQBDpmDgJdbbXWm\n",
      "0310f800-4dc3-43d6-bd71-4f8d3890a2aa T8NrbXQBDpmDgJdbXo6T\n",
      "430ad7d8-151e-451b-ac9b-449bef637069 lMTGcXQBDpmDgJdb0z6c\n",
      "c7fe2e62-2443-4e44-838f-6e5077e6331a 88TCcXQBDpmDgJdbWj1n\n",
      "fb82cb83-e781-4d07-887e-1202a340faba PMILbHQBDpmDgJdbQnJ7\n",
      "0f8933bd-147e-4ca4-b879-80257782fbce fcL7Z3QBDpmDgJdb0zOd\n",
      "b940eabd-e609-4ff4-9a65-ae4f9aa2c835 f8L7Z3QBDpmDgJdb5TOp\n",
      "cc532cf1-bb4b-49cf-b12c-fdb9e02aaeae gcL7Z3QBDpmDgJdb-TOj\n",
      "a1c2eeea-2788-4d6c-9331-e95f30bda7ea hcL8Z3QBDpmDgJdbHjPn\n",
      "62f6d42b-f164-4e35-9d60-ca90bb219430 hsQMcnQBDpmDgJdbA0PE\n",
      "692de6ec-bbcd-4486-8cdc-928da90b7bf9 YMTFcXQBDpmDgJdbFz56\n",
      "6aa5733c-e6f4-4a53-abd5-47c7ea9330f6 88NQbXQBDpmDgJdbNWCG\n",
      "8830c807-63b5-40be-8c2a-6f54dbb617f9 lMJObHQBDpmDgJdbyqdp\n",
      "f0b96e80-d283-40f9-8099-6c9d3efec25b UMTEcXQBDpmDgJdbMz4F\n",
      "8569d406-c957-4ab7-8740-152119ad33cb 4MTHcXQBDpmDgJdb0T4c\n"
     ]
    }
   ],
   "source": [
    "for hit in search[0:200]:\n",
    "    print(hit.user_id, hit.meta.id)"
   ]
  },
  {
   "cell_type": "code",
   "execution_count": 281,
   "metadata": {},
   "outputs": [
    {
     "name": "stderr",
     "output_type": "stream",
     "text": [
      "[none] [ib_workflows_backend - alpha] INFO     [21:02:34]  [/home/ubuntu/ib-workflows-backend/venv/lib/python3.8/site-packages/elasticsearch/connection/base.py] [base.py][log_request_success] [227]: GET https://search-ib-workflows-dev-nck6c5mhnwbsg2ajsnmyobophm.ap-south-1.es.amazonaws.com:443/user-alpha/_doc/JZtgXnQBRpVE7rBILMlq [status:200 request:0.035s]\n",
      "[none] [ib_workflows_backend - alpha] INFO     [21:02:34]  [/home/ubuntu/ib-workflows-backend/venv/lib/python3.8/site-packages/elasticsearch/connection/base.py] [base.py][log_request_success] [227]: DELETE https://search-ib-workflows-dev-nck6c5mhnwbsg2ajsnmyobophm.ap-south-1.es.amazonaws.com:443/user-alpha/_doc/JZtgXnQBRpVE7rBILMlq?if_primary_term=1&if_seq_no=34 [status:200 request:0.008s]\n"
     ]
    }
   ],
   "source": [
    "ElasticUser.get(id=\"JZtgXnQBRpVE7rBILMlq\").delete()"
   ]
  },
  {
   "cell_type": "code",
   "execution_count": 276,
   "metadata": {},
   "outputs": [],
   "source": [
    "from elasticsearch_dsl import connections\n",
    "from django.conf import settings\n",
    "es = connections.create_connection(hosts=[settings.ELASTICSEARCH_ENDPOINT], timeout=20)"
   ]
  },
  {
   "cell_type": "code",
   "execution_count": 280,
   "metadata": {},
   "outputs": [
    {
     "data": {
      "text/plain": [
       "['0c27994f-5b25-4dc5-a849-d5abb7511392']"
      ]
     },
     "execution_count": 280,
     "metadata": {},
     "output_type": "execute_result"
    }
   ],
   "source": [
    "invalids"
   ]
  },
  {
   "cell_type": "code",
   "execution_count": 283,
   "metadata": {},
   "outputs": [],
   "source": [
    "TASK_INDEX_NAME = 'task-{}'.format(settings.STAGE)\n",
    "search = Search(index=TASK_INDEX_NAME)"
   ]
  },
  {
   "cell_type": "code",
   "execution_count": 284,
   "metadata": {},
   "outputs": [
    {
     "name": "stderr",
     "output_type": "stream",
     "text": [
      "[none] [ib_workflows_backend - alpha] INFO     [21:06:41]  [/home/ubuntu/ib-workflows-backend/venv/lib/python3.8/site-packages/elasticsearch/connection/base.py] [base.py][log_request_success] [227]: POST https://search-ib-workflows-dev-nck6c5mhnwbsg2ajsnmyobophm.ap-south-1.es.amazonaws.com:443/task-alpha/_delete_by_query [status:200 request:0.364s]\n"
     ]
    },
    {
     "data": {
      "text/plain": [
       "{'took': 346,\n",
       " 'timed_out': False,\n",
       " 'total': 229,\n",
       " 'deleted': 229,\n",
       " 'batches': 1,\n",
       " 'version_conflicts': 0,\n",
       " 'noops': 0,\n",
       " 'retries': {'bulk': 0, 'search': 0},\n",
       " 'throttled_millis': 0,\n",
       " 'requests_per_second': -1.0,\n",
       " 'throttled_until_millis': 0,\n",
       " 'failures': []}"
      ]
     },
     "execution_count": 284,
     "metadata": {},
     "output_type": "execute_result"
    }
   ],
   "source": [
    "indices = [\n",
    "        TASK_INDEX_NAME\n",
    "    ]\n",
    "es.delete_by_query(index=indices, body={\"query\": {\"match_all\": {}}})"
   ]
  },
  {
   "cell_type": "code",
   "execution_count": 285,
   "metadata": {},
   "outputs": [],
   "source": [
    "from ib_tasks.models import *"
   ]
  },
  {
   "cell_type": "code",
   "execution_count": 287,
   "metadata": {},
   "outputs": [
    {
     "data": {
      "text/plain": [
       "(57,\n",
       " {'ib_tasks.CurrentTaskStage': 1,\n",
       "  'ib_tasks.TaskStageHistory': 2,\n",
       "  'ib_tasks.TaskStageRp': 0,\n",
       "  'ib_tasks.UserTaskDelayReason': 0,\n",
       "  'ib_tasks.TaskGoFField': 43,\n",
       "  'ib_tasks.TaskLog': 1,\n",
       "  'ib_tasks.TaskGoF': 9,\n",
       "  'ib_tasks.Task': 1})"
      ]
     },
     "execution_count": 287,
     "metadata": {},
     "output_type": "execute_result"
    }
   ],
   "source": [
    "Task.objects.all().delete()"
   ]
  },
  {
   "cell_type": "code",
   "execution_count": null,
   "metadata": {},
   "outputs": [],
   "source": []
  }
 ],
 "metadata": {
  "kernelspec": {
   "display_name": "Python 3",
   "language": "python",
   "name": "python3"
  },
  "language_info": {
   "codemirror_mode": {
    "name": "ipython",
    "version": 3
   },
   "file_extension": ".py",
   "mimetype": "text/x-python",
   "name": "python",
   "nbconvert_exporter": "python",
   "pygments_lexer": "ipython3",
   "version": "3.8.0"
  }
 },
 "nbformat": 4,
 "nbformat_minor": 4
}
