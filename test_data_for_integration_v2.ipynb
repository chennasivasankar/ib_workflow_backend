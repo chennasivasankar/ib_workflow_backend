{
 "cells": [
  {
   "cell_type": "code",
   "execution_count": 1,
   "metadata": {},
   "outputs": [
    {
     "data": {
      "text/plain": [
       "'\\nIb Users SetUp\\n'"
      ]
     },
     "execution_count": 1,
     "metadata": {},
     "output_type": "execute_result"
    }
   ],
   "source": [
    "\"\"\"\n",
    "Ib Users SetUp\n",
    "\"\"\""
   ]
  },
  {
   "cell_type": "code",
   "execution_count": 2,
   "metadata": {},
   "outputs": [
    {
     "name": "stdout",
     "output_type": "stream",
     "text": [
      "LE: \n",
      "\n",
      "It appears the LOGENTRIES_TOKEN parameter you entered is incorrect!\n",
      "\n",
      "\n"
     ]
    }
   ],
   "source": [
    "import django\n",
    "django.setup()"
   ]
  },
  {
   "cell_type": "code",
   "execution_count": 3,
   "metadata": {},
   "outputs": [],
   "source": [
    "from ib_users.models import UserAccount"
   ]
  },
  {
   "cell_type": "code",
   "execution_count": null,
   "metadata": {},
   "outputs": [],
   "source": []
  },
  {
   "cell_type": "code",
   "execution_count": 4,
   "metadata": {},
   "outputs": [],
   "source": [
    "users = [\n",
    "    {\n",
    "        \"email\": \"vasanth@ibhubs.co\",\n",
    "        \"name\": \"Vasanth\",\n",
    "        \"profile_pic_url\": \"\",\n",
    "        \"password\": \"Sample123@\",\n",
    "        \"is_admin\": False\n",
    "    },\n",
    "    {\n",
    "        \"email\": \"thrivikram@ibhubs.co\",\n",
    "        \"name\": \"Thrivikram\",\n",
    "        \"profile_pic_url\": \"\",\n",
    "        \"password\": \"Sample123@\",\n",
    "        \"is_admin\": False\n",
    "    },\n",
    "    {\n",
    "        \"email\": \"kavya@ibhubs.co\",\n",
    "        \"name\": \"Kavya\",\n",
    "        \"profile_pic_url\": \"\",\n",
    "        \"password\": \"Sample123@\",\n",
    "        \"is_admin\": False\n",
    "    },\n",
    "    {\n",
    "        \"email\": \"ramganesh@ibhubs.co\",\n",
    "        \"name\": \"Ramganesh\",\n",
    "        \"profile_pic_url\": \"\",\n",
    "        \"password\": \"Sample123@\",\n",
    "        \"is_admin\": False\n",
    "    },\n",
    "    {\n",
    "        \"email\": \"vedavidh@ibhubs.co\",\n",
    "        \"name\": \"Vedavidh\",\n",
    "        \"profile_pic_url\": \"\",\n",
    "        \"password\": \"Sample123@\",\n",
    "        \"is_admin\": False\n",
    "    },\n",
    "    {\n",
    "        \"email\": \"revanth@ibhubs.co\",\n",
    "        \"name\": \"Revanth\",\n",
    "        \"profile_pic_url\": \"\",\n",
    "        \"password\": \"Sample123@\",\n",
    "        \"is_admin\": False\n",
    "    },\n",
    "    {\n",
    "        \"email\": \"jayakiran@ibhubs.co\",\n",
    "        \"name\": \"Jayakiran\",\n",
    "        \"profile_pic_url\": \"\",\n",
    "        \"password\": \"Sample123@\",\n",
    "        \"is_admin\": False\n",
    "    },\n",
    "    {\n",
    "        \"email\": \"mythri@ibhubs.co\",\n",
    "        \"name\": \"Mythri\",\n",
    "        \"profile_pic_url\": \"\",\n",
    "        \"password\": \"Sample123@\",\n",
    "        \"is_admin\": False\n",
    "    },\n",
    "    {\n",
    "        \"email\": \"vamshi@ibhubs.co\",\n",
    "        \"name\": \"Vamshi\",\n",
    "        \"profile_pic_url\": \"\",\n",
    "        \"password\": \"Sample123@\",\n",
    "        \"is_admin\": False\n",
    "    },\n",
    "    {\n",
    "        \"email\": \"chinmaya@ibhubs.co\",\n",
    "        \"name\": \"Chinmaya\",\n",
    "        \"profile_pic_url\": \"\",\n",
    "        \"password\": \"Sample123@\",\n",
    "        \"is_admin\": False\n",
    "    },\n",
    "    {\n",
    "        \"email\": \"sundar@ibhubs.co\",\n",
    "        \"name\": \"Sundar\",\n",
    "        \"profile_pic_url\": \"\",\n",
    "        \"password\": \"Sample123@\",\n",
    "        \"is_admin\": False\n",
    "    },\n",
    "    {\n",
    "        \"email\": \"rajeev@ibhubs.co\",\n",
    "        \"name\": \"Rajeev\",\n",
    "        \"profile_pic_url\": \"\",\n",
    "        \"password\": \"Sample123@\",\n",
    "        \"is_admin\": False\n",
    "    },\n",
    "    {\n",
    "        \"email\": \"sriram@ibhubs.co\",\n",
    "        \"name\": \"SriRam\",\n",
    "        \"profile_pic_url\": \"https://picsum.photos/200\",\n",
    "        \"password\": \"Sample123@\",\n",
    "        \"is_admin\": False\n",
    "    },\n",
    "    {\n",
    "        \"email\": \"anupam@ibhubs.co\",\n",
    "        \"name\": \"Anupam\",\n",
    "        \"profile_pic_url\": \"\",\n",
    "        \"password\": \"Sample123@\",\n",
    "        \"is_admin\": False\n",
    "    },\n",
    "    {\n",
    "        \"email\": \"neerad@ibhubs.co\",\n",
    "        \"name\": \"Neerad\",\n",
    "        \"profile_pic_url\": \"\",\n",
    "        \"password\": \"Sample123@\",\n",
    "        \"is_admin\": False\n",
    "    }\n",
    "]"
   ]
  },
  {
   "cell_type": "code",
   "execution_count": 5,
   "metadata": {},
   "outputs": [],
   "source": [
    "admin_users = [\n",
    "    {\n",
    "        \"email\": \"ibadmin@ibhubs.co\",\n",
    "        \"name\": \"Rajesh\",\n",
    "        \"profile_pic_url\": \"https://picsum.photos/201\",\n",
    "        \"password\": \"Admin123@\",\n",
    "        \"is_admin\": True\n",
    "    },\n",
    "    {\n",
    "        \"email\": \"cybereyeadmin@ibhubs.co\",\n",
    "        \"name\": \"Durga\",\n",
    "        \"profile_pic_url\": \"https://picsum.photos/202\",\n",
    "        \"password\": \"Admin123@\",\n",
    "        \"is_admin\": True\n",
    "    }\n",
    "]"
   ]
  },
  {
   "cell_type": "code",
   "execution_count": null,
   "metadata": {},
   "outputs": [],
   "source": []
  },
  {
   "cell_type": "code",
   "execution_count": 6,
   "metadata": {},
   "outputs": [],
   "source": [
    "from ib_users.interactors.user_profile_interactor import UserProfileDTO, \\\n",
    "    CreateUserProfileDTO\n",
    "\n",
    "class IbUsersServiceAdapter:\n",
    "    @property\n",
    "    def interface(self):\n",
    "        from ib_users.interfaces.service_interface import ServiceInterface\n",
    "        return ServiceInterface()\n",
    "    \n",
    "    def create_user_account_with_email(\n",
    "        self, email: str, password: str):\n",
    "\n",
    "        user_id = self.interface.create_user_account_with_email(\n",
    "            email=email, password=password)\n",
    "\n",
    "        return user_id\n",
    "    \n",
    "    def create_user_profile_with_email(self, user_id, name, email, profile_pic_url):\n",
    "        profile = CreateUserProfileDTO(\n",
    "            name=name,\n",
    "            email=email,\n",
    "            profile_pic_url=profile_pic_url\n",
    "        )\n",
    "        self.interface.create_user_profile(\n",
    "            user_id=user_id,\n",
    "            user_profile=profile\n",
    "        )\n",
    "    "
   ]
  },
  {
   "cell_type": "code",
   "execution_count": 7,
   "metadata": {},
   "outputs": [],
   "source": [
    "from ib_iam.models import *"
   ]
  },
  {
   "cell_type": "code",
   "execution_count": 8,
   "metadata": {},
   "outputs": [],
   "source": [
    "def create_users(users):\n",
    "    ib_users_service = IbUsersServiceAdapter()\n",
    "    for user in users:\n",
    "        user_id = ib_users_service.create_user_account_with_email(user[\"email\"], password=user[\"password\"])\n",
    "        ib_users_service.create_user_profile_with_email(\n",
    "            user_id=user_id, name=user[\"name\"], email=user[\"email\"],\n",
    "            profile_pic_url=user[\"profile_pic_url\"]\n",
    "        )"
   ]
  },
  {
   "cell_type": "code",
   "execution_count": 9,
   "metadata": {},
   "outputs": [],
   "source": [
    "def create_user_details(users):\n",
    "    for user in users:\n",
    "        user_id = UserAccount.objects.get(email=user[\"email\"]).user_id\n",
    "        UserDetails.objects.create(user_id=user_id, is_admin=user[\"is_admin\"], name=user[\"name\"])"
   ]
  },
  {
   "cell_type": "code",
   "execution_count": 10,
   "metadata": {},
   "outputs": [],
   "source": [
    "\"\"\"normal users create\"\"\"\n",
    "\n",
    "create_users(users=users)\n",
    "create_user_details(users=users)"
   ]
  },
  {
   "cell_type": "code",
   "execution_count": 11,
   "metadata": {},
   "outputs": [],
   "source": [
    "\"\"\"admin users create\"\"\"\n",
    "\n",
    "create_users(users=admin_users)\n",
    "create_user_details(users=admin_users)"
   ]
  },
  {
   "cell_type": "code",
   "execution_count": null,
   "metadata": {},
   "outputs": [],
   "source": []
  },
  {
   "cell_type": "code",
   "execution_count": null,
   "metadata": {},
   "outputs": [],
   "source": []
  },
  {
   "cell_type": "code",
   "execution_count": null,
   "metadata": {},
   "outputs": [],
   "source": []
  },
  {
   "cell_type": "code",
   "execution_count": 12,
   "metadata": {},
   "outputs": [],
   "source": [
    "companies = [\n",
    "    {\n",
    "        \"name\": \"iBHubs\",\n",
    "        \"description\": \"iB Hubs fosters and enables the adoption of 4.0 technologies among individuals, companies and countries.\",\n",
    "        \"logo_url\": \"https://dynamic.placementindia.com/recruiter_comp_logo/621380.png\"\n",
    "    },\n",
    "    {\n",
    "        \"name\": \"CyberEye\",\n",
    "        \"description\": \"CyberEye Research Labs & Security Solutions Pvt. Ltd. envisions to create a 'Smart, Secure and Sustainable Planet'\",\n",
    "        \"logo_url\": \"https://s3-ap-southeast-1.amazonaws.com/ibhubs-media-files/iBHubs+_+Startups/StartupCards/logo-cybereye.png\"\n",
    "    },\n",
    "    {\n",
    "        \"name\": \"Proyuga\",\n",
    "        \"description\": \"Proyuga Advanced Technologies Ltd. develops transformative products in VR, AR & MR.\",\n",
    "        \"logo_url\": \"https://res.cloudinary.com/due4dmz2b/image/fetch/dpr_auto,w_auto,f_auto,q_auto/https://proyuga-media-assets.s3.ap-south-1.amazonaws.com/ib-cricket-logo-reg.png\"\n",
    "    }\n",
    "]"
   ]
  },
  {
   "cell_type": "code",
   "execution_count": 13,
   "metadata": {},
   "outputs": [],
   "source": [
    "def create_companies(companies):\n",
    "    for company in companies:\n",
    "        Company.objects.create(\n",
    "            name=company[\"name\"], description=company[\"description\"], \n",
    "            logo_url=company[\"logo_url\"]\n",
    "        )"
   ]
  },
  {
   "cell_type": "code",
   "execution_count": 14,
   "metadata": {},
   "outputs": [],
   "source": [
    "\"\"\"Create Companies\"\"\"\n",
    "\n",
    "create_companies(companies=companies)"
   ]
  },
  {
   "cell_type": "code",
   "execution_count": 15,
   "metadata": {},
   "outputs": [],
   "source": [
    "company_users = [\n",
    "    {\n",
    "        \"company_name\": \"iBHubs\",\n",
    "        \"email\": \"kavya@ibhubs.co\"\n",
    "    },\n",
    "    {\n",
    "        \"company_name\": \"iBHubs\",\n",
    "        \"email\": \"neerad@ibhubs.co\"\n",
    "    },\n",
    "    {\n",
    "        \"company_name\": \"iBHubs\",\n",
    "        \"email\": \"anupam@ibhubs.co\"\n",
    "    },\n",
    "    {\n",
    "        \"company_name\": \"CyberEye\",\n",
    "        \"email\": \"ramganesh@ibhubs.co\"\n",
    "    },\n",
    "    {\n",
    "        \"company_name\": \"CyberEye\",\n",
    "        \"email\": \"sriram@ibhubs.co\"\n",
    "    },\n",
    "    {\n",
    "        \"company_name\": \"CyberEye\",\n",
    "        \"email\": \"rajeev@ibhubs.co\"\n",
    "    },\n",
    "    {\n",
    "        \"company_name\": \"CyberEye\",\n",
    "        \"email\": \"sundar@ibhubs.co\"\n",
    "    },\n",
    "    {\n",
    "        \"company_name\": \"Proyuga\",\n",
    "        \"email\": \"thrivikram@ibhubs.co\"\n",
    "    },\n",
    "    {\n",
    "        \"company_name\": \"Proyuga\",\n",
    "        \"email\": \"vamshi@ibhubs.co\"\n",
    "    },\n",
    "    {\n",
    "        \"company_name\": \"Proyuga\",\n",
    "        \"email\": \"revanth@ibhubs.co\"\n",
    "    },\n",
    "    {\n",
    "        \"company_name\": \"Proyuga\",\n",
    "        \"email\": \"vedavidh@ibhubs.co\"\n",
    "    },\n",
    "]"
   ]
  },
  {
   "cell_type": "code",
   "execution_count": 16,
   "metadata": {},
   "outputs": [],
   "source": [
    "def create_company_users(company_users):\n",
    "    for company_user in company_users:\n",
    "        company = Company.objects.get(name=company_user[\"company_name\"])\n",
    "        user_id = UserAccount.objects.get(email=company_user[\"email\"])\n",
    "        user = UserDetails.objects.get(user_id=user_id)\n",
    "        user.company = company\n",
    "        user.save()"
   ]
  },
  {
   "cell_type": "code",
   "execution_count": 17,
   "metadata": {},
   "outputs": [],
   "source": [
    "\"\"\"create company users \"\"\"\n",
    "create_company_users(company_users=company_users)"
   ]
  },
  {
   "cell_type": "code",
   "execution_count": 18,
   "metadata": {},
   "outputs": [],
   "source": [
    "\n",
    "teams = [\n",
    "    {\n",
    "        \"name\": \"Tech Team\",\n",
    "        \"description\": \"Technology Teams are formed to deliver a unique set of solutions and services within your organization.\",\n",
    "        \"created_by\": \"Rajesh\"\n",
    "    },\n",
    "    {\n",
    "        \"name\": \"Discovery Team\",\n",
    "        \"description\": \"The discovery team is formed by those who can help to lead the discovery work and who has knowledge in if it is feasible (developer), usable\",\n",
    "        \"created_by\": \"Rajesh\"\n",
    "    },\n",
    "    {\n",
    "        \"name\": \"iB Studio Team\",\n",
    "        \"description\": \"We have an in-house Studio team of strength 20+ which includes passionate designers and artists and we are looking forward to invite more.\",\n",
    "        \"created_by\": \"Rajesh\"\n",
    "    },\n",
    "    {\n",
    "        \"name\": \"Assert Management Team\",\n",
    "        \"description\": \"A team assessment is an exercise that allows you to evaluate a team's strengths and weaknesses.\",\n",
    "        \"created_by\": \"Rajesh\"\n",
    "    },\n",
    "]"
   ]
  },
  {
   "cell_type": "code",
   "execution_count": 19,
   "metadata": {},
   "outputs": [],
   "source": [
    "def create_teams(teams):\n",
    "    for team in teams:\n",
    "        Team.objects.create(\n",
    "            name=team['name'],description=team['description'],created_by=team[\"created_by\"])"
   ]
  },
  {
   "cell_type": "code",
   "execution_count": 20,
   "metadata": {},
   "outputs": [],
   "source": [
    "\"\"\"Create Teams\"\"\"\n",
    "create_teams(teams=teams)"
   ]
  },
  {
   "cell_type": "code",
   "execution_count": 21,
   "metadata": {},
   "outputs": [],
   "source": [
    "team_users = [\n",
    "    {\n",
    "        \"team_name\": \"Tech Team\",\n",
    "        \"email\": \"vasanth@ibhubs.co\",\n",
    "    },\n",
    "    {\n",
    "        \"team_name\": \"Tech Team\",\n",
    "        \"email\": \"thrivikram@ibhubs.co\",\n",
    "    },\n",
    "    {\n",
    "        \"team_name\": \"Tech Team\",\n",
    "        \"email\": \"vedavidh@ibhubs.co\",\n",
    "    },\n",
    "    {\n",
    "        \"team_name\": \"Discovery Team\",\n",
    "        \"email\": \"rajeev@ibhubs.co\",\n",
    "    },\n",
    "    {\n",
    "        \"team_name\": \"Discovery Team\",\n",
    "        \"email\": \"sundar@ibhubs.co\",\n",
    "    },\n",
    "    {\n",
    "        \"team_name\": \"Discovery Team\",\n",
    "        \"email\": \"sriram@ibhubs.co\",\n",
    "    },\n",
    "    {\n",
    "        \"team_name\": \"iB Studio Team\",\n",
    "        \"email\": \"jayakiran@ibhubs.co\",\n",
    "    },\n",
    "    {\n",
    "        \"team_name\": \"iB Studio Team\",\n",
    "        \"email\": \"vamshi@ibhubs.co\",\n",
    "    },\n",
    "    {\n",
    "        \"team_name\": \"iB Studio Team\",\n",
    "        \"email\": \"anupam@ibhubs.co\",\n",
    "    }\n",
    "]"
   ]
  },
  {
   "cell_type": "code",
   "execution_count": 22,
   "metadata": {},
   "outputs": [],
   "source": [
    "def create_team_users(team_users):\n",
    "    for team_user in team_users:\n",
    "        team = Team.objects.get(name=team_user['team_name'])\n",
    "        user_id = UserAccount.objects.get(email=team_user[\"email\"]).user_id\n",
    "        UserTeam.objects.create(team=team, user_id=user_id)"
   ]
  },
  {
   "cell_type": "code",
   "execution_count": 23,
   "metadata": {},
   "outputs": [],
   "source": [
    "\"\"\"create team users\"\"\"\n",
    "create_team_users(team_users=team_users)"
   ]
  },
  {
   "cell_type": "code",
   "execution_count": 24,
   "metadata": {},
   "outputs": [],
   "source": [
    "role_ids = list(Role.objects.all().values_list('id', flat=True))"
   ]
  },
  {
   "cell_type": "code",
   "execution_count": 25,
   "metadata": {},
   "outputs": [],
   "source": [
    "user_emails = [\n",
    "    \"vasanth@ibhubs.co\", \"thrivikram@ibhubs.co\", \"vedavidh@ibhubs.co\", \"rajeev@ibhubs.co\", \"sundar@ibhubs.co\", \"\"\n",
    "]"
   ]
  },
  {
   "cell_type": "code",
   "execution_count": 26,
   "metadata": {},
   "outputs": [],
   "source": [
    "import random\n",
    "def create_user_roles(users):\n",
    "    for user in users:\n",
    "        no_of_roles = random.randint(1,4)\n",
    "        user_role_ids = random.sample(role_ids, no_of_roles)\n",
    "        user_id = UserAccount.objects.get(email=user[\"email\"]).user_id\n",
    "        for user_role_id in user_role_ids:\n",
    "            UserRole.objects.create(role_id=user_role_id, user_id=user_id)\n"
   ]
  },
  {
   "cell_type": "code",
   "execution_count": 27,
   "metadata": {},
   "outputs": [],
   "source": [
    "\"\"\"Create User Roles\"\"\"\n",
    "create_user_roles(users=users)"
   ]
  },
  {
   "cell_type": "code",
   "execution_count": null,
   "metadata": {},
   "outputs": [],
   "source": []
  }
 ],
 "metadata": {
  "kernelspec": {
   "display_name": "Python 3",
   "language": "python",
   "name": "python3"
  },
  "language_info": {
   "codemirror_mode": {
    "name": "ipython",
    "version": 3
   },
   "file_extension": ".py",
   "mimetype": "text/x-python",
   "name": "python",
   "nbconvert_exporter": "python",
   "pygments_lexer": "ipython3",
   "version": "3.8.2"
  }
 },
 "nbformat": 4,
 "nbformat_minor": 2
}
