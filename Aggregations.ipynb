{
 "cells": [
  {
   "cell_type": "code",
   "execution_count": 12,
   "metadata": {},
   "outputs": [
    {
     "data": {
      "text/plain": [
       "<Elasticsearch([{'host': 'localhost', 'port': 9200}])>"
      ]
     },
     "execution_count": 12,
     "metadata": {},
     "output_type": "execute_result"
    }
   ],
   "source": [
    "import os\n",
    "import django\n",
    "os.environ.setdefault(\"DJANGO_SETTINGS_MODULE\", \"ib_workflows_backend.settings.local\")\n",
    "\n",
    "django.setup()\n",
    "from elasticsearch_dsl import connections\n",
    "from django.conf import settings \n",
    "connections.create_connection(hosts=[settings.ELASTICSEARCH_ENDPOINT],timeout=20)"
   ]
  },
  {
   "cell_type": "code",
   "execution_count": 13,
   "metadata": {},
   "outputs": [],
   "source": [
    "from elasticsearch_dsl import Document, Date, Nested, Boolean, \\\n",
    "    analyzer, InnerDoc, Completion, Keyword, Text, Q, Search, Mapping, Integer, Keyword, A"
   ]
  },
  {
   "cell_type": "code",
   "execution_count": 177,
   "metadata": {},
   "outputs": [],
   "source": [
    "s = Search(index='task-local')"
   ]
  },
  {
   "cell_type": "code",
   "execution_count": 178,
   "metadata": {},
   "outputs": [
    {
     "data": {
      "text/plain": [
       "8643"
      ]
     },
     "execution_count": 178,
     "metadata": {},
     "output_type": "execute_result"
    }
   ],
   "source": [
    "s.count()"
   ]
  },
  {
   "cell_type": "code",
   "execution_count": 179,
   "metadata": {},
   "outputs": [],
   "source": [
    "a = A('terms', field='template_id.keyword')\n",
    "a_1 = A('terms', field='stages.stage_id.keyword')\n",
    "a_data = A('top_hits')\n",
    "a.to_dict\n",
    "agg_1 = {\n",
    "    \"template_id\": a\n",
    "}\n",
    "agg_2 = {\n",
    "    \"stage_id\": a_1\n",
    "}\n",
    "data = {\n",
    "    \"data\": a_data\n",
    "}\n",
    "m_aggs = [agg_1, agg_2]"
   ]
  },
  {
   "cell_type": "code",
   "execution_count": 189,
   "metadata": {},
   "outputs": [
    {
     "data": {
      "text/plain": [
       "Terms(field='template_id.keyword')"
      ]
     },
     "execution_count": 189,
     "metadata": {},
     "output_type": "execute_result"
    }
   ],
   "source": [
    "s.aggs.bucket('my_buckets',a)"
   ]
  },
  {
   "cell_type": "code",
   "execution_count": 190,
   "metadata": {},
   "outputs": [
    {
     "data": {
      "text/plain": [
       "{'aggs': {'my_buckets': {'terms': {'field': 'template_id.keyword'}}}}"
      ]
     },
     "execution_count": 190,
     "metadata": {},
     "output_type": "execute_result"
    }
   ],
   "source": [
    "s.to_dict()"
   ]
  },
  {
   "cell_type": "code",
   "execution_count": 191,
   "metadata": {},
   "outputs": [],
   "source": [
    "response = s.execute()"
   ]
  },
  {
   "cell_type": "code",
   "execution_count": 192,
   "metadata": {},
   "outputs": [
    {
     "name": "stdout",
     "output_type": "stream",
     "text": [
      "{'key': {'template_id': 'FIN_PR', 'stage_id': 'PR_PAYMENT_RE...}\n",
      "{'key': {'template_id': 'FIN_PR', 'stage_id': 'PR_PENDING_AC...}\n",
      "{'key': {'template_id': 'FIN_PR', 'stage_id': 'PR_PENDING_PA...}\n",
      "{'key': {'template_id': 'FIN_PR', 'stage_id': 'PR_PENDING_PA...}\n",
      "{'key': {'template_id': 'FIN_PR', 'stage_id': 'PR_PENDING_PA...}\n",
      "{'key': {'template_id': 'FIN_PR', 'stage_id': 'PR_PENDING_RP...}\n",
      "{'key': {'template_id': 'FIN_VENDOR', 'stage_id': 'VENDOR_AC...}\n",
      "{'key': {'template_id': 'FIN_VENDOR', 'stage_id': 'VENDOR_PA...}\n",
      "{'key': {'template_id': 'FIN_VENDOR', 'stage_id': 'VENDOR_PA...}\n",
      "{'key': {'template_id': 'FIN_VENDOR', 'stage_id': 'VENDOR_PE...}\n"
     ]
    }
   ],
   "source": [
    "for item in response.aggregations.my_buckets.buckets:\n",
    "    print(item)"
   ]
  },
  {
   "cell_type": "code",
   "execution_count": null,
   "metadata": {},
   "outputs": [],
   "source": []
  },
  {
   "cell_type": "code",
   "execution_count": null,
   "metadata": {},
   "outputs": [],
   "source": []
  }
 ],
 "metadata": {
  "kernelspec": {
   "display_name": "Python 3",
   "language": "python",
   "name": "python3"
  },
  "language_info": {
   "codemirror_mode": {
    "name": "ipython",
    "version": 3
   },
   "file_extension": ".py",
   "mimetype": "text/x-python",
   "name": "python",
   "nbconvert_exporter": "python",
   "pygments_lexer": "ipython3",
   "version": "3.8.2"
  }
 },
 "nbformat": 4,
 "nbformat_minor": 4
}
