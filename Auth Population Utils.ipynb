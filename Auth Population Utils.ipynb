{
 "cells": [
  {
   "cell_type": "code",
   "execution_count": 1,
   "metadata": {},
   "outputs": [
    {
     "data": {
      "text/plain": [
       "'\\nIb Users SetUp\\n'"
      ]
     },
     "execution_count": 1,
     "metadata": {},
     "output_type": "execute_result"
    }
   ],
   "source": [
    "\"\"\"\n",
    "Ib Users SetUp\n",
    "\"\"\""
   ]
  },
  {
   "cell_type": "code",
   "execution_count": 2,
   "metadata": {},
   "outputs": [
    {
     "name": "stdout",
     "output_type": "stream",
     "text": [
      "LE: \n",
      "\n",
      "It appears the LOGENTRIES_TOKEN parameter you entered is incorrect!\n",
      "\n",
      "\n"
     ]
    }
   ],
   "source": [
    "import django\n",
    "django.setup()"
   ]
  },
  {
   "cell_type": "code",
   "execution_count": 3,
   "metadata": {},
   "outputs": [],
   "source": [
    "from ib_users.models import UserAccount"
   ]
  },
  {
   "cell_type": "code",
   "execution_count": 4,
   "metadata": {},
   "outputs": [],
   "source": [
    "admin_users = [\n",
    "    {\n",
    "        \"email\": \"ibadmin@ibhubs.co\",\n",
    "        \"name\": \"raju\",\n",
    "        \"profile_pic_url\": \"http://dummy.restapiexample.com/1\",\n",
    "        \"password\": \"Admin123@\",\n",
    "        \"is_admin\": True\n",
    "    },\n",
    "    {\n",
    "        \"email\": \"cybereyeadmin@ibhubs.co\",\n",
    "        \"name\": \"latha\",\n",
    "        \"profile_pic_url\": \"http://dummy.restapiexample.com/1\",\n",
    "        \"password\": \"Admin123@\",\n",
    "        \"is_admin\": True\n",
    "    }\n",
    "]"
   ]
  },
  {
   "cell_type": "code",
   "execution_count": null,
   "metadata": {},
   "outputs": [],
   "source": []
  },
  {
   "cell_type": "code",
   "execution_count": 5,
   "metadata": {},
   "outputs": [],
   "source": [
    "from ib_users.interactors.user_profile_interactor import UserProfileDTO, \\\n",
    "    CreateUserProfileDTO\n",
    "\n",
    "class IbUsersServiceAdapter:\n",
    "    @property\n",
    "    def interface(self):\n",
    "        from ib_users.interfaces.service_interface import ServiceInterface\n",
    "        return ServiceInterface()\n",
    "    \n",
    "    def create_user_account_with_email(\n",
    "        self, email: str, password: str):\n",
    "\n",
    "        user_id = self.interface.create_user_account_with_email(\n",
    "            email=email, password=password)\n",
    "\n",
    "        return user_id\n",
    "    \n",
    "    def create_user_profile_with_email(self, user_id, name, email, profile_pic_url):\n",
    "        profile = CreateUserProfileDTO(\n",
    "            name=name,\n",
    "            email=email,\n",
    "            profile_pic_url=profile_pic_url\n",
    "        )\n",
    "        self.interface.create_user_profile(\n",
    "            user_id=user_id,\n",
    "            user_profile=profile\n",
    "        )\n",
    "    "
   ]
  },
  {
   "cell_type": "code",
   "execution_count": 6,
   "metadata": {},
   "outputs": [],
   "source": [
    "from ib_iam.models import UserDetails"
   ]
  },
  {
   "cell_type": "code",
   "execution_count": 7,
   "metadata": {},
   "outputs": [],
   "source": [
    "def create_ib_users(users):\n",
    "    ib_users_service = IbUsersServiceAdapter()\n",
    "    for user in users:\n",
    "        user_id = ib_users_service.create_user_account_with_email(user[\"email\"], password=user[\"password\"])\n",
    "        ib_users_service.create_user_profile_with_email(\n",
    "            user_id=user_id, name=user[\"name\"], email=user[\"email\"],\n",
    "            profile_pic_url=user[\"profile_pic_url\"]\n",
    "        )"
   ]
  },
  {
   "cell_type": "code",
   "execution_count": 8,
   "metadata": {},
   "outputs": [],
   "source": [
    "def create_iam_user_details(users):\n",
    "    for user in users:\n",
    "        user_id = UserAccount.objects.get(email=user[\"email\"]).user_id\n",
    "        UserDetails.objects.create(user_id=user_id, is_admin=user[\"is_admin\"], name=user[\"name\"])"
   ]
  },
  {
   "cell_type": "code",
   "execution_count": 9,
   "metadata": {},
   "outputs": [],
   "source": [
    "\"\"\"admin users create\"\"\"\n",
    "\n",
    "create_ib_users(users=admin_users)\n",
    "create_iam_user_details(users=admin_users)"
   ]
  },
  {
   "cell_type": "code",
   "execution_count": null,
   "metadata": {},
   "outputs": [],
   "source": []
  },
  {
   "cell_type": "code",
   "execution_count": null,
   "metadata": {},
   "outputs": [],
   "source": []
  },
  {
   "cell_type": "code",
   "execution_count": 10,
   "metadata": {},
   "outputs": [],
   "source": [
    "test_users = [\n",
    "    {\n",
    "        \"email\": \"testuserone@ibhubs.co\",\n",
    "        \"name\": \"testuserone\",\n",
    "        \"profile_pic_url\": \"http://dummy.restapiexample.com/4\",\n",
    "        \"password\": \"sample123@\",\n",
    "        \"is_admin\": False\n",
    "    },\n",
    "    {\n",
    "        \"email\": \"testusertwo@ibhubs.co\",\n",
    "        \"name\": \"testusertwo\",\n",
    "        \"profile_pic_url\": \"http://dummy.restapiexample.com/5\",\n",
    "        \"password\": \"sample123@\",\n",
    "        \"is_admin\": False\n",
    "    },\n",
    "    {\n",
    "        \"email\": \"testuserthree@ibhubs.co\",\n",
    "        \"name\": \"testuserthree\",\n",
    "        \"profile_pic_url\": \"http://dummy.restapiexample.com/6\",\n",
    "        \"password\": \"sample123@\",\n",
    "        \"is_admin\": False\n",
    "    },\n",
    "    {\n",
    "        \"email\": \"testuserfour@ibhubs.co\",\n",
    "        \"name\": \"testuserfour\",\n",
    "        \"profile_pic_url\": \"http://dummy.restapiexample.com/7\",\n",
    "        \"password\": \"sample123@\",\n",
    "        \"is_admin\": False\n",
    "    },\n",
    "    {\n",
    "        \"email\": \"testuserfive@ibhubs.co\",\n",
    "        \"name\": \"testuserfive\",\n",
    "        \"profile_pic_url\": \"http://dummy.restapiexample.com/8\",\n",
    "        \"password\": \"sample123@\",\n",
    "        \"is_admin\": False\n",
    "    }\n",
    "]"
   ]
  },
  {
   "cell_type": "code",
   "execution_count": 11,
   "metadata": {},
   "outputs": [
    {
     "ename": "AccountWithThisEmailAlreadyExistsException",
     "evalue": "(AccountWithThisEmailAlreadyExistsException(...), 'Account already exists with this email id')",
     "output_type": "error",
     "traceback": [
      "\u001b[0;31m---------------------------------------------------------------------------\u001b[0m",
      "\u001b[0;31mAccountWithThisEmailAlreadyExistsException\u001b[0mTraceback (most recent call last)",
      "\u001b[0;32m<ipython-input-11-31b7f64c51f8>\u001b[0m in \u001b[0;36m<module>\u001b[0;34m\u001b[0m\n\u001b[1;32m      1\u001b[0m \u001b[0;34m\"\"\"Test users create for testing\"\"\"\u001b[0m\u001b[0;34m\u001b[0m\u001b[0;34m\u001b[0m\u001b[0m\n\u001b[1;32m      2\u001b[0m \u001b[0;34m\u001b[0m\u001b[0m\n\u001b[0;32m----> 3\u001b[0;31m \u001b[0mcreate_ib_users\u001b[0m\u001b[0;34m(\u001b[0m\u001b[0musers\u001b[0m\u001b[0;34m=\u001b[0m\u001b[0madmin_users\u001b[0m\u001b[0;34m)\u001b[0m\u001b[0;34m\u001b[0m\u001b[0;34m\u001b[0m\u001b[0m\n\u001b[0m\u001b[1;32m      4\u001b[0m \u001b[0mcreate_iam_user_details\u001b[0m\u001b[0;34m(\u001b[0m\u001b[0musers\u001b[0m\u001b[0;34m=\u001b[0m\u001b[0madmin_users\u001b[0m\u001b[0;34m)\u001b[0m\u001b[0;34m\u001b[0m\u001b[0;34m\u001b[0m\u001b[0m\n",
      "\u001b[0;32m<ipython-input-7-cd07626fa3dc>\u001b[0m in \u001b[0;36mcreate_ib_users\u001b[0;34m(users)\u001b[0m\n\u001b[1;32m      2\u001b[0m     \u001b[0mib_users_service\u001b[0m \u001b[0;34m=\u001b[0m \u001b[0mIbUsersServiceAdapter\u001b[0m\u001b[0;34m(\u001b[0m\u001b[0;34m)\u001b[0m\u001b[0;34m\u001b[0m\u001b[0;34m\u001b[0m\u001b[0m\n\u001b[1;32m      3\u001b[0m     \u001b[0;32mfor\u001b[0m \u001b[0muser\u001b[0m \u001b[0;32min\u001b[0m \u001b[0musers\u001b[0m\u001b[0;34m:\u001b[0m\u001b[0;34m\u001b[0m\u001b[0;34m\u001b[0m\u001b[0m\n\u001b[0;32m----> 4\u001b[0;31m         \u001b[0muser_id\u001b[0m \u001b[0;34m=\u001b[0m \u001b[0mib_users_service\u001b[0m\u001b[0;34m.\u001b[0m\u001b[0mcreate_user_account_with_email\u001b[0m\u001b[0;34m(\u001b[0m\u001b[0muser\u001b[0m\u001b[0;34m[\u001b[0m\u001b[0;34m\"email\"\u001b[0m\u001b[0;34m]\u001b[0m\u001b[0;34m,\u001b[0m \u001b[0mpassword\u001b[0m\u001b[0;34m=\u001b[0m\u001b[0muser\u001b[0m\u001b[0;34m[\u001b[0m\u001b[0;34m\"password\"\u001b[0m\u001b[0;34m]\u001b[0m\u001b[0;34m)\u001b[0m\u001b[0;34m\u001b[0m\u001b[0;34m\u001b[0m\u001b[0m\n\u001b[0m\u001b[1;32m      5\u001b[0m         ib_users_service.create_user_profile_with_email(\n\u001b[1;32m      6\u001b[0m             \u001b[0muser_id\u001b[0m\u001b[0;34m=\u001b[0m\u001b[0muser_id\u001b[0m\u001b[0;34m,\u001b[0m \u001b[0mname\u001b[0m\u001b[0;34m=\u001b[0m\u001b[0muser\u001b[0m\u001b[0;34m[\u001b[0m\u001b[0;34m\"name\"\u001b[0m\u001b[0;34m]\u001b[0m\u001b[0;34m,\u001b[0m \u001b[0memail\u001b[0m\u001b[0;34m=\u001b[0m\u001b[0muser\u001b[0m\u001b[0;34m[\u001b[0m\u001b[0;34m\"email\"\u001b[0m\u001b[0;34m]\u001b[0m\u001b[0;34m,\u001b[0m\u001b[0;34m\u001b[0m\u001b[0;34m\u001b[0m\u001b[0m\n",
      "\u001b[0;32m<ipython-input-5-2de982e90605>\u001b[0m in \u001b[0;36mcreate_user_account_with_email\u001b[0;34m(self, email, password)\u001b[0m\n\u001b[1;32m     11\u001b[0m         self, email: str, password: str):\n\u001b[1;32m     12\u001b[0m \u001b[0;34m\u001b[0m\u001b[0m\n\u001b[0;32m---> 13\u001b[0;31m         user_id = self.interface.create_user_account_with_email(\n\u001b[0m\u001b[1;32m     14\u001b[0m             email=email, password=password)\n\u001b[1;32m     15\u001b[0m \u001b[0;34m\u001b[0m\u001b[0m\n",
      "\u001b[0;32m~/workspace/python/ib-workflows-backend/venv/lib/python3.8/site-packages/ib_users/interfaces/service_interface.py\u001b[0m in \u001b[0;36mcreate_user_account_with_email\u001b[0;34m(email, password, username)\u001b[0m\n\u001b[1;32m    155\u001b[0m             \u001b[0musername\u001b[0m\u001b[0;34m=\u001b[0m\u001b[0musername\u001b[0m\u001b[0;34m\u001b[0m\u001b[0;34m\u001b[0m\u001b[0m\n\u001b[1;32m    156\u001b[0m         )\n\u001b[0;32m--> 157\u001b[0;31m         user_id_dict = interactor.create_account_with_email(\n\u001b[0m\u001b[1;32m    158\u001b[0m             \u001b[0mcreate_account_dto\u001b[0m\u001b[0;34m\u001b[0m\u001b[0;34m\u001b[0m\u001b[0m\n\u001b[1;32m    159\u001b[0m         )\n",
      "\u001b[0;32m~/workspace/python/ib-workflows-backend/venv/lib/python3.8/site-packages/ib_users/interactors/registration/email_registration_interactor.py\u001b[0m in \u001b[0;36mcreate_account_with_email\u001b[0;34m(self, create_account_dto)\u001b[0m\n\u001b[1;32m     16\u001b[0m             \u001b[0mself\u001b[0m\u001b[0;34m.\u001b[0m\u001b[0mvalidate_username\u001b[0m\u001b[0;34m(\u001b[0m\u001b[0mcreate_account_dto\u001b[0m\u001b[0;34m.\u001b[0m\u001b[0musername\u001b[0m\u001b[0;34m)\u001b[0m\u001b[0;34m\u001b[0m\u001b[0;34m\u001b[0m\u001b[0m\n\u001b[1;32m     17\u001b[0m \u001b[0;34m\u001b[0m\u001b[0m\n\u001b[0;32m---> 18\u001b[0;31m         \u001b[0mself\u001b[0m\u001b[0;34m.\u001b[0m\u001b[0mcheck_email_is_registered\u001b[0m\u001b[0;34m(\u001b[0m\u001b[0mcreate_account_dto\u001b[0m\u001b[0;34m.\u001b[0m\u001b[0memail\u001b[0m\u001b[0;34m)\u001b[0m\u001b[0;34m\u001b[0m\u001b[0;34m\u001b[0m\u001b[0m\n\u001b[0m\u001b[1;32m     19\u001b[0m \u001b[0;34m\u001b[0m\u001b[0m\n\u001b[1;32m     20\u001b[0m         \u001b[0mPasswordValidator\u001b[0m\u001b[0;34m.\u001b[0m\u001b[0mvalidate\u001b[0m\u001b[0;34m(\u001b[0m\u001b[0mcreate_account_dto\u001b[0m\u001b[0;34m.\u001b[0m\u001b[0mpassword\u001b[0m\u001b[0;34m)\u001b[0m\u001b[0;34m\u001b[0m\u001b[0;34m\u001b[0m\u001b[0m\n",
      "\u001b[0;32m~/workspace/python/ib-workflows-backend/venv/lib/python3.8/site-packages/ib_users/interactors/registration/email_registration_interactor.py\u001b[0m in \u001b[0;36mcheck_email_is_registered\u001b[0;34m(self, email)\u001b[0m\n\u001b[1;32m     25\u001b[0m \u001b[0;34m\u001b[0m\u001b[0m\n\u001b[1;32m     26\u001b[0m     \u001b[0;32mdef\u001b[0m \u001b[0mcheck_email_is_registered\u001b[0m\u001b[0;34m(\u001b[0m\u001b[0mself\u001b[0m\u001b[0;34m,\u001b[0m \u001b[0memail\u001b[0m\u001b[0;34m)\u001b[0m\u001b[0;34m:\u001b[0m\u001b[0;34m\u001b[0m\u001b[0;34m\u001b[0m\u001b[0m\n\u001b[0;32m---> 27\u001b[0;31m         \u001b[0mself\u001b[0m\u001b[0;34m.\u001b[0m\u001b[0maccounts_storage\u001b[0m\u001b[0;34m.\u001b[0m\u001b[0mcheck_user_exists_with_email\u001b[0m\u001b[0;34m(\u001b[0m\u001b[0memail\u001b[0m\u001b[0;34m)\u001b[0m\u001b[0;34m\u001b[0m\u001b[0;34m\u001b[0m\u001b[0m\n\u001b[0m",
      "\u001b[0;32m~/workspace/python/ib-workflows-backend/venv/lib/python3.8/site-packages/ib_users/storages/user_accounts_sql_storage.py\u001b[0m in \u001b[0;36mcheck_user_exists_with_email\u001b[0;34m(self, email)\u001b[0m\n\u001b[1;32m    152\u001b[0m     \u001b[0;32mdef\u001b[0m \u001b[0mcheck_user_exists_with_email\u001b[0m\u001b[0;34m(\u001b[0m\u001b[0mself\u001b[0m\u001b[0;34m,\u001b[0m \u001b[0memail\u001b[0m\u001b[0;34m:\u001b[0m \u001b[0mstr\u001b[0m\u001b[0;34m)\u001b[0m\u001b[0;34m:\u001b[0m\u001b[0;34m\u001b[0m\u001b[0;34m\u001b[0m\u001b[0m\n\u001b[1;32m    153\u001b[0m         \u001b[0;32mif\u001b[0m \u001b[0mUserAccount\u001b[0m\u001b[0;34m.\u001b[0m\u001b[0mobjects\u001b[0m\u001b[0;34m.\u001b[0m\u001b[0mfilter\u001b[0m\u001b[0;34m(\u001b[0m\u001b[0memail\u001b[0m\u001b[0;34m=\u001b[0m\u001b[0memail\u001b[0m\u001b[0;34m)\u001b[0m\u001b[0;34m.\u001b[0m\u001b[0mexists\u001b[0m\u001b[0;34m(\u001b[0m\u001b[0;34m)\u001b[0m\u001b[0;34m:\u001b[0m\u001b[0;34m\u001b[0m\u001b[0;34m\u001b[0m\u001b[0m\n\u001b[0;32m--> 154\u001b[0;31m             \u001b[0;32mraise\u001b[0m \u001b[0mAccountWithThisEmailAlreadyExistsException\u001b[0m\u001b[0;34m\u001b[0m\u001b[0;34m\u001b[0m\u001b[0m\n\u001b[0m\u001b[1;32m    155\u001b[0m \u001b[0;34m\u001b[0m\u001b[0m\n\u001b[1;32m    156\u001b[0m     def check_user_exists_with_phone_number(\n",
      "\u001b[0;31mAccountWithThisEmailAlreadyExistsException\u001b[0m: (AccountWithThisEmailAlreadyExistsException(...), 'Account already exists with this email id')"
     ]
    }
   ],
   "source": [
    "\"\"\"Test users create for testing\"\"\"\n",
    "\n",
    "create_ib_users(users=admin_users)\n",
    "create_iam_user_details(users=admin_users)"
   ]
  }
 ],
 "metadata": {
  "kernelspec": {
   "display_name": "Python 3",
   "language": "python",
   "name": "python3"
  },
  "language_info": {
   "codemirror_mode": {
    "name": "ipython",
    "version": 3
   },
   "file_extension": ".py",
   "mimetype": "text/x-python",
   "name": "python",
   "nbconvert_exporter": "python",
   "pygments_lexer": "ipython3",
   "version": "3.8.2"
  }
 },
 "nbformat": 4,
 "nbformat_minor": 2
}
