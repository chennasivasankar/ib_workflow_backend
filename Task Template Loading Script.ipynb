{
 "cells": [
  {
   "cell_type": "code",
   "execution_count": 1,
   "metadata": {},
   "outputs": [
    {
     "name": "stdout",
     "output_type": "stream",
     "text": [
      "{\n",
      "  \"shell_port\": 51970,\n",
      "  \"shell_port\": 58273,\n",
      "  \"iopub_port\": 51971,\n",
      "  \"iopub_port\": 59409,\n",
      "  \"stdin_port\": 51972,\n",
      "  \"stdin_port\": 46891,\n",
      "  \"control_port\": 51974,\n",
      "  \"control_port\": 54943,\n",
      "  \"hb_port\": 51973,\n",
      "  \"hb_port\": 59395,\n",
      "  \"ip\": \"127.0.0.1\",\n",
      "  \"ip\": \"127.0.0.1\",\n",
      "  \"key\": \"4ab6aeb9-54ce8c8ca0980c0b01674465\",\n",
      "  \"ip\": \"127.0.0.1\",\n",
      "  \"key\": \"c82274e4-fe78f677468ee816e97a1303\",\n",
      "  \"transport\": \"tcp\",\n",
      "  \"signature_scheme\": \"hmac-sha256\",\n",
      "  \"kernel_name\": \"\"\n",
      "}\n",
      "\n",
      "Paste the above JSON into a file, and connect with:\n",
      "    $> jupyter <app> --existing <file>\n",
      "or, if you are local, you can connect with just:\n",
      "    $> jupyter <app> --existing kernel-14cda08c-deac-4b74-a1ae-8bb80d5d491c.json\n",
      "or even just:\n",
      "    $> jupyter <app> --existing\n",
      "if this is the most recent Jupyter kernel you have started.\n"
     ]
    }
   ],
   "source": [
    "%load_ext autoreload\n",
    "%autoreload 2\n",
    "\n",
    "%connect_info"
   ]
  },
  {
   "cell_type": "code",
   "execution_count": 2,
   "metadata": {},
   "outputs": [],
   "source": [
    "import django\n",
    "from django.db import transaction\n",
    "\n",
    "django.setup()"
   ]
  },
  {
   "cell_type": "code",
   "execution_count": 3,
   "metadata": {},
   "outputs": [],
   "source": [
    "CONFIG_SHEET_NAME = \"CCBP Configuration_v4\""
   ]
  },
  {
   "cell_type": "code",
   "execution_count": 4,
   "metadata": {},
   "outputs": [
    {
     "data": {
      "text/plain": [
       "<Project: Project object (JGC_DRIVE)>"
      ]
     },
     "execution_count": 4,
     "metadata": {},
     "output_type": "execute_result"
    }
   ],
   "source": [
    "from ib_iam.models import Project\n",
    "Project.objects.create(project_id=\"JGC_DRIVE\", display_id=\"jgc_drive\", name=\"India 4.0\")"
   ]
  },
  {
   "cell_type": "markdown",
   "metadata": {},
   "source": [
    "### Populate project and project roles"
   ]
  },
  {
   "cell_type": "code",
   "execution_count": 5,
   "metadata": {},
   "outputs": [],
   "source": [
    "@transaction.atomic()\n",
    "def populate_project_and_roles():\n",
    "    from ib_tasks.populate.population_utils import populate_project_roles\n",
    "    populate_project_roles(CONFIG_SHEET_NAME)\n",
    "    \n",
    "\n",
    "@transaction.atomic()\n",
    "def populate_task_and_boards_related_data():\n",
    "    \n",
    "    configuration_sheets = [\n",
    "        CONFIG_SHEET_NAME\n",
    "    ]\n",
    "\n",
    "    for configuration_sheet in configuration_sheets:\n",
    "\n",
    "        from ib_tasks.populate.population_utils import populate_data\n",
    "        populate_data(configuration_sheet)\n",
    "        \n",
    "        from ib_boards.populate.get_data_from_sheet_for_boards_and_columns import GetBoardsAndColumnsDataFromSheet\n",
    "        loader = GetBoardsAndColumnsDataFromSheet()\n",
    "        loader.get_data_from_sheet(configuration_sheet)\n",
    "        loader.create_boards_and_columns(configuration_sheet)\n",
    "\n",
    "        \n",
    "@transaction.atomic()\n",
    "def populate_project_related_data():\n",
    "\n",
    "    from ib_tasks.populate.population_utils import populate_projects_for_task_templates\n",
    "    populate_projects_for_task_templates(CONFIG_SHEET_NAME)\n",
    "    \n",
    "    from ib_boards.populate.get_data_from_sheet_for_project_boards import GetSheetDataForProjectBoards\n",
    "    loader = GetSheetDataForProjectBoards()\n",
    "    loader.get_data_from_project_boards_sub_sheet(CONFIG_SHEET_NAME)\n",
    "\n",
    "@transaction.atomic()\n",
    "def create_indices_in_elasticsearch():\n",
    "    from elasticsearch_dsl import connections\n",
    "    from django.conf import settings\n",
    "    es = connections.create_connection(\n",
    "        hosts=[settings.ELASTICSEARCH_ENDPOINT], timeout=20\n",
    "    )\n",
    "\n",
    "    from ib_tasks.documents.elastic_task import TASK_INDEX_NAME\n",
    "    es.indices.create(index=TASK_INDEX_NAME)\n",
    "\n",
    "\n",
    "\n",
    "    \n",
    "    \n",
    "@transaction.atomic()\n",
    "def load_task_template_from_sheet():\n",
    "#     create_indices_in_elasticsearch()÷\n",
    "        \n",
    "    populate_project_and_roles()\n",
    "    populate_task_and_boards_related_data()\n",
    "    populate_project_related_data()\n"
   ]
  },
  {
   "cell_type": "code",
   "execution_count": 6,
   "metadata": {},
   "outputs": [
    {
     "name": "stdout",
     "output_type": "stream",
     "text": [
      "[BoardDTO(board_id='CCBPB_LEADS', name='India 4.0 Beneficiaries Calls'), BoardDTO(board_id='CCBPB_LEADS_STATUS', name='India 4.0 Beneficiaries Status')] [ColumnDTO(column_id='CCBPC_DRAFTS', name='Beneficiaries Drafts', display_order=1, task_template_stages=[TaskTemplateStagesDTO(task_template_id='CCBP_LGA', stages=['CCBP_DRAFTS'])], user_role_ids=['ALL_ROLES'], column_summary='ColumnSummary1', column_actions='ColumnSummary3', list_view_fields=[TaskSummaryFieldsDTO(task_id='ravi', summary_fields='ravi')], kanban_view_fields=[TaskSummaryFieldsDTO(task_id='ravi', summary_fields='ravi')], board_id='CCBPB_LEADS'), ColumnDTO(column_id='CCBP_LEADS', name='Beneficiaries', display_order=2, task_template_stages=[TaskTemplateStagesDTO(task_template_id='CCBP_LGA', stages=['CCBP_LEADS'])], user_role_ids=['ALL_ROLES'], column_summary='ColumnSummary1', column_actions='ColumnSummary3', list_view_fields=[TaskSummaryFieldsDTO(task_id='ravi', summary_fields='ravi')], kanban_view_fields=[TaskSummaryFieldsDTO(task_id='ravi', summary_fields='ravi')], board_id='CCBPB_LEADS'), ColumnDTO(column_id='CCBPC_CALL1_ATTEMPTED', name='Call 1 Attempted', display_order=3, task_template_stages=[TaskTemplateStagesDTO(task_template_id='CCBP_LGA', stages=['CCBP_CALL1_ATTEMPTED'])], user_role_ids=['ALL_ROLES'], column_summary='ColumnSummary1', column_actions='ColumnSummary3', list_view_fields=[TaskSummaryFieldsDTO(task_id='ravi', summary_fields='ravi')], kanban_view_fields=[TaskSummaryFieldsDTO(task_id='ravi', summary_fields='ravi')], board_id='CCBPB_LEADS'), ColumnDTO(column_id='CCBPC_CALL1_REATTEMPT', name='Call 1 ReAttempt', display_order=4, task_template_stages=[TaskTemplateStagesDTO(task_template_id='CCBP_LGA', stages=['CCBP_CALL1_REATTEMPT'])], user_role_ids=['ALL_ROLES'], column_summary='ColumnSummary1', column_actions='ColumnSummary3', list_view_fields=[TaskSummaryFieldsDTO(task_id='ravi', summary_fields='ravi')], kanban_view_fields=[TaskSummaryFieldsDTO(task_id='ravi', summary_fields='ravi')], board_id='CCBPB_LEADS'), ColumnDTO(column_id='CCBPC_MAKE_CALL2', name='Make Call 2', display_order=5, task_template_stages=[TaskTemplateStagesDTO(task_template_id='CCBP_LGA', stages=['CCBP_MAKE_CALL2'])], user_role_ids=['ALL_ROLES'], column_summary='ColumnSummary1', column_actions='ColumnSummary3', list_view_fields=[TaskSummaryFieldsDTO(task_id='ravi', summary_fields='ravi')], kanban_view_fields=[TaskSummaryFieldsDTO(task_id='ravi', summary_fields='ravi')], board_id='CCBPB_LEADS'), ColumnDTO(column_id='CCBPC_CALL2_ATTEMPTED', name='Call 2 Attempted', display_order=6, task_template_stages=[TaskTemplateStagesDTO(task_template_id='CCBP_LGA', stages=['CCBP_CALL2_ATTEMPTED'])], user_role_ids=['ALL_ROLES'], column_summary='ColumnSummary1', column_actions='ColumnSummary3', list_view_fields=[TaskSummaryFieldsDTO(task_id='ravi', summary_fields='ravi')], kanban_view_fields=[TaskSummaryFieldsDTO(task_id='ravi', summary_fields='ravi')], board_id='CCBPB_LEADS'), ColumnDTO(column_id='CCBPC_CALL2_REATTEMPT', name='Call 2 ReAttempt', display_order=7, task_template_stages=[TaskTemplateStagesDTO(task_template_id='CCBP_LGA', stages=['CCBP_CALL2_REATTEMPT'])], user_role_ids=['ALL_ROLES'], column_summary='ColumnSummary1', column_actions='ColumnSummary3', list_view_fields=[TaskSummaryFieldsDTO(task_id='ravi', summary_fields='ravi')], kanban_view_fields=[TaskSummaryFieldsDTO(task_id='ravi', summary_fields='ravi')], board_id='CCBPB_LEADS'), ColumnDTO(column_id='CCBPC_EXPLORING_FREE_ACCESS', name='Exploring Free Access', display_order=1, task_template_stages=[TaskTemplateStagesDTO(task_template_id='CCBP_LGA', stages=['CCBP_EXPLORING_FREE_ACCESS'])], user_role_ids=['ALL_ROLES'], column_summary='ColumnSummary1', column_actions='ColumnSummary3', list_view_fields=[TaskSummaryFieldsDTO(task_id='ravi', summary_fields='ravi')], kanban_view_fields=[TaskSummaryFieldsDTO(task_id='ravi', summary_fields='ravi')], board_id='CCBPB_LEADS_STATUS'), ColumnDTO(column_id='CCBPC_FOLLOWUP_CALL', name='Follow-up Call', display_order=2, task_template_stages=[TaskTemplateStagesDTO(task_template_id='CCBP_LGA', stages=['CCBP_FOLLOWUP_CALL'])], user_role_ids=['ALL_ROLES'], column_summary='ColumnSummary1', column_actions='ColumnSummary3', list_view_fields=[TaskSummaryFieldsDTO(task_id='ravi', summary_fields='ravi')], kanban_view_fields=[TaskSummaryFieldsDTO(task_id='ravi', summary_fields='ravi')], board_id='CCBPB_LEADS_STATUS'), ColumnDTO(column_id='CCBPC_REGISTRATION_PENDING', name='Registration Pending', display_order=3, task_template_stages=[TaskTemplateStagesDTO(task_template_id='CCBP_LGA', stages=['CCBP_REGISTRATION_PENDING'])], user_role_ids=['ALL_ROLES'], column_summary='ColumnSummary1', column_actions='ColumnSummary3', list_view_fields=[TaskSummaryFieldsDTO(task_id='ravi', summary_fields='ravi')], kanban_view_fields=[TaskSummaryFieldsDTO(task_id='ravi', summary_fields='ravi')], board_id='CCBPB_LEADS_STATUS'), ColumnDTO(column_id='CCBPC_SUCCESSFUL_LEAD', name='Successful Benificiaries', display_order=4, task_template_stages=[TaskTemplateStagesDTO(task_template_id='CCBP_LGA', stages=['CCBP_SUCCESSFUL_LEAD'])], user_role_ids=['ALL_ROLES'], column_summary='ColumnSummary1', column_actions='ColumnSummary3', list_view_fields=[TaskSummaryFieldsDTO(task_id='ravi', summary_fields='ravi')], kanban_view_fields=[TaskSummaryFieldsDTO(task_id='ravi', summary_fields='ravi')], board_id='CCBPB_LEADS_STATUS'), ColumnDTO(column_id='CCBPC_LEAD_LOST', name='Beneficiaries Lost', display_order=5, task_template_stages=[TaskTemplateStagesDTO(task_template_id='CCBP_LGA', stages=['CCBP_LEAD_LOST'])], user_role_ids=['ALL_ROLES'], column_summary='ColumnSummary1', column_actions='ColumnSummary3', list_view_fields=[TaskSummaryFieldsDTO(task_id='ravi', summary_fields='ravi')], kanban_view_fields=[TaskSummaryFieldsDTO(task_id='ravi', summary_fields='ravi')], board_id='CCBPB_LEADS_STATUS')]\n"
     ]
    }
   ],
   "source": [
    "load_task_template_from_sheet()"
   ]
  }
 ],
 "metadata": {
  "kernelspec": {
   "display_name": "Python 3",
   "language": "python",
   "name": "python3"
  },
  "language_info": {
   "codemirror_mode": {
    "name": "ipython",
    "version": 3
   },
   "file_extension": ".py",
   "mimetype": "text/x-python",
   "name": "python",
   "nbconvert_exporter": "python",
   "pygments_lexer": "ipython3",
   "version": "3.8.2"
  }
 },
 "nbformat": 4,
 "nbformat_minor": 4
}
