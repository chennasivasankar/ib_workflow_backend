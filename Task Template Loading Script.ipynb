{
 "cells": [
  {
   "cell_type": "code",
   "execution_count": null,
   "metadata": {},
   "outputs": [],
   "source": [
    "%load_ext autoreload\n",
    "%autoreload 2\n",
    "\n",
    "%connect_info"
   ]
  },
  {
   "cell_type": "code",
   "execution_count": null,
   "metadata": {},
   "outputs": [],
   "source": [
    "import django\n",
    "from django.db import transaction\n",
    "\n",
    "django.setup()"
   ]
  },
  {
   "cell_type": "code",
   "execution_count": null,
   "metadata": {},
   "outputs": [],
   "source": [
    "CONFIG_SHEET_NAME = \"CCBP Configuration_v4\""
   ]
  },
  {
   "cell_type": "code",
   "execution_count": null,
   "metadata": {},
   "outputs": [],
   "source": [
    "from ib_iam.models import Project\n",
    "Project.objects.create(project_id=\"JGC_DRIVE\", display_name)"
   ]
  },
  {
   "cell_type": "markdown",
   "metadata": {},
   "source": [
    "### Populate project and project roles"
   ]
  },
  {
   "cell_type": "code",
   "execution_count": null,
   "metadata": {},
   "outputs": [],
   "source": [
    "@transaction.atomic()\n",
    "def populate_project_and_roles():\n",
    "    from ib_tasks.populate.population_utils import populate_project_roles\n",
    "    populate_project_roles(CONFIG_SHEET_NAME)\n",
    "    \n",
    "\n",
    "@transaction.atomic()\n",
    "def populate_task_and_boards_related_data():\n",
    "    \n",
    "    configuration_sheets = [\n",
    "        CONFIG_SHEET_NAME\n",
    "    ]\n",
    "\n",
    "    for configuration_sheet in configuration_sheets:\n",
    "\n",
    "        from ib_tasks.populate.population_utils import populate_data\n",
    "        populate_data(configuration_sheet)\n",
    "        \n",
    "        from ib_boards.populate.get_data_from_sheet_for_boards_and_columns import GetBoardsAndColumnsDataFromSheet\n",
    "        loader = GetBoardsAndColumnsDataFromSheet()\n",
    "        loader.get_data_from_sheet(configuration_sheet)\n",
    "        loader.create_boards_and_columns(configuration_sheet)\n",
    "\n",
    "        \n",
    "@transaction.atomic()\n",
    "def populate_project_related_data():\n",
    "\n",
    "    from ib_tasks.populate.population_utils import populate_projects_for_task_templates\n",
    "    populate_projects_for_task_templates(CONFIG_SHEET_NAME)\n",
    "    \n",
    "    from ib_boards.populate.get_data_from_sheet_for_project_boards import GetSheetDataForProjectBoards\n",
    "    loader = GetSheetDataForProjectBoards()\n",
    "    loader.get_data_from_project_boards_sub_sheet(CONFIG_SHEET_NAME)\n",
    "\n",
    "@transaction.atomic()\n",
    "def create_indices_in_elasticsearch():\n",
    "    from elasticsearch_dsl import connections\n",
    "    from django.conf import settings\n",
    "    es = connections.create_connection(\n",
    "        hosts=[settings.ELASTICSEARCH_ENDPOINT], timeout=20\n",
    "    )\n",
    "\n",
    "    from ib_tasks.documents.elastic_task import TASK_INDEX_NAME\n",
    "    es.indices.create(index=TASK_INDEX_NAME)\n",
    "\n",
    "\n",
    "\n",
    "    \n",
    "    \n",
    "@transaction.atomic()\n",
    "def load_task_template_from_sheet():\n",
    "#     create_indices_in_elasticsearch()÷\n",
    "        \n",
    "    populate_project_and_roles()\n",
    "    populate_task_and_boards_related_data()\n",
    "    populate_project_related_data()\n"
   ]
  },
  {
   "cell_type": "code",
   "execution_count": null,
   "metadata": {},
   "outputs": [],
   "source": [
    "load_task_template_from_sheet()"
   ]
  },
  {
   "cell_type": "code",
   "execution_count": null,
   "metadata": {},
   "outputs": [],
   "source": []
  }
 ],
 "metadata": {
  "kernelspec": {
   "display_name": "Python 3",
   "language": "python",
   "name": "python3"
  },
  "language_info": {
   "codemirror_mode": {
    "name": "ipython",
    "version": 3
   },
   "file_extension": ".py",
   "mimetype": "text/x-python",
   "name": "python",
   "nbconvert_exporter": "python",
   "pygments_lexer": "ipython3",
   "version": "3.8.2"
  }
 },
 "nbformat": 4,
 "nbformat_minor": 4
}
