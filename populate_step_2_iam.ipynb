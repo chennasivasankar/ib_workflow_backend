{
 "cells": [
  {
   "cell_type": "code",
   "execution_count": null,
   "metadata": {},
   "outputs": [],
   "source": [
    "%load_ext autoreload\n",
    "%autoreload 2\n",
    "\n",
    "%connect_info"
   ]
  },
  {
   "cell_type": "code",
   "execution_count": null,
   "metadata": {},
   "outputs": [],
   "source": [
    "import django\n",
    "django.setup()"
   ]
  },
  {
   "cell_type": "code",
   "execution_count": null,
   "metadata": {},
   "outputs": [],
   "source": []
  },
  {
   "cell_type": "code",
   "execution_count": null,
   "metadata": {},
   "outputs": [],
   "source": [
    "\"\"\"\n",
    "Populate Ib IAM Related Data For FinMan Project Configuration\n",
    "\n",
    "Note:- While Running the this below script need to Run the ELASTIC SEARCH SERVER\n",
    "\"\"\"\n",
    "from ib_iam.populate.populate_utils import (\n",
    "    COMPANIES, TEAMS, populate_companies_and_teams\n",
    ")\n",
    "\n",
    "COMPANIES = COMPANIES\n",
    "TEAMS = TEAMS\n",
    "\n",
    "populate_companies_and_teams(companies=COMPANIES, teams=TEAMS)"
   ]
  },
  {
   "cell_type": "code",
   "execution_count": null,
   "metadata": {},
   "outputs": [],
   "source": [
    "\"\"\"\n",
    "Populate Initial Users And Admin Users For IAM Module\n",
    "\n",
    "Note:- While Runnin, You need to check the Elastic Server is Running or not\n",
    "\n",
    "\"\"\"\n",
    "from ib_iam.populate.populate_utils import INITIAL_USERS, populate_initial_users\n",
    "\n",
    "USERS = INITIAL_USERS\n",
    "populate_initial_users(users=USERS)"
   ]
  },
  {
   "cell_type": "code",
   "execution_count": null,
   "metadata": {},
   "outputs": [],
   "source": [
    "\"\"\"\n",
    "Populate Level For Given Team Name. Here Populate Levels For Tech Team\n",
    "\n",
    "\"\"\"\n",
    "\n",
    "from ib_iam.populate.populate_utils import (\n",
    "    TEAM_USERS_LEVELS, LEVELS_WISE_USERS, SUPERIOR_WITH_SUBORDINATE_USERS, populate_levels\n",
    ")\n",
    "\n",
    "\n",
    "TEAM_NAME = \"Tech Team\"\n",
    "\n",
    "populate_levels(\n",
    "    team_name=TEAM_NAME, team_user_levels=TEAM_USERS_LEVELS,levels_wise_users=LEVELS_WISE_USERS,\n",
    "    superior_with_subordinate_users=SUPERIOR_WITH_SUBORDINATE_USERS\n",
    ")"
   ]
  },
  {
   "cell_type": "code",
   "execution_count": null,
   "metadata": {},
   "outputs": [],
   "source": [
    "\"\"\"\n",
    "Populate Admin Panel Users\n",
    "\"\"\"\n",
    "from ib_users.models import *\n",
    "UserAccount.objects.create_superuser(username='admin', password='admin@123', email='admin@example.com')\n",
    "UserAccount.objects.create_superuser(username='fduser', password='fduser@123', email='fduser@example.com')"
   ]
  },
  {
   "cell_type": "code",
   "execution_count": null,
   "metadata": {},
   "outputs": [],
   "source": []
  },
  {
   "cell_type": "code",
   "execution_count": null,
   "metadata": {},
   "outputs": [],
   "source": []
  },
  {
   "cell_type": "code",
   "execution_count": null,
   "metadata": {},
   "outputs": [],
   "source": [
    "\"\"\"\n",
    "Populate Additinal Users WITH Roles - Based on Projects\n",
    "\"\"\"\n",
    "\n",
    "from ib_iam.populate.populate_complete_user_details_bulk import populate_complete_user_details_bulk, USERS\n",
    "\n",
    "USERS = USERS\n",
    "\n",
    "populate_complete_user_details_bulk(users=USERS)"
   ]
  },
  {
   "cell_type": "code",
   "execution_count": null,
   "metadata": {},
   "outputs": [],
   "source": []
  }
 ],
 "metadata": {
  "kernelspec": {
   "display_name": "Python 3",
   "language": "python",
   "name": "python3"
  },
  "language_info": {
   "codemirror_mode": {
    "name": "ipython",
    "version": 3
   },
   "file_extension": ".py",
   "mimetype": "text/x-python",
   "name": "python",
   "nbconvert_exporter": "python",
   "pygments_lexer": "ipython3",
   "version": "3.7.7"
  }
 },
 "nbformat": 4,
 "nbformat_minor": 4
}
